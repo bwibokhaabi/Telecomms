{
 "cells": [
  {
   "cell_type": "markdown",
   "metadata": {},
   "source": [
    "Task 2 - User Engagement analysis\n",
    "\n",
    "As telecom brands are the data providers of all online activities, meeting user requirements, and creating an engaging user experience is a prerequisite for them. Building & improving the QoS (Quality of Service) to leverage the mobile platforms and to get more users for the business is good but the success of the business would be determined by the user engagement and activity of the customers on available apps. \n",
    "\n",
    "In telecommunication, tracking the user activities on the database sessions is a good starting point to appreciate the user engagement for the overall applications and per application as well. If we can determine the level of engagement of a random user for any application, then it could help the technical teams of the business to know where to concentrate network resources for different clusters of customers based on the engagement scores.\n",
    "\n",
    "In the current dataset you’re expected to track the user’s engagement using the following engagement metrics: \n",
    "sessions frequency \n",
    "\n",
    "the duration of the session \n",
    "\n",
    "the sessions total traffic (download and upload (bytes))\n",
    "\n",
    "Task 2.1 - Based on the above submit python script and slide :\n",
    "\n",
    "1.Aggregate the above metrics per customer id (MSISDN) and report the top 10 customers per engagement metric \n",
    "\n",
    "2.Normalize each engagement metric and run a k-means (k=3) to classify customers in three groups of engagement. \n",
    "\n",
    "3.Compute the minimum, maximum, average & total non- normalized metrics for each cluster. Interpret your results visually with accompanying text explaining your findings.\n",
    "\n",
    "4.Aggregate user total traffic per application and derive the top 10 most engaged users per application\n",
    "\n",
    "5.Plot the top 3 most used applications using appropriate charts. \n",
    "\n",
    "6.Using k-means clustering algorithm, group users in k engagement clusters based on the engagement metrics: \n",
    "What is the optimized value of k (use elbow method for this)?  \n",
    "Interpret your findings. \n",
    "\n"
   ]
  },
  {
   "cell_type": "code",
   "execution_count": 1,
   "metadata": {},
   "outputs": [],
   "source": [
    "import numpy as np\n",
    "import pandas as pd\n",
    "pd.set_option('display.float_format', lambda x: '%.0f' % x)\n",
    "pd.set_option('display.max_columns', None)"
   ]
  },
  {
   "cell_type": "code",
   "execution_count": 2,
   "metadata": {},
   "outputs": [],
   "source": [
    "df=pd.read_csv('../data/to_trasform.csv')"
   ]
  },
  {
   "cell_type": "code",
   "execution_count": 3,
   "metadata": {},
   "outputs": [
    {
     "data": {
      "text/html": [
       "<div>\n",
       "<style scoped>\n",
       "    .dataframe tbody tr th:only-of-type {\n",
       "        vertical-align: middle;\n",
       "    }\n",
       "\n",
       "    .dataframe tbody tr th {\n",
       "        vertical-align: top;\n",
       "    }\n",
       "\n",
       "    .dataframe thead th {\n",
       "        text-align: right;\n",
       "    }\n",
       "</style>\n",
       "<table border=\"1\" class=\"dataframe\">\n",
       "  <thead>\n",
       "    <tr style=\"text-align: right;\">\n",
       "      <th></th>\n",
       "      <th>Unnamed: 0</th>\n",
       "      <th>Bearer_Id</th>\n",
       "      <th>Dur. (ms)</th>\n",
       "      <th>IMSI</th>\n",
       "      <th>MSISDN</th>\n",
       "      <th>IMEI</th>\n",
       "      <th>last_location</th>\n",
       "      <th>avg_rtt_dl</th>\n",
       "      <th>avg_rtt_ul</th>\n",
       "      <th>throughput_avg_dl_kpbs</th>\n",
       "      <th>throughput_avg_ul_kpbs</th>\n",
       "      <th>retrans_packets_dl_b</th>\n",
       "      <th>retrans_packets_ul_b</th>\n",
       "      <th>tp_dl_below_50kbps_pc</th>\n",
       "      <th>tp_dl_50_250kbps_pc</th>\n",
       "      <th>tp_dl_250kbps_1mbps_pc</th>\n",
       "      <th>tp_dl_above_1mbps_pc</th>\n",
       "      <th>tp_ul_below_10kpbs_pc</th>\n",
       "      <th>tp_ul_10_50_kbps_pc</th>\n",
       "      <th>tp_ul_50_300_kbps_pc</th>\n",
       "      <th>tp_ul_above_300_kpbs_pc</th>\n",
       "      <th>activity_duration_dl</th>\n",
       "      <th>activity_duration_ul</th>\n",
       "      <th>Dur. (ms).1</th>\n",
       "      <th>phone_company</th>\n",
       "      <th>phone_name</th>\n",
       "      <th>t_vol_dl_above_6250B</th>\n",
       "      <th>t_vol_ul_above_1250B</th>\n",
       "      <th>socials_dl_b</th>\n",
       "      <th>socials_ul_b</th>\n",
       "      <th>google_dl_b</th>\n",
       "      <th>google_ul_b</th>\n",
       "      <th>email_dl_b</th>\n",
       "      <th>email_ul_b</th>\n",
       "      <th>youtube_dl_b</th>\n",
       "      <th>youtube_ul_b</th>\n",
       "      <th>netflix_dl_b</th>\n",
       "      <th>netflix_ul_b</th>\n",
       "      <th>gaming_dl_b</th>\n",
       "      <th>gaming_ul_b</th>\n",
       "      <th>other_dl_b</th>\n",
       "      <th>other_ul_b</th>\n",
       "      <th>Total_ul_b</th>\n",
       "      <th>Total_dl_b</th>\n",
       "      <th>total_ul_data</th>\n",
       "      <th>total_dl_data</th>\n",
       "      <th>socials_total_b</th>\n",
       "      <th>google_total_b</th>\n",
       "      <th>email_total_b</th>\n",
       "      <th>youtube_total_b</th>\n",
       "      <th>netflix_total_b</th>\n",
       "      <th>gaming_total_b</th>\n",
       "      <th>other_total_b</th>\n",
       "      <th>total_b</th>\n",
       "    </tr>\n",
       "  </thead>\n",
       "  <tbody>\n",
       "    <tr>\n",
       "      <td>0</td>\n",
       "      <td>0</td>\n",
       "      <td>13114483460844900352</td>\n",
       "      <td>1823652</td>\n",
       "      <td>208201448079117</td>\n",
       "      <td>33664962239</td>\n",
       "      <td>35521209507511</td>\n",
       "      <td>9.16456699548519E+015</td>\n",
       "      <td>42</td>\n",
       "      <td>5</td>\n",
       "      <td>23</td>\n",
       "      <td>44</td>\n",
       "      <td>20884183</td>\n",
       "      <td>766247</td>\n",
       "      <td>100</td>\n",
       "      <td>0</td>\n",
       "      <td>0</td>\n",
       "      <td>0</td>\n",
       "      <td>100</td>\n",
       "      <td>0</td>\n",
       "      <td>0</td>\n",
       "      <td>0</td>\n",
       "      <td>37624</td>\n",
       "      <td>38787</td>\n",
       "      <td>1823652892</td>\n",
       "      <td>Samsung</td>\n",
       "      <td>Samsung Galaxy A5 Sm-A520F</td>\n",
       "      <td>213</td>\n",
       "      <td>214</td>\n",
       "      <td>1545765</td>\n",
       "      <td>24420</td>\n",
       "      <td>1634479</td>\n",
       "      <td>1271433</td>\n",
       "      <td>3563542</td>\n",
       "      <td>137762</td>\n",
       "      <td>15854611</td>\n",
       "      <td>2501332</td>\n",
       "      <td>8198936</td>\n",
       "      <td>9656251</td>\n",
       "      <td>278082303</td>\n",
       "      <td>14344150</td>\n",
       "      <td>171744450</td>\n",
       "      <td>8814393</td>\n",
       "      <td>36749741</td>\n",
       "      <td>308879636</td>\n",
       "      <td>36749741</td>\n",
       "      <td>480624086</td>\n",
       "      <td>1570185</td>\n",
       "      <td>2905912</td>\n",
       "      <td>3701304</td>\n",
       "      <td>18355943</td>\n",
       "      <td>17855187</td>\n",
       "      <td>292426453</td>\n",
       "      <td>180558843</td>\n",
       "      <td>345629377</td>\n",
       "    </tr>\n",
       "    <tr>\n",
       "      <td>1</td>\n",
       "      <td>1</td>\n",
       "      <td>13114483482878900224</td>\n",
       "      <td>1365104</td>\n",
       "      <td>208201909211140</td>\n",
       "      <td>33681854413</td>\n",
       "      <td>35794009006359</td>\n",
       "      <td>L77566A</td>\n",
       "      <td>65</td>\n",
       "      <td>5</td>\n",
       "      <td>16</td>\n",
       "      <td>26</td>\n",
       "      <td>20884183</td>\n",
       "      <td>766247</td>\n",
       "      <td>100</td>\n",
       "      <td>0</td>\n",
       "      <td>0</td>\n",
       "      <td>0</td>\n",
       "      <td>100</td>\n",
       "      <td>0</td>\n",
       "      <td>0</td>\n",
       "      <td>0</td>\n",
       "      <td>168</td>\n",
       "      <td>3560</td>\n",
       "      <td>1365104371</td>\n",
       "      <td>Samsung</td>\n",
       "      <td>Samsung Galaxy J5 (Sm-J530)</td>\n",
       "      <td>971</td>\n",
       "      <td>1022</td>\n",
       "      <td>1926113</td>\n",
       "      <td>7165</td>\n",
       "      <td>3493924</td>\n",
       "      <td>920172</td>\n",
       "      <td>629046</td>\n",
       "      <td>308339</td>\n",
       "      <td>20247395</td>\n",
       "      <td>19111729</td>\n",
       "      <td>18338413</td>\n",
       "      <td>17227132</td>\n",
       "      <td>608750074</td>\n",
       "      <td>1170709</td>\n",
       "      <td>526904238</td>\n",
       "      <td>15055145</td>\n",
       "      <td>53800391</td>\n",
       "      <td>653384965</td>\n",
       "      <td>53800391</td>\n",
       "      <td>1180289203</td>\n",
       "      <td>1933278</td>\n",
       "      <td>4414096</td>\n",
       "      <td>937385</td>\n",
       "      <td>39359124</td>\n",
       "      <td>35565545</td>\n",
       "      <td>609920783</td>\n",
       "      <td>541959383</td>\n",
       "      <td>707185356</td>\n",
       "    </tr>\n",
       "  </tbody>\n",
       "</table>\n",
       "</div>"
      ],
      "text/plain": [
       "   Unnamed: 0            Bearer_Id  Dur. (ms)            IMSI      MSISDN  \\\n",
       "0           0 13114483460844900352    1823652 208201448079117 33664962239   \n",
       "1           1 13114483482878900224    1365104 208201909211140 33681854413   \n",
       "\n",
       "            IMEI          last_location  avg_rtt_dl  avg_rtt_ul  \\\n",
       "0 35521209507511  9.16456699548519E+015          42           5   \n",
       "1 35794009006359                L77566A          65           5   \n",
       "\n",
       "   throughput_avg_dl_kpbs  throughput_avg_ul_kpbs  retrans_packets_dl_b  \\\n",
       "0                      23                      44              20884183   \n",
       "1                      16                      26              20884183   \n",
       "\n",
       "   retrans_packets_ul_b  tp_dl_below_50kbps_pc  tp_dl_50_250kbps_pc  \\\n",
       "0                766247                    100                    0   \n",
       "1                766247                    100                    0   \n",
       "\n",
       "   tp_dl_250kbps_1mbps_pc    tp_dl_above_1mbps_pc  tp_ul_below_10kpbs_pc  \\\n",
       "0                        0                      0                    100   \n",
       "1                        0                      0                    100   \n",
       "\n",
       "   tp_ul_10_50_kbps_pc   tp_ul_50_300_kbps_pc      tp_ul_above_300_kpbs_pc  \\\n",
       "0                     0                       0                          0   \n",
       "1                     0                       0                          0   \n",
       "\n",
       "   activity_duration_dl  activity_duration_ul  Dur. (ms).1 phone_company  \\\n",
       "0                 37624                 38787   1823652892       Samsung   \n",
       "1                   168                  3560   1365104371       Samsung   \n",
       "\n",
       "                    phone_name  t_vol_dl_above_6250B   t_vol_ul_above_1250B  \\\n",
       "0   Samsung Galaxy A5 Sm-A520F                    213                   214   \n",
       "1  Samsung Galaxy J5 (Sm-J530)                    971                  1022   \n",
       "\n",
       "   socials_dl_b  socials_ul_b  google_dl_b  google_ul_b  email_dl_b  \\\n",
       "0       1545765         24420      1634479      1271433     3563542   \n",
       "1       1926113          7165      3493924       920172      629046   \n",
       "\n",
       "   email_ul_b  youtube_dl_b  youtube_ul_b  netflix_dl_b  netflix_ul_b  \\\n",
       "0      137762      15854611       2501332       8198936       9656251   \n",
       "1      308339      20247395      19111729      18338413      17227132   \n",
       "\n",
       "   gaming_dl_b  gaming_ul_b  other_dl_b  other_ul_b  Total_ul_b  Total_dl_b  \\\n",
       "0    278082303     14344150   171744450     8814393    36749741   308879636   \n",
       "1    608750074      1170709   526904238    15055145    53800391   653384965   \n",
       "\n",
       "   total_ul_data  total_dl_data  socials_total_b  google_total_b  \\\n",
       "0       36749741      480624086          1570185         2905912   \n",
       "1       53800391     1180289203          1933278         4414096   \n",
       "\n",
       "   email_total_b  youtube_total_b  netflix_total_b  gaming_total_b  \\\n",
       "0        3701304         18355943         17855187       292426453   \n",
       "1         937385         39359124         35565545       609920783   \n",
       "\n",
       "   other_total_b   total_b  \n",
       "0      180558843 345629377  \n",
       "1      541959383 707185356  "
      ]
     },
     "execution_count": 3,
     "metadata": {},
     "output_type": "execute_result"
    }
   ],
   "source": [
    "df.head(2)"
   ]
  },
  {
   "cell_type": "markdown",
   "metadata": {},
   "source": [
    "In the current dataset you’re expected to track the user’s engagement using the following engagement metrics: \n",
    "\n",
    "1.sessions frequency \n",
    "\n",
    "2.the duration of the session \n",
    "\n",
    "3.the sessions total traffic (download and upload (bytes))\n",
    "\n",
    "\n",
    "\n",
    "1.Aggregate the above metrics per customer id (MSISDN) and report the top 10 customers per engagement metric "
   ]
  },
  {
   "cell_type": "code",
   "execution_count": 4,
   "metadata": {},
   "outputs": [],
   "source": [
    "import sys\n",
    "sys.path.insert(0,'../scripts')\n",
    "from results_pickler import ResultPickler"
   ]
  },
  {
   "cell_type": "code",
   "execution_count": 5,
   "metadata": {},
   "outputs": [],
   "source": [
    "results = ResultPickler()"
   ]
  },
  {
   "cell_type": "code",
   "execution_count": 6,
   "metadata": {},
   "outputs": [],
   "source": [
    "session_f=df.groupby(['MSISDN'])[\"Dur. (ms).1\"].count().reset_index(name='session_count')"
   ]
  },
  {
   "cell_type": "code",
   "execution_count": 7,
   "metadata": {},
   "outputs": [],
   "source": [
    "session_frequency=session_f.sort_values(['session_count'], ascending=False).head(10)"
   ]
  },
  {
   "cell_type": "code",
   "execution_count": 8,
   "metadata": {},
   "outputs": [],
   "source": [
    "results.add_data('session_frequency',session_frequency)"
   ]
  },
  {
   "cell_type": "markdown",
   "metadata": {},
   "source": [
    "Aggregation by session duration"
   ]
  },
  {
   "cell_type": "code",
   "execution_count": 9,
   "metadata": {},
   "outputs": [],
   "source": [
    "session_d=df.groupby(['MSISDN'])[\"Dur. (ms).1\"].sum().reset_index(name='total_duration')"
   ]
  },
  {
   "cell_type": "code",
   "execution_count": 10,
   "metadata": {},
   "outputs": [],
   "source": [
    "session_duration=session_d.sort_values(['total_duration'], ascending=False).head(10)"
   ]
  },
  {
   "cell_type": "code",
   "execution_count": 11,
   "metadata": {},
   "outputs": [],
   "source": [
    "results.add_data('session_duration',session_duration)"
   ]
  },
  {
   "cell_type": "markdown",
   "metadata": {},
   "source": [
    "Total upload and download"
   ]
  },
  {
   "cell_type": "code",
   "execution_count": 12,
   "metadata": {},
   "outputs": [],
   "source": [
    "df['total_dl_ul']=df['total_dl_data'] + df['total_ul_data']"
   ]
  },
  {
   "cell_type": "code",
   "execution_count": 13,
   "metadata": {},
   "outputs": [],
   "source": [
    "total_s_b=df.groupby(['MSISDN'])[\"total_dl_ul\"].sum().reset_index(name='total_data')"
   ]
  },
  {
   "cell_type": "code",
   "execution_count": 14,
   "metadata": {},
   "outputs": [],
   "source": [
    "total_session_b=total_s_b.sort_values(['total_data'], ascending=False).head(10)"
   ]
  },
  {
   "cell_type": "code",
   "execution_count": 15,
   "metadata": {},
   "outputs": [],
   "source": [
    "results.add_data('total_session_b',total_session_b)"
   ]
  },
  {
   "cell_type": "markdown",
   "metadata": {},
   "source": [
    "# Task 2.1 "
   ]
  },
  {
   "cell_type": "markdown",
   "metadata": {},
   "source": [
    " \n",
    "Normalize each engagement metric and run a k-means (k=3) to classify customers in three groups of engagement. \n",
    "\n",
    "Compute the minimum, maximum, average & total non- normalized metrics for each cluster. Interpret your results visually with accompanying text explaining your findings.\n",
    "\n",
    ".\n"
   ]
  },
  {
   "cell_type": "code",
   "execution_count": 16,
   "metadata": {},
   "outputs": [],
   "source": [
    "data  = pd.merge(total_s_b, session_d, on='MSISDN', how='left')\n",
    "data  = pd.merge(data, session_f, on='MSISDN', how='left')"
   ]
  },
  {
   "cell_type": "code",
   "execution_count": 17,
   "metadata": {},
   "outputs": [
    {
     "data": {
      "text/html": [
       "<div>\n",
       "<style scoped>\n",
       "    .dataframe tbody tr th:only-of-type {\n",
       "        vertical-align: middle;\n",
       "    }\n",
       "\n",
       "    .dataframe tbody tr th {\n",
       "        vertical-align: top;\n",
       "    }\n",
       "\n",
       "    .dataframe thead th {\n",
       "        text-align: right;\n",
       "    }\n",
       "</style>\n",
       "<table border=\"1\" class=\"dataframe\">\n",
       "  <thead>\n",
       "    <tr style=\"text-align: right;\">\n",
       "      <th></th>\n",
       "      <th>MSISDN</th>\n",
       "      <th>total_data</th>\n",
       "      <th>total_duration</th>\n",
       "      <th>session_count</th>\n",
       "    </tr>\n",
       "  </thead>\n",
       "  <tbody>\n",
       "    <tr>\n",
       "      <td>0</td>\n",
       "      <td>33601001722</td>\n",
       "      <td>1255787564</td>\n",
       "      <td>116720140</td>\n",
       "      <td>1</td>\n",
       "    </tr>\n",
       "    <tr>\n",
       "      <td>1</td>\n",
       "      <td>33601001754</td>\n",
       "      <td>436417344</td>\n",
       "      <td>181230963</td>\n",
       "      <td>1</td>\n",
       "    </tr>\n",
       "    <tr>\n",
       "      <td>2</td>\n",
       "      <td>33601002511</td>\n",
       "      <td>1091052984</td>\n",
       "      <td>134969374</td>\n",
       "      <td>1</td>\n",
       "    </tr>\n",
       "    <tr>\n",
       "      <td>3</td>\n",
       "      <td>33601007832</td>\n",
       "      <td>447568699</td>\n",
       "      <td>49878024</td>\n",
       "      <td>1</td>\n",
       "    </tr>\n",
       "    <tr>\n",
       "      <td>4</td>\n",
       "      <td>33601008617</td>\n",
       "      <td>2235054657</td>\n",
       "      <td>37104453</td>\n",
       "      <td>2</td>\n",
       "    </tr>\n",
       "    <tr>\n",
       "      <td>5</td>\n",
       "      <td>33601010682</td>\n",
       "      <td>1095575829</td>\n",
       "      <td>253983077</td>\n",
       "      <td>2</td>\n",
       "    </tr>\n",
       "    <tr>\n",
       "      <td>6</td>\n",
       "      <td>33601011634</td>\n",
       "      <td>859918491</td>\n",
       "      <td>128360523</td>\n",
       "      <td>2</td>\n",
       "    </tr>\n",
       "    <tr>\n",
       "      <td>7</td>\n",
       "      <td>33601011959</td>\n",
       "      <td>510773383</td>\n",
       "      <td>86399977</td>\n",
       "      <td>1</td>\n",
       "    </tr>\n",
       "    <tr>\n",
       "      <td>8</td>\n",
       "      <td>33601014694</td>\n",
       "      <td>2016653584</td>\n",
       "      <td>495702147</td>\n",
       "      <td>2</td>\n",
       "    </tr>\n",
       "    <tr>\n",
       "      <td>9</td>\n",
       "      <td>33601020306</td>\n",
       "      <td>866204929</td>\n",
       "      <td>124854778</td>\n",
       "      <td>1</td>\n",
       "    </tr>\n",
       "  </tbody>\n",
       "</table>\n",
       "</div>"
      ],
      "text/plain": [
       "       MSISDN  total_data  total_duration  session_count\n",
       "0 33601001722  1255787564       116720140              1\n",
       "1 33601001754   436417344       181230963              1\n",
       "2 33601002511  1091052984       134969374              1\n",
       "3 33601007832   447568699        49878024              1\n",
       "4 33601008617  2235054657        37104453              2\n",
       "5 33601010682  1095575829       253983077              2\n",
       "6 33601011634   859918491       128360523              2\n",
       "7 33601011959   510773383        86399977              1\n",
       "8 33601014694  2016653584       495702147              2\n",
       "9 33601020306   866204929       124854778              1"
      ]
     },
     "execution_count": 17,
     "metadata": {},
     "output_type": "execute_result"
    }
   ],
   "source": [
    "data.head(10)"
   ]
  },
  {
   "cell_type": "markdown",
   "metadata": {},
   "source": [
    "# Normalization"
   ]
  },
  {
   "cell_type": "markdown",
   "metadata": {},
   "source": [
    "Normalization\n",
    "\n",
    "Scaling just changes the range of your data. Normalization is a more radical transformation. The point of normalization is to change your observations so that they can be described as a normal distribution.\n",
    "\n",
    "    Normal distribution: Also known as the \"bell curve\", this is a specific statistical distribution where a roughly equal observations fall above and below the mean, the mean and the median are the same, and there are more observations closer to the mean. The normal distribution is also known as the Gaussian distribution.\n",
    "\n",
    "In general, you'll normalize your data if you're going to be using a machine learning or statistics technique that assumes your data is normally distributed. Some examples of these include linear discriminant analysis (LDA) and Gaussian naive Bayes. (Pro tip: any method with \"Gaussian\" in the name probably assumes normality.)\n",
    "\n",
    "The method you will be using to normalize here is called the Normalizer method from sklearn. Let's take a quick peek at what normalizing some data looks like:"
   ]
  },
  {
   "cell_type": "markdown",
   "metadata": {},
   "source": [
    "# Normalize each engagement metric and run a k-means (k=3) to classify customers in three groups of engagement. "
   ]
  },
  {
   "cell_type": "code",
   "execution_count": 18,
   "metadata": {},
   "outputs": [
    {
     "name": "stderr",
     "output_type": "stream",
     "text": [
      "C:\\Users\\kachase\\Anaconda3\\lib\\site-packages\\sklearn\\utils\\validation.py:37: DeprecationWarning: distutils Version classes are deprecated. Use packaging.version instead.\n",
      "  LARGE_SPARSE_SUPPORTED = LooseVersion(scipy_version) >= '0.14.0'\n"
     ]
    }
   ],
   "source": [
    "from sklearn.preprocessing import StandardScaler, normalize\n",
    "from sklearn import decomposition\n",
    "from sklearn import metrics\n",
    "from sklearn.preprocessing import LabelEncoder\n",
    "from sklearn.cluster import KMeans \n",
    "import matplotlib.pyplot as plt"
   ]
  },
  {
   "cell_type": "code",
   "execution_count": 19,
   "metadata": {},
   "outputs": [],
   "source": [
    "from sklearn.preprocessing import Normalizer\n",
    "import seaborn as sns\n",
    "\n",
    "\n",
    "norm = Normalizer()\n",
    "    \n",
    "normalized_data = norm.fit_transform(data)\n",
    "\n",
    "\n"
   ]
  },
  {
   "cell_type": "code",
   "execution_count": 20,
   "metadata": {},
   "outputs": [
    {
     "data": {
      "text/plain": [
       "array([[9.99296320e-01, 3.73472167e-02, 3.47126575e-03, 2.97400753e-11],\n",
       "       [9.99901122e-01, 1.29869399e-02, 5.39308455e-03, 2.97580748e-11],\n",
       "       [9.99465184e-01, 3.24534803e-02, 4.01467754e-03, 2.97451001e-11],\n",
       "       ...,\n",
       "       [9.99999938e-01, 2.18891917e-04, 2.74438393e-04, 3.12791182e-13],\n",
       "       [1.00000000e+00, 2.19775015e-06, 7.50831375e-07, 2.96735872e-15],\n",
       "       [1.00000000e+00, 5.98725178e-07, 9.85774082e-07, 1.13327661e-15]])"
      ]
     },
     "execution_count": 20,
     "metadata": {},
     "output_type": "execute_result"
    }
   ],
   "source": [
    "normalized_data"
   ]
  },
  {
   "cell_type": "markdown",
   "metadata": {},
   "source": [
    "k-means"
   ]
  },
  {
   "cell_type": "code",
   "execution_count": 21,
   "metadata": {},
   "outputs": [
    {
     "data": {
      "text/plain": [
       "array([0, 0, 0, ..., 0, 0, 0])"
      ]
     },
     "execution_count": 21,
     "metadata": {},
     "output_type": "execute_result"
    }
   ],
   "source": [
    "kmeanModel = KMeans(n_clusters=3, random_state = 0)\n",
    "kmeanModel.fit_predict(normalized_data )\n"
   ]
  },
  {
   "cell_type": "code",
   "execution_count": 22,
   "metadata": {},
   "outputs": [],
   "source": [
    "model1_centroids=kmeanModel.cluster_centers_"
   ]
  },
  {
   "cell_type": "code",
   "execution_count": 23,
   "metadata": {},
   "outputs": [
    {
     "data": {
      "text/plain": [
       "array([[9.99615529e-01, 2.59326565e-02, 3.21799066e-03, 3.13791393e-11],\n",
       "       [9.92306726e-01, 1.17472729e-01, 1.56727598e-02, 1.18362870e-10],\n",
       "       [9.98285422e-01, 5.68149065e-02, 5.43864352e-03, 5.52081640e-11]])"
      ]
     },
     "execution_count": 23,
     "metadata": {},
     "output_type": "execute_result"
    }
   ],
   "source": [
    "model1_centroids"
   ]
  },
  {
   "cell_type": "code",
   "execution_count": 24,
   "metadata": {},
   "outputs": [
    {
     "data": {
      "text/plain": [
       "17.05467424862771"
      ]
     },
     "execution_count": 24,
     "metadata": {},
     "output_type": "execute_result"
    }
   ],
   "source": [
    "kmeanModel.inertia_"
   ]
  },
  {
   "cell_type": "code",
   "execution_count": 25,
   "metadata": {},
   "outputs": [
    {
     "data": {
      "text/plain": [
       "array([0, 0, 0, ..., 0, 0, 0])"
      ]
     },
     "execution_count": 25,
     "metadata": {},
     "output_type": "execute_result"
    }
   ],
   "source": [
    "kmeanModel.labels_"
   ]
  },
  {
   "cell_type": "code",
   "execution_count": 26,
   "metadata": {},
   "outputs": [],
   "source": [
    "features = data.copy()"
   ]
  },
  {
   "cell_type": "code",
   "execution_count": 27,
   "metadata": {},
   "outputs": [],
   "source": [
    "labels = kmeanModel.labels_\n",
    "varieties = features['MSISDN'].to_list()"
   ]
  },
  {
   "cell_type": "code",
   "execution_count": 28,
   "metadata": {},
   "outputs": [
    {
     "data": {
      "text/plain": [
       "array([[    0, 74464],\n",
       "       [    1,  4728],\n",
       "       [    2, 27279]], dtype=int64)"
      ]
     },
     "execution_count": 28,
     "metadata": {},
     "output_type": "execute_result"
    }
   ],
   "source": [
    "np.array(np.unique(labels, return_counts=True)).T"
   ]
  },
  {
   "cell_type": "code",
   "execution_count": 29,
   "metadata": {},
   "outputs": [],
   "source": [
    "data_cluster = pd.DataFrame({'CLUSTERS': labels, 'MSISDN': varieties})"
   ]
  },
  {
   "cell_type": "code",
   "execution_count": 30,
   "metadata": {},
   "outputs": [
    {
     "data": {
      "text/html": [
       "<div>\n",
       "<style scoped>\n",
       "    .dataframe tbody tr th:only-of-type {\n",
       "        vertical-align: middle;\n",
       "    }\n",
       "\n",
       "    .dataframe tbody tr th {\n",
       "        vertical-align: top;\n",
       "    }\n",
       "\n",
       "    .dataframe thead th {\n",
       "        text-align: right;\n",
       "    }\n",
       "</style>\n",
       "<table border=\"1\" class=\"dataframe\">\n",
       "  <thead>\n",
       "    <tr style=\"text-align: right;\">\n",
       "      <th></th>\n",
       "      <th>CLUSTERS</th>\n",
       "    </tr>\n",
       "  </thead>\n",
       "  <tbody>\n",
       "    <tr>\n",
       "      <td>0</td>\n",
       "      <td>74464</td>\n",
       "    </tr>\n",
       "    <tr>\n",
       "      <td>2</td>\n",
       "      <td>27279</td>\n",
       "    </tr>\n",
       "    <tr>\n",
       "      <td>1</td>\n",
       "      <td>4728</td>\n",
       "    </tr>\n",
       "  </tbody>\n",
       "</table>\n",
       "</div>"
      ],
      "text/plain": [
       "   CLUSTERS\n",
       "0     74464\n",
       "2     27279\n",
       "1      4728"
      ]
     },
     "execution_count": 30,
     "metadata": {},
     "output_type": "execute_result"
    }
   ],
   "source": [
    "data_cluster['CLUSTERS'].value_counts().to_frame()"
   ]
  },
  {
   "cell_type": "code",
   "execution_count": 31,
   "metadata": {},
   "outputs": [
    {
     "data": {
      "text/html": [
       "<div>\n",
       "<style scoped>\n",
       "    .dataframe tbody tr th:only-of-type {\n",
       "        vertical-align: middle;\n",
       "    }\n",
       "\n",
       "    .dataframe tbody tr th {\n",
       "        vertical-align: top;\n",
       "    }\n",
       "\n",
       "    .dataframe thead th {\n",
       "        text-align: right;\n",
       "    }\n",
       "</style>\n",
       "<table border=\"1\" class=\"dataframe\">\n",
       "  <thead>\n",
       "    <tr style=\"text-align: right;\">\n",
       "      <th></th>\n",
       "      <th>CLUSTERS</th>\n",
       "      <th>MSISDN</th>\n",
       "    </tr>\n",
       "  </thead>\n",
       "  <tbody>\n",
       "    <tr>\n",
       "      <td>0</td>\n",
       "      <td>0</td>\n",
       "      <td>33601001722</td>\n",
       "    </tr>\n",
       "    <tr>\n",
       "      <td>1</td>\n",
       "      <td>0</td>\n",
       "      <td>33601001754</td>\n",
       "    </tr>\n",
       "    <tr>\n",
       "      <td>2</td>\n",
       "      <td>0</td>\n",
       "      <td>33601002511</td>\n",
       "    </tr>\n",
       "    <tr>\n",
       "      <td>3</td>\n",
       "      <td>0</td>\n",
       "      <td>33601007832</td>\n",
       "    </tr>\n",
       "    <tr>\n",
       "      <td>4</td>\n",
       "      <td>2</td>\n",
       "      <td>33601008617</td>\n",
       "    </tr>\n",
       "  </tbody>\n",
       "</table>\n",
       "</div>"
      ],
      "text/plain": [
       "   CLUSTERS      MSISDN\n",
       "0         0 33601001722\n",
       "1         0 33601001754\n",
       "2         0 33601002511\n",
       "3         0 33601007832\n",
       "4         2 33601008617"
      ]
     },
     "execution_count": 31,
     "metadata": {},
     "output_type": "execute_result"
    }
   ],
   "source": [
    "data_cluster.head(5)"
   ]
  },
  {
   "cell_type": "code",
   "execution_count": 32,
   "metadata": {},
   "outputs": [
    {
     "data": {
      "text/html": [
       "<div>\n",
       "<style scoped>\n",
       "    .dataframe tbody tr th:only-of-type {\n",
       "        vertical-align: middle;\n",
       "    }\n",
       "\n",
       "    .dataframe tbody tr th {\n",
       "        vertical-align: top;\n",
       "    }\n",
       "\n",
       "    .dataframe thead th {\n",
       "        text-align: right;\n",
       "    }\n",
       "</style>\n",
       "<table border=\"1\" class=\"dataframe\">\n",
       "  <thead>\n",
       "    <tr style=\"text-align: right;\">\n",
       "      <th></th>\n",
       "      <th>MSISDN</th>\n",
       "      <th>total_data</th>\n",
       "      <th>total_duration</th>\n",
       "      <th>session_count</th>\n",
       "      <th>CLUSTERS</th>\n",
       "    </tr>\n",
       "  </thead>\n",
       "  <tbody>\n",
       "    <tr>\n",
       "      <td>0</td>\n",
       "      <td>33601001722</td>\n",
       "      <td>1255787564</td>\n",
       "      <td>116720140</td>\n",
       "      <td>1</td>\n",
       "      <td>0</td>\n",
       "    </tr>\n",
       "    <tr>\n",
       "      <td>1</td>\n",
       "      <td>33601001754</td>\n",
       "      <td>436417344</td>\n",
       "      <td>181230963</td>\n",
       "      <td>1</td>\n",
       "      <td>0</td>\n",
       "    </tr>\n",
       "    <tr>\n",
       "      <td>2</td>\n",
       "      <td>33601002511</td>\n",
       "      <td>1091052984</td>\n",
       "      <td>134969374</td>\n",
       "      <td>1</td>\n",
       "      <td>0</td>\n",
       "    </tr>\n",
       "    <tr>\n",
       "      <td>3</td>\n",
       "      <td>33601007832</td>\n",
       "      <td>447568699</td>\n",
       "      <td>49878024</td>\n",
       "      <td>1</td>\n",
       "      <td>0</td>\n",
       "    </tr>\n",
       "    <tr>\n",
       "      <td>4</td>\n",
       "      <td>33601008617</td>\n",
       "      <td>2235054657</td>\n",
       "      <td>37104453</td>\n",
       "      <td>2</td>\n",
       "      <td>2</td>\n",
       "    </tr>\n",
       "  </tbody>\n",
       "</table>\n",
       "</div>"
      ],
      "text/plain": [
       "       MSISDN  total_data  total_duration  session_count  CLUSTERS\n",
       "0 33601001722  1255787564       116720140              1         0\n",
       "1 33601001754   436417344       181230963              1         0\n",
       "2 33601002511  1091052984       134969374              1         0\n",
       "3 33601007832   447568699        49878024              1         0\n",
       "4 33601008617  2235054657        37104453              2         2"
      ]
     },
     "execution_count": 32,
     "metadata": {},
     "output_type": "execute_result"
    }
   ],
   "source": [
    "data2 = pd.merge(data,data_cluster, on='MSISDN')\n",
    "data2.head()"
   ]
  },
  {
   "cell_type": "markdown",
   "metadata": {},
   "source": [
    "# Compute the minimum, maximum, average & total non- normalized metrics for each cluster. Interpret your results visually with accompanying text explaining your findings."
   ]
  },
  {
   "cell_type": "code",
   "execution_count": 33,
   "metadata": {},
   "outputs": [],
   "source": [
    "data2_0 = data2[data2['CLUSTERS'] == 0]\n",
    "data2_1 = data2[data2['CLUSTERS'] == 1]\n",
    "data2_2 = data2[data2['CLUSTERS'] == 2]"
   ]
  },
  {
   "cell_type": "code",
   "execution_count": 34,
   "metadata": {},
   "outputs": [
    {
     "data": {
      "text/plain": [
       "(74464, 5)"
      ]
     },
     "execution_count": 34,
     "metadata": {},
     "output_type": "execute_result"
    }
   ],
   "source": [
    "data2_0.shape"
   ]
  },
  {
   "cell_type": "code",
   "execution_count": 35,
   "metadata": {},
   "outputs": [
    {
     "data": {
      "text/html": [
       "<div>\n",
       "<style scoped>\n",
       "    .dataframe tbody tr th:only-of-type {\n",
       "        vertical-align: middle;\n",
       "    }\n",
       "\n",
       "    .dataframe tbody tr th {\n",
       "        vertical-align: top;\n",
       "    }\n",
       "\n",
       "    .dataframe thead th {\n",
       "        text-align: right;\n",
       "    }\n",
       "</style>\n",
       "<table border=\"1\" class=\"dataframe\">\n",
       "  <thead>\n",
       "    <tr style=\"text-align: right;\">\n",
       "      <th></th>\n",
       "      <th>MSISDN</th>\n",
       "      <th>total_data</th>\n",
       "      <th>total_duration</th>\n",
       "      <th>session_count</th>\n",
       "      <th>CLUSTERS</th>\n",
       "    </tr>\n",
       "  </thead>\n",
       "  <tbody>\n",
       "    <tr>\n",
       "      <td>count</td>\n",
       "      <td>74464</td>\n",
       "      <td>74464</td>\n",
       "      <td>74464</td>\n",
       "      <td>74464</td>\n",
       "      <td>74464</td>\n",
       "    </tr>\n",
       "    <tr>\n",
       "      <td>mean</td>\n",
       "      <td>50091236646</td>\n",
       "      <td>873347106</td>\n",
       "      <td>108418414</td>\n",
       "      <td>1</td>\n",
       "      <td>0</td>\n",
       "    </tr>\n",
       "    <tr>\n",
       "      <td>std</td>\n",
       "      <td>3461281088331</td>\n",
       "      <td>301650254</td>\n",
       "      <td>80345049</td>\n",
       "      <td>0</td>\n",
       "      <td>0</td>\n",
       "    </tr>\n",
       "    <tr>\n",
       "      <td>min</td>\n",
       "      <td>33601001722</td>\n",
       "      <td>58362293</td>\n",
       "      <td>7142988</td>\n",
       "      <td>1</td>\n",
       "      <td>0</td>\n",
       "    </tr>\n",
       "    <tr>\n",
       "      <td>25%</td>\n",
       "      <td>33650788515</td>\n",
       "      <td>657241906</td>\n",
       "      <td>57179283</td>\n",
       "      <td>1</td>\n",
       "      <td>0</td>\n",
       "    </tr>\n",
       "    <tr>\n",
       "      <td>50%</td>\n",
       "      <td>33663668868</td>\n",
       "      <td>896656394</td>\n",
       "      <td>86583414</td>\n",
       "      <td>1</td>\n",
       "      <td>0</td>\n",
       "    </tr>\n",
       "    <tr>\n",
       "      <td>75%</td>\n",
       "      <td>33683645017</td>\n",
       "      <td>1111628602</td>\n",
       "      <td>143708415</td>\n",
       "      <td>1</td>\n",
       "      <td>0</td>\n",
       "    </tr>\n",
       "    <tr>\n",
       "      <td>max</td>\n",
       "      <td>882397108489451</td>\n",
       "      <td>1407548816</td>\n",
       "      <td>2083210006</td>\n",
       "      <td>4</td>\n",
       "      <td>0</td>\n",
       "    </tr>\n",
       "  </tbody>\n",
       "</table>\n",
       "</div>"
      ],
      "text/plain": [
       "               MSISDN  total_data  total_duration  session_count  CLUSTERS\n",
       "count           74464       74464           74464          74464     74464\n",
       "mean      50091236646   873347106       108418414              1         0\n",
       "std     3461281088331   301650254        80345049              0         0\n",
       "min       33601001722    58362293         7142988              1         0\n",
       "25%       33650788515   657241906        57179283              1         0\n",
       "50%       33663668868   896656394        86583414              1         0\n",
       "75%       33683645017  1111628602       143708415              1         0\n",
       "max   882397108489451  1407548816      2083210006              4         0"
      ]
     },
     "execution_count": 35,
     "metadata": {},
     "output_type": "execute_result"
    }
   ],
   "source": [
    "data2_0.describe()"
   ]
  },
  {
   "cell_type": "code",
   "execution_count": 36,
   "metadata": {},
   "outputs": [
    {
     "data": {
      "text/plain": [
       "(4728, 5)"
      ]
     },
     "execution_count": 36,
     "metadata": {},
     "output_type": "execute_result"
    }
   ],
   "source": [
    "data2_1.shape"
   ]
  },
  {
   "cell_type": "code",
   "execution_count": 37,
   "metadata": {},
   "outputs": [
    {
     "data": {
      "text/html": [
       "<div>\n",
       "<style scoped>\n",
       "    .dataframe tbody tr th:only-of-type {\n",
       "        vertical-align: middle;\n",
       "    }\n",
       "\n",
       "    .dataframe tbody tr th {\n",
       "        vertical-align: top;\n",
       "    }\n",
       "\n",
       "    .dataframe thead th {\n",
       "        text-align: right;\n",
       "    }\n",
       "</style>\n",
       "<table border=\"1\" class=\"dataframe\">\n",
       "  <thead>\n",
       "    <tr style=\"text-align: right;\">\n",
       "      <th></th>\n",
       "      <th>MSISDN</th>\n",
       "      <th>total_data</th>\n",
       "      <th>total_duration</th>\n",
       "      <th>session_count</th>\n",
       "      <th>CLUSTERS</th>\n",
       "    </tr>\n",
       "  </thead>\n",
       "  <tbody>\n",
       "    <tr>\n",
       "      <td>count</td>\n",
       "      <td>4728</td>\n",
       "      <td>4728</td>\n",
       "      <td>4728</td>\n",
       "      <td>4728</td>\n",
       "      <td>4728</td>\n",
       "    </tr>\n",
       "    <tr>\n",
       "      <td>mean</td>\n",
       "      <td>33677300944</td>\n",
       "      <td>3992605579</td>\n",
       "      <td>535322107</td>\n",
       "      <td>4</td>\n",
       "      <td>1</td>\n",
       "    </tr>\n",
       "    <tr>\n",
       "      <td>std</td>\n",
       "      <td>43504188</td>\n",
       "      <td>1089282447</td>\n",
       "      <td>629948803</td>\n",
       "      <td>1</td>\n",
       "      <td>0</td>\n",
       "    </tr>\n",
       "    <tr>\n",
       "      <td>min</td>\n",
       "      <td>33601034530</td>\n",
       "      <td>2608284800</td>\n",
       "      <td>33476692</td>\n",
       "      <td>2</td>\n",
       "      <td>1</td>\n",
       "    </tr>\n",
       "    <tr>\n",
       "      <td>25%</td>\n",
       "      <td>33658759616</td>\n",
       "      <td>3249926495</td>\n",
       "      <td>296320128</td>\n",
       "      <td>3</td>\n",
       "      <td>1</td>\n",
       "    </tr>\n",
       "    <tr>\n",
       "      <td>50%</td>\n",
       "      <td>33664184722</td>\n",
       "      <td>3686552172</td>\n",
       "      <td>387414358</td>\n",
       "      <td>4</td>\n",
       "      <td>1</td>\n",
       "    </tr>\n",
       "    <tr>\n",
       "      <td>75%</td>\n",
       "      <td>33684116055</td>\n",
       "      <td>4398808620</td>\n",
       "      <td>518331394</td>\n",
       "      <td>5</td>\n",
       "      <td>1</td>\n",
       "    </tr>\n",
       "    <tr>\n",
       "      <td>max</td>\n",
       "      <td>33789881186</td>\n",
       "      <td>16341524035</td>\n",
       "      <td>18553763486</td>\n",
       "      <td>18</td>\n",
       "      <td>1</td>\n",
       "    </tr>\n",
       "  </tbody>\n",
       "</table>\n",
       "</div>"
      ],
      "text/plain": [
       "           MSISDN  total_data  total_duration  session_count  CLUSTERS\n",
       "count        4728        4728            4728           4728      4728\n",
       "mean  33677300944  3992605579       535322107              4         1\n",
       "std      43504188  1089282447       629948803              1         0\n",
       "min   33601034530  2608284800        33476692              2         1\n",
       "25%   33658759616  3249926495       296320128              3         1\n",
       "50%   33664184722  3686552172       387414358              4         1\n",
       "75%   33684116055  4398808620       518331394              5         1\n",
       "max   33789881186 16341524035     18553763486             18         1"
      ]
     },
     "execution_count": 37,
     "metadata": {},
     "output_type": "execute_result"
    }
   ],
   "source": [
    "data2_1.describe()"
   ]
  },
  {
   "cell_type": "code",
   "execution_count": 38,
   "metadata": {},
   "outputs": [
    {
     "data": {
      "text/plain": [
       "(27279, 5)"
      ]
     },
     "execution_count": 38,
     "metadata": {},
     "output_type": "execute_result"
    }
   ],
   "source": [
    "data2_2.shape"
   ]
  },
  {
   "cell_type": "code",
   "execution_count": 39,
   "metadata": {},
   "outputs": [
    {
     "data": {
      "text/html": [
       "<div>\n",
       "<style scoped>\n",
       "    .dataframe tbody tr th:only-of-type {\n",
       "        vertical-align: middle;\n",
       "    }\n",
       "\n",
       "    .dataframe tbody tr th {\n",
       "        vertical-align: top;\n",
       "    }\n",
       "\n",
       "    .dataframe thead th {\n",
       "        text-align: right;\n",
       "    }\n",
       "</style>\n",
       "<table border=\"1\" class=\"dataframe\">\n",
       "  <thead>\n",
       "    <tr style=\"text-align: right;\">\n",
       "      <th></th>\n",
       "      <th>MSISDN</th>\n",
       "      <th>total_data</th>\n",
       "      <th>total_duration</th>\n",
       "      <th>session_count</th>\n",
       "      <th>CLUSTERS</th>\n",
       "    </tr>\n",
       "  </thead>\n",
       "  <tbody>\n",
       "    <tr>\n",
       "      <td>count</td>\n",
       "      <td>27279</td>\n",
       "      <td>27279</td>\n",
       "      <td>27279</td>\n",
       "      <td>27279</td>\n",
       "      <td>27279</td>\n",
       "    </tr>\n",
       "    <tr>\n",
       "      <td>mean</td>\n",
       "      <td>33674129753</td>\n",
       "      <td>1915778448</td>\n",
       "      <td>183343303</td>\n",
       "      <td>2</td>\n",
       "      <td>2</td>\n",
       "    </tr>\n",
       "    <tr>\n",
       "      <td>std</td>\n",
       "      <td>45338633</td>\n",
       "      <td>418152505</td>\n",
       "      <td>133949395</td>\n",
       "      <td>1</td>\n",
       "      <td>0</td>\n",
       "    </tr>\n",
       "    <tr>\n",
       "      <td>min</td>\n",
       "      <td>33601008617</td>\n",
       "      <td>1356439704</td>\n",
       "      <td>7342167</td>\n",
       "      <td>1</td>\n",
       "      <td>2</td>\n",
       "    </tr>\n",
       "    <tr>\n",
       "      <td>25%</td>\n",
       "      <td>33650875060</td>\n",
       "      <td>1548680042</td>\n",
       "      <td>86400009</td>\n",
       "      <td>1</td>\n",
       "      <td>2</td>\n",
       "    </tr>\n",
       "    <tr>\n",
       "      <td>50%</td>\n",
       "      <td>33663516947</td>\n",
       "      <td>1816921603</td>\n",
       "      <td>170093196</td>\n",
       "      <td>2</td>\n",
       "      <td>2</td>\n",
       "    </tr>\n",
       "    <tr>\n",
       "      <td>75%</td>\n",
       "      <td>33682870024</td>\n",
       "      <td>2216556568</td>\n",
       "      <td>246468769</td>\n",
       "      <td>2</td>\n",
       "      <td>2</td>\n",
       "    </tr>\n",
       "    <tr>\n",
       "      <td>max</td>\n",
       "      <td>33789980299</td>\n",
       "      <td>2994737796</td>\n",
       "      <td>1867677937</td>\n",
       "      <td>5</td>\n",
       "      <td>2</td>\n",
       "    </tr>\n",
       "  </tbody>\n",
       "</table>\n",
       "</div>"
      ],
      "text/plain": [
       "           MSISDN  total_data  total_duration  session_count  CLUSTERS\n",
       "count       27279       27279           27279          27279     27279\n",
       "mean  33674129753  1915778448       183343303              2         2\n",
       "std      45338633   418152505       133949395              1         0\n",
       "min   33601008617  1356439704         7342167              1         2\n",
       "25%   33650875060  1548680042        86400009              1         2\n",
       "50%   33663516947  1816921603       170093196              2         2\n",
       "75%   33682870024  2216556568       246468769              2         2\n",
       "max   33789980299  2994737796      1867677937              5         2"
      ]
     },
     "execution_count": 39,
     "metadata": {},
     "output_type": "execute_result"
    }
   ],
   "source": [
    "data2_2.describe()"
   ]
  },
  {
   "cell_type": "code",
   "execution_count": 40,
   "metadata": {},
   "outputs": [],
   "source": [
    "pd.options.display.float_format = '{:,.2f}'.format\n",
    "average_measures = data2.iloc[:,2:].groupby(['CLUSTERS']).mean()\n"
   ]
  },
  {
   "cell_type": "code",
   "execution_count": 41,
   "metadata": {},
   "outputs": [
    {
     "data": {
      "text/html": [
       "<style  type=\"text/css\" >\n",
       "    #T_771d284a_d370_11ec_a34a_80ce62d62fd4row0_col1 {\n",
       "            background-color:  lightgreen;\n",
       "        }    #T_771d284a_d370_11ec_a34a_80ce62d62fd4row1_col1 {\n",
       "            background-color:  lightgreen;\n",
       "        }</style><table id=\"T_771d284a_d370_11ec_a34a_80ce62d62fd4\" ><thead>    <tr>        <th class=\"index_name level0\" >CLUSTERS</th>        <th class=\"col_heading level0 col0\" >0</th>        <th class=\"col_heading level0 col1\" >1</th>        <th class=\"col_heading level0 col2\" >2</th>    </tr></thead><tbody>\n",
       "                <tr>\n",
       "                        <th id=\"T_771d284a_d370_11ec_a34a_80ce62d62fd4level0_row0\" class=\"row_heading level0 row0\" >total_duration</th>\n",
       "                        <td id=\"T_771d284a_d370_11ec_a34a_80ce62d62fd4row0_col0\" class=\"data row0 col0\" >108,418,414.31</td>\n",
       "                        <td id=\"T_771d284a_d370_11ec_a34a_80ce62d62fd4row0_col1\" class=\"data row0 col1\" >535,322,107.01</td>\n",
       "                        <td id=\"T_771d284a_d370_11ec_a34a_80ce62d62fd4row0_col2\" class=\"data row0 col2\" >183,343,303.32</td>\n",
       "            </tr>\n",
       "            <tr>\n",
       "                        <th id=\"T_771d284a_d370_11ec_a34a_80ce62d62fd4level0_row1\" class=\"row_heading level0 row1\" >session_count</th>\n",
       "                        <td id=\"T_771d284a_d370_11ec_a34a_80ce62d62fd4row1_col0\" class=\"data row1 col0\" >1.06</td>\n",
       "                        <td id=\"T_771d284a_d370_11ec_a34a_80ce62d62fd4row1_col1\" class=\"data row1 col1\" >4.02</td>\n",
       "                        <td id=\"T_771d284a_d370_11ec_a34a_80ce62d62fd4row1_col2\" class=\"data row1 col2\" >1.86</td>\n",
       "            </tr>\n",
       "    </tbody></table>"
      ],
      "text/plain": [
       "<pandas.io.formats.style.Styler at 0x235b2114240>"
      ]
     },
     "execution_count": 41,
     "metadata": {},
     "output_type": "execute_result"
    }
   ],
   "source": [
    "average_measures.T.style.highlight_max(color = 'lightgreen', axis = 1).format(\"{:,.2f}\")"
   ]
  },
  {
   "cell_type": "code",
   "execution_count": 42,
   "metadata": {},
   "outputs": [
    {
     "data": {
      "text/html": [
       "<style  type=\"text/css\" >\n",
       "    #T_77260ffa_d370_11ec_9aff_80ce62d62fd4row0_col0 {\n",
       "            background-color:  pink;\n",
       "        }    #T_77260ffa_d370_11ec_9aff_80ce62d62fd4row1_col0 {\n",
       "            background-color:  pink;\n",
       "        }</style><table id=\"T_77260ffa_d370_11ec_9aff_80ce62d62fd4\" ><thead>    <tr>        <th class=\"index_name level0\" >CLUSTERS</th>        <th class=\"col_heading level0 col0\" >0</th>        <th class=\"col_heading level0 col1\" >1</th>        <th class=\"col_heading level0 col2\" >2</th>    </tr></thead><tbody>\n",
       "                <tr>\n",
       "                        <th id=\"T_77260ffa_d370_11ec_9aff_80ce62d62fd4level0_row0\" class=\"row_heading level0 row0\" >total_duration</th>\n",
       "                        <td id=\"T_77260ffa_d370_11ec_9aff_80ce62d62fd4row0_col0\" class=\"data row0 col0\" >108,418,414.31</td>\n",
       "                        <td id=\"T_77260ffa_d370_11ec_9aff_80ce62d62fd4row0_col1\" class=\"data row0 col1\" >535,322,107.01</td>\n",
       "                        <td id=\"T_77260ffa_d370_11ec_9aff_80ce62d62fd4row0_col2\" class=\"data row0 col2\" >183,343,303.32</td>\n",
       "            </tr>\n",
       "            <tr>\n",
       "                        <th id=\"T_77260ffa_d370_11ec_9aff_80ce62d62fd4level0_row1\" class=\"row_heading level0 row1\" >session_count</th>\n",
       "                        <td id=\"T_77260ffa_d370_11ec_9aff_80ce62d62fd4row1_col0\" class=\"data row1 col0\" >1.06</td>\n",
       "                        <td id=\"T_77260ffa_d370_11ec_9aff_80ce62d62fd4row1_col1\" class=\"data row1 col1\" >4.02</td>\n",
       "                        <td id=\"T_77260ffa_d370_11ec_9aff_80ce62d62fd4row1_col2\" class=\"data row1 col2\" >1.86</td>\n",
       "            </tr>\n",
       "    </tbody></table>"
      ],
      "text/plain": [
       "<pandas.io.formats.style.Styler at 0x235ac235898>"
      ]
     },
     "execution_count": 42,
     "metadata": {},
     "output_type": "execute_result"
    }
   ],
   "source": [
    "average_measures.T.style.highlight_min(color = 'pink', axis = 1).format(\"{:,.2f}\")"
   ]
  },
  {
   "cell_type": "markdown",
   "metadata": {},
   "source": [
    "# Aggregation based on social media"
   ]
  },
  {
   "cell_type": "code",
   "execution_count": 43,
   "metadata": {},
   "outputs": [],
   "source": [
    "socials=df.groupby(['MSISDN'])[\"socials_total_b\"].sum().reset_index(name='socials_total')"
   ]
  },
  {
   "cell_type": "code",
   "execution_count": 44,
   "metadata": {},
   "outputs": [],
   "source": [
    "social_media_traffic=socials.sort_values(['socials_total'], ascending=False).head(10)"
   ]
  },
  {
   "cell_type": "code",
   "execution_count": 45,
   "metadata": {},
   "outputs": [],
   "source": [
    "results.add_data('social_media_traffic',social_media_traffic)"
   ]
  },
  {
   "cell_type": "markdown",
   "metadata": {},
   "source": [
    "# Aggregation based on google"
   ]
  },
  {
   "cell_type": "code",
   "execution_count": 46,
   "metadata": {},
   "outputs": [],
   "source": [
    "google=df.groupby(['MSISDN'])[\"google_total_b\"].sum().reset_index(name='google_total')"
   ]
  },
  {
   "cell_type": "code",
   "execution_count": 47,
   "metadata": {},
   "outputs": [],
   "source": [
    "google_traffic=google.sort_values(['google_total'], ascending=False).head(10)"
   ]
  },
  {
   "cell_type": "code",
   "execution_count": 48,
   "metadata": {},
   "outputs": [],
   "source": [
    "results.add_data('google_traffic',google_traffic)"
   ]
  },
  {
   "cell_type": "markdown",
   "metadata": {},
   "source": [
    "# Aggregation based on email"
   ]
  },
  {
   "cell_type": "code",
   "execution_count": 49,
   "metadata": {},
   "outputs": [],
   "source": [
    "email=df.groupby(['MSISDN'])[\"email_total_b\"].sum().reset_index(name='mail_total')"
   ]
  },
  {
   "cell_type": "code",
   "execution_count": 50,
   "metadata": {},
   "outputs": [],
   "source": [
    "email_traffic=email.sort_values(['mail_total'], ascending=False).head(10)"
   ]
  },
  {
   "cell_type": "code",
   "execution_count": 51,
   "metadata": {},
   "outputs": [],
   "source": [
    "results.add_data('email_traffic',email_traffic)"
   ]
  },
  {
   "cell_type": "markdown",
   "metadata": {},
   "source": [
    "# Aggregation based on YouTube"
   ]
  },
  {
   "cell_type": "code",
   "execution_count": 52,
   "metadata": {},
   "outputs": [],
   "source": [
    "youtube=df.groupby(['MSISDN'])[\"youtube_total_b\"].sum().reset_index(name='yt_total')"
   ]
  },
  {
   "cell_type": "code",
   "execution_count": 53,
   "metadata": {},
   "outputs": [],
   "source": [
    "youtube_traffic=youtube.sort_values(['yt_total'], ascending=False).head(10)"
   ]
  },
  {
   "cell_type": "code",
   "execution_count": 54,
   "metadata": {},
   "outputs": [],
   "source": [
    "results.add_data('youtube_traffic',youtube_traffic)"
   ]
  },
  {
   "cell_type": "markdown",
   "metadata": {},
   "source": [
    "# Aggregation based on Netflix"
   ]
  },
  {
   "cell_type": "code",
   "execution_count": 55,
   "metadata": {},
   "outputs": [],
   "source": [
    "netflix=df.groupby(['MSISDN'])[\"netflix_total_b\"].sum().reset_index(name='netflix_total')"
   ]
  },
  {
   "cell_type": "code",
   "execution_count": 56,
   "metadata": {},
   "outputs": [],
   "source": [
    "netflix_traffic=netflix.sort_values(['netflix_total'], ascending=False).head(10)"
   ]
  },
  {
   "cell_type": "code",
   "execution_count": 57,
   "metadata": {},
   "outputs": [],
   "source": [
    "results.add_data('netflix_traffic',netflix_traffic)"
   ]
  },
  {
   "cell_type": "markdown",
   "metadata": {},
   "source": [
    "# Aggregation based on Gaming"
   ]
  },
  {
   "cell_type": "code",
   "execution_count": 58,
   "metadata": {},
   "outputs": [],
   "source": [
    "gaming=df.groupby(['MSISDN'])[\"gaming_total_b\"].sum().reset_index(name='gaming_total')"
   ]
  },
  {
   "cell_type": "code",
   "execution_count": 59,
   "metadata": {},
   "outputs": [],
   "source": [
    "gaming_traffic=gaming.sort_values(['gaming_total'], ascending=False).head(10)"
   ]
  },
  {
   "cell_type": "code",
   "execution_count": 60,
   "metadata": {},
   "outputs": [],
   "source": [
    "results.add_data('gaming_traffic',gaming_traffic)"
   ]
  },
  {
   "cell_type": "markdown",
   "metadata": {},
   "source": [
    "# Aggregation based on Other"
   ]
  },
  {
   "cell_type": "code",
   "execution_count": 61,
   "metadata": {},
   "outputs": [],
   "source": [
    "other=df.groupby(['MSISDN'])[\"other_total_b\"].sum().reset_index(name='other_total')"
   ]
  },
  {
   "cell_type": "code",
   "execution_count": 62,
   "metadata": {},
   "outputs": [],
   "source": [
    "other_traffic=other.sort_values(['other_total'], ascending=False).head(10)"
   ]
  },
  {
   "cell_type": "code",
   "execution_count": 63,
   "metadata": {},
   "outputs": [],
   "source": [
    "results.add_data('other_traffic',other_traffic)"
   ]
  },
  {
   "cell_type": "markdown",
   "metadata": {},
   "source": [
    "# App perfomance"
   ]
  },
  {
   "cell_type": "code",
   "execution_count": 64,
   "metadata": {},
   "outputs": [],
   "source": [
    "most_used_df = df.copy(deep=True)\n",
    "most_used_df = most_used_df.loc[:,[ 'socials_total_b','google_total_b','email_total_b','youtube_total_b','netflix_total_b','gaming_total_b','other_total_b']]"
   ]
  },
  {
   "cell_type": "code",
   "execution_count": 65,
   "metadata": {},
   "outputs": [
    {
     "data": {
      "text/html": [
       "<div>\n",
       "<style scoped>\n",
       "    .dataframe tbody tr th:only-of-type {\n",
       "        vertical-align: middle;\n",
       "    }\n",
       "\n",
       "    .dataframe tbody tr th {\n",
       "        vertical-align: top;\n",
       "    }\n",
       "\n",
       "    .dataframe thead th {\n",
       "        text-align: right;\n",
       "    }\n",
       "</style>\n",
       "<table border=\"1\" class=\"dataframe\">\n",
       "  <thead>\n",
       "    <tr style=\"text-align: right;\">\n",
       "      <th></th>\n",
       "      <th>Total Data (Bytes)</th>\n",
       "    </tr>\n",
       "  </thead>\n",
       "  <tbody>\n",
       "    <tr>\n",
       "      <td>gaming_total_b</td>\n",
       "      <td>63,910,124,731,666.00</td>\n",
       "    </tr>\n",
       "    <tr>\n",
       "      <td>other_total_b</td>\n",
       "      <td>63,770,726,326,023.00</td>\n",
       "    </tr>\n",
       "    <tr>\n",
       "      <td>youtube_total_b</td>\n",
       "      <td>3,362,537,620,065.00</td>\n",
       "    </tr>\n",
       "    <tr>\n",
       "      <td>netflix_total_b</td>\n",
       "      <td>3,360,563,670,772.00</td>\n",
       "    </tr>\n",
       "    <tr>\n",
       "      <td>google_total_b</td>\n",
       "      <td>1,159,544,186,717.00</td>\n",
       "    </tr>\n",
       "  </tbody>\n",
       "</table>\n",
       "</div>"
      ],
      "text/plain": [
       "                   Total Data (Bytes)\n",
       "gaming_total_b  63,910,124,731,666.00\n",
       "other_total_b   63,770,726,326,023.00\n",
       "youtube_total_b  3,362,537,620,065.00\n",
       "netflix_total_b  3,360,563,670,772.00\n",
       "google_total_b   1,159,544,186,717.00"
      ]
     },
     "execution_count": 65,
     "metadata": {},
     "output_type": "execute_result"
    }
   ],
   "source": [
    "total_app_data_usage = pd.DataFrame(most_used_df.sum(), columns=['Total Data (Bytes)'])\n",
    "most_used_apps = total_app_data_usage.sort_values(by='Total Data (Bytes)',ascending=False).iloc[:5,:]\n",
    "\n",
    "#Saving the data\n",
    "results.add_data('most_used_apps',most_used_apps)\n",
    "#result\n",
    "most_used_apps"
   ]
  },
  {
   "cell_type": "markdown",
   "metadata": {},
   "source": [
    "Using k-means clustering algorithm, group users in k engagement clusters based on the engagement metrics: What is the optimized value of k (use elbow method for this)?\n",
    "Interpret your findings"
   ]
  },
  {
   "cell_type": "code",
   "execution_count": 66,
   "metadata": {},
   "outputs": [],
   "source": [
    "data  = pd.merge(total_s_b, session_d, on='MSISDN', how='left')\n",
    "data  = pd.merge(data, session_f, on='MSISDN', how='left')"
   ]
  },
  {
   "cell_type": "code",
   "execution_count": 67,
   "metadata": {},
   "outputs": [],
   "source": [
    "engagement=pd.merge(data, other, on='MSISDN', how='left')\n",
    "engagement=pd.merge(engagement, gaming, on='MSISDN', how='left')\n",
    "engagement=pd.merge(engagement, netflix, on='MSISDN', how='left')\n",
    "engagement=pd.merge(engagement, youtube, on='MSISDN', how='left')\n",
    "engagement=pd.merge(engagement, google, on='MSISDN', how='left')\n",
    "engagement=pd.merge(engagement, email, on='MSISDN', how='left')\n",
    "#engagement=pd.merge(engagement, other_traffic, on='MSISDN', how='left')\n",
    "engagement=pd.merge(engagement, socials, on='MSISDN', how='left')"
   ]
  },
  {
   "cell_type": "code",
   "execution_count": 68,
   "metadata": {},
   "outputs": [
    {
     "data": {
      "text/html": [
       "<div>\n",
       "<style scoped>\n",
       "    .dataframe tbody tr th:only-of-type {\n",
       "        vertical-align: middle;\n",
       "    }\n",
       "\n",
       "    .dataframe tbody tr th {\n",
       "        vertical-align: top;\n",
       "    }\n",
       "\n",
       "    .dataframe thead th {\n",
       "        text-align: right;\n",
       "    }\n",
       "</style>\n",
       "<table border=\"1\" class=\"dataframe\">\n",
       "  <thead>\n",
       "    <tr style=\"text-align: right;\">\n",
       "      <th></th>\n",
       "      <th>MSISDN</th>\n",
       "      <th>total_data</th>\n",
       "      <th>total_duration</th>\n",
       "      <th>session_count</th>\n",
       "      <th>other_total</th>\n",
       "      <th>gaming_total</th>\n",
       "      <th>netflix_total</th>\n",
       "      <th>yt_total</th>\n",
       "      <th>google_total</th>\n",
       "      <th>mail_total</th>\n",
       "      <th>socials_total</th>\n",
       "    </tr>\n",
       "  </thead>\n",
       "  <tbody>\n",
       "    <tr>\n",
       "      <td>0</td>\n",
       "      <td>33,601,001,722.00</td>\n",
       "      <td>1,255,787,564.00</td>\n",
       "      <td>116,720,140.00</td>\n",
       "      <td>1</td>\n",
       "      <td>386,570,872.00</td>\n",
       "      <td>812,458,661.00</td>\n",
       "      <td>27,180,981.00</td>\n",
       "      <td>21,624,548.00</td>\n",
       "      <td>4,389,005.00</td>\n",
       "      <td>1,331,362.00</td>\n",
       "      <td>2,232,135.00</td>\n",
       "    </tr>\n",
       "    <tr>\n",
       "      <td>1</td>\n",
       "      <td>33,601,001,754.00</td>\n",
       "      <td>436,417,344.00</td>\n",
       "      <td>181,230,963.00</td>\n",
       "      <td>1</td>\n",
       "      <td>281,710,071.00</td>\n",
       "      <td>119,750,078.00</td>\n",
       "      <td>11,221,763.00</td>\n",
       "      <td>12,432,223.00</td>\n",
       "      <td>5,334,863.00</td>\n",
       "      <td>3,307,781.00</td>\n",
       "      <td>2,660,565.00</td>\n",
       "    </tr>\n",
       "  </tbody>\n",
       "</table>\n",
       "</div>"
      ],
      "text/plain": [
       "             MSISDN       total_data  total_duration  session_count  \\\n",
       "0 33,601,001,722.00 1,255,787,564.00  116,720,140.00              1   \n",
       "1 33,601,001,754.00   436,417,344.00  181,230,963.00              1   \n",
       "\n",
       "     other_total   gaming_total  netflix_total      yt_total  google_total  \\\n",
       "0 386,570,872.00 812,458,661.00  27,180,981.00 21,624,548.00  4,389,005.00   \n",
       "1 281,710,071.00 119,750,078.00  11,221,763.00 12,432,223.00  5,334,863.00   \n",
       "\n",
       "    mail_total  socials_total  \n",
       "0 1,331,362.00   2,232,135.00  \n",
       "1 3,307,781.00   2,660,565.00  "
      ]
     },
     "execution_count": 68,
     "metadata": {},
     "output_type": "execute_result"
    }
   ],
   "source": [
    "engagement.head(2)"
   ]
  },
  {
   "cell_type": "code",
   "execution_count": 69,
   "metadata": {},
   "outputs": [],
   "source": [
    "cat_features=['MSISDN']"
   ]
  },
  {
   "cell_type": "code",
   "execution_count": 70,
   "metadata": {},
   "outputs": [],
   "source": [
    "numerical_features = ['total_data','total_duration','session_count','other_total','gaming_total','netflix_total','yt_total','google_total','mail_total','socials_total']"
   ]
  },
  {
   "cell_type": "code",
   "execution_count": 71,
   "metadata": {},
   "outputs": [],
   "source": [
    "input_features = numerical_features + cat_features"
   ]
  },
  {
   "cell_type": "code",
   "execution_count": 72,
   "metadata": {},
   "outputs": [],
   "source": [
    "features = engagement.copy()"
   ]
  },
  {
   "cell_type": "markdown",
   "metadata": {},
   "source": [
    "# Encoding categorical variables"
   ]
  },
  {
   "cell_type": "code",
   "execution_count": 73,
   "metadata": {},
   "outputs": [],
   "source": [
    "#casting the columns into strings\n",
    "labelencoder = LabelEncoder()\n",
    "\n",
    "#features[cat_features] = features[cat_features].apply(LabelEncoder().fit_transform)\n",
    "features[cat_features] = features[cat_features].apply(lambda col: LabelEncoder().fit_transform(col.astype(str)), axis=0, result_type='expand')"
   ]
  },
  {
   "cell_type": "markdown",
   "metadata": {},
   "source": [
    "# Scaling Numerical Data"
   ]
  },
  {
   "cell_type": "code",
   "execution_count": 74,
   "metadata": {},
   "outputs": [
    {
     "name": "stderr",
     "output_type": "stream",
     "text": [
      "C:\\Users\\kachase\\Anaconda3\\lib\\site-packages\\sklearn\\preprocessing\\data.py:645: DataConversionWarning: Data with input dtype int32, int64, float64 were all converted to float64 by StandardScaler.\n",
      "  return self.partial_fit(X, y)\n",
      "C:\\Users\\kachase\\Anaconda3\\lib\\site-packages\\sklearn\\base.py:464: DataConversionWarning: Data with input dtype int32, int64, float64 were all converted to float64 by StandardScaler.\n",
      "  return self.fit(X, **fit_params).transform(X)\n"
     ]
    }
   ],
   "source": [
    "scaler = StandardScaler()\n",
    "x_scaled = scaler.fit_transform(features[input_features])\n",
    "#x_scaled"
   ]
  },
  {
   "cell_type": "code",
   "execution_count": 75,
   "metadata": {},
   "outputs": [],
   "source": [
    "import scipy.stats as stats\n",
    "X_scaled = stats.zscore(x_scaled)\n",
    "#X_scaled"
   ]
  },
  {
   "cell_type": "markdown",
   "metadata": {},
   "source": [
    "# Elbow method to determine the clusters"
   ]
  },
  {
   "cell_type": "code",
   "execution_count": 76,
   "metadata": {},
   "outputs": [
    {
     "data": {
      "image/png": "[encoded data removed]",
      "text/plain": [
       "<Figure size 720x432 with 1 Axes>"
      ]
     },
     "metadata": {
      "needs_background": "light"
     },
     "output_type": "display_data"
    }
   ],
   "source": [
    "X = X_scaled\n",
    "\n",
    "\n",
    "#sns.set(rc={\"figure.figsize\": (6, 8)})\n",
    "plt.figure(figsize=(10,6))\n",
    "cs = []\n",
    "for i in range(1, 10):\n",
    "    kmeans = KMeans(n_clusters = i, init = 'k-means++', max_iter = 300, n_init = 10, random_state = 0)\n",
    "    kmeans.fit(X)\n",
    "    cs.append(kmeans.inertia_)\n",
    "plt.plot(range(1, 10), cs, '-o')\n",
    "plt.title('The Elbow Method')\n",
    "plt.xlabel('Number of clusters')\n",
    "plt.ylabel('CS')\n",
    "plt.show()"
   ]
  },
  {
   "cell_type": "code",
   "execution_count": 77,
   "metadata": {},
   "outputs": [
    {
     "data": {
      "text/plain": [
       "3"
      ]
     },
     "execution_count": 77,
     "metadata": {},
     "output_type": "execute_result"
    }
   ],
   "source": [
    "from kneed import KneeLocator\n",
    "kl = KneeLocator(range(1, 10), cs, curve=\"convex\", direction=\"decreasing\")\n",
    "kl.elbow"
   ]
  },
  {
   "cell_type": "code",
   "execution_count": 78,
   "metadata": {},
   "outputs": [
    {
     "data": {
      "text/plain": [
       "array([0, 0, 0, ..., 0, 0, 0])"
      ]
     },
     "execution_count": 78,
     "metadata": {},
     "output_type": "execute_result"
    }
   ],
   "source": [
    "engagement_model = KMeans(n_clusters=3, random_state = 0)\n",
    "engagement_model.fit_predict(x_scaled)\n",
    "#print(kmeans.cluster_centers_)"
   ]
  },
  {
   "cell_type": "code",
   "execution_count": 79,
   "metadata": {},
   "outputs": [
    {
     "data": {
      "text/plain": [
       "534341.4964348319"
      ]
     },
     "execution_count": 79,
     "metadata": {},
     "output_type": "execute_result"
    }
   ],
   "source": [
    "engagement_model.inertia_"
   ]
  },
  {
   "cell_type": "code",
   "execution_count": 80,
   "metadata": {},
   "outputs": [
    {
     "data": {
      "text/plain": [
       "array([0, 0, 0, ..., 0, 0, 0])"
      ]
     },
     "execution_count": 80,
     "metadata": {},
     "output_type": "execute_result"
    }
   ],
   "source": [
    "engagement_model.labels_\n",
    "#print(kmeans.labels_)"
   ]
  },
  {
   "cell_type": "code",
   "execution_count": 81,
   "metadata": {},
   "outputs": [],
   "source": [
    "engagement_centroids=engagement_model.cluster_centers_"
   ]
  },
  {
   "cell_type": "code",
   "execution_count": 82,
   "metadata": {},
   "outputs": [
    {
     "name": "stdout",
     "output_type": "stream",
     "text": [
      "[[-4.27061670e-01 -2.26296337e-01 -4.77238822e-01 -3.75557969e-01\n",
      "  -3.73972691e-01 -4.14129750e-01 -4.12574166e-01 -4.02759683e-01\n",
      "  -3.94541964e-01 -3.74088645e-01 -3.81801419e-03]\n",
      " [ 8.36901570e-01  3.39317269e-01  9.46163994e-01  7.37003538e-01\n",
      "   7.31254760e-01  8.20651775e-01  8.10107015e-01  7.91472096e-01\n",
      "   7.73888810e-01  7.40353604e-01 -3.45216596e-03]\n",
      " [ 3.37109539e+00  2.45646946e+00  3.69683904e+00  2.95789762e+00\n",
      "   2.96238491e+00  3.21050841e+00  3.24646444e+00  3.16514232e+00\n",
      "   3.10979233e+00  2.90621556e+00  1.00494885e-01]]\n"
     ]
    }
   ],
   "source": [
    "print(engagement_centroids)"
   ]
  },
  {
   "cell_type": "code",
   "execution_count": 83,
   "metadata": {},
   "outputs": [],
   "source": [
    "features = engagement.copy()"
   ]
  },
  {
   "cell_type": "code",
   "execution_count": 84,
   "metadata": {},
   "outputs": [],
   "source": [
    "labels = engagement_model.labels_\n",
    "varieties = features['MSISDN'].to_list()"
   ]
  },
  {
   "cell_type": "code",
   "execution_count": 85,
   "metadata": {},
   "outputs": [
    {
     "data": {
      "text/plain": [
       "array([[    0, 78139],\n",
       "       [    1, 24522],\n",
       "       [    2,  3810]], dtype=int64)"
      ]
     },
     "execution_count": 85,
     "metadata": {},
     "output_type": "execute_result"
    }
   ],
   "source": [
    "np.array(np.unique(labels, return_counts=True)).T"
   ]
  },
  {
   "cell_type": "code",
   "execution_count": 86,
   "metadata": {},
   "outputs": [],
   "source": [
    "engagement_cluster = pd.DataFrame({'CLUSTERS': labels, 'MSISDN': varieties})"
   ]
  },
  {
   "cell_type": "code",
   "execution_count": 87,
   "metadata": {},
   "outputs": [
    {
     "data": {
      "text/html": [
       "<div>\n",
       "<style scoped>\n",
       "    .dataframe tbody tr th:only-of-type {\n",
       "        vertical-align: middle;\n",
       "    }\n",
       "\n",
       "    .dataframe tbody tr th {\n",
       "        vertical-align: top;\n",
       "    }\n",
       "\n",
       "    .dataframe thead th {\n",
       "        text-align: right;\n",
       "    }\n",
       "</style>\n",
       "<table border=\"1\" class=\"dataframe\">\n",
       "  <thead>\n",
       "    <tr style=\"text-align: right;\">\n",
       "      <th></th>\n",
       "      <th>CLUSTERS</th>\n",
       "    </tr>\n",
       "  </thead>\n",
       "  <tbody>\n",
       "    <tr>\n",
       "      <td>0</td>\n",
       "      <td>78139</td>\n",
       "    </tr>\n",
       "    <tr>\n",
       "      <td>1</td>\n",
       "      <td>24522</td>\n",
       "    </tr>\n",
       "    <tr>\n",
       "      <td>2</td>\n",
       "      <td>3810</td>\n",
       "    </tr>\n",
       "  </tbody>\n",
       "</table>\n",
       "</div>"
      ],
      "text/plain": [
       "   CLUSTERS\n",
       "0     78139\n",
       "1     24522\n",
       "2      3810"
      ]
     },
     "execution_count": 87,
     "metadata": {},
     "output_type": "execute_result"
    }
   ],
   "source": [
    "engagement_cluster['CLUSTERS'].value_counts().to_frame()"
   ]
  },
  {
   "cell_type": "code",
   "execution_count": 88,
   "metadata": {},
   "outputs": [
    {
     "data": {
      "text/html": [
       "<div>\n",
       "<style scoped>\n",
       "    .dataframe tbody tr th:only-of-type {\n",
       "        vertical-align: middle;\n",
       "    }\n",
       "\n",
       "    .dataframe tbody tr th {\n",
       "        vertical-align: top;\n",
       "    }\n",
       "\n",
       "    .dataframe thead th {\n",
       "        text-align: right;\n",
       "    }\n",
       "</style>\n",
       "<table border=\"1\" class=\"dataframe\">\n",
       "  <thead>\n",
       "    <tr style=\"text-align: right;\">\n",
       "      <th></th>\n",
       "      <th>CLUSTERS</th>\n",
       "      <th>MSISDN</th>\n",
       "    </tr>\n",
       "  </thead>\n",
       "  <tbody>\n",
       "    <tr>\n",
       "      <td>0</td>\n",
       "      <td>0</td>\n",
       "      <td>33,601,001,722.00</td>\n",
       "    </tr>\n",
       "    <tr>\n",
       "      <td>1</td>\n",
       "      <td>0</td>\n",
       "      <td>33,601,001,754.00</td>\n",
       "    </tr>\n",
       "    <tr>\n",
       "      <td>2</td>\n",
       "      <td>0</td>\n",
       "      <td>33,601,002,511.00</td>\n",
       "    </tr>\n",
       "    <tr>\n",
       "      <td>3</td>\n",
       "      <td>0</td>\n",
       "      <td>33,601,007,832.00</td>\n",
       "    </tr>\n",
       "    <tr>\n",
       "      <td>4</td>\n",
       "      <td>1</td>\n",
       "      <td>33,601,008,617.00</td>\n",
       "    </tr>\n",
       "  </tbody>\n",
       "</table>\n",
       "</div>"
      ],
      "text/plain": [
       "   CLUSTERS            MSISDN\n",
       "0         0 33,601,001,722.00\n",
       "1         0 33,601,001,754.00\n",
       "2         0 33,601,002,511.00\n",
       "3         0 33,601,007,832.00\n",
       "4         1 33,601,008,617.00"
      ]
     },
     "execution_count": 88,
     "metadata": {},
     "output_type": "execute_result"
    }
   ],
   "source": [
    "engagement_cluster.head()"
   ]
  },
  {
   "cell_type": "code",
   "execution_count": 89,
   "metadata": {},
   "outputs": [
    {
     "data": {
      "text/plain": [
       "(106471, 12)"
      ]
     },
     "execution_count": 89,
     "metadata": {},
     "output_type": "execute_result"
    }
   ],
   "source": [
    "engagement2 = pd.merge(engagement,engagement_cluster, on='MSISDN')\n",
    "engagement2.shape"
   ]
  },
  {
   "cell_type": "code",
   "execution_count": 90,
   "metadata": {},
   "outputs": [
    {
     "data": {
      "text/html": [
       "<div>\n",
       "<style scoped>\n",
       "    .dataframe tbody tr th:only-of-type {\n",
       "        vertical-align: middle;\n",
       "    }\n",
       "\n",
       "    .dataframe tbody tr th {\n",
       "        vertical-align: top;\n",
       "    }\n",
       "\n",
       "    .dataframe thead th {\n",
       "        text-align: right;\n",
       "    }\n",
       "</style>\n",
       "<table border=\"1\" class=\"dataframe\">\n",
       "  <thead>\n",
       "    <tr style=\"text-align: right;\">\n",
       "      <th></th>\n",
       "      <th>MSISDN</th>\n",
       "      <th>total_data</th>\n",
       "      <th>total_duration</th>\n",
       "      <th>session_count</th>\n",
       "      <th>other_total</th>\n",
       "      <th>gaming_total</th>\n",
       "      <th>netflix_total</th>\n",
       "      <th>yt_total</th>\n",
       "      <th>google_total</th>\n",
       "      <th>mail_total</th>\n",
       "      <th>socials_total</th>\n",
       "      <th>CLUSTERS</th>\n",
       "    </tr>\n",
       "  </thead>\n",
       "  <tbody>\n",
       "    <tr>\n",
       "      <td>0</td>\n",
       "      <td>33,601,001,722.00</td>\n",
       "      <td>1,255,787,564.00</td>\n",
       "      <td>116,720,140.00</td>\n",
       "      <td>1</td>\n",
       "      <td>386,570,872.00</td>\n",
       "      <td>812,458,661.00</td>\n",
       "      <td>27,180,981.00</td>\n",
       "      <td>21,624,548.00</td>\n",
       "      <td>4,389,005.00</td>\n",
       "      <td>1,331,362.00</td>\n",
       "      <td>2,232,135.00</td>\n",
       "      <td>0</td>\n",
       "    </tr>\n",
       "    <tr>\n",
       "      <td>1</td>\n",
       "      <td>33,601,001,754.00</td>\n",
       "      <td>436,417,344.00</td>\n",
       "      <td>181,230,963.00</td>\n",
       "      <td>1</td>\n",
       "      <td>281,710,071.00</td>\n",
       "      <td>119,750,078.00</td>\n",
       "      <td>11,221,763.00</td>\n",
       "      <td>12,432,223.00</td>\n",
       "      <td>5,334,863.00</td>\n",
       "      <td>3,307,781.00</td>\n",
       "      <td>2,660,565.00</td>\n",
       "      <td>0</td>\n",
       "    </tr>\n",
       "    <tr>\n",
       "      <td>2</td>\n",
       "      <td>33,601,002,511.00</td>\n",
       "      <td>1,091,052,984.00</td>\n",
       "      <td>134,969,374.00</td>\n",
       "      <td>1</td>\n",
       "      <td>501,693,672.00</td>\n",
       "      <td>538,827,713.00</td>\n",
       "      <td>19,353,900.00</td>\n",
       "      <td>21,333,570.00</td>\n",
       "      <td>3,443,126.00</td>\n",
       "      <td>3,205,380.00</td>\n",
       "      <td>3,195,623.00</td>\n",
       "      <td>0</td>\n",
       "    </tr>\n",
       "  </tbody>\n",
       "</table>\n",
       "</div>"
      ],
      "text/plain": [
       "             MSISDN       total_data  total_duration  session_count  \\\n",
       "0 33,601,001,722.00 1,255,787,564.00  116,720,140.00              1   \n",
       "1 33,601,001,754.00   436,417,344.00  181,230,963.00              1   \n",
       "2 33,601,002,511.00 1,091,052,984.00  134,969,374.00              1   \n",
       "\n",
       "     other_total   gaming_total  netflix_total      yt_total  google_total  \\\n",
       "0 386,570,872.00 812,458,661.00  27,180,981.00 21,624,548.00  4,389,005.00   \n",
       "1 281,710,071.00 119,750,078.00  11,221,763.00 12,432,223.00  5,334,863.00   \n",
       "2 501,693,672.00 538,827,713.00  19,353,900.00 21,333,570.00  3,443,126.00   \n",
       "\n",
       "    mail_total  socials_total  CLUSTERS  \n",
       "0 1,331,362.00   2,232,135.00         0  \n",
       "1 3,307,781.00   2,660,565.00         0  \n",
       "2 3,205,380.00   3,195,623.00         0  "
      ]
     },
     "execution_count": 90,
     "metadata": {},
     "output_type": "execute_result"
    }
   ],
   "source": [
    "\n",
    "engagement2.head(3)"
   ]
  },
  {
   "cell_type": "markdown",
   "metadata": {},
   "source": [
    "enga"
   ]
  },
  {
   "cell_type": "code",
   "execution_count": 91,
   "metadata": {},
   "outputs": [],
   "source": [
    "engagement_cluster_0 = engagement2[engagement2['CLUSTERS'] == 0]\n",
    "engagement_cluster_1 = engagement2[engagement2['CLUSTERS'] == 1]\n",
    "engagement_cluster_2 = engagement2[engagement2['CLUSTERS'] == 2]"
   ]
  },
  {
   "cell_type": "code",
   "execution_count": 92,
   "metadata": {},
   "outputs": [
    {
     "data": {
      "text/html": [
       "<div>\n",
       "<style scoped>\n",
       "    .dataframe tbody tr th:only-of-type {\n",
       "        vertical-align: middle;\n",
       "    }\n",
       "\n",
       "    .dataframe tbody tr th {\n",
       "        vertical-align: top;\n",
       "    }\n",
       "\n",
       "    .dataframe thead th {\n",
       "        text-align: right;\n",
       "    }\n",
       "</style>\n",
       "<table border=\"1\" class=\"dataframe\">\n",
       "  <thead>\n",
       "    <tr style=\"text-align: right;\">\n",
       "      <th></th>\n",
       "      <th>MSISDN</th>\n",
       "      <th>total_data</th>\n",
       "      <th>total_duration</th>\n",
       "      <th>session_count</th>\n",
       "      <th>other_total</th>\n",
       "      <th>gaming_total</th>\n",
       "      <th>netflix_total</th>\n",
       "      <th>yt_total</th>\n",
       "      <th>google_total</th>\n",
       "      <th>mail_total</th>\n",
       "      <th>socials_total</th>\n",
       "      <th>CLUSTERS</th>\n",
       "    </tr>\n",
       "  </thead>\n",
       "  <tbody>\n",
       "    <tr>\n",
       "      <td>count</td>\n",
       "      <td>78,139.00</td>\n",
       "      <td>78,139.00</td>\n",
       "      <td>78,139.00</td>\n",
       "      <td>78,139.00</td>\n",
       "      <td>78,139.00</td>\n",
       "      <td>78,139.00</td>\n",
       "      <td>78,139.00</td>\n",
       "      <td>78,139.00</td>\n",
       "      <td>78,139.00</td>\n",
       "      <td>78,139.00</td>\n",
       "      <td>78,139.00</td>\n",
       "      <td>78,139.00</td>\n",
       "    </tr>\n",
       "    <tr>\n",
       "      <td>mean</td>\n",
       "      <td>49,319,048,911.02</td>\n",
       "      <td>919,837,076.98</td>\n",
       "      <td>104,356,468.69</td>\n",
       "      <td>1.01</td>\n",
       "      <td>430,217,962.42</td>\n",
       "      <td>432,135,222.33</td>\n",
       "      <td>22,738,323.47</td>\n",
       "      <td>22,787,653.83</td>\n",
       "      <td>7,849,014.45</td>\n",
       "      <td>2,273,460.54</td>\n",
       "      <td>1,835,439.93</td>\n",
       "      <td>0.00</td>\n",
       "    </tr>\n",
       "    <tr>\n",
       "      <td>std</td>\n",
       "      <td>3,378,906,843,726.15</td>\n",
       "      <td>344,182,884.22</td>\n",
       "      <td>75,113,390.73</td>\n",
       "      <td>0.10</td>\n",
       "      <td>243,498,696.79</td>\n",
       "      <td>244,119,529.83</td>\n",
       "      <td>9,387,156.85</td>\n",
       "      <td>9,372,274.68</td>\n",
       "      <td>3,555,014.15</td>\n",
       "      <td>1,082,999.60</td>\n",
       "      <td>1,042,535.87</td>\n",
       "      <td>0.00</td>\n",
       "    </tr>\n",
       "    <tr>\n",
       "      <td>min</td>\n",
       "      <td>33,601,001,722.00</td>\n",
       "      <td>58,362,293.00</td>\n",
       "      <td>7,142,988.00</td>\n",
       "      <td>1.00</td>\n",
       "      <td>149,045.00</td>\n",
       "      <td>306,358.00</td>\n",
       "      <td>184,569.00</td>\n",
       "      <td>78,903.00</td>\n",
       "      <td>40,330.00</td>\n",
       "      <td>18,176.00</td>\n",
       "      <td>1,563.00</td>\n",
       "      <td>0.00</td>\n",
       "    </tr>\n",
       "    <tr>\n",
       "      <td>25%</td>\n",
       "      <td>33,650,771,623.50</td>\n",
       "      <td>672,518,319.50</td>\n",
       "      <td>55,000,344.00</td>\n",
       "      <td>1.00</td>\n",
       "      <td>219,482,129.00</td>\n",
       "      <td>221,442,774.50</td>\n",
       "      <td>16,014,017.50</td>\n",
       "      <td>16,053,668.00</td>\n",
       "      <td>4,967,769.50</td>\n",
       "      <td>1,363,777.00</td>\n",
       "      <td>934,055.00</td>\n",
       "      <td>0.00</td>\n",
       "    </tr>\n",
       "    <tr>\n",
       "      <td>50%</td>\n",
       "      <td>33,663,646,574.00</td>\n",
       "      <td>919,903,811.00</td>\n",
       "      <td>86,400,040.00</td>\n",
       "      <td>1.00</td>\n",
       "      <td>429,540,534.00</td>\n",
       "      <td>433,866,882.00</td>\n",
       "      <td>22,699,108.00</td>\n",
       "      <td>22,778,614.00</td>\n",
       "      <td>7,836,826.00</td>\n",
       "      <td>2,280,710.00</td>\n",
       "      <td>1,827,090.00</td>\n",
       "      <td>0.00</td>\n",
       "    </tr>\n",
       "    <tr>\n",
       "      <td>75%</td>\n",
       "      <td>33,683,577,099.50</td>\n",
       "      <td>1,167,862,373.50</td>\n",
       "      <td>138,903,092.00</td>\n",
       "      <td>1.00</td>\n",
       "      <td>640,870,838.50</td>\n",
       "      <td>643,213,289.50</td>\n",
       "      <td>29,374,507.00</td>\n",
       "      <td>29,477,122.50</td>\n",
       "      <td>10,714,200.00</td>\n",
       "      <td>3,171,117.50</td>\n",
       "      <td>2,738,010.50</td>\n",
       "      <td>0.00</td>\n",
       "    </tr>\n",
       "    <tr>\n",
       "      <td>max</td>\n",
       "      <td>882,397,108,489,451.00</td>\n",
       "      <td>2,054,929,833.00</td>\n",
       "      <td>1,573,420,996.00</td>\n",
       "      <td>2.00</td>\n",
       "      <td>1,501,430,614.00</td>\n",
       "      <td>1,460,050,595.00</td>\n",
       "      <td>73,657,380.00</td>\n",
       "      <td>78,099,852.00</td>\n",
       "      <td>27,307,801.00</td>\n",
       "      <td>8,142,171.00</td>\n",
       "      <td>6,842,090.00</td>\n",
       "      <td>0.00</td>\n",
       "    </tr>\n",
       "  </tbody>\n",
       "</table>\n",
       "</div>"
      ],
      "text/plain": [
       "                      MSISDN       total_data   total_duration  session_count  \\\n",
       "count              78,139.00        78,139.00        78,139.00      78,139.00   \n",
       "mean       49,319,048,911.02   919,837,076.98   104,356,468.69           1.01   \n",
       "std     3,378,906,843,726.15   344,182,884.22    75,113,390.73           0.10   \n",
       "min        33,601,001,722.00    58,362,293.00     7,142,988.00           1.00   \n",
       "25%        33,650,771,623.50   672,518,319.50    55,000,344.00           1.00   \n",
       "50%        33,663,646,574.00   919,903,811.00    86,400,040.00           1.00   \n",
       "75%        33,683,577,099.50 1,167,862,373.50   138,903,092.00           1.00   \n",
       "max   882,397,108,489,451.00 2,054,929,833.00 1,573,420,996.00           2.00   \n",
       "\n",
       "           other_total     gaming_total  netflix_total      yt_total  \\\n",
       "count        78,139.00        78,139.00      78,139.00     78,139.00   \n",
       "mean    430,217,962.42   432,135,222.33  22,738,323.47 22,787,653.83   \n",
       "std     243,498,696.79   244,119,529.83   9,387,156.85  9,372,274.68   \n",
       "min         149,045.00       306,358.00     184,569.00     78,903.00   \n",
       "25%     219,482,129.00   221,442,774.50  16,014,017.50 16,053,668.00   \n",
       "50%     429,540,534.00   433,866,882.00  22,699,108.00 22,778,614.00   \n",
       "75%     640,870,838.50   643,213,289.50  29,374,507.00 29,477,122.50   \n",
       "max   1,501,430,614.00 1,460,050,595.00  73,657,380.00 78,099,852.00   \n",
       "\n",
       "       google_total   mail_total  socials_total  CLUSTERS  \n",
       "count     78,139.00    78,139.00      78,139.00 78,139.00  \n",
       "mean   7,849,014.45 2,273,460.54   1,835,439.93      0.00  \n",
       "std    3,555,014.15 1,082,999.60   1,042,535.87      0.00  \n",
       "min       40,330.00    18,176.00       1,563.00      0.00  \n",
       "25%    4,967,769.50 1,363,777.00     934,055.00      0.00  \n",
       "50%    7,836,826.00 2,280,710.00   1,827,090.00      0.00  \n",
       "75%   10,714,200.00 3,171,117.50   2,738,010.50      0.00  \n",
       "max   27,307,801.00 8,142,171.00   6,842,090.00      0.00  "
      ]
     },
     "execution_count": 92,
     "metadata": {},
     "output_type": "execute_result"
    }
   ],
   "source": [
    "engagement_cluster_0.describe()"
   ]
  },
  {
   "cell_type": "code",
   "execution_count": 93,
   "metadata": {},
   "outputs": [
    {
     "data": {
      "text/html": [
       "<div>\n",
       "<style scoped>\n",
       "    .dataframe tbody tr th:only-of-type {\n",
       "        vertical-align: middle;\n",
       "    }\n",
       "\n",
       "    .dataframe tbody tr th {\n",
       "        vertical-align: top;\n",
       "    }\n",
       "\n",
       "    .dataframe thead th {\n",
       "        text-align: right;\n",
       "    }\n",
       "</style>\n",
       "<table border=\"1\" class=\"dataframe\">\n",
       "  <thead>\n",
       "    <tr style=\"text-align: right;\">\n",
       "      <th></th>\n",
       "      <th>MSISDN</th>\n",
       "      <th>total_data</th>\n",
       "      <th>total_duration</th>\n",
       "      <th>session_count</th>\n",
       "      <th>other_total</th>\n",
       "      <th>gaming_total</th>\n",
       "      <th>netflix_total</th>\n",
       "      <th>yt_total</th>\n",
       "      <th>google_total</th>\n",
       "      <th>mail_total</th>\n",
       "      <th>socials_total</th>\n",
       "      <th>CLUSTERS</th>\n",
       "    </tr>\n",
       "  </thead>\n",
       "  <tbody>\n",
       "    <tr>\n",
       "      <td>count</td>\n",
       "      <td>24,522.00</td>\n",
       "      <td>24,522.00</td>\n",
       "      <td>24,522.00</td>\n",
       "      <td>24,522.00</td>\n",
       "      <td>24,522.00</td>\n",
       "      <td>24,522.00</td>\n",
       "      <td>24,522.00</td>\n",
       "      <td>24,522.00</td>\n",
       "      <td>24,522.00</td>\n",
       "      <td>24,522.00</td>\n",
       "      <td>24,522.00</td>\n",
       "      <td>24,522.00</td>\n",
       "    </tr>\n",
       "    <tr>\n",
       "      <td>mean</td>\n",
       "      <td>33,674,229,617.57</td>\n",
       "      <td>1,982,776,358.47</td>\n",
       "      <td>209,877,582.26</td>\n",
       "      <td>2.16</td>\n",
       "      <td>930,109,893.65</td>\n",
       "      <td>929,057,726.81</td>\n",
       "      <td>49,053,152.32</td>\n",
       "      <td>48,850,458.86</td>\n",
       "      <td>16,868,594.78</td>\n",
       "      <td>4,872,911.08</td>\n",
       "      <td>3,963,620.98</td>\n",
       "      <td>1.00</td>\n",
       "    </tr>\n",
       "    <tr>\n",
       "      <td>std</td>\n",
       "      <td>45,227,564.54</td>\n",
       "      <td>561,564,913.41</td>\n",
       "      <td>134,430,540.42</td>\n",
       "      <td>0.37</td>\n",
       "      <td>378,124,084.44</td>\n",
       "      <td>375,632,839.97</td>\n",
       "      <td>15,734,245.20</td>\n",
       "      <td>15,533,589.54</td>\n",
       "      <td>5,726,152.62</td>\n",
       "      <td>1,738,609.14</td>\n",
       "      <td>1,609,721.55</td>\n",
       "      <td>0.00</td>\n",
       "    </tr>\n",
       "    <tr>\n",
       "      <td>min</td>\n",
       "      <td>33,601,008,617.00</td>\n",
       "      <td>377,545,379.00</td>\n",
       "      <td>18,235,797.00</td>\n",
       "      <td>1.00</td>\n",
       "      <td>21,747,166.00</td>\n",
       "      <td>22,123,644.00</td>\n",
       "      <td>3,539,613.00</td>\n",
       "      <td>3,590,164.00</td>\n",
       "      <td>1,346,703.00</td>\n",
       "      <td>200,967.00</td>\n",
       "      <td>61,882.00</td>\n",
       "      <td>1.00</td>\n",
       "    </tr>\n",
       "    <tr>\n",
       "      <td>25%</td>\n",
       "      <td>33,650,922,727.50</td>\n",
       "      <td>1,585,038,524.00</td>\n",
       "      <td>116,043,829.75</td>\n",
       "      <td>2.00</td>\n",
       "      <td>659,286,914.25</td>\n",
       "      <td>661,865,369.75</td>\n",
       "      <td>38,274,993.75</td>\n",
       "      <td>38,099,472.50</td>\n",
       "      <td>12,898,503.50</td>\n",
       "      <td>3,662,038.00</td>\n",
       "      <td>2,828,606.75</td>\n",
       "      <td>1.00</td>\n",
       "    </tr>\n",
       "    <tr>\n",
       "      <td>50%</td>\n",
       "      <td>33,663,547,188.50</td>\n",
       "      <td>1,947,758,512.50</td>\n",
       "      <td>180,956,921.00</td>\n",
       "      <td>2.00</td>\n",
       "      <td>917,101,365.50</td>\n",
       "      <td>917,776,791.50</td>\n",
       "      <td>48,204,909.50</td>\n",
       "      <td>47,881,828.50</td>\n",
       "      <td>16,576,449.00</td>\n",
       "      <td>4,772,538.00</td>\n",
       "      <td>3,902,472.50</td>\n",
       "      <td>1.00</td>\n",
       "    </tr>\n",
       "    <tr>\n",
       "      <td>75%</td>\n",
       "      <td>33,682,791,459.75</td>\n",
       "      <td>2,334,788,377.00</td>\n",
       "      <td>265,277,363.75</td>\n",
       "      <td>2.00</td>\n",
       "      <td>1,191,931,850.00</td>\n",
       "      <td>1,186,958,201.25</td>\n",
       "      <td>58,566,320.75</td>\n",
       "      <td>58,519,223.25</td>\n",
       "      <td>20,578,693.25</td>\n",
       "      <td>6,004,211.00</td>\n",
       "      <td>5,065,981.50</td>\n",
       "      <td>1.00</td>\n",
       "    </tr>\n",
       "    <tr>\n",
       "      <td>max</td>\n",
       "      <td>33,789,980,299.00</td>\n",
       "      <td>4,270,493,909.00</td>\n",
       "      <td>2,083,210,006.00</td>\n",
       "      <td>4.00</td>\n",
       "      <td>2,419,876,117.00</td>\n",
       "      <td>2,478,750,897.00</td>\n",
       "      <td>117,461,184.00</td>\n",
       "      <td>119,122,721.00</td>\n",
       "      <td>42,763,254.00</td>\n",
       "      <td>12,867,609.00</td>\n",
       "      <td>10,293,340.00</td>\n",
       "      <td>1.00</td>\n",
       "    </tr>\n",
       "  </tbody>\n",
       "</table>\n",
       "</div>"
      ],
      "text/plain": [
       "                 MSISDN       total_data   total_duration  session_count  \\\n",
       "count         24,522.00        24,522.00        24,522.00      24,522.00   \n",
       "mean  33,674,229,617.57 1,982,776,358.47   209,877,582.26           2.16   \n",
       "std       45,227,564.54   561,564,913.41   134,430,540.42           0.37   \n",
       "min   33,601,008,617.00   377,545,379.00    18,235,797.00           1.00   \n",
       "25%   33,650,922,727.50 1,585,038,524.00   116,043,829.75           2.00   \n",
       "50%   33,663,547,188.50 1,947,758,512.50   180,956,921.00           2.00   \n",
       "75%   33,682,791,459.75 2,334,788,377.00   265,277,363.75           2.00   \n",
       "max   33,789,980,299.00 4,270,493,909.00 2,083,210,006.00           4.00   \n",
       "\n",
       "           other_total     gaming_total  netflix_total       yt_total  \\\n",
       "count        24,522.00        24,522.00      24,522.00      24,522.00   \n",
       "mean    930,109,893.65   929,057,726.81  49,053,152.32  48,850,458.86   \n",
       "std     378,124,084.44   375,632,839.97  15,734,245.20  15,533,589.54   \n",
       "min      21,747,166.00    22,123,644.00   3,539,613.00   3,590,164.00   \n",
       "25%     659,286,914.25   661,865,369.75  38,274,993.75  38,099,472.50   \n",
       "50%     917,101,365.50   917,776,791.50  48,204,909.50  47,881,828.50   \n",
       "75%   1,191,931,850.00 1,186,958,201.25  58,566,320.75  58,519,223.25   \n",
       "max   2,419,876,117.00 2,478,750,897.00 117,461,184.00 119,122,721.00   \n",
       "\n",
       "       google_total    mail_total  socials_total  CLUSTERS  \n",
       "count     24,522.00     24,522.00      24,522.00 24,522.00  \n",
       "mean  16,868,594.78  4,872,911.08   3,963,620.98      1.00  \n",
       "std    5,726,152.62  1,738,609.14   1,609,721.55      0.00  \n",
       "min    1,346,703.00    200,967.00      61,882.00      1.00  \n",
       "25%   12,898,503.50  3,662,038.00   2,828,606.75      1.00  \n",
       "50%   16,576,449.00  4,772,538.00   3,902,472.50      1.00  \n",
       "75%   20,578,693.25  6,004,211.00   5,065,981.50      1.00  \n",
       "max   42,763,254.00 12,867,609.00  10,293,340.00      1.00  "
      ]
     },
     "execution_count": 93,
     "metadata": {},
     "output_type": "execute_result"
    }
   ],
   "source": [
    "engagement_cluster_1.describe()"
   ]
  },
  {
   "cell_type": "code",
   "execution_count": 94,
   "metadata": {},
   "outputs": [
    {
     "data": {
      "text/html": [
       "<div>\n",
       "<style scoped>\n",
       "    .dataframe tbody tr th:only-of-type {\n",
       "        vertical-align: middle;\n",
       "    }\n",
       "\n",
       "    .dataframe tbody tr th {\n",
       "        vertical-align: top;\n",
       "    }\n",
       "\n",
       "    .dataframe thead th {\n",
       "        text-align: right;\n",
       "    }\n",
       "</style>\n",
       "<table border=\"1\" class=\"dataframe\">\n",
       "  <thead>\n",
       "    <tr style=\"text-align: right;\">\n",
       "      <th></th>\n",
       "      <th>MSISDN</th>\n",
       "      <th>total_data</th>\n",
       "      <th>total_duration</th>\n",
       "      <th>session_count</th>\n",
       "      <th>other_total</th>\n",
       "      <th>gaming_total</th>\n",
       "      <th>netflix_total</th>\n",
       "      <th>yt_total</th>\n",
       "      <th>google_total</th>\n",
       "      <th>mail_total</th>\n",
       "      <th>socials_total</th>\n",
       "      <th>CLUSTERS</th>\n",
       "    </tr>\n",
       "  </thead>\n",
       "  <tbody>\n",
       "    <tr>\n",
       "      <td>count</td>\n",
       "      <td>3,810.00</td>\n",
       "      <td>3,810.00</td>\n",
       "      <td>3,810.00</td>\n",
       "      <td>3,810.00</td>\n",
       "      <td>3,810.00</td>\n",
       "      <td>3,810.00</td>\n",
       "      <td>3,810.00</td>\n",
       "      <td>3,810.00</td>\n",
       "      <td>3,810.00</td>\n",
       "      <td>3,810.00</td>\n",
       "      <td>3,810.00</td>\n",
       "      <td>3,810.00</td>\n",
       "    </tr>\n",
       "    <tr>\n",
       "      <td>mean</td>\n",
       "      <td>33,678,763,365.58</td>\n",
       "      <td>4,113,828,638.63</td>\n",
       "      <td>604,925,332.57</td>\n",
       "      <td>4.38</td>\n",
       "      <td>1,928,023,660.99</td>\n",
       "      <td>1,932,062,209.16</td>\n",
       "      <td>99,982,260.27</td>\n",
       "      <td>100,793,224.46</td>\n",
       "      <td>34,797,471.27</td>\n",
       "      <td>10,069,171.05</td>\n",
       "      <td>8,100,641.43</td>\n",
       "      <td>2.00</td>\n",
       "    </tr>\n",
       "    <tr>\n",
       "      <td>std</td>\n",
       "      <td>43,604,650.01</td>\n",
       "      <td>1,196,289,477.92</td>\n",
       "      <td>684,335,716.72</td>\n",
       "      <td>1.20</td>\n",
       "      <td>669,866,186.39</td>\n",
       "      <td>684,402,541.03</td>\n",
       "      <td>32,280,742.22</td>\n",
       "      <td>32,357,274.46</td>\n",
       "      <td>11,509,632.99</td>\n",
       "      <td>3,470,864.66</td>\n",
       "      <td>2,967,152.56</td>\n",
       "      <td>0.00</td>\n",
       "    </tr>\n",
       "    <tr>\n",
       "      <td>min</td>\n",
       "      <td>33,601,270,437.00</td>\n",
       "      <td>1,797,646,786.00</td>\n",
       "      <td>46,899,075.00</td>\n",
       "      <td>3.00</td>\n",
       "      <td>294,154,547.00</td>\n",
       "      <td>226,703,601.00</td>\n",
       "      <td>27,966,688.00</td>\n",
       "      <td>30,901,259.00</td>\n",
       "      <td>8,173,290.00</td>\n",
       "      <td>2,077,731.00</td>\n",
       "      <td>1,008,465.00</td>\n",
       "      <td>2.00</td>\n",
       "    </tr>\n",
       "    <tr>\n",
       "      <td>25%</td>\n",
       "      <td>33,658,970,777.75</td>\n",
       "      <td>3,361,362,412.75</td>\n",
       "      <td>345,599,758.25</td>\n",
       "      <td>4.00</td>\n",
       "      <td>1,498,680,342.00</td>\n",
       "      <td>1,489,098,519.00</td>\n",
       "      <td>79,626,387.25</td>\n",
       "      <td>79,815,585.25</td>\n",
       "      <td>27,274,012.00</td>\n",
       "      <td>7,836,467.00</td>\n",
       "      <td>6,184,347.50</td>\n",
       "      <td>2.00</td>\n",
       "    </tr>\n",
       "    <tr>\n",
       "      <td>50%</td>\n",
       "      <td>33,664,403,909.50</td>\n",
       "      <td>3,911,361,746.00</td>\n",
       "      <td>431,555,645.50</td>\n",
       "      <td>4.00</td>\n",
       "      <td>1,863,625,019.50</td>\n",
       "      <td>1,854,106,156.50</td>\n",
       "      <td>95,670,707.50</td>\n",
       "      <td>95,803,816.50</td>\n",
       "      <td>33,306,444.50</td>\n",
       "      <td>9,640,827.00</td>\n",
       "      <td>7,773,117.50</td>\n",
       "      <td>2.00</td>\n",
       "    </tr>\n",
       "    <tr>\n",
       "      <td>75%</td>\n",
       "      <td>33,687,401,886.00</td>\n",
       "      <td>4,608,065,815.75</td>\n",
       "      <td>590,523,024.00</td>\n",
       "      <td>5.00</td>\n",
       "      <td>2,265,058,065.50</td>\n",
       "      <td>2,277,310,470.00</td>\n",
       "      <td>114,241,619.75</td>\n",
       "      <td>115,561,215.25</td>\n",
       "      <td>39,913,943.50</td>\n",
       "      <td>11,683,890.00</td>\n",
       "      <td>9,654,490.00</td>\n",
       "      <td>2.00</td>\n",
       "    </tr>\n",
       "    <tr>\n",
       "      <td>max</td>\n",
       "      <td>33,789,881,186.00</td>\n",
       "      <td>16,341,524,035.00</td>\n",
       "      <td>18,553,763,486.00</td>\n",
       "      <td>18.00</td>\n",
       "      <td>8,167,877,776.00</td>\n",
       "      <td>7,749,432,234.00</td>\n",
       "      <td>399,519,079.00</td>\n",
       "      <td>452,958,769.00</td>\n",
       "      <td>152,191,852.00</td>\n",
       "      <td>42,418,782.00</td>\n",
       "      <td>43,374,779.00</td>\n",
       "      <td>2.00</td>\n",
       "    </tr>\n",
       "  </tbody>\n",
       "</table>\n",
       "</div>"
      ],
      "text/plain": [
       "                 MSISDN        total_data    total_duration  session_count  \\\n",
       "count          3,810.00          3,810.00          3,810.00       3,810.00   \n",
       "mean  33,678,763,365.58  4,113,828,638.63    604,925,332.57           4.38   \n",
       "std       43,604,650.01  1,196,289,477.92    684,335,716.72           1.20   \n",
       "min   33,601,270,437.00  1,797,646,786.00     46,899,075.00           3.00   \n",
       "25%   33,658,970,777.75  3,361,362,412.75    345,599,758.25           4.00   \n",
       "50%   33,664,403,909.50  3,911,361,746.00    431,555,645.50           4.00   \n",
       "75%   33,687,401,886.00  4,608,065,815.75    590,523,024.00           5.00   \n",
       "max   33,789,881,186.00 16,341,524,035.00 18,553,763,486.00          18.00   \n",
       "\n",
       "           other_total     gaming_total  netflix_total       yt_total  \\\n",
       "count         3,810.00         3,810.00       3,810.00       3,810.00   \n",
       "mean  1,928,023,660.99 1,932,062,209.16  99,982,260.27 100,793,224.46   \n",
       "std     669,866,186.39   684,402,541.03  32,280,742.22  32,357,274.46   \n",
       "min     294,154,547.00   226,703,601.00  27,966,688.00  30,901,259.00   \n",
       "25%   1,498,680,342.00 1,489,098,519.00  79,626,387.25  79,815,585.25   \n",
       "50%   1,863,625,019.50 1,854,106,156.50  95,670,707.50  95,803,816.50   \n",
       "75%   2,265,058,065.50 2,277,310,470.00 114,241,619.75 115,561,215.25   \n",
       "max   8,167,877,776.00 7,749,432,234.00 399,519,079.00 452,958,769.00   \n",
       "\n",
       "        google_total    mail_total  socials_total  CLUSTERS  \n",
       "count       3,810.00      3,810.00       3,810.00  3,810.00  \n",
       "mean   34,797,471.27 10,069,171.05   8,100,641.43      2.00  \n",
       "std    11,509,632.99  3,470,864.66   2,967,152.56      0.00  \n",
       "min     8,173,290.00  2,077,731.00   1,008,465.00      2.00  \n",
       "25%    27,274,012.00  7,836,467.00   6,184,347.50      2.00  \n",
       "50%    33,306,444.50  9,640,827.00   7,773,117.50      2.00  \n",
       "75%    39,913,943.50 11,683,890.00   9,654,490.00      2.00  \n",
       "max   152,191,852.00 42,418,782.00  43,374,779.00      2.00  "
      ]
     },
     "execution_count": 94,
     "metadata": {},
     "output_type": "execute_result"
    }
   ],
   "source": [
    "engagement_cluster_2.describe()"
   ]
  },
  {
   "cell_type": "code",
   "execution_count": 95,
   "metadata": {},
   "outputs": [],
   "source": [
    "pd.options.display.float_format = '{:,.2f}'.format\n",
    "average_measures = engagement2.iloc[:,2:].groupby(['CLUSTERS']).mean()"
   ]
  },
  {
   "cell_type": "code",
   "execution_count": 96,
   "metadata": {},
   "outputs": [
    {
     "data": {
      "text/html": [
       "<style  type=\"text/css\" >\n",
       "    #T_a7550c64_d370_11ec_b4bc_80ce62d62fd4row0_col2 {\n",
       "            background-color:  lightgreen;\n",
       "        }    #T_a7550c64_d370_11ec_b4bc_80ce62d62fd4row1_col2 {\n",
       "            background-color:  lightgreen;\n",
       "        }    #T_a7550c64_d370_11ec_b4bc_80ce62d62fd4row2_col2 {\n",
       "            background-color:  lightgreen;\n",
       "        }    #T_a7550c64_d370_11ec_b4bc_80ce62d62fd4row3_col2 {\n",
       "            background-color:  lightgreen;\n",
       "        }    #T_a7550c64_d370_11ec_b4bc_80ce62d62fd4row4_col2 {\n",
       "            background-color:  lightgreen;\n",
       "        }    #T_a7550c64_d370_11ec_b4bc_80ce62d62fd4row5_col2 {\n",
       "            background-color:  lightgreen;\n",
       "        }    #T_a7550c64_d370_11ec_b4bc_80ce62d62fd4row6_col2 {\n",
       "            background-color:  lightgreen;\n",
       "        }    #T_a7550c64_d370_11ec_b4bc_80ce62d62fd4row7_col2 {\n",
       "            background-color:  lightgreen;\n",
       "        }    #T_a7550c64_d370_11ec_b4bc_80ce62d62fd4row8_col2 {\n",
       "            background-color:  lightgreen;\n",
       "        }</style><table id=\"T_a7550c64_d370_11ec_b4bc_80ce62d62fd4\" ><thead>    <tr>        <th class=\"index_name level0\" >CLUSTERS</th>        <th class=\"col_heading level0 col0\" >0</th>        <th class=\"col_heading level0 col1\" >1</th>        <th class=\"col_heading level0 col2\" >2</th>    </tr></thead><tbody>\n",
       "                <tr>\n",
       "                        <th id=\"T_a7550c64_d370_11ec_b4bc_80ce62d62fd4level0_row0\" class=\"row_heading level0 row0\" >total_duration</th>\n",
       "                        <td id=\"T_a7550c64_d370_11ec_b4bc_80ce62d62fd4row0_col0\" class=\"data row0 col0\" >104,356,468.69</td>\n",
       "                        <td id=\"T_a7550c64_d370_11ec_b4bc_80ce62d62fd4row0_col1\" class=\"data row0 col1\" >209,877,582.26</td>\n",
       "                        <td id=\"T_a7550c64_d370_11ec_b4bc_80ce62d62fd4row0_col2\" class=\"data row0 col2\" >604,925,332.57</td>\n",
       "            </tr>\n",
       "            <tr>\n",
       "                        <th id=\"T_a7550c64_d370_11ec_b4bc_80ce62d62fd4level0_row1\" class=\"row_heading level0 row1\" >session_count</th>\n",
       "                        <td id=\"T_a7550c64_d370_11ec_b4bc_80ce62d62fd4row1_col0\" class=\"data row1 col0\" >1.01</td>\n",
       "                        <td id=\"T_a7550c64_d370_11ec_b4bc_80ce62d62fd4row1_col1\" class=\"data row1 col1\" >2.16</td>\n",
       "                        <td id=\"T_a7550c64_d370_11ec_b4bc_80ce62d62fd4row1_col2\" class=\"data row1 col2\" >4.38</td>\n",
       "            </tr>\n",
       "            <tr>\n",
       "                        <th id=\"T_a7550c64_d370_11ec_b4bc_80ce62d62fd4level0_row2\" class=\"row_heading level0 row2\" >other_total</th>\n",
       "                        <td id=\"T_a7550c64_d370_11ec_b4bc_80ce62d62fd4row2_col0\" class=\"data row2 col0\" >430,217,962.42</td>\n",
       "                        <td id=\"T_a7550c64_d370_11ec_b4bc_80ce62d62fd4row2_col1\" class=\"data row2 col1\" >930,109,893.65</td>\n",
       "                        <td id=\"T_a7550c64_d370_11ec_b4bc_80ce62d62fd4row2_col2\" class=\"data row2 col2\" >1,928,023,660.99</td>\n",
       "            </tr>\n",
       "            <tr>\n",
       "                        <th id=\"T_a7550c64_d370_11ec_b4bc_80ce62d62fd4level0_row3\" class=\"row_heading level0 row3\" >gaming_total</th>\n",
       "                        <td id=\"T_a7550c64_d370_11ec_b4bc_80ce62d62fd4row3_col0\" class=\"data row3 col0\" >432,135,222.33</td>\n",
       "                        <td id=\"T_a7550c64_d370_11ec_b4bc_80ce62d62fd4row3_col1\" class=\"data row3 col1\" >929,057,726.81</td>\n",
       "                        <td id=\"T_a7550c64_d370_11ec_b4bc_80ce62d62fd4row3_col2\" class=\"data row3 col2\" >1,932,062,209.16</td>\n",
       "            </tr>\n",
       "            <tr>\n",
       "                        <th id=\"T_a7550c64_d370_11ec_b4bc_80ce62d62fd4level0_row4\" class=\"row_heading level0 row4\" >netflix_total</th>\n",
       "                        <td id=\"T_a7550c64_d370_11ec_b4bc_80ce62d62fd4row4_col0\" class=\"data row4 col0\" >22,738,323.47</td>\n",
       "                        <td id=\"T_a7550c64_d370_11ec_b4bc_80ce62d62fd4row4_col1\" class=\"data row4 col1\" >49,053,152.32</td>\n",
       "                        <td id=\"T_a7550c64_d370_11ec_b4bc_80ce62d62fd4row4_col2\" class=\"data row4 col2\" >99,982,260.27</td>\n",
       "            </tr>\n",
       "            <tr>\n",
       "                        <th id=\"T_a7550c64_d370_11ec_b4bc_80ce62d62fd4level0_row5\" class=\"row_heading level0 row5\" >yt_total</th>\n",
       "                        <td id=\"T_a7550c64_d370_11ec_b4bc_80ce62d62fd4row5_col0\" class=\"data row5 col0\" >22,787,653.83</td>\n",
       "                        <td id=\"T_a7550c64_d370_11ec_b4bc_80ce62d62fd4row5_col1\" class=\"data row5 col1\" >48,850,458.86</td>\n",
       "                        <td id=\"T_a7550c64_d370_11ec_b4bc_80ce62d62fd4row5_col2\" class=\"data row5 col2\" >100,793,224.46</td>\n",
       "            </tr>\n",
       "            <tr>\n",
       "                        <th id=\"T_a7550c64_d370_11ec_b4bc_80ce62d62fd4level0_row6\" class=\"row_heading level0 row6\" >google_total</th>\n",
       "                        <td id=\"T_a7550c64_d370_11ec_b4bc_80ce62d62fd4row6_col0\" class=\"data row6 col0\" >7,849,014.45</td>\n",
       "                        <td id=\"T_a7550c64_d370_11ec_b4bc_80ce62d62fd4row6_col1\" class=\"data row6 col1\" >16,868,594.78</td>\n",
       "                        <td id=\"T_a7550c64_d370_11ec_b4bc_80ce62d62fd4row6_col2\" class=\"data row6 col2\" >34,797,471.27</td>\n",
       "            </tr>\n",
       "            <tr>\n",
       "                        <th id=\"T_a7550c64_d370_11ec_b4bc_80ce62d62fd4level0_row7\" class=\"row_heading level0 row7\" >mail_total</th>\n",
       "                        <td id=\"T_a7550c64_d370_11ec_b4bc_80ce62d62fd4row7_col0\" class=\"data row7 col0\" >2,273,460.54</td>\n",
       "                        <td id=\"T_a7550c64_d370_11ec_b4bc_80ce62d62fd4row7_col1\" class=\"data row7 col1\" >4,872,911.08</td>\n",
       "                        <td id=\"T_a7550c64_d370_11ec_b4bc_80ce62d62fd4row7_col2\" class=\"data row7 col2\" >10,069,171.05</td>\n",
       "            </tr>\n",
       "            <tr>\n",
       "                        <th id=\"T_a7550c64_d370_11ec_b4bc_80ce62d62fd4level0_row8\" class=\"row_heading level0 row8\" >socials_total</th>\n",
       "                        <td id=\"T_a7550c64_d370_11ec_b4bc_80ce62d62fd4row8_col0\" class=\"data row8 col0\" >1,835,439.93</td>\n",
       "                        <td id=\"T_a7550c64_d370_11ec_b4bc_80ce62d62fd4row8_col1\" class=\"data row8 col1\" >3,963,620.98</td>\n",
       "                        <td id=\"T_a7550c64_d370_11ec_b4bc_80ce62d62fd4row8_col2\" class=\"data row8 col2\" >8,100,641.43</td>\n",
       "            </tr>\n",
       "    </tbody></table>"
      ],
      "text/plain": [
       "<pandas.io.formats.style.Styler at 0x235abb45f60>"
      ]
     },
     "execution_count": 96,
     "metadata": {},
     "output_type": "execute_result"
    }
   ],
   "source": [
    "average_measures.T.style.highlight_max(color = 'lightgreen', axis = 1).format(\"{:,.2f}\")"
   ]
  },
  {
   "cell_type": "code",
   "execution_count": 97,
   "metadata": {},
   "outputs": [
    {
     "data": {
      "text/html": [
       "<style  type=\"text/css\" >\n",
       "    #T_a7abf5ee_d370_11ec_8286_80ce62d62fd4row0_col0 {\n",
       "            background-color:  pink;\n",
       "        }    #T_a7abf5ee_d370_11ec_8286_80ce62d62fd4row1_col0 {\n",
       "            background-color:  pink;\n",
       "        }    #T_a7abf5ee_d370_11ec_8286_80ce62d62fd4row2_col0 {\n",
       "            background-color:  pink;\n",
       "        }    #T_a7abf5ee_d370_11ec_8286_80ce62d62fd4row3_col0 {\n",
       "            background-color:  pink;\n",
       "        }    #T_a7abf5ee_d370_11ec_8286_80ce62d62fd4row4_col0 {\n",
       "            background-color:  pink;\n",
       "        }    #T_a7abf5ee_d370_11ec_8286_80ce62d62fd4row5_col0 {\n",
       "            background-color:  pink;\n",
       "        }    #T_a7abf5ee_d370_11ec_8286_80ce62d62fd4row6_col0 {\n",
       "            background-color:  pink;\n",
       "        }    #T_a7abf5ee_d370_11ec_8286_80ce62d62fd4row7_col0 {\n",
       "            background-color:  pink;\n",
       "        }    #T_a7abf5ee_d370_11ec_8286_80ce62d62fd4row8_col0 {\n",
       "            background-color:  pink;\n",
       "        }</style><table id=\"T_a7abf5ee_d370_11ec_8286_80ce62d62fd4\" ><thead>    <tr>        <th class=\"index_name level0\" >CLUSTERS</th>        <th class=\"col_heading level0 col0\" >0</th>        <th class=\"col_heading level0 col1\" >1</th>        <th class=\"col_heading level0 col2\" >2</th>    </tr></thead><tbody>\n",
       "                <tr>\n",
       "                        <th id=\"T_a7abf5ee_d370_11ec_8286_80ce62d62fd4level0_row0\" class=\"row_heading level0 row0\" >total_duration</th>\n",
       "                        <td id=\"T_a7abf5ee_d370_11ec_8286_80ce62d62fd4row0_col0\" class=\"data row0 col0\" >104,356,468.69</td>\n",
       "                        <td id=\"T_a7abf5ee_d370_11ec_8286_80ce62d62fd4row0_col1\" class=\"data row0 col1\" >209,877,582.26</td>\n",
       "                        <td id=\"T_a7abf5ee_d370_11ec_8286_80ce62d62fd4row0_col2\" class=\"data row0 col2\" >604,925,332.57</td>\n",
       "            </tr>\n",
       "            <tr>\n",
       "                        <th id=\"T_a7abf5ee_d370_11ec_8286_80ce62d62fd4level0_row1\" class=\"row_heading level0 row1\" >session_count</th>\n",
       "                        <td id=\"T_a7abf5ee_d370_11ec_8286_80ce62d62fd4row1_col0\" class=\"data row1 col0\" >1.01</td>\n",
       "                        <td id=\"T_a7abf5ee_d370_11ec_8286_80ce62d62fd4row1_col1\" class=\"data row1 col1\" >2.16</td>\n",
       "                        <td id=\"T_a7abf5ee_d370_11ec_8286_80ce62d62fd4row1_col2\" class=\"data row1 col2\" >4.38</td>\n",
       "            </tr>\n",
       "            <tr>\n",
       "                        <th id=\"T_a7abf5ee_d370_11ec_8286_80ce62d62fd4level0_row2\" class=\"row_heading level0 row2\" >other_total</th>\n",
       "                        <td id=\"T_a7abf5ee_d370_11ec_8286_80ce62d62fd4row2_col0\" class=\"data row2 col0\" >430,217,962.42</td>\n",
       "                        <td id=\"T_a7abf5ee_d370_11ec_8286_80ce62d62fd4row2_col1\" class=\"data row2 col1\" >930,109,893.65</td>\n",
       "                        <td id=\"T_a7abf5ee_d370_11ec_8286_80ce62d62fd4row2_col2\" class=\"data row2 col2\" >1,928,023,660.99</td>\n",
       "            </tr>\n",
       "            <tr>\n",
       "                        <th id=\"T_a7abf5ee_d370_11ec_8286_80ce62d62fd4level0_row3\" class=\"row_heading level0 row3\" >gaming_total</th>\n",
       "                        <td id=\"T_a7abf5ee_d370_11ec_8286_80ce62d62fd4row3_col0\" class=\"data row3 col0\" >432,135,222.33</td>\n",
       "                        <td id=\"T_a7abf5ee_d370_11ec_8286_80ce62d62fd4row3_col1\" class=\"data row3 col1\" >929,057,726.81</td>\n",
       "                        <td id=\"T_a7abf5ee_d370_11ec_8286_80ce62d62fd4row3_col2\" class=\"data row3 col2\" >1,932,062,209.16</td>\n",
       "            </tr>\n",
       "            <tr>\n",
       "                        <th id=\"T_a7abf5ee_d370_11ec_8286_80ce62d62fd4level0_row4\" class=\"row_heading level0 row4\" >netflix_total</th>\n",
       "                        <td id=\"T_a7abf5ee_d370_11ec_8286_80ce62d62fd4row4_col0\" class=\"data row4 col0\" >22,738,323.47</td>\n",
       "                        <td id=\"T_a7abf5ee_d370_11ec_8286_80ce62d62fd4row4_col1\" class=\"data row4 col1\" >49,053,152.32</td>\n",
       "                        <td id=\"T_a7abf5ee_d370_11ec_8286_80ce62d62fd4row4_col2\" class=\"data row4 col2\" >99,982,260.27</td>\n",
       "            </tr>\n",
       "            <tr>\n",
       "                        <th id=\"T_a7abf5ee_d370_11ec_8286_80ce62d62fd4level0_row5\" class=\"row_heading level0 row5\" >yt_total</th>\n",
       "                        <td id=\"T_a7abf5ee_d370_11ec_8286_80ce62d62fd4row5_col0\" class=\"data row5 col0\" >22,787,653.83</td>\n",
       "                        <td id=\"T_a7abf5ee_d370_11ec_8286_80ce62d62fd4row5_col1\" class=\"data row5 col1\" >48,850,458.86</td>\n",
       "                        <td id=\"T_a7abf5ee_d370_11ec_8286_80ce62d62fd4row5_col2\" class=\"data row5 col2\" >100,793,224.46</td>\n",
       "            </tr>\n",
       "            <tr>\n",
       "                        <th id=\"T_a7abf5ee_d370_11ec_8286_80ce62d62fd4level0_row6\" class=\"row_heading level0 row6\" >google_total</th>\n",
       "                        <td id=\"T_a7abf5ee_d370_11ec_8286_80ce62d62fd4row6_col0\" class=\"data row6 col0\" >7,849,014.45</td>\n",
       "                        <td id=\"T_a7abf5ee_d370_11ec_8286_80ce62d62fd4row6_col1\" class=\"data row6 col1\" >16,868,594.78</td>\n",
       "                        <td id=\"T_a7abf5ee_d370_11ec_8286_80ce62d62fd4row6_col2\" class=\"data row6 col2\" >34,797,471.27</td>\n",
       "            </tr>\n",
       "            <tr>\n",
       "                        <th id=\"T_a7abf5ee_d370_11ec_8286_80ce62d62fd4level0_row7\" class=\"row_heading level0 row7\" >mail_total</th>\n",
       "                        <td id=\"T_a7abf5ee_d370_11ec_8286_80ce62d62fd4row7_col0\" class=\"data row7 col0\" >2,273,460.54</td>\n",
       "                        <td id=\"T_a7abf5ee_d370_11ec_8286_80ce62d62fd4row7_col1\" class=\"data row7 col1\" >4,872,911.08</td>\n",
       "                        <td id=\"T_a7abf5ee_d370_11ec_8286_80ce62d62fd4row7_col2\" class=\"data row7 col2\" >10,069,171.05</td>\n",
       "            </tr>\n",
       "            <tr>\n",
       "                        <th id=\"T_a7abf5ee_d370_11ec_8286_80ce62d62fd4level0_row8\" class=\"row_heading level0 row8\" >socials_total</th>\n",
       "                        <td id=\"T_a7abf5ee_d370_11ec_8286_80ce62d62fd4row8_col0\" class=\"data row8 col0\" >1,835,439.93</td>\n",
       "                        <td id=\"T_a7abf5ee_d370_11ec_8286_80ce62d62fd4row8_col1\" class=\"data row8 col1\" >3,963,620.98</td>\n",
       "                        <td id=\"T_a7abf5ee_d370_11ec_8286_80ce62d62fd4row8_col2\" class=\"data row8 col2\" >8,100,641.43</td>\n",
       "            </tr>\n",
       "    </tbody></table>"
      ],
      "text/plain": [
       "<pandas.io.formats.style.Styler at 0x235abd5fbe0>"
      ]
     },
     "execution_count": 97,
     "metadata": {},
     "output_type": "execute_result"
    }
   ],
   "source": [
    "average_measures.T.style.highlight_min(color = 'pink', axis = 1).format(\"{:,.2f}\")"
   ]
  },
  {
   "cell_type": "code",
   "execution_count": 98,
   "metadata": {},
   "outputs": [],
   "source": [
    "#saving our results to a pickle file\n",
    "results.save_data('../data/engagement_results.pickle')"
   ]
  },
  {
   "cell_type": "code",
   "execution_count": 99,
   "metadata": {},
   "outputs": [
    {
     "data": {
      "text/plain": [
       "array([[9.99296320e-01, 3.73472167e-02, 3.47126575e-03, 2.97400753e-11],\n",
       "       [9.99901122e-01, 1.29869399e-02, 5.39308455e-03, 2.97580748e-11],\n",
       "       [9.99465184e-01, 3.24534803e-02, 4.01467754e-03, 2.97451001e-11],\n",
       "       ...,\n",
       "       [9.99999938e-01, 2.18891917e-04, 2.74438393e-04, 3.12791182e-13],\n",
       "       [1.00000000e+00, 2.19775015e-06, 7.50831375e-07, 2.96735872e-15],\n",
       "       [1.00000000e+00, 5.98725178e-07, 9.85774082e-07, 1.13327661e-15]])"
      ]
     },
     "execution_count": 99,
     "metadata": {},
     "output_type": "execute_result"
    }
   ],
   "source": [
    "normalized_data"
   ]
  },
  {
   "cell_type": "code",
   "execution_count": 100,
   "metadata": {},
   "outputs": [],
   "source": [
    "engagement_normalized = pd.DataFrame(normalized_data, columns=['MSISDN','total_data','total_duration','session_count'])"
   ]
  },
  {
   "cell_type": "code",
   "execution_count": 101,
   "metadata": {},
   "outputs": [
    {
     "data": {
      "text/html": [
       "<div>\n",
       "<style scoped>\n",
       "    .dataframe tbody tr th:only-of-type {\n",
       "        vertical-align: middle;\n",
       "    }\n",
       "\n",
       "    .dataframe tbody tr th {\n",
       "        vertical-align: top;\n",
       "    }\n",
       "\n",
       "    .dataframe thead th {\n",
       "        text-align: right;\n",
       "    }\n",
       "</style>\n",
       "<table border=\"1\" class=\"dataframe\">\n",
       "  <thead>\n",
       "    <tr style=\"text-align: right;\">\n",
       "      <th></th>\n",
       "      <th>MSISDN</th>\n",
       "      <th>total_data</th>\n",
       "      <th>total_duration</th>\n",
       "      <th>session_count</th>\n",
       "    </tr>\n",
       "  </thead>\n",
       "  <tbody>\n",
       "    <tr>\n",
       "      <td>0</td>\n",
       "      <td>1.00</td>\n",
       "      <td>0.04</td>\n",
       "      <td>0.00</td>\n",
       "      <td>0.00</td>\n",
       "    </tr>\n",
       "    <tr>\n",
       "      <td>1</td>\n",
       "      <td>1.00</td>\n",
       "      <td>0.01</td>\n",
       "      <td>0.01</td>\n",
       "      <td>0.00</td>\n",
       "    </tr>\n",
       "    <tr>\n",
       "      <td>2</td>\n",
       "      <td>1.00</td>\n",
       "      <td>0.03</td>\n",
       "      <td>0.00</td>\n",
       "      <td>0.00</td>\n",
       "    </tr>\n",
       "    <tr>\n",
       "      <td>3</td>\n",
       "      <td>1.00</td>\n",
       "      <td>0.01</td>\n",
       "      <td>0.00</td>\n",
       "      <td>0.00</td>\n",
       "    </tr>\n",
       "    <tr>\n",
       "      <td>4</td>\n",
       "      <td>1.00</td>\n",
       "      <td>0.07</td>\n",
       "      <td>0.00</td>\n",
       "      <td>0.00</td>\n",
       "    </tr>\n",
       "  </tbody>\n",
       "</table>\n",
       "</div>"
      ],
      "text/plain": [
       "   MSISDN  total_data  total_duration  session_count\n",
       "0    1.00        0.04            0.00           0.00\n",
       "1    1.00        0.01            0.01           0.00\n",
       "2    1.00        0.03            0.00           0.00\n",
       "3    1.00        0.01            0.00           0.00\n",
       "4    1.00        0.07            0.00           0.00"
      ]
     },
     "execution_count": 101,
     "metadata": {},
     "output_type": "execute_result"
    }
   ],
   "source": [
    "engagement_normalized .head()"
   ]
  },
  {
   "cell_type": "code",
   "execution_count": 102,
   "metadata": {},
   "outputs": [
    {
     "data": {
      "text/plain": [
       "array([[9.99615529e-01, 2.59326565e-02, 3.21799066e-03, 3.13791393e-11],\n",
       "       [9.92306726e-01, 1.17472729e-01, 1.56727598e-02, 1.18362870e-10],\n",
       "       [9.98285422e-01, 5.68149065e-02, 5.43864352e-03, 5.52081640e-11]])"
      ]
     },
     "execution_count": 102,
     "metadata": {},
     "output_type": "execute_result"
    }
   ],
   "source": [
    "model1_centroids"
   ]
  },
  {
   "cell_type": "code",
   "execution_count": 103,
   "metadata": {},
   "outputs": [],
   "source": [
    "centroids_df = pd.DataFrame(model1_centroids, columns=['MSISDN','total_data','total_duration','session_count'])\n"
   ]
  },
  {
   "cell_type": "code",
   "execution_count": 104,
   "metadata": {},
   "outputs": [
    {
     "data": {
      "text/html": [
       "<div>\n",
       "<style scoped>\n",
       "    .dataframe tbody tr th:only-of-type {\n",
       "        vertical-align: middle;\n",
       "    }\n",
       "\n",
       "    .dataframe tbody tr th {\n",
       "        vertical-align: top;\n",
       "    }\n",
       "\n",
       "    .dataframe thead th {\n",
       "        text-align: right;\n",
       "    }\n",
       "</style>\n",
       "<table border=\"1\" class=\"dataframe\">\n",
       "  <thead>\n",
       "    <tr style=\"text-align: right;\">\n",
       "      <th></th>\n",
       "      <th>MSISDN</th>\n",
       "      <th>total_data</th>\n",
       "      <th>total_duration</th>\n",
       "      <th>session_count</th>\n",
       "    </tr>\n",
       "  </thead>\n",
       "  <tbody>\n",
       "    <tr>\n",
       "      <td>0</td>\n",
       "      <td>1.00</td>\n",
       "      <td>0.03</td>\n",
       "      <td>0.00</td>\n",
       "      <td>0.00</td>\n",
       "    </tr>\n",
       "    <tr>\n",
       "      <td>1</td>\n",
       "      <td>0.99</td>\n",
       "      <td>0.12</td>\n",
       "      <td>0.02</td>\n",
       "      <td>0.00</td>\n",
       "    </tr>\n",
       "  </tbody>\n",
       "</table>\n",
       "</div>"
      ],
      "text/plain": [
       "   MSISDN  total_data  total_duration  session_count\n",
       "0    1.00        0.03            0.00           0.00\n",
       "1    0.99        0.12            0.02           0.00"
      ]
     },
     "execution_count": 104,
     "metadata": {},
     "output_type": "execute_result"
    }
   ],
   "source": [
    "centroids_df.head(2)"
   ]
  },
  {
   "cell_type": "code",
   "execution_count": 105,
   "metadata": {},
   "outputs": [],
   "source": [
    "centroids_df.to_csv('../data/engagement_centroid.csv')"
   ]
  },
  {
   "cell_type": "code",
   "execution_count": 106,
   "metadata": {},
   "outputs": [],
   "source": [
    "engagement_normalized.to_csv('../data/engagement_cluster.csv')"
   ]
  },
  {
   "cell_type": "code",
   "execution_count": null,
   "metadata": {},
   "outputs": [],
   "source": []
  }
 ],
 "metadata": {
  "kernelspec": {
   "display_name": "Python 3",
   "language": "python",
   "name": "python3"
  },
  "language_info": {
   "codemirror_mode": {
    "name": "ipython",
    "version": 3
   },
   "file_extension": ".py",
   "mimetype": "text/x-python",
   "name": "python",
   "nbconvert_exporter": "python",
   "pygments_lexer": "ipython3",
   "version": "3.7.3"
  }
 },
 "nbformat": 4,
 "nbformat_minor": 2
}
