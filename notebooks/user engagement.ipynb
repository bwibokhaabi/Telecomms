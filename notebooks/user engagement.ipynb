{
 "cells": [
  {
   "cell_type": "markdown",
   "metadata": {},
   "source": [
    "Task 2 - User Engagement analysis\n",
    "\n",
    "As telecom brands are the data providers of all online activities, meeting user requirements, and creating an engaging user experience is a prerequisite for them. Building & improving the QoS (Quality of Service) to leverage the mobile platforms and to get more users for the business is good but the success of the business would be determined by the user engagement and activity of the customers on available apps. \n",
    "\n",
    "In telecommunication, tracking the user activities on the database sessions is a good starting point to appreciate the user engagement for the overall applications and per application as well. If we can determine the level of engagement of a random user for any application, then it could help the technical teams of the business to know where to concentrate network resources for different clusters of customers based on the engagement scores.\n",
    "\n",
    "In the current dataset you’re expected to track the user’s engagement using the following engagement metrics: \n",
    "sessions frequency \n",
    "\n",
    "the duration of the session \n",
    "\n",
    "the sessions total traffic (download and upload (bytes))\n",
    "\n",
    "Task 2.1 - Based on the above submit python script and slide :\n",
    "\n",
    "1.Aggregate the above metrics per customer id (MSISDN) and report the top 10 customers per engagement metric \n",
    "\n",
    "2.Normalize each engagement metric and run a k-means (k=3) to classify customers in three groups of engagement. \n",
    "\n",
    "3.Compute the minimum, maximum, average & total non- normalized metrics for each cluster. Interpret your results visually with accompanying text explaining your findings.\n",
    "\n",
    "4.Aggregate user total traffic per application and derive the top 10 most engaged users per application\n",
    "\n",
    "5.Plot the top 3 most used applications using appropriate charts. \n",
    "\n",
    "6.Using k-means clustering algorithm, group users in k engagement clusters based on the engagement metrics: \n",
    "What is the optimized value of k (use elbow method for this)?  \n",
    "Interpret your findings. \n",
    "\n"
   ]
  },
  {
   "cell_type": "code",
   "execution_count": 1,
   "metadata": {},
   "outputs": [],
   "source": [
    "import numpy as np\n",
    "import pandas as pd\n",
    "pd.set_option('display.float_format', lambda x: '%.0f' % x)\n",
    "pd.set_option('display.max_columns', None)"
   ]
  },
  {
   "cell_type": "code",
   "execution_count": 2,
   "metadata": {},
   "outputs": [],
   "source": [
    "df=pd.read_csv('../data/to_trasform.csv')"
   ]
  },
  {
   "cell_type": "code",
   "execution_count": 3,
   "metadata": {},
   "outputs": [
    {
     "data": {
      "text/html": [
       "<div>\n",
       "<style scoped>\n",
       "    .dataframe tbody tr th:only-of-type {\n",
       "        vertical-align: middle;\n",
       "    }\n",
       "\n",
       "    .dataframe tbody tr th {\n",
       "        vertical-align: top;\n",
       "    }\n",
       "\n",
       "    .dataframe thead th {\n",
       "        text-align: right;\n",
       "    }\n",
       "</style>\n",
       "<table border=\"1\" class=\"dataframe\">\n",
       "  <thead>\n",
       "    <tr style=\"text-align: right;\">\n",
       "      <th></th>\n",
       "      <th>Unnamed: 0</th>\n",
       "      <th>Bearer_Id</th>\n",
       "      <th>Dur. (ms)</th>\n",
       "      <th>IMSI</th>\n",
       "      <th>MSISDN</th>\n",
       "      <th>IMEI</th>\n",
       "      <th>last_location</th>\n",
       "      <th>avg_rtt_dl</th>\n",
       "      <th>avg_rtt_ul</th>\n",
       "      <th>throughput_avg_dl_kpbs</th>\n",
       "      <th>throughput_avg_ul_kpbs</th>\n",
       "      <th>retrans_packets_dl_b</th>\n",
       "      <th>retrans_packets_ul_b</th>\n",
       "      <th>tp_dl_below_50kbps_pc</th>\n",
       "      <th>tp_dl_50_250kbps_pc</th>\n",
       "      <th>tp_dl_250kbps_1mbps_pc</th>\n",
       "      <th>tp_dl_above_1mbps_pc</th>\n",
       "      <th>tp_ul_below_10kpbs_pc</th>\n",
       "      <th>tp_ul_10_50_kbps_pc</th>\n",
       "      <th>tp_ul_50_300_kbps_pc</th>\n",
       "      <th>tp_ul_above_300_kpbs_pc</th>\n",
       "      <th>activity_duration_dl</th>\n",
       "      <th>activity_duration_ul</th>\n",
       "      <th>Dur. (ms).1</th>\n",
       "      <th>phone_company</th>\n",
       "      <th>phone_name</th>\n",
       "      <th>t_vol_dl_above_6250B</th>\n",
       "      <th>t_vol_ul_above_1250B</th>\n",
       "      <th>socials_dl_b</th>\n",
       "      <th>socials_ul_b</th>\n",
       "      <th>google_dl_b</th>\n",
       "      <th>google_ul_b</th>\n",
       "      <th>email_dl_b</th>\n",
       "      <th>email_ul_b</th>\n",
       "      <th>youtube_dl_b</th>\n",
       "      <th>youtube_ul_b</th>\n",
       "      <th>netflix_dl_b</th>\n",
       "      <th>netflix_ul_b</th>\n",
       "      <th>gaming_dl_b</th>\n",
       "      <th>gaming_ul_b</th>\n",
       "      <th>other_dl_b</th>\n",
       "      <th>other_ul_b</th>\n",
       "      <th>Total_ul_b</th>\n",
       "      <th>Total_dl_b</th>\n",
       "      <th>total_ul_data</th>\n",
       "      <th>total_dl_data</th>\n",
       "      <th>socials_total_b</th>\n",
       "      <th>google_total_b</th>\n",
       "      <th>email_total_b</th>\n",
       "      <th>youtube_total_b</th>\n",
       "      <th>netflix_total_b</th>\n",
       "      <th>gaming_total_b</th>\n",
       "      <th>other_total_b</th>\n",
       "      <th>total_b</th>\n",
       "    </tr>\n",
       "  </thead>\n",
       "  <tbody>\n",
       "    <tr>\n",
       "      <td>0</td>\n",
       "      <td>0</td>\n",
       "      <td>13114483460844900352</td>\n",
       "      <td>1823652</td>\n",
       "      <td>208201448079117</td>\n",
       "      <td>33664962239</td>\n",
       "      <td>35521209507511</td>\n",
       "      <td>9.16456699548519E+015</td>\n",
       "      <td>42</td>\n",
       "      <td>5</td>\n",
       "      <td>23</td>\n",
       "      <td>44</td>\n",
       "      <td>20884183</td>\n",
       "      <td>766247</td>\n",
       "      <td>100</td>\n",
       "      <td>0</td>\n",
       "      <td>0</td>\n",
       "      <td>0</td>\n",
       "      <td>100</td>\n",
       "      <td>0</td>\n",
       "      <td>0</td>\n",
       "      <td>0</td>\n",
       "      <td>37624</td>\n",
       "      <td>38787</td>\n",
       "      <td>1823652892</td>\n",
       "      <td>Samsung</td>\n",
       "      <td>Samsung Galaxy A5 Sm-A520F</td>\n",
       "      <td>213</td>\n",
       "      <td>214</td>\n",
       "      <td>1545765</td>\n",
       "      <td>24420</td>\n",
       "      <td>1634479</td>\n",
       "      <td>1271433</td>\n",
       "      <td>3563542</td>\n",
       "      <td>137762</td>\n",
       "      <td>15854611</td>\n",
       "      <td>2501332</td>\n",
       "      <td>8198936</td>\n",
       "      <td>9656251</td>\n",
       "      <td>278082303</td>\n",
       "      <td>14344150</td>\n",
       "      <td>171744450</td>\n",
       "      <td>8814393</td>\n",
       "      <td>36749741</td>\n",
       "      <td>308879636</td>\n",
       "      <td>36749741</td>\n",
       "      <td>480624086</td>\n",
       "      <td>1570185</td>\n",
       "      <td>2905912</td>\n",
       "      <td>3701304</td>\n",
       "      <td>18355943</td>\n",
       "      <td>17855187</td>\n",
       "      <td>292426453</td>\n",
       "      <td>180558843</td>\n",
       "      <td>345629377</td>\n",
       "    </tr>\n",
       "    <tr>\n",
       "      <td>1</td>\n",
       "      <td>1</td>\n",
       "      <td>13114483482878900224</td>\n",
       "      <td>1365104</td>\n",
       "      <td>208201909211140</td>\n",
       "      <td>33681854413</td>\n",
       "      <td>35794009006359</td>\n",
       "      <td>L77566A</td>\n",
       "      <td>65</td>\n",
       "      <td>5</td>\n",
       "      <td>16</td>\n",
       "      <td>26</td>\n",
       "      <td>20884183</td>\n",
       "      <td>766247</td>\n",
       "      <td>100</td>\n",
       "      <td>0</td>\n",
       "      <td>0</td>\n",
       "      <td>0</td>\n",
       "      <td>100</td>\n",
       "      <td>0</td>\n",
       "      <td>0</td>\n",
       "      <td>0</td>\n",
       "      <td>168</td>\n",
       "      <td>3560</td>\n",
       "      <td>1365104371</td>\n",
       "      <td>Samsung</td>\n",
       "      <td>Samsung Galaxy J5 (Sm-J530)</td>\n",
       "      <td>971</td>\n",
       "      <td>1022</td>\n",
       "      <td>1926113</td>\n",
       "      <td>7165</td>\n",
       "      <td>3493924</td>\n",
       "      <td>920172</td>\n",
       "      <td>629046</td>\n",
       "      <td>308339</td>\n",
       "      <td>20247395</td>\n",
       "      <td>19111729</td>\n",
       "      <td>18338413</td>\n",
       "      <td>17227132</td>\n",
       "      <td>608750074</td>\n",
       "      <td>1170709</td>\n",
       "      <td>526904238</td>\n",
       "      <td>15055145</td>\n",
       "      <td>53800391</td>\n",
       "      <td>653384965</td>\n",
       "      <td>53800391</td>\n",
       "      <td>1180289203</td>\n",
       "      <td>1933278</td>\n",
       "      <td>4414096</td>\n",
       "      <td>937385</td>\n",
       "      <td>39359124</td>\n",
       "      <td>35565545</td>\n",
       "      <td>609920783</td>\n",
       "      <td>541959383</td>\n",
       "      <td>707185356</td>\n",
       "    </tr>\n",
       "  </tbody>\n",
       "</table>\n",
       "</div>"
      ],
      "text/plain": [
       "   Unnamed: 0            Bearer_Id  Dur. (ms)            IMSI      MSISDN  \\\n",
       "0           0 13114483460844900352    1823652 208201448079117 33664962239   \n",
       "1           1 13114483482878900224    1365104 208201909211140 33681854413   \n",
       "\n",
       "            IMEI          last_location  avg_rtt_dl  avg_rtt_ul  \\\n",
       "0 35521209507511  9.16456699548519E+015          42           5   \n",
       "1 35794009006359                L77566A          65           5   \n",
       "\n",
       "   throughput_avg_dl_kpbs  throughput_avg_ul_kpbs  retrans_packets_dl_b  \\\n",
       "0                      23                      44              20884183   \n",
       "1                      16                      26              20884183   \n",
       "\n",
       "   retrans_packets_ul_b  tp_dl_below_50kbps_pc  tp_dl_50_250kbps_pc  \\\n",
       "0                766247                    100                    0   \n",
       "1                766247                    100                    0   \n",
       "\n",
       "   tp_dl_250kbps_1mbps_pc    tp_dl_above_1mbps_pc  tp_ul_below_10kpbs_pc  \\\n",
       "0                        0                      0                    100   \n",
       "1                        0                      0                    100   \n",
       "\n",
       "   tp_ul_10_50_kbps_pc   tp_ul_50_300_kbps_pc      tp_ul_above_300_kpbs_pc  \\\n",
       "0                     0                       0                          0   \n",
       "1                     0                       0                          0   \n",
       "\n",
       "   activity_duration_dl  activity_duration_ul  Dur. (ms).1 phone_company  \\\n",
       "0                 37624                 38787   1823652892       Samsung   \n",
       "1                   168                  3560   1365104371       Samsung   \n",
       "\n",
       "                    phone_name  t_vol_dl_above_6250B   t_vol_ul_above_1250B  \\\n",
       "0   Samsung Galaxy A5 Sm-A520F                    213                   214   \n",
       "1  Samsung Galaxy J5 (Sm-J530)                    971                  1022   \n",
       "\n",
       "   socials_dl_b  socials_ul_b  google_dl_b  google_ul_b  email_dl_b  \\\n",
       "0       1545765         24420      1634479      1271433     3563542   \n",
       "1       1926113          7165      3493924       920172      629046   \n",
       "\n",
       "   email_ul_b  youtube_dl_b  youtube_ul_b  netflix_dl_b  netflix_ul_b  \\\n",
       "0      137762      15854611       2501332       8198936       9656251   \n",
       "1      308339      20247395      19111729      18338413      17227132   \n",
       "\n",
       "   gaming_dl_b  gaming_ul_b  other_dl_b  other_ul_b  Total_ul_b  Total_dl_b  \\\n",
       "0    278082303     14344150   171744450     8814393    36749741   308879636   \n",
       "1    608750074      1170709   526904238    15055145    53800391   653384965   \n",
       "\n",
       "   total_ul_data  total_dl_data  socials_total_b  google_total_b  \\\n",
       "0       36749741      480624086          1570185         2905912   \n",
       "1       53800391     1180289203          1933278         4414096   \n",
       "\n",
       "   email_total_b  youtube_total_b  netflix_total_b  gaming_total_b  \\\n",
       "0        3701304         18355943         17855187       292426453   \n",
       "1         937385         39359124         35565545       609920783   \n",
       "\n",
       "   other_total_b   total_b  \n",
       "0      180558843 345629377  \n",
       "1      541959383 707185356  "
      ]
     },
     "execution_count": 3,
     "metadata": {},
     "output_type": "execute_result"
    }
   ],
   "source": [
    "df.head(2)"
   ]
  },
  {
   "cell_type": "markdown",
   "metadata": {},
   "source": [
    "In the current dataset you’re expected to track the user’s engagement using the following engagement metrics: \n",
    "\n",
    "1.sessions frequency \n",
    "\n",
    "2.the duration of the session \n",
    "\n",
    "3.the sessions total traffic (download and upload (bytes))\n",
    "\n",
    "\n",
    "\n",
    "1.Aggregate the above metrics per customer id (MSISDN) and report the top 10 customers per engagement metric "
   ]
  },
  {
   "cell_type": "code",
   "execution_count": 4,
   "metadata": {},
   "outputs": [],
   "source": [
    "session_frequency=df.groupby(['MSISDN'])[\"Dur. (ms).1\"].count().reset_index(name='session_count')"
   ]
  },
  {
   "cell_type": "code",
   "execution_count": 5,
   "metadata": {},
   "outputs": [
    {
     "data": {
      "text/html": [
       "<div>\n",
       "<style scoped>\n",
       "    .dataframe tbody tr th:only-of-type {\n",
       "        vertical-align: middle;\n",
       "    }\n",
       "\n",
       "    .dataframe tbody tr th {\n",
       "        vertical-align: top;\n",
       "    }\n",
       "\n",
       "    .dataframe thead th {\n",
       "        text-align: right;\n",
       "    }\n",
       "</style>\n",
       "<table border=\"1\" class=\"dataframe\">\n",
       "  <thead>\n",
       "    <tr style=\"text-align: right;\">\n",
       "      <th></th>\n",
       "      <th>MSISDN</th>\n",
       "      <th>session_count</th>\n",
       "    </tr>\n",
       "  </thead>\n",
       "  <tbody>\n",
       "    <tr>\n",
       "      <td>13467</td>\n",
       "      <td>33626320676</td>\n",
       "      <td>18</td>\n",
       "    </tr>\n",
       "    <tr>\n",
       "      <td>6404</td>\n",
       "      <td>33614892860</td>\n",
       "      <td>17</td>\n",
       "    </tr>\n",
       "    <tr>\n",
       "      <td>13123</td>\n",
       "      <td>33625779332</td>\n",
       "      <td>17</td>\n",
       "    </tr>\n",
       "    <tr>\n",
       "      <td>36909</td>\n",
       "      <td>33659725664</td>\n",
       "      <td>16</td>\n",
       "    </tr>\n",
       "    <tr>\n",
       "      <td>92584</td>\n",
       "      <td>33760536639</td>\n",
       "      <td>15</td>\n",
       "    </tr>\n",
       "    <tr>\n",
       "      <td>76077</td>\n",
       "      <td>33675877202</td>\n",
       "      <td>15</td>\n",
       "    </tr>\n",
       "    <tr>\n",
       "      <td>64883</td>\n",
       "      <td>33667163239</td>\n",
       "      <td>13</td>\n",
       "    </tr>\n",
       "    <tr>\n",
       "      <td>1270</td>\n",
       "      <td>33604515716</td>\n",
       "      <td>12</td>\n",
       "    </tr>\n",
       "    <tr>\n",
       "      <td>92239</td>\n",
       "      <td>33760413819</td>\n",
       "      <td>12</td>\n",
       "    </tr>\n",
       "    <tr>\n",
       "      <td>658</td>\n",
       "      <td>33603127838</td>\n",
       "      <td>12</td>\n",
       "    </tr>\n",
       "  </tbody>\n",
       "</table>\n",
       "</div>"
      ],
      "text/plain": [
       "           MSISDN  session_count\n",
       "13467 33626320676             18\n",
       "6404  33614892860             17\n",
       "13123 33625779332             17\n",
       "36909 33659725664             16\n",
       "92584 33760536639             15\n",
       "76077 33675877202             15\n",
       "64883 33667163239             13\n",
       "1270  33604515716             12\n",
       "92239 33760413819             12\n",
       "658   33603127838             12"
      ]
     },
     "execution_count": 5,
     "metadata": {},
     "output_type": "execute_result"
    }
   ],
   "source": [
    "session_frequency.sort_values(['session_count'], ascending=False).head(10)"
   ]
  },
  {
   "cell_type": "markdown",
   "metadata": {},
   "source": [
    "Aggregation by session duration"
   ]
  },
  {
   "cell_type": "code",
   "execution_count": 6,
   "metadata": {},
   "outputs": [],
   "source": [
    "session_duration=df.groupby(['MSISDN'])[\"Dur. (ms).1\"].sum().reset_index(name='total_duration')"
   ]
  },
  {
   "cell_type": "code",
   "execution_count": 7,
   "metadata": {},
   "outputs": [
    {
     "data": {
      "text/html": [
       "<div>\n",
       "<style scoped>\n",
       "    .dataframe tbody tr th:only-of-type {\n",
       "        vertical-align: middle;\n",
       "    }\n",
       "\n",
       "    .dataframe tbody tr th {\n",
       "        vertical-align: top;\n",
       "    }\n",
       "\n",
       "    .dataframe thead th {\n",
       "        text-align: right;\n",
       "    }\n",
       "</style>\n",
       "<table border=\"1\" class=\"dataframe\">\n",
       "  <thead>\n",
       "    <tr style=\"text-align: right;\">\n",
       "      <th></th>\n",
       "      <th>MSISDN</th>\n",
       "      <th>total_duration</th>\n",
       "    </tr>\n",
       "  </thead>\n",
       "  <tbody>\n",
       "    <tr>\n",
       "      <td>13123</td>\n",
       "      <td>33625779332</td>\n",
       "      <td>18553763486</td>\n",
       "    </tr>\n",
       "    <tr>\n",
       "      <td>6404</td>\n",
       "      <td>33614892860</td>\n",
       "      <td>9966905758</td>\n",
       "    </tr>\n",
       "    <tr>\n",
       "      <td>92584</td>\n",
       "      <td>33760536639</td>\n",
       "      <td>9279442000</td>\n",
       "    </tr>\n",
       "    <tr>\n",
       "      <td>13467</td>\n",
       "      <td>33626320676</td>\n",
       "      <td>8791936680</td>\n",
       "    </tr>\n",
       "    <tr>\n",
       "      <td>64883</td>\n",
       "      <td>33667163239</td>\n",
       "      <td>8744922020</td>\n",
       "    </tr>\n",
       "    <tr>\n",
       "      <td>50096</td>\n",
       "      <td>33662840755</td>\n",
       "      <td>6614274287</td>\n",
       "    </tr>\n",
       "    <tr>\n",
       "      <td>56951</td>\n",
       "      <td>33664693736</td>\n",
       "      <td>6288735771</td>\n",
       "    </tr>\n",
       "    <tr>\n",
       "      <td>658</td>\n",
       "      <td>33603127838</td>\n",
       "      <td>6287767483</td>\n",
       "    </tr>\n",
       "    <tr>\n",
       "      <td>65787</td>\n",
       "      <td>33667456716</td>\n",
       "      <td>5649885358</td>\n",
       "    </tr>\n",
       "    <tr>\n",
       "      <td>92239</td>\n",
       "      <td>33760413819</td>\n",
       "      <td>5321673794</td>\n",
       "    </tr>\n",
       "  </tbody>\n",
       "</table>\n",
       "</div>"
      ],
      "text/plain": [
       "           MSISDN  total_duration\n",
       "13123 33625779332     18553763486\n",
       "6404  33614892860      9966905758\n",
       "92584 33760536639      9279442000\n",
       "13467 33626320676      8791936680\n",
       "64883 33667163239      8744922020\n",
       "50096 33662840755      6614274287\n",
       "56951 33664693736      6288735771\n",
       "658   33603127838      6287767483\n",
       "65787 33667456716      5649885358\n",
       "92239 33760413819      5321673794"
      ]
     },
     "execution_count": 7,
     "metadata": {},
     "output_type": "execute_result"
    }
   ],
   "source": [
    "session_duration.sort_values(['total_duration'], ascending=False).head(10)"
   ]
  },
  {
   "cell_type": "markdown",
   "metadata": {},
   "source": [
    "Total upload and download"
   ]
  },
  {
   "cell_type": "code",
   "execution_count": 8,
   "metadata": {},
   "outputs": [],
   "source": [
    "df['total_dl_ul']=df['total_dl_data'] + df['total_ul_data']"
   ]
  },
  {
   "cell_type": "code",
   "execution_count": 9,
   "metadata": {},
   "outputs": [],
   "source": [
    "total_session_b=df.groupby(['MSISDN'])[\"total_dl_ul\"].sum().reset_index(name='total_data')"
   ]
  },
  {
   "cell_type": "code",
   "execution_count": 10,
   "metadata": {},
   "outputs": [
    {
     "data": {
      "text/html": [
       "<div>\n",
       "<style scoped>\n",
       "    .dataframe tbody tr th:only-of-type {\n",
       "        vertical-align: middle;\n",
       "    }\n",
       "\n",
       "    .dataframe tbody tr th {\n",
       "        vertical-align: top;\n",
       "    }\n",
       "\n",
       "    .dataframe thead th {\n",
       "        text-align: right;\n",
       "    }\n",
       "</style>\n",
       "<table border=\"1\" class=\"dataframe\">\n",
       "  <thead>\n",
       "    <tr style=\"text-align: right;\">\n",
       "      <th></th>\n",
       "      <th>MSISDN</th>\n",
       "      <th>total_data</th>\n",
       "    </tr>\n",
       "  </thead>\n",
       "  <tbody>\n",
       "    <tr>\n",
       "      <td>6404</td>\n",
       "      <td>33614892860</td>\n",
       "      <td>16341524035</td>\n",
       "    </tr>\n",
       "    <tr>\n",
       "      <td>13467</td>\n",
       "      <td>33626320676</td>\n",
       "      <td>15996644092</td>\n",
       "    </tr>\n",
       "    <tr>\n",
       "      <td>13123</td>\n",
       "      <td>33625779332</td>\n",
       "      <td>14701273330</td>\n",
       "    </tr>\n",
       "    <tr>\n",
       "      <td>76077</td>\n",
       "      <td>33675877202</td>\n",
       "      <td>14556184322</td>\n",
       "    </tr>\n",
       "    <tr>\n",
       "      <td>36909</td>\n",
       "      <td>33659725664</td>\n",
       "      <td>13888413360</td>\n",
       "    </tr>\n",
       "    <tr>\n",
       "      <td>92584</td>\n",
       "      <td>33760536639</td>\n",
       "      <td>13104812243</td>\n",
       "    </tr>\n",
       "    <tr>\n",
       "      <td>62804</td>\n",
       "      <td>33666464084</td>\n",
       "      <td>11570705616</td>\n",
       "    </tr>\n",
       "    <tr>\n",
       "      <td>30591</td>\n",
       "      <td>33658361927</td>\n",
       "      <td>11358177354</td>\n",
       "    </tr>\n",
       "    <tr>\n",
       "      <td>658</td>\n",
       "      <td>33603127838</td>\n",
       "      <td>11198899762</td>\n",
       "    </tr>\n",
       "    <tr>\n",
       "      <td>86138</td>\n",
       "      <td>33698792269</td>\n",
       "      <td>11139052121</td>\n",
       "    </tr>\n",
       "  </tbody>\n",
       "</table>\n",
       "</div>"
      ],
      "text/plain": [
       "           MSISDN  total_data\n",
       "6404  33614892860 16341524035\n",
       "13467 33626320676 15996644092\n",
       "13123 33625779332 14701273330\n",
       "76077 33675877202 14556184322\n",
       "36909 33659725664 13888413360\n",
       "92584 33760536639 13104812243\n",
       "62804 33666464084 11570705616\n",
       "30591 33658361927 11358177354\n",
       "658   33603127838 11198899762\n",
       "86138 33698792269 11139052121"
      ]
     },
     "execution_count": 10,
     "metadata": {},
     "output_type": "execute_result"
    }
   ],
   "source": [
    "total_session_b.sort_values(['total_data'], ascending=False).head(10)"
   ]
  },
  {
   "cell_type": "markdown",
   "metadata": {},
   "source": [
    "# Task 2.1 "
   ]
  },
  {
   "cell_type": "markdown",
   "metadata": {},
   "source": [
    " \n",
    "Normalize each engagement metric and run a k-means (k=3) to classify customers in three groups of engagement. \n",
    "\n",
    "Compute the minimum, maximum, average & total non- normalized metrics for each cluster. Interpret your results visually with accompanying text explaining your findings.\n",
    "\n",
    ".\n"
   ]
  },
  {
   "cell_type": "code",
   "execution_count": 11,
   "metadata": {},
   "outputs": [],
   "source": [
    "data  = pd.merge(total_session_b, session_duration, on='MSISDN', how='left')\n",
    "data  = pd.merge(data, session_frequency, on='MSISDN', how='left')"
   ]
  },
  {
   "cell_type": "code",
   "execution_count": 12,
   "metadata": {},
   "outputs": [
    {
     "data": {
      "text/html": [
       "<div>\n",
       "<style scoped>\n",
       "    .dataframe tbody tr th:only-of-type {\n",
       "        vertical-align: middle;\n",
       "    }\n",
       "\n",
       "    .dataframe tbody tr th {\n",
       "        vertical-align: top;\n",
       "    }\n",
       "\n",
       "    .dataframe thead th {\n",
       "        text-align: right;\n",
       "    }\n",
       "</style>\n",
       "<table border=\"1\" class=\"dataframe\">\n",
       "  <thead>\n",
       "    <tr style=\"text-align: right;\">\n",
       "      <th></th>\n",
       "      <th>MSISDN</th>\n",
       "      <th>total_data</th>\n",
       "      <th>total_duration</th>\n",
       "      <th>session_count</th>\n",
       "    </tr>\n",
       "  </thead>\n",
       "  <tbody>\n",
       "    <tr>\n",
       "      <td>0</td>\n",
       "      <td>33601001722</td>\n",
       "      <td>1255787564</td>\n",
       "      <td>116720140</td>\n",
       "      <td>1</td>\n",
       "    </tr>\n",
       "    <tr>\n",
       "      <td>1</td>\n",
       "      <td>33601001754</td>\n",
       "      <td>436417344</td>\n",
       "      <td>181230963</td>\n",
       "      <td>1</td>\n",
       "    </tr>\n",
       "    <tr>\n",
       "      <td>2</td>\n",
       "      <td>33601002511</td>\n",
       "      <td>1091052984</td>\n",
       "      <td>134969374</td>\n",
       "      <td>1</td>\n",
       "    </tr>\n",
       "    <tr>\n",
       "      <td>3</td>\n",
       "      <td>33601007832</td>\n",
       "      <td>447568699</td>\n",
       "      <td>49878024</td>\n",
       "      <td>1</td>\n",
       "    </tr>\n",
       "    <tr>\n",
       "      <td>4</td>\n",
       "      <td>33601008617</td>\n",
       "      <td>2235054657</td>\n",
       "      <td>37104453</td>\n",
       "      <td>2</td>\n",
       "    </tr>\n",
       "    <tr>\n",
       "      <td>5</td>\n",
       "      <td>33601010682</td>\n",
       "      <td>1095575829</td>\n",
       "      <td>253983077</td>\n",
       "      <td>2</td>\n",
       "    </tr>\n",
       "    <tr>\n",
       "      <td>6</td>\n",
       "      <td>33601011634</td>\n",
       "      <td>859918491</td>\n",
       "      <td>128360523</td>\n",
       "      <td>2</td>\n",
       "    </tr>\n",
       "    <tr>\n",
       "      <td>7</td>\n",
       "      <td>33601011959</td>\n",
       "      <td>510773383</td>\n",
       "      <td>86399977</td>\n",
       "      <td>1</td>\n",
       "    </tr>\n",
       "    <tr>\n",
       "      <td>8</td>\n",
       "      <td>33601014694</td>\n",
       "      <td>2016653584</td>\n",
       "      <td>495702147</td>\n",
       "      <td>2</td>\n",
       "    </tr>\n",
       "    <tr>\n",
       "      <td>9</td>\n",
       "      <td>33601020306</td>\n",
       "      <td>866204929</td>\n",
       "      <td>124854778</td>\n",
       "      <td>1</td>\n",
       "    </tr>\n",
       "  </tbody>\n",
       "</table>\n",
       "</div>"
      ],
      "text/plain": [
       "       MSISDN  total_data  total_duration  session_count\n",
       "0 33601001722  1255787564       116720140              1\n",
       "1 33601001754   436417344       181230963              1\n",
       "2 33601002511  1091052984       134969374              1\n",
       "3 33601007832   447568699        49878024              1\n",
       "4 33601008617  2235054657        37104453              2\n",
       "5 33601010682  1095575829       253983077              2\n",
       "6 33601011634   859918491       128360523              2\n",
       "7 33601011959   510773383        86399977              1\n",
       "8 33601014694  2016653584       495702147              2\n",
       "9 33601020306   866204929       124854778              1"
      ]
     },
     "execution_count": 12,
     "metadata": {},
     "output_type": "execute_result"
    }
   ],
   "source": [
    "data.head(10)"
   ]
  },
  {
   "cell_type": "markdown",
   "metadata": {},
   "source": [
    "# Normalization"
   ]
  },
  {
   "cell_type": "markdown",
   "metadata": {},
   "source": [
    "Normalization\n",
    "\n",
    "Scaling just changes the range of your data. Normalization is a more radical transformation. The point of normalization is to change your observations so that they can be described as a normal distribution.\n",
    "\n",
    "    Normal distribution: Also known as the \"bell curve\", this is a specific statistical distribution where a roughly equal observations fall above and below the mean, the mean and the median are the same, and there are more observations closer to the mean. The normal distribution is also known as the Gaussian distribution.\n",
    "\n",
    "In general, you'll normalize your data if you're going to be using a machine learning or statistics technique that assumes your data is normally distributed. Some examples of these include linear discriminant analysis (LDA) and Gaussian naive Bayes. (Pro tip: any method with \"Gaussian\" in the name probably assumes normality.)\n",
    "\n",
    "The method you will be using to normalize here is called the Normalizer method from sklearn. Let's take a quick peek at what normalizing some data looks like:"
   ]
  },
  {
   "cell_type": "markdown",
   "metadata": {},
   "source": [
    "# Normalize each engagement metric and run a k-means (k=3) to classify customers in three groups of engagement. "
   ]
  },
  {
   "cell_type": "code",
   "execution_count": 13,
   "metadata": {},
   "outputs": [
    {
     "name": "stderr",
     "output_type": "stream",
     "text": [
      "C:\\Users\\kachase\\Anaconda3\\lib\\site-packages\\sklearn\\utils\\validation.py:37: DeprecationWarning: distutils Version classes are deprecated. Use packaging.version instead.\n",
      "  LARGE_SPARSE_SUPPORTED = LooseVersion(scipy_version) >= '0.14.0'\n"
     ]
    }
   ],
   "source": [
    "from sklearn.preprocessing import StandardScaler, normalize\n",
    "from sklearn import decomposition\n",
    "from sklearn import metrics\n",
    "from sklearn.preprocessing import LabelEncoder\n",
    "from sklearn.cluster import KMeans \n",
    "import matplotlib.pyplot as plt"
   ]
  },
  {
   "cell_type": "code",
   "execution_count": 14,
   "metadata": {},
   "outputs": [],
   "source": [
    "from sklearn.preprocessing import Normalizer\n",
    "import seaborn as sns\n",
    "\n",
    "\n",
    "norm = Normalizer()\n",
    "    \n",
    "normalized_data = norm.fit_transform(data)\n",
    "\n",
    "\n"
   ]
  },
  {
   "cell_type": "code",
   "execution_count": 15,
   "metadata": {},
   "outputs": [
    {
     "data": {
      "text/plain": [
       "(106471, 4)"
      ]
     },
     "execution_count": 15,
     "metadata": {},
     "output_type": "execute_result"
    }
   ],
   "source": [
    "normalized_data.shape"
   ]
  },
  {
   "cell_type": "markdown",
   "metadata": {},
   "source": [
    "k-means"
   ]
  },
  {
   "cell_type": "code",
   "execution_count": 16,
   "metadata": {},
   "outputs": [
    {
     "data": {
      "text/plain": [
       "array([0, 0, 0, ..., 0, 0, 0])"
      ]
     },
     "execution_count": 16,
     "metadata": {},
     "output_type": "execute_result"
    }
   ],
   "source": [
    "kmeanModel = KMeans(n_clusters=3, random_state = 0)\n",
    "kmeanModel.fit_predict(normalized_data )\n",
    "#print(kmeans.cluster_centers_)"
   ]
  },
  {
   "cell_type": "code",
   "execution_count": 17,
   "metadata": {},
   "outputs": [
    {
     "data": {
      "text/plain": [
       "17.05467424862771"
      ]
     },
     "execution_count": 17,
     "metadata": {},
     "output_type": "execute_result"
    }
   ],
   "source": [
    "kmeanModel.inertia_"
   ]
  },
  {
   "cell_type": "code",
   "execution_count": 18,
   "metadata": {},
   "outputs": [
    {
     "data": {
      "text/plain": [
       "array([0, 0, 0, ..., 0, 0, 0])"
      ]
     },
     "execution_count": 18,
     "metadata": {},
     "output_type": "execute_result"
    }
   ],
   "source": [
    "kmeanModel.labels_"
   ]
  },
  {
   "cell_type": "code",
   "execution_count": 19,
   "metadata": {},
   "outputs": [],
   "source": [
    "features = data.copy()"
   ]
  },
  {
   "cell_type": "code",
   "execution_count": 20,
   "metadata": {},
   "outputs": [],
   "source": [
    "labels = kmeanModel.labels_\n",
    "varieties = features['MSISDN'].to_list()"
   ]
  },
  {
   "cell_type": "code",
   "execution_count": 21,
   "metadata": {},
   "outputs": [
    {
     "data": {
      "text/plain": [
       "array([[    0, 74464],\n",
       "       [    1,  4728],\n",
       "       [    2, 27279]], dtype=int64)"
      ]
     },
     "execution_count": 21,
     "metadata": {},
     "output_type": "execute_result"
    }
   ],
   "source": [
    "np.array(np.unique(labels, return_counts=True)).T"
   ]
  },
  {
   "cell_type": "code",
   "execution_count": 22,
   "metadata": {},
   "outputs": [],
   "source": [
    "data_cluster = pd.DataFrame({'CLUSTERS': labels, 'MSISDN': varieties})"
   ]
  },
  {
   "cell_type": "code",
   "execution_count": 23,
   "metadata": {},
   "outputs": [
    {
     "data": {
      "text/html": [
       "<div>\n",
       "<style scoped>\n",
       "    .dataframe tbody tr th:only-of-type {\n",
       "        vertical-align: middle;\n",
       "    }\n",
       "\n",
       "    .dataframe tbody tr th {\n",
       "        vertical-align: top;\n",
       "    }\n",
       "\n",
       "    .dataframe thead th {\n",
       "        text-align: right;\n",
       "    }\n",
       "</style>\n",
       "<table border=\"1\" class=\"dataframe\">\n",
       "  <thead>\n",
       "    <tr style=\"text-align: right;\">\n",
       "      <th></th>\n",
       "      <th>CLUSTERS</th>\n",
       "    </tr>\n",
       "  </thead>\n",
       "  <tbody>\n",
       "    <tr>\n",
       "      <td>0</td>\n",
       "      <td>74464</td>\n",
       "    </tr>\n",
       "    <tr>\n",
       "      <td>2</td>\n",
       "      <td>27279</td>\n",
       "    </tr>\n",
       "    <tr>\n",
       "      <td>1</td>\n",
       "      <td>4728</td>\n",
       "    </tr>\n",
       "  </tbody>\n",
       "</table>\n",
       "</div>"
      ],
      "text/plain": [
       "   CLUSTERS\n",
       "0     74464\n",
       "2     27279\n",
       "1      4728"
      ]
     },
     "execution_count": 23,
     "metadata": {},
     "output_type": "execute_result"
    }
   ],
   "source": [
    "data_cluster['CLUSTERS'].value_counts().to_frame()"
   ]
  },
  {
   "cell_type": "code",
   "execution_count": 79,
   "metadata": {},
   "outputs": [
    {
     "data": {
      "text/html": [
       "<div>\n",
       "<style scoped>\n",
       "    .dataframe tbody tr th:only-of-type {\n",
       "        vertical-align: middle;\n",
       "    }\n",
       "\n",
       "    .dataframe tbody tr th {\n",
       "        vertical-align: top;\n",
       "    }\n",
       "\n",
       "    .dataframe thead th {\n",
       "        text-align: right;\n",
       "    }\n",
       "</style>\n",
       "<table border=\"1\" class=\"dataframe\">\n",
       "  <thead>\n",
       "    <tr style=\"text-align: right;\">\n",
       "      <th></th>\n",
       "      <th>CLUSTERS</th>\n",
       "      <th>MSISDN</th>\n",
       "    </tr>\n",
       "  </thead>\n",
       "  <tbody>\n",
       "    <tr>\n",
       "      <td>0</td>\n",
       "      <td>0</td>\n",
       "      <td>33,601,001,722.00</td>\n",
       "    </tr>\n",
       "    <tr>\n",
       "      <td>1</td>\n",
       "      <td>0</td>\n",
       "      <td>33,601,001,754.00</td>\n",
       "    </tr>\n",
       "    <tr>\n",
       "      <td>2</td>\n",
       "      <td>0</td>\n",
       "      <td>33,601,002,511.00</td>\n",
       "    </tr>\n",
       "    <tr>\n",
       "      <td>3</td>\n",
       "      <td>0</td>\n",
       "      <td>33,601,007,832.00</td>\n",
       "    </tr>\n",
       "    <tr>\n",
       "      <td>4</td>\n",
       "      <td>2</td>\n",
       "      <td>33,601,008,617.00</td>\n",
       "    </tr>\n",
       "  </tbody>\n",
       "</table>\n",
       "</div>"
      ],
      "text/plain": [
       "   CLUSTERS            MSISDN\n",
       "0         0 33,601,001,722.00\n",
       "1         0 33,601,001,754.00\n",
       "2         0 33,601,002,511.00\n",
       "3         0 33,601,007,832.00\n",
       "4         2 33,601,008,617.00"
      ]
     },
     "execution_count": 79,
     "metadata": {},
     "output_type": "execute_result"
    }
   ],
   "source": [
    "data_cluster.head(5)"
   ]
  },
  {
   "cell_type": "code",
   "execution_count": 24,
   "metadata": {},
   "outputs": [
    {
     "data": {
      "text/html": [
       "<div>\n",
       "<style scoped>\n",
       "    .dataframe tbody tr th:only-of-type {\n",
       "        vertical-align: middle;\n",
       "    }\n",
       "\n",
       "    .dataframe tbody tr th {\n",
       "        vertical-align: top;\n",
       "    }\n",
       "\n",
       "    .dataframe thead th {\n",
       "        text-align: right;\n",
       "    }\n",
       "</style>\n",
       "<table border=\"1\" class=\"dataframe\">\n",
       "  <thead>\n",
       "    <tr style=\"text-align: right;\">\n",
       "      <th></th>\n",
       "      <th>MSISDN</th>\n",
       "      <th>total_data</th>\n",
       "      <th>total_duration</th>\n",
       "      <th>session_count</th>\n",
       "      <th>CLUSTERS</th>\n",
       "    </tr>\n",
       "  </thead>\n",
       "  <tbody>\n",
       "    <tr>\n",
       "      <td>0</td>\n",
       "      <td>33601001722</td>\n",
       "      <td>1255787564</td>\n",
       "      <td>116720140</td>\n",
       "      <td>1</td>\n",
       "      <td>0</td>\n",
       "    </tr>\n",
       "    <tr>\n",
       "      <td>1</td>\n",
       "      <td>33601001754</td>\n",
       "      <td>436417344</td>\n",
       "      <td>181230963</td>\n",
       "      <td>1</td>\n",
       "      <td>0</td>\n",
       "    </tr>\n",
       "    <tr>\n",
       "      <td>2</td>\n",
       "      <td>33601002511</td>\n",
       "      <td>1091052984</td>\n",
       "      <td>134969374</td>\n",
       "      <td>1</td>\n",
       "      <td>0</td>\n",
       "    </tr>\n",
       "    <tr>\n",
       "      <td>3</td>\n",
       "      <td>33601007832</td>\n",
       "      <td>447568699</td>\n",
       "      <td>49878024</td>\n",
       "      <td>1</td>\n",
       "      <td>0</td>\n",
       "    </tr>\n",
       "    <tr>\n",
       "      <td>4</td>\n",
       "      <td>33601008617</td>\n",
       "      <td>2235054657</td>\n",
       "      <td>37104453</td>\n",
       "      <td>2</td>\n",
       "      <td>2</td>\n",
       "    </tr>\n",
       "  </tbody>\n",
       "</table>\n",
       "</div>"
      ],
      "text/plain": [
       "       MSISDN  total_data  total_duration  session_count  CLUSTERS\n",
       "0 33601001722  1255787564       116720140              1         0\n",
       "1 33601001754   436417344       181230963              1         0\n",
       "2 33601002511  1091052984       134969374              1         0\n",
       "3 33601007832   447568699        49878024              1         0\n",
       "4 33601008617  2235054657        37104453              2         2"
      ]
     },
     "execution_count": 24,
     "metadata": {},
     "output_type": "execute_result"
    }
   ],
   "source": [
    "data2 = pd.merge(data,data_cluster, on='MSISDN')\n",
    "data2.head()"
   ]
  },
  {
   "cell_type": "markdown",
   "metadata": {},
   "source": [
    "# Compute the minimum, maximum, average & total non- normalized metrics for each cluster. Interpret your results visually with accompanying text explaining your findings."
   ]
  },
  {
   "cell_type": "code",
   "execution_count": 25,
   "metadata": {},
   "outputs": [],
   "source": [
    "data2_0 = data2[data2['CLUSTERS'] == 0]\n",
    "data2_1 = data2[data2['CLUSTERS'] == 1]\n",
    "data2_2 = data2[data2['CLUSTERS'] == 2]"
   ]
  },
  {
   "cell_type": "code",
   "execution_count": 26,
   "metadata": {},
   "outputs": [
    {
     "data": {
      "text/plain": [
       "(74464, 5)"
      ]
     },
     "execution_count": 26,
     "metadata": {},
     "output_type": "execute_result"
    }
   ],
   "source": [
    "data2_0.shape"
   ]
  },
  {
   "cell_type": "code",
   "execution_count": 27,
   "metadata": {},
   "outputs": [
    {
     "data": {
      "text/html": [
       "<div>\n",
       "<style scoped>\n",
       "    .dataframe tbody tr th:only-of-type {\n",
       "        vertical-align: middle;\n",
       "    }\n",
       "\n",
       "    .dataframe tbody tr th {\n",
       "        vertical-align: top;\n",
       "    }\n",
       "\n",
       "    .dataframe thead th {\n",
       "        text-align: right;\n",
       "    }\n",
       "</style>\n",
       "<table border=\"1\" class=\"dataframe\">\n",
       "  <thead>\n",
       "    <tr style=\"text-align: right;\">\n",
       "      <th></th>\n",
       "      <th>MSISDN</th>\n",
       "      <th>total_data</th>\n",
       "      <th>total_duration</th>\n",
       "      <th>session_count</th>\n",
       "      <th>CLUSTERS</th>\n",
       "    </tr>\n",
       "  </thead>\n",
       "  <tbody>\n",
       "    <tr>\n",
       "      <td>count</td>\n",
       "      <td>74464</td>\n",
       "      <td>74464</td>\n",
       "      <td>74464</td>\n",
       "      <td>74464</td>\n",
       "      <td>74464</td>\n",
       "    </tr>\n",
       "    <tr>\n",
       "      <td>mean</td>\n",
       "      <td>50091236646</td>\n",
       "      <td>873347106</td>\n",
       "      <td>108418414</td>\n",
       "      <td>1</td>\n",
       "      <td>0</td>\n",
       "    </tr>\n",
       "    <tr>\n",
       "      <td>std</td>\n",
       "      <td>3461281088331</td>\n",
       "      <td>301650254</td>\n",
       "      <td>80345049</td>\n",
       "      <td>0</td>\n",
       "      <td>0</td>\n",
       "    </tr>\n",
       "    <tr>\n",
       "      <td>min</td>\n",
       "      <td>33601001722</td>\n",
       "      <td>58362293</td>\n",
       "      <td>7142988</td>\n",
       "      <td>1</td>\n",
       "      <td>0</td>\n",
       "    </tr>\n",
       "    <tr>\n",
       "      <td>25%</td>\n",
       "      <td>33650788515</td>\n",
       "      <td>657241906</td>\n",
       "      <td>57179283</td>\n",
       "      <td>1</td>\n",
       "      <td>0</td>\n",
       "    </tr>\n",
       "    <tr>\n",
       "      <td>50%</td>\n",
       "      <td>33663668868</td>\n",
       "      <td>896656394</td>\n",
       "      <td>86583414</td>\n",
       "      <td>1</td>\n",
       "      <td>0</td>\n",
       "    </tr>\n",
       "    <tr>\n",
       "      <td>75%</td>\n",
       "      <td>33683645017</td>\n",
       "      <td>1111628602</td>\n",
       "      <td>143708415</td>\n",
       "      <td>1</td>\n",
       "      <td>0</td>\n",
       "    </tr>\n",
       "    <tr>\n",
       "      <td>max</td>\n",
       "      <td>882397108489451</td>\n",
       "      <td>1407548816</td>\n",
       "      <td>2083210006</td>\n",
       "      <td>4</td>\n",
       "      <td>0</td>\n",
       "    </tr>\n",
       "  </tbody>\n",
       "</table>\n",
       "</div>"
      ],
      "text/plain": [
       "               MSISDN  total_data  total_duration  session_count  CLUSTERS\n",
       "count           74464       74464           74464          74464     74464\n",
       "mean      50091236646   873347106       108418414              1         0\n",
       "std     3461281088331   301650254        80345049              0         0\n",
       "min       33601001722    58362293         7142988              1         0\n",
       "25%       33650788515   657241906        57179283              1         0\n",
       "50%       33663668868   896656394        86583414              1         0\n",
       "75%       33683645017  1111628602       143708415              1         0\n",
       "max   882397108489451  1407548816      2083210006              4         0"
      ]
     },
     "execution_count": 27,
     "metadata": {},
     "output_type": "execute_result"
    }
   ],
   "source": [
    "data2_0.describe()"
   ]
  },
  {
   "cell_type": "code",
   "execution_count": 28,
   "metadata": {},
   "outputs": [
    {
     "data": {
      "text/plain": [
       "(4728, 5)"
      ]
     },
     "execution_count": 28,
     "metadata": {},
     "output_type": "execute_result"
    }
   ],
   "source": [
    "data2_1.shape"
   ]
  },
  {
   "cell_type": "code",
   "execution_count": 29,
   "metadata": {},
   "outputs": [
    {
     "data": {
      "text/html": [
       "<div>\n",
       "<style scoped>\n",
       "    .dataframe tbody tr th:only-of-type {\n",
       "        vertical-align: middle;\n",
       "    }\n",
       "\n",
       "    .dataframe tbody tr th {\n",
       "        vertical-align: top;\n",
       "    }\n",
       "\n",
       "    .dataframe thead th {\n",
       "        text-align: right;\n",
       "    }\n",
       "</style>\n",
       "<table border=\"1\" class=\"dataframe\">\n",
       "  <thead>\n",
       "    <tr style=\"text-align: right;\">\n",
       "      <th></th>\n",
       "      <th>MSISDN</th>\n",
       "      <th>total_data</th>\n",
       "      <th>total_duration</th>\n",
       "      <th>session_count</th>\n",
       "      <th>CLUSTERS</th>\n",
       "    </tr>\n",
       "  </thead>\n",
       "  <tbody>\n",
       "    <tr>\n",
       "      <td>count</td>\n",
       "      <td>4728</td>\n",
       "      <td>4728</td>\n",
       "      <td>4728</td>\n",
       "      <td>4728</td>\n",
       "      <td>4728</td>\n",
       "    </tr>\n",
       "    <tr>\n",
       "      <td>mean</td>\n",
       "      <td>33677300944</td>\n",
       "      <td>3992605579</td>\n",
       "      <td>535322107</td>\n",
       "      <td>4</td>\n",
       "      <td>1</td>\n",
       "    </tr>\n",
       "    <tr>\n",
       "      <td>std</td>\n",
       "      <td>43504188</td>\n",
       "      <td>1089282447</td>\n",
       "      <td>629948803</td>\n",
       "      <td>1</td>\n",
       "      <td>0</td>\n",
       "    </tr>\n",
       "    <tr>\n",
       "      <td>min</td>\n",
       "      <td>33601034530</td>\n",
       "      <td>2608284800</td>\n",
       "      <td>33476692</td>\n",
       "      <td>2</td>\n",
       "      <td>1</td>\n",
       "    </tr>\n",
       "    <tr>\n",
       "      <td>25%</td>\n",
       "      <td>33658759616</td>\n",
       "      <td>3249926495</td>\n",
       "      <td>296320128</td>\n",
       "      <td>3</td>\n",
       "      <td>1</td>\n",
       "    </tr>\n",
       "    <tr>\n",
       "      <td>50%</td>\n",
       "      <td>33664184722</td>\n",
       "      <td>3686552172</td>\n",
       "      <td>387414358</td>\n",
       "      <td>4</td>\n",
       "      <td>1</td>\n",
       "    </tr>\n",
       "    <tr>\n",
       "      <td>75%</td>\n",
       "      <td>33684116055</td>\n",
       "      <td>4398808620</td>\n",
       "      <td>518331394</td>\n",
       "      <td>5</td>\n",
       "      <td>1</td>\n",
       "    </tr>\n",
       "    <tr>\n",
       "      <td>max</td>\n",
       "      <td>33789881186</td>\n",
       "      <td>16341524035</td>\n",
       "      <td>18553763486</td>\n",
       "      <td>18</td>\n",
       "      <td>1</td>\n",
       "    </tr>\n",
       "  </tbody>\n",
       "</table>\n",
       "</div>"
      ],
      "text/plain": [
       "           MSISDN  total_data  total_duration  session_count  CLUSTERS\n",
       "count        4728        4728            4728           4728      4728\n",
       "mean  33677300944  3992605579       535322107              4         1\n",
       "std      43504188  1089282447       629948803              1         0\n",
       "min   33601034530  2608284800        33476692              2         1\n",
       "25%   33658759616  3249926495       296320128              3         1\n",
       "50%   33664184722  3686552172       387414358              4         1\n",
       "75%   33684116055  4398808620       518331394              5         1\n",
       "max   33789881186 16341524035     18553763486             18         1"
      ]
     },
     "execution_count": 29,
     "metadata": {},
     "output_type": "execute_result"
    }
   ],
   "source": [
    "data2_1.describe()"
   ]
  },
  {
   "cell_type": "code",
   "execution_count": 30,
   "metadata": {},
   "outputs": [
    {
     "data": {
      "text/plain": [
       "(27279, 5)"
      ]
     },
     "execution_count": 30,
     "metadata": {},
     "output_type": "execute_result"
    }
   ],
   "source": [
    "data2_2.shape"
   ]
  },
  {
   "cell_type": "code",
   "execution_count": 31,
   "metadata": {},
   "outputs": [
    {
     "data": {
      "text/html": [
       "<div>\n",
       "<style scoped>\n",
       "    .dataframe tbody tr th:only-of-type {\n",
       "        vertical-align: middle;\n",
       "    }\n",
       "\n",
       "    .dataframe tbody tr th {\n",
       "        vertical-align: top;\n",
       "    }\n",
       "\n",
       "    .dataframe thead th {\n",
       "        text-align: right;\n",
       "    }\n",
       "</style>\n",
       "<table border=\"1\" class=\"dataframe\">\n",
       "  <thead>\n",
       "    <tr style=\"text-align: right;\">\n",
       "      <th></th>\n",
       "      <th>MSISDN</th>\n",
       "      <th>total_data</th>\n",
       "      <th>total_duration</th>\n",
       "      <th>session_count</th>\n",
       "      <th>CLUSTERS</th>\n",
       "    </tr>\n",
       "  </thead>\n",
       "  <tbody>\n",
       "    <tr>\n",
       "      <td>count</td>\n",
       "      <td>27279</td>\n",
       "      <td>27279</td>\n",
       "      <td>27279</td>\n",
       "      <td>27279</td>\n",
       "      <td>27279</td>\n",
       "    </tr>\n",
       "    <tr>\n",
       "      <td>mean</td>\n",
       "      <td>33674129753</td>\n",
       "      <td>1915778448</td>\n",
       "      <td>183343303</td>\n",
       "      <td>2</td>\n",
       "      <td>2</td>\n",
       "    </tr>\n",
       "    <tr>\n",
       "      <td>std</td>\n",
       "      <td>45338633</td>\n",
       "      <td>418152505</td>\n",
       "      <td>133949395</td>\n",
       "      <td>1</td>\n",
       "      <td>0</td>\n",
       "    </tr>\n",
       "    <tr>\n",
       "      <td>min</td>\n",
       "      <td>33601008617</td>\n",
       "      <td>1356439704</td>\n",
       "      <td>7342167</td>\n",
       "      <td>1</td>\n",
       "      <td>2</td>\n",
       "    </tr>\n",
       "    <tr>\n",
       "      <td>25%</td>\n",
       "      <td>33650875060</td>\n",
       "      <td>1548680042</td>\n",
       "      <td>86400009</td>\n",
       "      <td>1</td>\n",
       "      <td>2</td>\n",
       "    </tr>\n",
       "    <tr>\n",
       "      <td>50%</td>\n",
       "      <td>33663516947</td>\n",
       "      <td>1816921603</td>\n",
       "      <td>170093196</td>\n",
       "      <td>2</td>\n",
       "      <td>2</td>\n",
       "    </tr>\n",
       "    <tr>\n",
       "      <td>75%</td>\n",
       "      <td>33682870024</td>\n",
       "      <td>2216556568</td>\n",
       "      <td>246468769</td>\n",
       "      <td>2</td>\n",
       "      <td>2</td>\n",
       "    </tr>\n",
       "    <tr>\n",
       "      <td>max</td>\n",
       "      <td>33789980299</td>\n",
       "      <td>2994737796</td>\n",
       "      <td>1867677937</td>\n",
       "      <td>5</td>\n",
       "      <td>2</td>\n",
       "    </tr>\n",
       "  </tbody>\n",
       "</table>\n",
       "</div>"
      ],
      "text/plain": [
       "           MSISDN  total_data  total_duration  session_count  CLUSTERS\n",
       "count       27279       27279           27279          27279     27279\n",
       "mean  33674129753  1915778448       183343303              2         2\n",
       "std      45338633   418152505       133949395              1         0\n",
       "min   33601008617  1356439704         7342167              1         2\n",
       "25%   33650875060  1548680042        86400009              1         2\n",
       "50%   33663516947  1816921603       170093196              2         2\n",
       "75%   33682870024  2216556568       246468769              2         2\n",
       "max   33789980299  2994737796      1867677937              5         2"
      ]
     },
     "execution_count": 31,
     "metadata": {},
     "output_type": "execute_result"
    }
   ],
   "source": [
    "data2_2.describe()"
   ]
  },
  {
   "cell_type": "code",
   "execution_count": 32,
   "metadata": {},
   "outputs": [],
   "source": [
    "pd.options.display.float_format = '{:,.2f}'.format\n",
    "average_measures = data2.iloc[:,2:].groupby(['CLUSTERS']).mean()\n"
   ]
  },
  {
   "cell_type": "code",
   "execution_count": 33,
   "metadata": {},
   "outputs": [
    {
     "data": {
      "text/html": [
       "<style  type=\"text/css\" >\n",
       "    #T_7ed4bc62_d2a5_11ec_93b3_80ce62d62fd4row0_col1 {\n",
       "            background-color:  lightgreen;\n",
       "        }    #T_7ed4bc62_d2a5_11ec_93b3_80ce62d62fd4row1_col1 {\n",
       "            background-color:  lightgreen;\n",
       "        }</style><table id=\"T_7ed4bc62_d2a5_11ec_93b3_80ce62d62fd4\" ><thead>    <tr>        <th class=\"index_name level0\" >CLUSTERS</th>        <th class=\"col_heading level0 col0\" >0</th>        <th class=\"col_heading level0 col1\" >1</th>        <th class=\"col_heading level0 col2\" >2</th>    </tr></thead><tbody>\n",
       "                <tr>\n",
       "                        <th id=\"T_7ed4bc62_d2a5_11ec_93b3_80ce62d62fd4level0_row0\" class=\"row_heading level0 row0\" >total_duration</th>\n",
       "                        <td id=\"T_7ed4bc62_d2a5_11ec_93b3_80ce62d62fd4row0_col0\" class=\"data row0 col0\" >108,418,414.31</td>\n",
       "                        <td id=\"T_7ed4bc62_d2a5_11ec_93b3_80ce62d62fd4row0_col1\" class=\"data row0 col1\" >535,322,107.01</td>\n",
       "                        <td id=\"T_7ed4bc62_d2a5_11ec_93b3_80ce62d62fd4row0_col2\" class=\"data row0 col2\" >183,343,303.32</td>\n",
       "            </tr>\n",
       "            <tr>\n",
       "                        <th id=\"T_7ed4bc62_d2a5_11ec_93b3_80ce62d62fd4level0_row1\" class=\"row_heading level0 row1\" >session_count</th>\n",
       "                        <td id=\"T_7ed4bc62_d2a5_11ec_93b3_80ce62d62fd4row1_col0\" class=\"data row1 col0\" >1.06</td>\n",
       "                        <td id=\"T_7ed4bc62_d2a5_11ec_93b3_80ce62d62fd4row1_col1\" class=\"data row1 col1\" >4.02</td>\n",
       "                        <td id=\"T_7ed4bc62_d2a5_11ec_93b3_80ce62d62fd4row1_col2\" class=\"data row1 col2\" >1.86</td>\n",
       "            </tr>\n",
       "    </tbody></table>"
      ],
      "text/plain": [
       "<pandas.io.formats.style.Styler at 0x2cecb13b198>"
      ]
     },
     "execution_count": 33,
     "metadata": {},
     "output_type": "execute_result"
    }
   ],
   "source": [
    "average_measures.T.style.highlight_max(color = 'lightgreen', axis = 1).format(\"{:,.2f}\")"
   ]
  },
  {
   "cell_type": "code",
   "execution_count": 34,
   "metadata": {},
   "outputs": [
    {
     "data": {
      "text/html": [
       "<style  type=\"text/css\" >\n",
       "    #T_7edf522e_d2a5_11ec_913f_80ce62d62fd4row0_col0 {\n",
       "            background-color:  pink;\n",
       "        }    #T_7edf522e_d2a5_11ec_913f_80ce62d62fd4row1_col0 {\n",
       "            background-color:  pink;\n",
       "        }</style><table id=\"T_7edf522e_d2a5_11ec_913f_80ce62d62fd4\" ><thead>    <tr>        <th class=\"index_name level0\" >CLUSTERS</th>        <th class=\"col_heading level0 col0\" >0</th>        <th class=\"col_heading level0 col1\" >1</th>        <th class=\"col_heading level0 col2\" >2</th>    </tr></thead><tbody>\n",
       "                <tr>\n",
       "                        <th id=\"T_7edf522e_d2a5_11ec_913f_80ce62d62fd4level0_row0\" class=\"row_heading level0 row0\" >total_duration</th>\n",
       "                        <td id=\"T_7edf522e_d2a5_11ec_913f_80ce62d62fd4row0_col0\" class=\"data row0 col0\" >108,418,414.31</td>\n",
       "                        <td id=\"T_7edf522e_d2a5_11ec_913f_80ce62d62fd4row0_col1\" class=\"data row0 col1\" >535,322,107.01</td>\n",
       "                        <td id=\"T_7edf522e_d2a5_11ec_913f_80ce62d62fd4row0_col2\" class=\"data row0 col2\" >183,343,303.32</td>\n",
       "            </tr>\n",
       "            <tr>\n",
       "                        <th id=\"T_7edf522e_d2a5_11ec_913f_80ce62d62fd4level0_row1\" class=\"row_heading level0 row1\" >session_count</th>\n",
       "                        <td id=\"T_7edf522e_d2a5_11ec_913f_80ce62d62fd4row1_col0\" class=\"data row1 col0\" >1.06</td>\n",
       "                        <td id=\"T_7edf522e_d2a5_11ec_913f_80ce62d62fd4row1_col1\" class=\"data row1 col1\" >4.02</td>\n",
       "                        <td id=\"T_7edf522e_d2a5_11ec_913f_80ce62d62fd4row1_col2\" class=\"data row1 col2\" >1.86</td>\n",
       "            </tr>\n",
       "    </tbody></table>"
      ],
      "text/plain": [
       "<pandas.io.formats.style.Styler at 0x2cecb1265c0>"
      ]
     },
     "execution_count": 34,
     "metadata": {},
     "output_type": "execute_result"
    }
   ],
   "source": [
    "average_measures.T.style.highlight_min(color = 'pink', axis = 1).format(\"{:,.2f}\")"
   ]
  },
  {
   "cell_type": "markdown",
   "metadata": {},
   "source": [
    "# Aggregation based on social media"
   ]
  },
  {
   "cell_type": "code",
   "execution_count": 35,
   "metadata": {},
   "outputs": [],
   "source": [
    "social_media_traffic=df.groupby(['MSISDN'])[\"socials_total_b\"].sum().reset_index(name='socials_total')"
   ]
  },
  {
   "cell_type": "code",
   "execution_count": 36,
   "metadata": {},
   "outputs": [
    {
     "data": {
      "text/html": [
       "<div>\n",
       "<style scoped>\n",
       "    .dataframe tbody tr th:only-of-type {\n",
       "        vertical-align: middle;\n",
       "    }\n",
       "\n",
       "    .dataframe tbody tr th {\n",
       "        vertical-align: top;\n",
       "    }\n",
       "\n",
       "    .dataframe thead th {\n",
       "        text-align: right;\n",
       "    }\n",
       "</style>\n",
       "<table border=\"1\" class=\"dataframe\">\n",
       "  <thead>\n",
       "    <tr style=\"text-align: right;\">\n",
       "      <th></th>\n",
       "      <th>MSISDN</th>\n",
       "      <th>socials_total</th>\n",
       "    </tr>\n",
       "  </thead>\n",
       "  <tbody>\n",
       "    <tr>\n",
       "      <td>13467</td>\n",
       "      <td>33,626,320,676.00</td>\n",
       "      <td>43,374,779.00</td>\n",
       "    </tr>\n",
       "    <tr>\n",
       "      <td>92584</td>\n",
       "      <td>33,760,536,639.00</td>\n",
       "      <td>39,783,189.00</td>\n",
       "    </tr>\n",
       "    <tr>\n",
       "      <td>36909</td>\n",
       "      <td>33,659,725,664.00</td>\n",
       "      <td>35,412,358.00</td>\n",
       "    </tr>\n",
       "    <tr>\n",
       "      <td>6404</td>\n",
       "      <td>33,614,892,860.00</td>\n",
       "      <td>28,294,544.00</td>\n",
       "    </tr>\n",
       "    <tr>\n",
       "      <td>13123</td>\n",
       "      <td>33,625,779,332.00</td>\n",
       "      <td>27,135,500.00</td>\n",
       "    </tr>\n",
       "  </tbody>\n",
       "</table>\n",
       "</div>"
      ],
      "text/plain": [
       "                 MSISDN  socials_total\n",
       "13467 33,626,320,676.00  43,374,779.00\n",
       "92584 33,760,536,639.00  39,783,189.00\n",
       "36909 33,659,725,664.00  35,412,358.00\n",
       "6404  33,614,892,860.00  28,294,544.00\n",
       "13123 33,625,779,332.00  27,135,500.00"
      ]
     },
     "execution_count": 36,
     "metadata": {},
     "output_type": "execute_result"
    }
   ],
   "source": [
    "social_media_traffic.sort_values(['socials_total'], ascending=False).head(5)"
   ]
  },
  {
   "cell_type": "markdown",
   "metadata": {},
   "source": [
    "# Aggregation based on google"
   ]
  },
  {
   "cell_type": "code",
   "execution_count": 37,
   "metadata": {},
   "outputs": [],
   "source": [
    "google_traffic=df.groupby(['MSISDN'])[\"google_total_b\"].sum().reset_index(name='google_total')"
   ]
  },
  {
   "cell_type": "code",
   "execution_count": 38,
   "metadata": {},
   "outputs": [
    {
     "data": {
      "text/html": [
       "<div>\n",
       "<style scoped>\n",
       "    .dataframe tbody tr th:only-of-type {\n",
       "        vertical-align: middle;\n",
       "    }\n",
       "\n",
       "    .dataframe tbody tr th {\n",
       "        vertical-align: top;\n",
       "    }\n",
       "\n",
       "    .dataframe thead th {\n",
       "        text-align: right;\n",
       "    }\n",
       "</style>\n",
       "<table border=\"1\" class=\"dataframe\">\n",
       "  <thead>\n",
       "    <tr style=\"text-align: right;\">\n",
       "      <th></th>\n",
       "      <th>MSISDN</th>\n",
       "      <th>google_total</th>\n",
       "    </tr>\n",
       "  </thead>\n",
       "  <tbody>\n",
       "    <tr>\n",
       "      <td>13467</td>\n",
       "      <td>33,626,320,676.00</td>\n",
       "      <td>152,191,852.00</td>\n",
       "    </tr>\n",
       "    <tr>\n",
       "      <td>13123</td>\n",
       "      <td>33,625,779,332.00</td>\n",
       "      <td>142,307,915.00</td>\n",
       "    </tr>\n",
       "    <tr>\n",
       "      <td>6404</td>\n",
       "      <td>33,614,892,860.00</td>\n",
       "      <td>127,973,787.00</td>\n",
       "    </tr>\n",
       "    <tr>\n",
       "      <td>92584</td>\n",
       "      <td>33,760,536,639.00</td>\n",
       "      <td>123,223,099.00</td>\n",
       "    </tr>\n",
       "    <tr>\n",
       "      <td>36909</td>\n",
       "      <td>33,659,725,664.00</td>\n",
       "      <td>116,516,345.00</td>\n",
       "    </tr>\n",
       "  </tbody>\n",
       "</table>\n",
       "</div>"
      ],
      "text/plain": [
       "                 MSISDN   google_total\n",
       "13467 33,626,320,676.00 152,191,852.00\n",
       "13123 33,625,779,332.00 142,307,915.00\n",
       "6404  33,614,892,860.00 127,973,787.00\n",
       "92584 33,760,536,639.00 123,223,099.00\n",
       "36909 33,659,725,664.00 116,516,345.00"
      ]
     },
     "execution_count": 38,
     "metadata": {},
     "output_type": "execute_result"
    }
   ],
   "source": [
    "google_traffic.sort_values(['google_total'], ascending=False).head(5)"
   ]
  },
  {
   "cell_type": "markdown",
   "metadata": {},
   "source": [
    "# Aggregation based on email"
   ]
  },
  {
   "cell_type": "code",
   "execution_count": 39,
   "metadata": {},
   "outputs": [],
   "source": [
    "email_traffic=df.groupby(['MSISDN'])[\"email_total_b\"].sum().reset_index(name='mail_total')"
   ]
  },
  {
   "cell_type": "code",
   "execution_count": 40,
   "metadata": {},
   "outputs": [
    {
     "data": {
      "text/html": [
       "<div>\n",
       "<style scoped>\n",
       "    .dataframe tbody tr th:only-of-type {\n",
       "        vertical-align: middle;\n",
       "    }\n",
       "\n",
       "    .dataframe tbody tr th {\n",
       "        vertical-align: top;\n",
       "    }\n",
       "\n",
       "    .dataframe thead th {\n",
       "        text-align: right;\n",
       "    }\n",
       "</style>\n",
       "<table border=\"1\" class=\"dataframe\">\n",
       "  <thead>\n",
       "    <tr style=\"text-align: right;\">\n",
       "      <th></th>\n",
       "      <th>MSISDN</th>\n",
       "      <th>mail_total</th>\n",
       "    </tr>\n",
       "  </thead>\n",
       "  <tbody>\n",
       "    <tr>\n",
       "      <td>13467</td>\n",
       "      <td>33,626,320,676.00</td>\n",
       "      <td>42,418,782.00</td>\n",
       "    </tr>\n",
       "    <tr>\n",
       "      <td>6404</td>\n",
       "      <td>33,614,892,860.00</td>\n",
       "      <td>40,788,634.00</td>\n",
       "    </tr>\n",
       "    <tr>\n",
       "      <td>13123</td>\n",
       "      <td>33,625,779,332.00</td>\n",
       "      <td>40,633,966.00</td>\n",
       "    </tr>\n",
       "    <tr>\n",
       "      <td>105756</td>\n",
       "      <td>33,786,323,068.00</td>\n",
       "      <td>36,310,123.00</td>\n",
       "    </tr>\n",
       "    <tr>\n",
       "      <td>36909</td>\n",
       "      <td>33,659,725,664.00</td>\n",
       "      <td>35,999,792.00</td>\n",
       "    </tr>\n",
       "  </tbody>\n",
       "</table>\n",
       "</div>"
      ],
      "text/plain": [
       "                  MSISDN    mail_total\n",
       "13467  33,626,320,676.00 42,418,782.00\n",
       "6404   33,614,892,860.00 40,788,634.00\n",
       "13123  33,625,779,332.00 40,633,966.00\n",
       "105756 33,786,323,068.00 36,310,123.00\n",
       "36909  33,659,725,664.00 35,999,792.00"
      ]
     },
     "execution_count": 40,
     "metadata": {},
     "output_type": "execute_result"
    }
   ],
   "source": [
    "email_traffic.sort_values(['mail_total'], ascending=False).head(5)"
   ]
  },
  {
   "cell_type": "markdown",
   "metadata": {},
   "source": [
    "# Aggregation based on YouTube"
   ]
  },
  {
   "cell_type": "code",
   "execution_count": 41,
   "metadata": {},
   "outputs": [],
   "source": [
    "youtube_traffic=df.groupby(['MSISDN'])[\"youtube_total_b\"].sum().reset_index(name='yt_total')"
   ]
  },
  {
   "cell_type": "code",
   "execution_count": 42,
   "metadata": {},
   "outputs": [
    {
     "data": {
      "text/html": [
       "<div>\n",
       "<style scoped>\n",
       "    .dataframe tbody tr th:only-of-type {\n",
       "        vertical-align: middle;\n",
       "    }\n",
       "\n",
       "    .dataframe tbody tr th {\n",
       "        vertical-align: top;\n",
       "    }\n",
       "\n",
       "    .dataframe thead th {\n",
       "        text-align: right;\n",
       "    }\n",
       "</style>\n",
       "<table border=\"1\" class=\"dataframe\">\n",
       "  <thead>\n",
       "    <tr style=\"text-align: right;\">\n",
       "      <th></th>\n",
       "      <th>MSISDN</th>\n",
       "      <th>yt_total</th>\n",
       "    </tr>\n",
       "  </thead>\n",
       "  <tbody>\n",
       "    <tr>\n",
       "      <td>13123</td>\n",
       "      <td>33,625,779,332.00</td>\n",
       "      <td>452,958,769.00</td>\n",
       "    </tr>\n",
       "    <tr>\n",
       "      <td>92584</td>\n",
       "      <td>33,760,536,639.00</td>\n",
       "      <td>396,289,198.00</td>\n",
       "    </tr>\n",
       "    <tr>\n",
       "      <td>6404</td>\n",
       "      <td>33,614,892,860.00</td>\n",
       "      <td>394,370,218.00</td>\n",
       "    </tr>\n",
       "    <tr>\n",
       "      <td>13467</td>\n",
       "      <td>33,626,320,676.00</td>\n",
       "      <td>374,483,047.00</td>\n",
       "    </tr>\n",
       "    <tr>\n",
       "      <td>76077</td>\n",
       "      <td>33,675,877,202.00</td>\n",
       "      <td>317,410,572.00</td>\n",
       "    </tr>\n",
       "  </tbody>\n",
       "</table>\n",
       "</div>"
      ],
      "text/plain": [
       "                 MSISDN       yt_total\n",
       "13123 33,625,779,332.00 452,958,769.00\n",
       "92584 33,760,536,639.00 396,289,198.00\n",
       "6404  33,614,892,860.00 394,370,218.00\n",
       "13467 33,626,320,676.00 374,483,047.00\n",
       "76077 33,675,877,202.00 317,410,572.00"
      ]
     },
     "execution_count": 42,
     "metadata": {},
     "output_type": "execute_result"
    }
   ],
   "source": [
    "youtube_traffic.sort_values(['yt_total'], ascending=False).head(5)"
   ]
  },
  {
   "cell_type": "markdown",
   "metadata": {},
   "source": [
    "# Aggregation based on Netflix"
   ]
  },
  {
   "cell_type": "code",
   "execution_count": 43,
   "metadata": {},
   "outputs": [],
   "source": [
    "netflix_traffic=df.groupby(['MSISDN'])[\"netflix_total_b\"].sum().reset_index(name='netflix_total')"
   ]
  },
  {
   "cell_type": "code",
   "execution_count": 44,
   "metadata": {},
   "outputs": [
    {
     "data": {
      "text/html": [
       "<div>\n",
       "<style scoped>\n",
       "    .dataframe tbody tr th:only-of-type {\n",
       "        vertical-align: middle;\n",
       "    }\n",
       "\n",
       "    .dataframe tbody tr th {\n",
       "        vertical-align: top;\n",
       "    }\n",
       "\n",
       "    .dataframe thead th {\n",
       "        text-align: right;\n",
       "    }\n",
       "</style>\n",
       "<table border=\"1\" class=\"dataframe\">\n",
       "  <thead>\n",
       "    <tr style=\"text-align: right;\">\n",
       "      <th></th>\n",
       "      <th>MSISDN</th>\n",
       "      <th>netflix_total</th>\n",
       "    </tr>\n",
       "  </thead>\n",
       "  <tbody>\n",
       "    <tr>\n",
       "      <td>36909</td>\n",
       "      <td>33,659,725,664.00</td>\n",
       "      <td>399,519,079.00</td>\n",
       "    </tr>\n",
       "    <tr>\n",
       "      <td>6404</td>\n",
       "      <td>33,614,892,860.00</td>\n",
       "      <td>361,401,046.00</td>\n",
       "    </tr>\n",
       "    <tr>\n",
       "      <td>13123</td>\n",
       "      <td>33,625,779,332.00</td>\n",
       "      <td>356,980,607.00</td>\n",
       "    </tr>\n",
       "    <tr>\n",
       "      <td>92584</td>\n",
       "      <td>33,760,536,639.00</td>\n",
       "      <td>334,643,269.00</td>\n",
       "    </tr>\n",
       "    <tr>\n",
       "      <td>13467</td>\n",
       "      <td>33,626,320,676.00</td>\n",
       "      <td>328,725,740.00</td>\n",
       "    </tr>\n",
       "  </tbody>\n",
       "</table>\n",
       "</div>"
      ],
      "text/plain": [
       "                 MSISDN  netflix_total\n",
       "36909 33,659,725,664.00 399,519,079.00\n",
       "6404  33,614,892,860.00 361,401,046.00\n",
       "13123 33,625,779,332.00 356,980,607.00\n",
       "92584 33,760,536,639.00 334,643,269.00\n",
       "13467 33,626,320,676.00 328,725,740.00"
      ]
     },
     "execution_count": 44,
     "metadata": {},
     "output_type": "execute_result"
    }
   ],
   "source": [
    "netflix_traffic.sort_values(['netflix_total'], ascending=False).head(5)"
   ]
  },
  {
   "cell_type": "markdown",
   "metadata": {},
   "source": [
    "# Aggregation based on Gaming"
   ]
  },
  {
   "cell_type": "code",
   "execution_count": 45,
   "metadata": {},
   "outputs": [],
   "source": [
    "gaming_traffic=df.groupby(['MSISDN'])[\"gaming_total_b\"].sum().reset_index(name='gaming_total')"
   ]
  },
  {
   "cell_type": "code",
   "execution_count": 46,
   "metadata": {},
   "outputs": [
    {
     "data": {
      "text/html": [
       "<div>\n",
       "<style scoped>\n",
       "    .dataframe tbody tr th:only-of-type {\n",
       "        vertical-align: middle;\n",
       "    }\n",
       "\n",
       "    .dataframe tbody tr th {\n",
       "        vertical-align: top;\n",
       "    }\n",
       "\n",
       "    .dataframe thead th {\n",
       "        text-align: right;\n",
       "    }\n",
       "</style>\n",
       "<table border=\"1\" class=\"dataframe\">\n",
       "  <thead>\n",
       "    <tr style=\"text-align: right;\">\n",
       "      <th></th>\n",
       "      <th>MSISDN</th>\n",
       "      <th>gaming_total</th>\n",
       "    </tr>\n",
       "  </thead>\n",
       "  <tbody>\n",
       "    <tr>\n",
       "      <td>6404</td>\n",
       "      <td>33,614,892,860.00</td>\n",
       "      <td>7,749,432,234.00</td>\n",
       "    </tr>\n",
       "    <tr>\n",
       "      <td>92584</td>\n",
       "      <td>33,760,536,639.00</td>\n",
       "      <td>7,461,045,228.00</td>\n",
       "    </tr>\n",
       "    <tr>\n",
       "      <td>13123</td>\n",
       "      <td>33,625,779,332.00</td>\n",
       "      <td>7,326,673,487.00</td>\n",
       "    </tr>\n",
       "    <tr>\n",
       "      <td>76077</td>\n",
       "      <td>33,675,877,202.00</td>\n",
       "      <td>6,970,567,597.00</td>\n",
       "    </tr>\n",
       "    <tr>\n",
       "      <td>13467</td>\n",
       "      <td>33,626,320,676.00</td>\n",
       "      <td>6,887,572,116.00</td>\n",
       "    </tr>\n",
       "  </tbody>\n",
       "</table>\n",
       "</div>"
      ],
      "text/plain": [
       "                 MSISDN     gaming_total\n",
       "6404  33,614,892,860.00 7,749,432,234.00\n",
       "92584 33,760,536,639.00 7,461,045,228.00\n",
       "13123 33,625,779,332.00 7,326,673,487.00\n",
       "76077 33,675,877,202.00 6,970,567,597.00\n",
       "13467 33,626,320,676.00 6,887,572,116.00"
      ]
     },
     "execution_count": 46,
     "metadata": {},
     "output_type": "execute_result"
    }
   ],
   "source": [
    "gaming_traffic.sort_values(['gaming_total'], ascending=False).head(5)"
   ]
  },
  {
   "cell_type": "markdown",
   "metadata": {},
   "source": [
    "# Aggregation based on Other"
   ]
  },
  {
   "cell_type": "code",
   "execution_count": 47,
   "metadata": {},
   "outputs": [],
   "source": [
    "other_traffic=df.groupby(['MSISDN'])[\"other_total_b\"].sum().reset_index(name='other_total')"
   ]
  },
  {
   "cell_type": "code",
   "execution_count": 48,
   "metadata": {},
   "outputs": [
    {
     "data": {
      "text/html": [
       "<div>\n",
       "<style scoped>\n",
       "    .dataframe tbody tr th:only-of-type {\n",
       "        vertical-align: middle;\n",
       "    }\n",
       "\n",
       "    .dataframe tbody tr th {\n",
       "        vertical-align: top;\n",
       "    }\n",
       "\n",
       "    .dataframe thead th {\n",
       "        text-align: right;\n",
       "    }\n",
       "</style>\n",
       "<table border=\"1\" class=\"dataframe\">\n",
       "  <thead>\n",
       "    <tr style=\"text-align: right;\">\n",
       "      <th></th>\n",
       "      <th>MSISDN</th>\n",
       "      <th>other_total</th>\n",
       "    </tr>\n",
       "  </thead>\n",
       "  <tbody>\n",
       "    <tr>\n",
       "      <td>13467</td>\n",
       "      <td>33,626,320,676.00</td>\n",
       "      <td>8,167,877,776.00</td>\n",
       "    </tr>\n",
       "    <tr>\n",
       "      <td>6404</td>\n",
       "      <td>33,614,892,860.00</td>\n",
       "      <td>7,639,263,572.00</td>\n",
       "    </tr>\n",
       "    <tr>\n",
       "      <td>76077</td>\n",
       "      <td>33,675,877,202.00</td>\n",
       "      <td>6,798,515,150.00</td>\n",
       "    </tr>\n",
       "    <tr>\n",
       "      <td>13123</td>\n",
       "      <td>33,625,779,332.00</td>\n",
       "      <td>6,354,583,086.00</td>\n",
       "    </tr>\n",
       "    <tr>\n",
       "      <td>658</td>\n",
       "      <td>33,603,127,838.00</td>\n",
       "      <td>6,326,670,874.00</td>\n",
       "    </tr>\n",
       "  </tbody>\n",
       "</table>\n",
       "</div>"
      ],
      "text/plain": [
       "                 MSISDN      other_total\n",
       "13467 33,626,320,676.00 8,167,877,776.00\n",
       "6404  33,614,892,860.00 7,639,263,572.00\n",
       "76077 33,675,877,202.00 6,798,515,150.00\n",
       "13123 33,625,779,332.00 6,354,583,086.00\n",
       "658   33,603,127,838.00 6,326,670,874.00"
      ]
     },
     "execution_count": 48,
     "metadata": {},
     "output_type": "execute_result"
    }
   ],
   "source": [
    "other_traffic.sort_values(['other_total'], ascending=False).head(5)"
   ]
  },
  {
   "cell_type": "markdown",
   "metadata": {},
   "source": [
    "# App perfomance"
   ]
  },
  {
   "cell_type": "code",
   "execution_count": 49,
   "metadata": {},
   "outputs": [
    {
     "name": "stdout",
     "output_type": "stream",
     "text": [
      "Total bytes for social media are :\n",
      "271478798103.0\n",
      "------------------------------------------------------------\n",
      "Total bytes for google are :\n",
      "1159544186717.0\n",
      "------------------------------------------------------------\n",
      "Total bytes for email are :\n",
      "335503000148.0\n",
      "------------------------------------------------------------\n",
      "Total bytes for youtube are :\n",
      "3362537620065.0\n",
      "------------------------------------------------------------\n",
      "Total bytes for netflix are :\n",
      "3360563670772.0\n",
      "------------------------------------------------------------\n",
      "Total bytes for gaming are :\n",
      "63910124731666.0\n",
      "------------------------------------------------------------\n",
      "Total bytes for other are :\n",
      "63770726326023.0\n",
      "------------------------------------------------------------\n",
      "The running totals for all app downloads are :\n",
      "130064004756909.0\n",
      "------------------------------------------------------------\n",
      " The running totals for all app uploads are :\n",
      "6106473576585.0\n"
     ]
    }
   ],
   "source": [
    "total_socials = df['socials_total_b'].sum()\n",
    "print ('Total bytes for social media are :')\n",
    "print(total_socials)\n",
    "print('-'*60)\n",
    "\n",
    "total_google = df['google_total_b'].sum()\n",
    "print ('Total bytes for google are :')\n",
    "print(total_google)\n",
    "print('-'*60)\n",
    "\n",
    "total_email = df['email_total_b'].sum()\n",
    "print ('Total bytes for email are :')\n",
    "print(total_email)\n",
    "print('-'*60)\n",
    "\n",
    "total_youtube = df['youtube_total_b'].sum()\n",
    "print ('Total bytes for youtube are :')\n",
    "print(total_youtube)\n",
    "print('-'*60)\n",
    "\n",
    "total_netflix = df['netflix_total_b'].sum()\n",
    "print ('Total bytes for netflix are :')\n",
    "print(total_netflix)\n",
    "print('-'*60)\n",
    "\n",
    "total_gaming = df['gaming_total_b'].sum()\n",
    "print ('Total bytes for gaming are :')\n",
    "print(total_gaming)\n",
    "print('-'*60)\n",
    "\n",
    "total_other = df['other_total_b'].sum()\n",
    "print ('Total bytes for other are :')\n",
    "print(total_other)\n",
    "print('-'*60)\n",
    "\n",
    "sum_of_totals_dl = df['total_dl_data'].sum()\n",
    "print ('The running totals for all app downloads are :')\n",
    "print(sum_of_totals_dl)\n",
    "print('-'*60)\n",
    "\n",
    "sum_of_totals_ul = df['total_ul_data'].sum()\n",
    "print (' The running totals for all app uploads are :')\n",
    "print(sum_of_totals_ul)"
   ]
  },
  {
   "cell_type": "code",
   "execution_count": 50,
   "metadata": {},
   "outputs": [
    {
     "data": {
      "image/png": "[encoded data removed]",
      "text/plain": [
       "<Figure size 720x504 with 1 Axes>"
      ]
     },
     "metadata": {},
     "output_type": "display_data"
    }
   ],
   "source": [
    "import matplotlib.pyplot as plt\n",
    "\n",
    "\n",
    "data = [total_socials ,total_google ,total_email ,total_youtube ,total_netflix ,total_gaming ,total_other ,sum_of_totals_dl \n",
    "\n",
    ",sum_of_totals_ul]\n",
    " \n",
    "# Creating plot\n",
    "fig = plt.figure(figsize =(10, 7))\n",
    "plt.pie(data, labels = data)\n",
    " \n",
    "# show plot\n",
    "plt.show()"
   ]
  },
  {
   "cell_type": "markdown",
   "metadata": {},
   "source": [
    "Using k-means clustering algorithm, group users in k engagement clusters based on the engagement metrics: What is the optimized value of k (use elbow method for this)?\n",
    "Interpret your findings"
   ]
  },
  {
   "cell_type": "code",
   "execution_count": 51,
   "metadata": {},
   "outputs": [],
   "source": [
    "data  = pd.merge(total_session_b, session_duration, on='MSISDN', how='left')\n",
    "data  = pd.merge(data, session_frequency, on='MSISDN', how='left')"
   ]
  },
  {
   "cell_type": "code",
   "execution_count": 52,
   "metadata": {},
   "outputs": [],
   "source": [
    "engagement=pd.merge(data, other_traffic, on='MSISDN', how='left')\n",
    "engagement=pd.merge(engagement, gaming_traffic, on='MSISDN', how='left')\n",
    "engagement=pd.merge(engagement, netflix_traffic, on='MSISDN', how='left')\n",
    "engagement=pd.merge(engagement, youtube_traffic, on='MSISDN', how='left')\n",
    "engagement=pd.merge(engagement, google_traffic, on='MSISDN', how='left')\n",
    "engagement=pd.merge(engagement, email_traffic, on='MSISDN', how='left')\n",
    "engagement=pd.merge(engagement, other_traffic, on='MSISDN', how='left')\n",
    "engagement=pd.merge(engagement, social_media_traffic, on='MSISDN', how='left')"
   ]
  },
  {
   "cell_type": "code",
   "execution_count": 53,
   "metadata": {},
   "outputs": [
    {
     "data": {
      "text/html": [
       "<div>\n",
       "<style scoped>\n",
       "    .dataframe tbody tr th:only-of-type {\n",
       "        vertical-align: middle;\n",
       "    }\n",
       "\n",
       "    .dataframe tbody tr th {\n",
       "        vertical-align: top;\n",
       "    }\n",
       "\n",
       "    .dataframe thead th {\n",
       "        text-align: right;\n",
       "    }\n",
       "</style>\n",
       "<table border=\"1\" class=\"dataframe\">\n",
       "  <thead>\n",
       "    <tr style=\"text-align: right;\">\n",
       "      <th></th>\n",
       "      <th>MSISDN</th>\n",
       "      <th>total_data</th>\n",
       "      <th>total_duration</th>\n",
       "      <th>session_count</th>\n",
       "      <th>other_total_x</th>\n",
       "      <th>gaming_total</th>\n",
       "      <th>netflix_total</th>\n",
       "      <th>yt_total</th>\n",
       "      <th>google_total</th>\n",
       "      <th>mail_total</th>\n",
       "      <th>other_total_y</th>\n",
       "      <th>socials_total</th>\n",
       "    </tr>\n",
       "  </thead>\n",
       "  <tbody>\n",
       "    <tr>\n",
       "      <td>0</td>\n",
       "      <td>33,601,001,722.00</td>\n",
       "      <td>1,255,787,564.00</td>\n",
       "      <td>116,720,140.00</td>\n",
       "      <td>1</td>\n",
       "      <td>386,570,872.00</td>\n",
       "      <td>812,458,661.00</td>\n",
       "      <td>27,180,981.00</td>\n",
       "      <td>21,624,548.00</td>\n",
       "      <td>4,389,005.00</td>\n",
       "      <td>1,331,362.00</td>\n",
       "      <td>386,570,872.00</td>\n",
       "      <td>2,232,135.00</td>\n",
       "    </tr>\n",
       "    <tr>\n",
       "      <td>1</td>\n",
       "      <td>33,601,001,754.00</td>\n",
       "      <td>436,417,344.00</td>\n",
       "      <td>181,230,963.00</td>\n",
       "      <td>1</td>\n",
       "      <td>281,710,071.00</td>\n",
       "      <td>119,750,078.00</td>\n",
       "      <td>11,221,763.00</td>\n",
       "      <td>12,432,223.00</td>\n",
       "      <td>5,334,863.00</td>\n",
       "      <td>3,307,781.00</td>\n",
       "      <td>281,710,071.00</td>\n",
       "      <td>2,660,565.00</td>\n",
       "    </tr>\n",
       "  </tbody>\n",
       "</table>\n",
       "</div>"
      ],
      "text/plain": [
       "             MSISDN       total_data  total_duration  session_count  \\\n",
       "0 33,601,001,722.00 1,255,787,564.00  116,720,140.00              1   \n",
       "1 33,601,001,754.00   436,417,344.00  181,230,963.00              1   \n",
       "\n",
       "   other_total_x   gaming_total  netflix_total      yt_total  google_total  \\\n",
       "0 386,570,872.00 812,458,661.00  27,180,981.00 21,624,548.00  4,389,005.00   \n",
       "1 281,710,071.00 119,750,078.00  11,221,763.00 12,432,223.00  5,334,863.00   \n",
       "\n",
       "    mail_total  other_total_y  socials_total  \n",
       "0 1,331,362.00 386,570,872.00   2,232,135.00  \n",
       "1 3,307,781.00 281,710,071.00   2,660,565.00  "
      ]
     },
     "execution_count": 53,
     "metadata": {},
     "output_type": "execute_result"
    }
   ],
   "source": [
    "engagement.head(2)"
   ]
  },
  {
   "cell_type": "code",
   "execution_count": 54,
   "metadata": {},
   "outputs": [],
   "source": [
    "cat_features=['MSISDN']"
   ]
  },
  {
   "cell_type": "code",
   "execution_count": 55,
   "metadata": {},
   "outputs": [],
   "source": [
    "numerical_features = ['total_data','total_duration','session_count','other_total_x','gaming_total','netflix_total','yt_total','google_total','mail_total','other_total_y','socials_total']"
   ]
  },
  {
   "cell_type": "code",
   "execution_count": 56,
   "metadata": {},
   "outputs": [],
   "source": [
    "input_features = numerical_features + cat_features"
   ]
  },
  {
   "cell_type": "code",
   "execution_count": 57,
   "metadata": {},
   "outputs": [],
   "source": [
    "features = engagement.copy()"
   ]
  },
  {
   "cell_type": "markdown",
   "metadata": {},
   "source": [
    "# Encoding categorical variables"
   ]
  },
  {
   "cell_type": "code",
   "execution_count": 58,
   "metadata": {},
   "outputs": [],
   "source": [
    "#casting the columns into strings\n",
    "labelencoder = LabelEncoder()\n",
    "\n",
    "#features[cat_features] = features[cat_features].apply(LabelEncoder().fit_transform)\n",
    "features[cat_features] = features[cat_features].apply(lambda col: LabelEncoder().fit_transform(col.astype(str)), axis=0, result_type='expand')"
   ]
  },
  {
   "cell_type": "markdown",
   "metadata": {},
   "source": [
    "# Scaling Numerical Data"
   ]
  },
  {
   "cell_type": "code",
   "execution_count": 59,
   "metadata": {},
   "outputs": [
    {
     "name": "stderr",
     "output_type": "stream",
     "text": [
      "C:\\Users\\kachase\\Anaconda3\\lib\\site-packages\\sklearn\\preprocessing\\data.py:645: DataConversionWarning: Data with input dtype int32, int64, float64 were all converted to float64 by StandardScaler.\n",
      "  return self.partial_fit(X, y)\n",
      "C:\\Users\\kachase\\Anaconda3\\lib\\site-packages\\sklearn\\base.py:464: DataConversionWarning: Data with input dtype int32, int64, float64 were all converted to float64 by StandardScaler.\n",
      "  return self.fit(X, **fit_params).transform(X)\n"
     ]
    }
   ],
   "source": [
    "scaler = StandardScaler()\n",
    "x_scaled = scaler.fit_transform(features[input_features])\n",
    "#x_scaled"
   ]
  },
  {
   "cell_type": "code",
   "execution_count": 60,
   "metadata": {},
   "outputs": [],
   "source": [
    "import scipy.stats as stats\n",
    "X_scaled = stats.zscore(x_scaled)\n",
    "#X_scaled"
   ]
  },
  {
   "cell_type": "markdown",
   "metadata": {},
   "source": [
    "# Elbow method to determine the clusters"
   ]
  },
  {
   "cell_type": "code",
   "execution_count": 61,
   "metadata": {},
   "outputs": [
    {
     "data": {
      "image/png": "[encoded data removed]",
      "text/plain": [
       "<Figure size 720x432 with 1 Axes>"
      ]
     },
     "metadata": {
      "needs_background": "light"
     },
     "output_type": "display_data"
    }
   ],
   "source": [
    "X = X_scaled\n",
    "\n",
    "\n",
    "#sns.set(rc={\"figure.figsize\": (6, 8)})\n",
    "plt.figure(figsize=(10,6))\n",
    "cs = []\n",
    "for i in range(1, 10):\n",
    "    kmeans = KMeans(n_clusters = i, init = 'k-means++', max_iter = 300, n_init = 10, random_state = 0)\n",
    "    kmeans.fit(X)\n",
    "    cs.append(kmeans.inertia_)\n",
    "plt.plot(range(1, 10), cs, '-o')\n",
    "plt.title('The Elbow Method')\n",
    "plt.xlabel('Number of clusters')\n",
    "plt.ylabel('CS')\n",
    "plt.show()"
   ]
  },
  {
   "cell_type": "code",
   "execution_count": 103,
   "metadata": {},
   "outputs": [
    {
     "data": {
      "text/plain": [
       "array([0, 0, 0, ..., 0, 0, 0])"
      ]
     },
     "execution_count": 103,
     "metadata": {},
     "output_type": "execute_result"
    }
   ],
   "source": [
    "engagement_model = KMeans(n_clusters=3, random_state = 0)\n",
    "engagement_model.fit_predict(x_scaled)\n",
    "#print(kmeans.cluster_centers_)"
   ]
  },
  {
   "cell_type": "code",
   "execution_count": 104,
   "metadata": {},
   "outputs": [
    {
     "data": {
      "text/plain": [
       "582103.1899804866"
      ]
     },
     "execution_count": 104,
     "metadata": {},
     "output_type": "execute_result"
    }
   ],
   "source": [
    "engagement_model.inertia_"
   ]
  },
  {
   "cell_type": "code",
   "execution_count": 105,
   "metadata": {},
   "outputs": [
    {
     "data": {
      "text/plain": [
       "array([0, 0, 0, ..., 0, 0, 0])"
      ]
     },
     "execution_count": 105,
     "metadata": {},
     "output_type": "execute_result"
    }
   ],
   "source": [
    "engagement_model.labels_\n",
    "#print(kmeans.labels_)"
   ]
  },
  {
   "cell_type": "code",
   "execution_count": 106,
   "metadata": {},
   "outputs": [],
   "source": [
    "features = engagement.copy()"
   ]
  },
  {
   "cell_type": "code",
   "execution_count": 107,
   "metadata": {},
   "outputs": [],
   "source": [
    "labels = engagement_model.labels_\n",
    "varieties = features['MSISDN'].to_list()"
   ]
  },
  {
   "cell_type": "code",
   "execution_count": 108,
   "metadata": {},
   "outputs": [
    {
     "data": {
      "text/plain": [
       "array([[    0, 78455],\n",
       "       [    1, 24013],\n",
       "       [    2,  4003]], dtype=int64)"
      ]
     },
     "execution_count": 108,
     "metadata": {},
     "output_type": "execute_result"
    }
   ],
   "source": [
    "np.array(np.unique(labels, return_counts=True)).T"
   ]
  },
  {
   "cell_type": "code",
   "execution_count": 109,
   "metadata": {},
   "outputs": [],
   "source": [
    "engagement_cluster = pd.DataFrame({'CLUSTERS': labels, 'MSISDN': varieties})"
   ]
  },
  {
   "cell_type": "code",
   "execution_count": 110,
   "metadata": {},
   "outputs": [
    {
     "data": {
      "text/html": [
       "<div>\n",
       "<style scoped>\n",
       "    .dataframe tbody tr th:only-of-type {\n",
       "        vertical-align: middle;\n",
       "    }\n",
       "\n",
       "    .dataframe tbody tr th {\n",
       "        vertical-align: top;\n",
       "    }\n",
       "\n",
       "    .dataframe thead th {\n",
       "        text-align: right;\n",
       "    }\n",
       "</style>\n",
       "<table border=\"1\" class=\"dataframe\">\n",
       "  <thead>\n",
       "    <tr style=\"text-align: right;\">\n",
       "      <th></th>\n",
       "      <th>CLUSTERS</th>\n",
       "    </tr>\n",
       "  </thead>\n",
       "  <tbody>\n",
       "    <tr>\n",
       "      <td>0</td>\n",
       "      <td>78455</td>\n",
       "    </tr>\n",
       "    <tr>\n",
       "      <td>1</td>\n",
       "      <td>24013</td>\n",
       "    </tr>\n",
       "    <tr>\n",
       "      <td>2</td>\n",
       "      <td>4003</td>\n",
       "    </tr>\n",
       "  </tbody>\n",
       "</table>\n",
       "</div>"
      ],
      "text/plain": [
       "   CLUSTERS\n",
       "0     78455\n",
       "1     24013\n",
       "2      4003"
      ]
     },
     "execution_count": 110,
     "metadata": {},
     "output_type": "execute_result"
    }
   ],
   "source": [
    "engagement_cluster['CLUSTERS'].value_counts().to_frame()"
   ]
  },
  {
   "cell_type": "code",
   "execution_count": 111,
   "metadata": {},
   "outputs": [
    {
     "data": {
      "text/html": [
       "<div>\n",
       "<style scoped>\n",
       "    .dataframe tbody tr th:only-of-type {\n",
       "        vertical-align: middle;\n",
       "    }\n",
       "\n",
       "    .dataframe tbody tr th {\n",
       "        vertical-align: top;\n",
       "    }\n",
       "\n",
       "    .dataframe thead th {\n",
       "        text-align: right;\n",
       "    }\n",
       "</style>\n",
       "<table border=\"1\" class=\"dataframe\">\n",
       "  <thead>\n",
       "    <tr style=\"text-align: right;\">\n",
       "      <th></th>\n",
       "      <th>CLUSTERS</th>\n",
       "      <th>MSISDN</th>\n",
       "    </tr>\n",
       "  </thead>\n",
       "  <tbody>\n",
       "    <tr>\n",
       "      <td>0</td>\n",
       "      <td>0</td>\n",
       "      <td>33,601,001,722.00</td>\n",
       "    </tr>\n",
       "    <tr>\n",
       "      <td>1</td>\n",
       "      <td>0</td>\n",
       "      <td>33,601,001,754.00</td>\n",
       "    </tr>\n",
       "    <tr>\n",
       "      <td>2</td>\n",
       "      <td>0</td>\n",
       "      <td>33,601,002,511.00</td>\n",
       "    </tr>\n",
       "    <tr>\n",
       "      <td>3</td>\n",
       "      <td>0</td>\n",
       "      <td>33,601,007,832.00</td>\n",
       "    </tr>\n",
       "    <tr>\n",
       "      <td>4</td>\n",
       "      <td>1</td>\n",
       "      <td>33,601,008,617.00</td>\n",
       "    </tr>\n",
       "  </tbody>\n",
       "</table>\n",
       "</div>"
      ],
      "text/plain": [
       "   CLUSTERS            MSISDN\n",
       "0         0 33,601,001,722.00\n",
       "1         0 33,601,001,754.00\n",
       "2         0 33,601,002,511.00\n",
       "3         0 33,601,007,832.00\n",
       "4         1 33,601,008,617.00"
      ]
     },
     "execution_count": 111,
     "metadata": {},
     "output_type": "execute_result"
    }
   ],
   "source": [
    "engagement_cluster.head()"
   ]
  },
  {
   "cell_type": "code",
   "execution_count": 112,
   "metadata": {},
   "outputs": [
    {
     "data": {
      "text/plain": [
       "(106471, 13)"
      ]
     },
     "execution_count": 112,
     "metadata": {},
     "output_type": "execute_result"
    }
   ],
   "source": [
    "engagement2 = pd.merge(engagement,engagement_cluster, on='MSISDN')\n",
    "engagement2.shape"
   ]
  },
  {
   "cell_type": "code",
   "execution_count": 113,
   "metadata": {},
   "outputs": [
    {
     "data": {
      "text/html": [
       "<div>\n",
       "<style scoped>\n",
       "    .dataframe tbody tr th:only-of-type {\n",
       "        vertical-align: middle;\n",
       "    }\n",
       "\n",
       "    .dataframe tbody tr th {\n",
       "        vertical-align: top;\n",
       "    }\n",
       "\n",
       "    .dataframe thead th {\n",
       "        text-align: right;\n",
       "    }\n",
       "</style>\n",
       "<table border=\"1\" class=\"dataframe\">\n",
       "  <thead>\n",
       "    <tr style=\"text-align: right;\">\n",
       "      <th></th>\n",
       "      <th>MSISDN</th>\n",
       "      <th>total_data</th>\n",
       "      <th>total_duration</th>\n",
       "      <th>session_count</th>\n",
       "      <th>other_total_x</th>\n",
       "      <th>gaming_total</th>\n",
       "      <th>netflix_total</th>\n",
       "      <th>yt_total</th>\n",
       "      <th>google_total</th>\n",
       "      <th>mail_total</th>\n",
       "      <th>other_total_y</th>\n",
       "      <th>socials_total</th>\n",
       "      <th>CLUSTERS</th>\n",
       "    </tr>\n",
       "  </thead>\n",
       "  <tbody>\n",
       "    <tr>\n",
       "      <td>0</td>\n",
       "      <td>33,601,001,722.00</td>\n",
       "      <td>1,255,787,564.00</td>\n",
       "      <td>116,720,140.00</td>\n",
       "      <td>1</td>\n",
       "      <td>386,570,872.00</td>\n",
       "      <td>812,458,661.00</td>\n",
       "      <td>27,180,981.00</td>\n",
       "      <td>21,624,548.00</td>\n",
       "      <td>4,389,005.00</td>\n",
       "      <td>1,331,362.00</td>\n",
       "      <td>386,570,872.00</td>\n",
       "      <td>2,232,135.00</td>\n",
       "      <td>0</td>\n",
       "    </tr>\n",
       "    <tr>\n",
       "      <td>1</td>\n",
       "      <td>33,601,001,754.00</td>\n",
       "      <td>436,417,344.00</td>\n",
       "      <td>181,230,963.00</td>\n",
       "      <td>1</td>\n",
       "      <td>281,710,071.00</td>\n",
       "      <td>119,750,078.00</td>\n",
       "      <td>11,221,763.00</td>\n",
       "      <td>12,432,223.00</td>\n",
       "      <td>5,334,863.00</td>\n",
       "      <td>3,307,781.00</td>\n",
       "      <td>281,710,071.00</td>\n",
       "      <td>2,660,565.00</td>\n",
       "      <td>0</td>\n",
       "    </tr>\n",
       "    <tr>\n",
       "      <td>2</td>\n",
       "      <td>33,601,002,511.00</td>\n",
       "      <td>1,091,052,984.00</td>\n",
       "      <td>134,969,374.00</td>\n",
       "      <td>1</td>\n",
       "      <td>501,693,672.00</td>\n",
       "      <td>538,827,713.00</td>\n",
       "      <td>19,353,900.00</td>\n",
       "      <td>21,333,570.00</td>\n",
       "      <td>3,443,126.00</td>\n",
       "      <td>3,205,380.00</td>\n",
       "      <td>501,693,672.00</td>\n",
       "      <td>3,195,623.00</td>\n",
       "      <td>0</td>\n",
       "    </tr>\n",
       "  </tbody>\n",
       "</table>\n",
       "</div>"
      ],
      "text/plain": [
       "             MSISDN       total_data  total_duration  session_count  \\\n",
       "0 33,601,001,722.00 1,255,787,564.00  116,720,140.00              1   \n",
       "1 33,601,001,754.00   436,417,344.00  181,230,963.00              1   \n",
       "2 33,601,002,511.00 1,091,052,984.00  134,969,374.00              1   \n",
       "\n",
       "   other_total_x   gaming_total  netflix_total      yt_total  google_total  \\\n",
       "0 386,570,872.00 812,458,661.00  27,180,981.00 21,624,548.00  4,389,005.00   \n",
       "1 281,710,071.00 119,750,078.00  11,221,763.00 12,432,223.00  5,334,863.00   \n",
       "2 501,693,672.00 538,827,713.00  19,353,900.00 21,333,570.00  3,443,126.00   \n",
       "\n",
       "    mail_total  other_total_y  socials_total  CLUSTERS  \n",
       "0 1,331,362.00 386,570,872.00   2,232,135.00         0  \n",
       "1 3,307,781.00 281,710,071.00   2,660,565.00         0  \n",
       "2 3,205,380.00 501,693,672.00   3,195,623.00         0  "
      ]
     },
     "execution_count": 113,
     "metadata": {},
     "output_type": "execute_result"
    }
   ],
   "source": [
    "\n",
    "engagement2.head(3)"
   ]
  },
  {
   "cell_type": "markdown",
   "metadata": {},
   "source": [
    "enga"
   ]
  },
  {
   "cell_type": "code",
   "execution_count": 114,
   "metadata": {},
   "outputs": [],
   "source": [
    "engagement_cluster_0 = engagement2[engagement2['CLUSTERS'] == 0]\n",
    "engagement_cluster_1 = engagement2[engagement2['CLUSTERS'] == 1]\n",
    "engagement_cluster_2 = engagement2[engagement2['CLUSTERS'] == 2]"
   ]
  },
  {
   "cell_type": "code",
   "execution_count": 115,
   "metadata": {},
   "outputs": [
    {
     "data": {
      "text/html": [
       "<div>\n",
       "<style scoped>\n",
       "    .dataframe tbody tr th:only-of-type {\n",
       "        vertical-align: middle;\n",
       "    }\n",
       "\n",
       "    .dataframe tbody tr th {\n",
       "        vertical-align: top;\n",
       "    }\n",
       "\n",
       "    .dataframe thead th {\n",
       "        text-align: right;\n",
       "    }\n",
       "</style>\n",
       "<table border=\"1\" class=\"dataframe\">\n",
       "  <thead>\n",
       "    <tr style=\"text-align: right;\">\n",
       "      <th></th>\n",
       "      <th>MSISDN</th>\n",
       "      <th>total_data</th>\n",
       "      <th>total_duration</th>\n",
       "      <th>session_count</th>\n",
       "      <th>other_total_x</th>\n",
       "      <th>gaming_total</th>\n",
       "      <th>netflix_total</th>\n",
       "      <th>yt_total</th>\n",
       "      <th>google_total</th>\n",
       "      <th>mail_total</th>\n",
       "      <th>other_total_y</th>\n",
       "      <th>socials_total</th>\n",
       "      <th>CLUSTERS</th>\n",
       "    </tr>\n",
       "  </thead>\n",
       "  <tbody>\n",
       "    <tr>\n",
       "      <td>count</td>\n",
       "      <td>78,455.00</td>\n",
       "      <td>78,455.00</td>\n",
       "      <td>78,455.00</td>\n",
       "      <td>78,455.00</td>\n",
       "      <td>78,455.00</td>\n",
       "      <td>78,455.00</td>\n",
       "      <td>78,455.00</td>\n",
       "      <td>78,455.00</td>\n",
       "      <td>78,455.00</td>\n",
       "      <td>78,455.00</td>\n",
       "      <td>78,455.00</td>\n",
       "      <td>78,455.00</td>\n",
       "      <td>78,455.00</td>\n",
       "    </tr>\n",
       "    <tr>\n",
       "      <td>mean</td>\n",
       "      <td>49,256,039,505.27</td>\n",
       "      <td>920,162,388.29</td>\n",
       "      <td>104,618,753.11</td>\n",
       "      <td>1.01</td>\n",
       "      <td>429,171,205.01</td>\n",
       "      <td>433,309,843.88</td>\n",
       "      <td>22,818,879.53</td>\n",
       "      <td>22,864,983.65</td>\n",
       "      <td>7,874,103.69</td>\n",
       "      <td>2,281,926.56</td>\n",
       "      <td>429,171,205.01</td>\n",
       "      <td>1,841,445.98</td>\n",
       "      <td>0.00</td>\n",
       "    </tr>\n",
       "    <tr>\n",
       "      <td>std</td>\n",
       "      <td>3,372,095,278,619.33</td>\n",
       "      <td>343,799,097.70</td>\n",
       "      <td>75,223,714.91</td>\n",
       "      <td>0.12</td>\n",
       "      <td>242,825,719.87</td>\n",
       "      <td>244,947,206.28</td>\n",
       "      <td>9,483,871.19</td>\n",
       "      <td>9,463,992.82</td>\n",
       "      <td>3,580,050.25</td>\n",
       "      <td>1,092,171.64</td>\n",
       "      <td>242,825,719.87</td>\n",
       "      <td>1,047,792.91</td>\n",
       "      <td>0.00</td>\n",
       "    </tr>\n",
       "    <tr>\n",
       "      <td>min</td>\n",
       "      <td>33,601,001,722.00</td>\n",
       "      <td>58,362,293.00</td>\n",
       "      <td>7,142,988.00</td>\n",
       "      <td>1.00</td>\n",
       "      <td>149,045.00</td>\n",
       "      <td>306,358.00</td>\n",
       "      <td>184,569.00</td>\n",
       "      <td>78,903.00</td>\n",
       "      <td>40,330.00</td>\n",
       "      <td>18,176.00</td>\n",
       "      <td>149,045.00</td>\n",
       "      <td>1,563.00</td>\n",
       "      <td>0.00</td>\n",
       "    </tr>\n",
       "    <tr>\n",
       "      <td>25%</td>\n",
       "      <td>33,650,771,349.50</td>\n",
       "      <td>673,442,694.00</td>\n",
       "      <td>55,145,982.00</td>\n",
       "      <td>1.00</td>\n",
       "      <td>219,242,861.00</td>\n",
       "      <td>222,203,220.00</td>\n",
       "      <td>16,043,778.00</td>\n",
       "      <td>16,097,569.50</td>\n",
       "      <td>4,977,280.00</td>\n",
       "      <td>1,367,547.00</td>\n",
       "      <td>219,242,861.00</td>\n",
       "      <td>937,182.00</td>\n",
       "      <td>0.00</td>\n",
       "    </tr>\n",
       "    <tr>\n",
       "      <td>50%</td>\n",
       "      <td>33,663,646,240.00</td>\n",
       "      <td>920,503,161.00</td>\n",
       "      <td>86,400,044.00</td>\n",
       "      <td>1.00</td>\n",
       "      <td>428,166,737.00</td>\n",
       "      <td>435,033,500.00</td>\n",
       "      <td>22,742,738.00</td>\n",
       "      <td>22,818,832.00</td>\n",
       "      <td>7,859,738.00</td>\n",
       "      <td>2,286,826.00</td>\n",
       "      <td>428,166,737.00</td>\n",
       "      <td>1,833,862.00</td>\n",
       "      <td>0.00</td>\n",
       "    </tr>\n",
       "    <tr>\n",
       "      <td>75%</td>\n",
       "      <td>33,683,573,445.50</td>\n",
       "      <td>1,168,099,573.00</td>\n",
       "      <td>139,291,733.00</td>\n",
       "      <td>1.00</td>\n",
       "      <td>639,081,827.00</td>\n",
       "      <td>644,305,700.50</td>\n",
       "      <td>29,442,619.50</td>\n",
       "      <td>29,555,811.00</td>\n",
       "      <td>10,740,753.00</td>\n",
       "      <td>3,179,047.00</td>\n",
       "      <td>639,081,827.00</td>\n",
       "      <td>2,743,386.00</td>\n",
       "      <td>0.00</td>\n",
       "    </tr>\n",
       "    <tr>\n",
       "      <td>max</td>\n",
       "      <td>882,397,108,489,451.00</td>\n",
       "      <td>2,030,680,756.00</td>\n",
       "      <td>1,573,420,996.00</td>\n",
       "      <td>2.00</td>\n",
       "      <td>1,214,434,502.00</td>\n",
       "      <td>1,471,753,546.00</td>\n",
       "      <td>75,029,524.00</td>\n",
       "      <td>78,099,852.00</td>\n",
       "      <td>27,307,801.00</td>\n",
       "      <td>8,142,171.00</td>\n",
       "      <td>1,214,434,502.00</td>\n",
       "      <td>7,113,142.00</td>\n",
       "      <td>0.00</td>\n",
       "    </tr>\n",
       "  </tbody>\n",
       "</table>\n",
       "</div>"
      ],
      "text/plain": [
       "                      MSISDN       total_data   total_duration  session_count  \\\n",
       "count              78,455.00        78,455.00        78,455.00      78,455.00   \n",
       "mean       49,256,039,505.27   920,162,388.29   104,618,753.11           1.01   \n",
       "std     3,372,095,278,619.33   343,799,097.70    75,223,714.91           0.12   \n",
       "min        33,601,001,722.00    58,362,293.00     7,142,988.00           1.00   \n",
       "25%        33,650,771,349.50   673,442,694.00    55,145,982.00           1.00   \n",
       "50%        33,663,646,240.00   920,503,161.00    86,400,044.00           1.00   \n",
       "75%        33,683,573,445.50 1,168,099,573.00   139,291,733.00           1.00   \n",
       "max   882,397,108,489,451.00 2,030,680,756.00 1,573,420,996.00           2.00   \n",
       "\n",
       "         other_total_x     gaming_total  netflix_total      yt_total  \\\n",
       "count        78,455.00        78,455.00      78,455.00     78,455.00   \n",
       "mean    429,171,205.01   433,309,843.88  22,818,879.53 22,864,983.65   \n",
       "std     242,825,719.87   244,947,206.28   9,483,871.19  9,463,992.82   \n",
       "min         149,045.00       306,358.00     184,569.00     78,903.00   \n",
       "25%     219,242,861.00   222,203,220.00  16,043,778.00 16,097,569.50   \n",
       "50%     428,166,737.00   435,033,500.00  22,742,738.00 22,818,832.00   \n",
       "75%     639,081,827.00   644,305,700.50  29,442,619.50 29,555,811.00   \n",
       "max   1,214,434,502.00 1,471,753,546.00  75,029,524.00 78,099,852.00   \n",
       "\n",
       "       google_total   mail_total    other_total_y  socials_total  CLUSTERS  \n",
       "count     78,455.00    78,455.00        78,455.00      78,455.00 78,455.00  \n",
       "mean   7,874,103.69 2,281,926.56   429,171,205.01   1,841,445.98      0.00  \n",
       "std    3,580,050.25 1,092,171.64   242,825,719.87   1,047,792.91      0.00  \n",
       "min       40,330.00    18,176.00       149,045.00       1,563.00      0.00  \n",
       "25%    4,977,280.00 1,367,547.00   219,242,861.00     937,182.00      0.00  \n",
       "50%    7,859,738.00 2,286,826.00   428,166,737.00   1,833,862.00      0.00  \n",
       "75%   10,740,753.00 3,179,047.00   639,081,827.00   2,743,386.00      0.00  \n",
       "max   27,307,801.00 8,142,171.00 1,214,434,502.00   7,113,142.00      0.00  "
      ]
     },
     "execution_count": 115,
     "metadata": {},
     "output_type": "execute_result"
    }
   ],
   "source": [
    "engagement_cluster_0.describe()"
   ]
  },
  {
   "cell_type": "code",
   "execution_count": 116,
   "metadata": {},
   "outputs": [
    {
     "data": {
      "text/html": [
       "<div>\n",
       "<style scoped>\n",
       "    .dataframe tbody tr th:only-of-type {\n",
       "        vertical-align: middle;\n",
       "    }\n",
       "\n",
       "    .dataframe tbody tr th {\n",
       "        vertical-align: top;\n",
       "    }\n",
       "\n",
       "    .dataframe thead th {\n",
       "        text-align: right;\n",
       "    }\n",
       "</style>\n",
       "<table border=\"1\" class=\"dataframe\">\n",
       "  <thead>\n",
       "    <tr style=\"text-align: right;\">\n",
       "      <th></th>\n",
       "      <th>MSISDN</th>\n",
       "      <th>total_data</th>\n",
       "      <th>total_duration</th>\n",
       "      <th>session_count</th>\n",
       "      <th>other_total_x</th>\n",
       "      <th>gaming_total</th>\n",
       "      <th>netflix_total</th>\n",
       "      <th>yt_total</th>\n",
       "      <th>google_total</th>\n",
       "      <th>mail_total</th>\n",
       "      <th>other_total_y</th>\n",
       "      <th>socials_total</th>\n",
       "      <th>CLUSTERS</th>\n",
       "    </tr>\n",
       "  </thead>\n",
       "  <tbody>\n",
       "    <tr>\n",
       "      <td>count</td>\n",
       "      <td>24,013.00</td>\n",
       "      <td>24,013.00</td>\n",
       "      <td>24,013.00</td>\n",
       "      <td>24,013.00</td>\n",
       "      <td>24,013.00</td>\n",
       "      <td>24,013.00</td>\n",
       "      <td>24,013.00</td>\n",
       "      <td>24,013.00</td>\n",
       "      <td>24,013.00</td>\n",
       "      <td>24,013.00</td>\n",
       "      <td>24,013.00</td>\n",
       "      <td>24,013.00</td>\n",
       "      <td>24,013.00</td>\n",
       "    </tr>\n",
       "    <tr>\n",
       "      <td>mean</td>\n",
       "      <td>33,674,248,585.09</td>\n",
       "      <td>1,983,425,292.72</td>\n",
       "      <td>209,437,892.86</td>\n",
       "      <td>2.15</td>\n",
       "      <td>931,024,007.88</td>\n",
       "      <td>928,963,543.09</td>\n",
       "      <td>48,978,389.11</td>\n",
       "      <td>48,778,896.22</td>\n",
       "      <td>16,854,918.43</td>\n",
       "      <td>4,864,217.47</td>\n",
       "      <td>931,024,007.88</td>\n",
       "      <td>3,961,320.52</td>\n",
       "      <td>1.00</td>\n",
       "    </tr>\n",
       "    <tr>\n",
       "      <td>std</td>\n",
       "      <td>45,252,155.63</td>\n",
       "      <td>538,371,568.45</td>\n",
       "      <td>134,480,479.70</td>\n",
       "      <td>0.37</td>\n",
       "      <td>361,787,173.25</td>\n",
       "      <td>375,058,983.11</td>\n",
       "      <td>15,670,250.86</td>\n",
       "      <td>15,449,718.60</td>\n",
       "      <td>5,707,690.13</td>\n",
       "      <td>1,735,563.80</td>\n",
       "      <td>361,787,173.25</td>\n",
       "      <td>1,607,345.49</td>\n",
       "      <td>0.00</td>\n",
       "    </tr>\n",
       "    <tr>\n",
       "      <td>min</td>\n",
       "      <td>33,601,008,617.00</td>\n",
       "      <td>380,244,654.00</td>\n",
       "      <td>18,235,797.00</td>\n",
       "      <td>1.00</td>\n",
       "      <td>27,135,390.00</td>\n",
       "      <td>22,123,644.00</td>\n",
       "      <td>3,539,613.00</td>\n",
       "      <td>3,590,164.00</td>\n",
       "      <td>1,346,703.00</td>\n",
       "      <td>200,967.00</td>\n",
       "      <td>27,135,390.00</td>\n",
       "      <td>61,882.00</td>\n",
       "      <td>1.00</td>\n",
       "    </tr>\n",
       "    <tr>\n",
       "      <td>25%</td>\n",
       "      <td>33,650,928,047.00</td>\n",
       "      <td>1,598,814,906.00</td>\n",
       "      <td>115,885,572.00</td>\n",
       "      <td>2.00</td>\n",
       "      <td>671,790,463.00</td>\n",
       "      <td>662,613,004.00</td>\n",
       "      <td>38,264,317.00</td>\n",
       "      <td>38,099,053.00</td>\n",
       "      <td>12,899,686.00</td>\n",
       "      <td>3,655,413.00</td>\n",
       "      <td>671,790,463.00</td>\n",
       "      <td>2,830,168.00</td>\n",
       "      <td>1.00</td>\n",
       "    </tr>\n",
       "    <tr>\n",
       "      <td>50%</td>\n",
       "      <td>33,663,544,163.00</td>\n",
       "      <td>1,951,160,367.00</td>\n",
       "      <td>180,513,199.00</td>\n",
       "      <td>2.00</td>\n",
       "      <td>919,768,250.00</td>\n",
       "      <td>918,660,516.00</td>\n",
       "      <td>48,163,688.00</td>\n",
       "      <td>47,861,019.00</td>\n",
       "      <td>16,573,987.00</td>\n",
       "      <td>4,765,324.00</td>\n",
       "      <td>919,768,250.00</td>\n",
       "      <td>3,904,450.00</td>\n",
       "      <td>1.00</td>\n",
       "    </tr>\n",
       "    <tr>\n",
       "      <td>75%</td>\n",
       "      <td>33,682,849,227.00</td>\n",
       "      <td>2,328,799,176.00</td>\n",
       "      <td>264,846,418.00</td>\n",
       "      <td>2.00</td>\n",
       "      <td>1,186,198,301.00</td>\n",
       "      <td>1,185,783,134.00</td>\n",
       "      <td>58,472,272.00</td>\n",
       "      <td>58,402,599.00</td>\n",
       "      <td>20,565,066.00</td>\n",
       "      <td>5,995,777.00</td>\n",
       "      <td>1,186,198,301.00</td>\n",
       "      <td>5,064,893.00</td>\n",
       "      <td>1.00</td>\n",
       "    </tr>\n",
       "    <tr>\n",
       "      <td>max</td>\n",
       "      <td>33,789,980,299.00</td>\n",
       "      <td>3,985,103,207.00</td>\n",
       "      <td>2,083,210,006.00</td>\n",
       "      <td>4.00</td>\n",
       "      <td>2,382,015,668.00</td>\n",
       "      <td>2,478,750,897.00</td>\n",
       "      <td>117,461,184.00</td>\n",
       "      <td>119,122,721.00</td>\n",
       "      <td>42,763,254.00</td>\n",
       "      <td>12,867,609.00</td>\n",
       "      <td>2,382,015,668.00</td>\n",
       "      <td>10,293,340.00</td>\n",
       "      <td>1.00</td>\n",
       "    </tr>\n",
       "  </tbody>\n",
       "</table>\n",
       "</div>"
      ],
      "text/plain": [
       "                 MSISDN       total_data   total_duration  session_count  \\\n",
       "count         24,013.00        24,013.00        24,013.00      24,013.00   \n",
       "mean  33,674,248,585.09 1,983,425,292.72   209,437,892.86           2.15   \n",
       "std       45,252,155.63   538,371,568.45   134,480,479.70           0.37   \n",
       "min   33,601,008,617.00   380,244,654.00    18,235,797.00           1.00   \n",
       "25%   33,650,928,047.00 1,598,814,906.00   115,885,572.00           2.00   \n",
       "50%   33,663,544,163.00 1,951,160,367.00   180,513,199.00           2.00   \n",
       "75%   33,682,849,227.00 2,328,799,176.00   264,846,418.00           2.00   \n",
       "max   33,789,980,299.00 3,985,103,207.00 2,083,210,006.00           4.00   \n",
       "\n",
       "         other_total_x     gaming_total  netflix_total       yt_total  \\\n",
       "count        24,013.00        24,013.00      24,013.00      24,013.00   \n",
       "mean    931,024,007.88   928,963,543.09  48,978,389.11  48,778,896.22   \n",
       "std     361,787,173.25   375,058,983.11  15,670,250.86  15,449,718.60   \n",
       "min      27,135,390.00    22,123,644.00   3,539,613.00   3,590,164.00   \n",
       "25%     671,790,463.00   662,613,004.00  38,264,317.00  38,099,053.00   \n",
       "50%     919,768,250.00   918,660,516.00  48,163,688.00  47,861,019.00   \n",
       "75%   1,186,198,301.00 1,185,783,134.00  58,472,272.00  58,402,599.00   \n",
       "max   2,382,015,668.00 2,478,750,897.00 117,461,184.00 119,122,721.00   \n",
       "\n",
       "       google_total    mail_total    other_total_y  socials_total  CLUSTERS  \n",
       "count     24,013.00     24,013.00        24,013.00      24,013.00 24,013.00  \n",
       "mean  16,854,918.43  4,864,217.47   931,024,007.88   3,961,320.52      1.00  \n",
       "std    5,707,690.13  1,735,563.80   361,787,173.25   1,607,345.49      0.00  \n",
       "min    1,346,703.00    200,967.00    27,135,390.00      61,882.00      1.00  \n",
       "25%   12,899,686.00  3,655,413.00   671,790,463.00   2,830,168.00      1.00  \n",
       "50%   16,573,987.00  4,765,324.00   919,768,250.00   3,904,450.00      1.00  \n",
       "75%   20,565,066.00  5,995,777.00 1,186,198,301.00   5,064,893.00      1.00  \n",
       "max   42,763,254.00 12,867,609.00 2,382,015,668.00  10,293,340.00      1.00  "
      ]
     },
     "execution_count": 116,
     "metadata": {},
     "output_type": "execute_result"
    }
   ],
   "source": [
    "engagement_cluster_1.describe()"
   ]
  },
  {
   "cell_type": "code",
   "execution_count": 117,
   "metadata": {},
   "outputs": [
    {
     "data": {
      "text/html": [
       "<div>\n",
       "<style scoped>\n",
       "    .dataframe tbody tr th:only-of-type {\n",
       "        vertical-align: middle;\n",
       "    }\n",
       "\n",
       "    .dataframe tbody tr th {\n",
       "        vertical-align: top;\n",
       "    }\n",
       "\n",
       "    .dataframe thead th {\n",
       "        text-align: right;\n",
       "    }\n",
       "</style>\n",
       "<table border=\"1\" class=\"dataframe\">\n",
       "  <thead>\n",
       "    <tr style=\"text-align: right;\">\n",
       "      <th></th>\n",
       "      <th>MSISDN</th>\n",
       "      <th>total_data</th>\n",
       "      <th>total_duration</th>\n",
       "      <th>session_count</th>\n",
       "      <th>other_total_x</th>\n",
       "      <th>gaming_total</th>\n",
       "      <th>netflix_total</th>\n",
       "      <th>yt_total</th>\n",
       "      <th>google_total</th>\n",
       "      <th>mail_total</th>\n",
       "      <th>other_total_y</th>\n",
       "      <th>socials_total</th>\n",
       "      <th>CLUSTERS</th>\n",
       "    </tr>\n",
       "  </thead>\n",
       "  <tbody>\n",
       "    <tr>\n",
       "      <td>count</td>\n",
       "      <td>4,003.00</td>\n",
       "      <td>4,003.00</td>\n",
       "      <td>4,003.00</td>\n",
       "      <td>4,003.00</td>\n",
       "      <td>4,003.00</td>\n",
       "      <td>4,003.00</td>\n",
       "      <td>4,003.00</td>\n",
       "      <td>4,003.00</td>\n",
       "      <td>4,003.00</td>\n",
       "      <td>4,003.00</td>\n",
       "      <td>4,003.00</td>\n",
       "      <td>4,003.00</td>\n",
       "      <td>4,003.00</td>\n",
       "    </tr>\n",
       "    <tr>\n",
       "      <td>mean</td>\n",
       "      <td>33,678,341,069.96</td>\n",
       "      <td>4,084,723,109.22</td>\n",
       "      <td>591,705,545.77</td>\n",
       "      <td>4.31</td>\n",
       "      <td>1,934,404,180.90</td>\n",
       "      <td>1,900,474,486.62</td>\n",
       "      <td>98,473,749.66</td>\n",
       "      <td>99,259,978.17</td>\n",
       "      <td>34,235,379.83</td>\n",
       "      <td>9,910,066.95</td>\n",
       "      <td>1,934,404,180.90</td>\n",
       "      <td>7,965,267.10</td>\n",
       "      <td>2.00</td>\n",
       "    </tr>\n",
       "    <tr>\n",
       "      <td>std</td>\n",
       "      <td>43,488,882.32</td>\n",
       "      <td>1,174,586,258.68</td>\n",
       "      <td>670,915,459.52</td>\n",
       "      <td>1.21</td>\n",
       "      <td>646,876,840.56</td>\n",
       "      <td>686,246,848.91</td>\n",
       "      <td>32,360,561.09</td>\n",
       "      <td>32,466,443.82</td>\n",
       "      <td>11,567,106.80</td>\n",
       "      <td>3,476,207.34</td>\n",
       "      <td>646,876,840.56</td>\n",
       "      <td>2,978,766.19</td>\n",
       "      <td>0.00</td>\n",
       "    </tr>\n",
       "    <tr>\n",
       "      <td>min</td>\n",
       "      <td>33,601,270,437.00</td>\n",
       "      <td>1,797,646,786.00</td>\n",
       "      <td>46,899,075.00</td>\n",
       "      <td>3.00</td>\n",
       "      <td>294,154,547.00</td>\n",
       "      <td>226,703,601.00</td>\n",
       "      <td>27,966,688.00</td>\n",
       "      <td>22,332,725.00</td>\n",
       "      <td>8,173,290.00</td>\n",
       "      <td>1,276,355.00</td>\n",
       "      <td>294,154,547.00</td>\n",
       "      <td>1,008,465.00</td>\n",
       "      <td>2.00</td>\n",
       "    </tr>\n",
       "    <tr>\n",
       "      <td>25%</td>\n",
       "      <td>33,658,942,450.00</td>\n",
       "      <td>3,344,889,210.50</td>\n",
       "      <td>345,599,678.00</td>\n",
       "      <td>4.00</td>\n",
       "      <td>1,533,825,157.00</td>\n",
       "      <td>1,456,125,917.50</td>\n",
       "      <td>78,119,715.00</td>\n",
       "      <td>78,300,124.50</td>\n",
       "      <td>26,715,299.50</td>\n",
       "      <td>7,690,402.50</td>\n",
       "      <td>1,533,825,157.00</td>\n",
       "      <td>6,026,411.50</td>\n",
       "      <td>2.00</td>\n",
       "    </tr>\n",
       "    <tr>\n",
       "      <td>50%</td>\n",
       "      <td>33,664,391,673.00</td>\n",
       "      <td>3,861,638,252.00</td>\n",
       "      <td>429,165,862.00</td>\n",
       "      <td>4.00</td>\n",
       "      <td>1,866,193,775.00</td>\n",
       "      <td>1,822,664,503.00</td>\n",
       "      <td>94,281,992.00</td>\n",
       "      <td>94,289,328.00</td>\n",
       "      <td>32,805,852.00</td>\n",
       "      <td>9,491,746.00</td>\n",
       "      <td>1,866,193,775.00</td>\n",
       "      <td>7,646,090.00</td>\n",
       "      <td>2.00</td>\n",
       "    </tr>\n",
       "    <tr>\n",
       "      <td>75%</td>\n",
       "      <td>33,687,004,733.00</td>\n",
       "      <td>4,557,312,686.00</td>\n",
       "      <td>573,349,373.00</td>\n",
       "      <td>5.00</td>\n",
       "      <td>2,248,178,384.50</td>\n",
       "      <td>2,252,409,745.50</td>\n",
       "      <td>113,073,175.50</td>\n",
       "      <td>114,568,387.00</td>\n",
       "      <td>39,608,893.00</td>\n",
       "      <td>11,527,281.00</td>\n",
       "      <td>2,248,178,384.50</td>\n",
       "      <td>9,532,445.50</td>\n",
       "      <td>2.00</td>\n",
       "    </tr>\n",
       "    <tr>\n",
       "      <td>max</td>\n",
       "      <td>33,789,881,186.00</td>\n",
       "      <td>16,341,524,035.00</td>\n",
       "      <td>18,553,763,486.00</td>\n",
       "      <td>18.00</td>\n",
       "      <td>8,167,877,776.00</td>\n",
       "      <td>7,749,432,234.00</td>\n",
       "      <td>399,519,079.00</td>\n",
       "      <td>452,958,769.00</td>\n",
       "      <td>152,191,852.00</td>\n",
       "      <td>42,418,782.00</td>\n",
       "      <td>8,167,877,776.00</td>\n",
       "      <td>43,374,779.00</td>\n",
       "      <td>2.00</td>\n",
       "    </tr>\n",
       "  </tbody>\n",
       "</table>\n",
       "</div>"
      ],
      "text/plain": [
       "                 MSISDN        total_data    total_duration  session_count  \\\n",
       "count          4,003.00          4,003.00          4,003.00       4,003.00   \n",
       "mean  33,678,341,069.96  4,084,723,109.22    591,705,545.77           4.31   \n",
       "std       43,488,882.32  1,174,586,258.68    670,915,459.52           1.21   \n",
       "min   33,601,270,437.00  1,797,646,786.00     46,899,075.00           3.00   \n",
       "25%   33,658,942,450.00  3,344,889,210.50    345,599,678.00           4.00   \n",
       "50%   33,664,391,673.00  3,861,638,252.00    429,165,862.00           4.00   \n",
       "75%   33,687,004,733.00  4,557,312,686.00    573,349,373.00           5.00   \n",
       "max   33,789,881,186.00 16,341,524,035.00 18,553,763,486.00          18.00   \n",
       "\n",
       "         other_total_x     gaming_total  netflix_total       yt_total  \\\n",
       "count         4,003.00         4,003.00       4,003.00       4,003.00   \n",
       "mean  1,934,404,180.90 1,900,474,486.62  98,473,749.66  99,259,978.17   \n",
       "std     646,876,840.56   686,246,848.91  32,360,561.09  32,466,443.82   \n",
       "min     294,154,547.00   226,703,601.00  27,966,688.00  22,332,725.00   \n",
       "25%   1,533,825,157.00 1,456,125,917.50  78,119,715.00  78,300,124.50   \n",
       "50%   1,866,193,775.00 1,822,664,503.00  94,281,992.00  94,289,328.00   \n",
       "75%   2,248,178,384.50 2,252,409,745.50 113,073,175.50 114,568,387.00   \n",
       "max   8,167,877,776.00 7,749,432,234.00 399,519,079.00 452,958,769.00   \n",
       "\n",
       "        google_total    mail_total    other_total_y  socials_total  CLUSTERS  \n",
       "count       4,003.00      4,003.00         4,003.00       4,003.00  4,003.00  \n",
       "mean   34,235,379.83  9,910,066.95 1,934,404,180.90   7,965,267.10      2.00  \n",
       "std    11,567,106.80  3,476,207.34   646,876,840.56   2,978,766.19      0.00  \n",
       "min     8,173,290.00  1,276,355.00   294,154,547.00   1,008,465.00      2.00  \n",
       "25%    26,715,299.50  7,690,402.50 1,533,825,157.00   6,026,411.50      2.00  \n",
       "50%    32,805,852.00  9,491,746.00 1,866,193,775.00   7,646,090.00      2.00  \n",
       "75%    39,608,893.00 11,527,281.00 2,248,178,384.50   9,532,445.50      2.00  \n",
       "max   152,191,852.00 42,418,782.00 8,167,877,776.00  43,374,779.00      2.00  "
      ]
     },
     "execution_count": 117,
     "metadata": {},
     "output_type": "execute_result"
    }
   ],
   "source": [
    "engagement_cluster_2.describe()"
   ]
  },
  {
   "cell_type": "code",
   "execution_count": 118,
   "metadata": {},
   "outputs": [],
   "source": [
    "pd.options.display.float_format = '{:,.2f}'.format\n",
    "average_measures = engagement2.iloc[:,2:].groupby(['CLUSTERS']).mean()"
   ]
  },
  {
   "cell_type": "code",
   "execution_count": 119,
   "metadata": {},
   "outputs": [
    {
     "data": {
      "text/html": [
       "<style  type=\"text/css\" >\n",
       "    #T_cf35b74c_d2ad_11ec_8f6a_80ce62d62fd4row0_col2 {\n",
       "            background-color:  lightgreen;\n",
       "        }    #T_cf35b74c_d2ad_11ec_8f6a_80ce62d62fd4row1_col2 {\n",
       "            background-color:  lightgreen;\n",
       "        }    #T_cf35b74c_d2ad_11ec_8f6a_80ce62d62fd4row2_col2 {\n",
       "            background-color:  lightgreen;\n",
       "        }    #T_cf35b74c_d2ad_11ec_8f6a_80ce62d62fd4row3_col2 {\n",
       "            background-color:  lightgreen;\n",
       "        }    #T_cf35b74c_d2ad_11ec_8f6a_80ce62d62fd4row4_col2 {\n",
       "            background-color:  lightgreen;\n",
       "        }    #T_cf35b74c_d2ad_11ec_8f6a_80ce62d62fd4row5_col2 {\n",
       "            background-color:  lightgreen;\n",
       "        }    #T_cf35b74c_d2ad_11ec_8f6a_80ce62d62fd4row6_col2 {\n",
       "            background-color:  lightgreen;\n",
       "        }    #T_cf35b74c_d2ad_11ec_8f6a_80ce62d62fd4row7_col2 {\n",
       "            background-color:  lightgreen;\n",
       "        }    #T_cf35b74c_d2ad_11ec_8f6a_80ce62d62fd4row8_col2 {\n",
       "            background-color:  lightgreen;\n",
       "        }    #T_cf35b74c_d2ad_11ec_8f6a_80ce62d62fd4row9_col2 {\n",
       "            background-color:  lightgreen;\n",
       "        }</style><table id=\"T_cf35b74c_d2ad_11ec_8f6a_80ce62d62fd4\" ><thead>    <tr>        <th class=\"index_name level0\" >CLUSTERS</th>        <th class=\"col_heading level0 col0\" >0</th>        <th class=\"col_heading level0 col1\" >1</th>        <th class=\"col_heading level0 col2\" >2</th>    </tr></thead><tbody>\n",
       "                <tr>\n",
       "                        <th id=\"T_cf35b74c_d2ad_11ec_8f6a_80ce62d62fd4level0_row0\" class=\"row_heading level0 row0\" >total_duration</th>\n",
       "                        <td id=\"T_cf35b74c_d2ad_11ec_8f6a_80ce62d62fd4row0_col0\" class=\"data row0 col0\" >104,618,753.11</td>\n",
       "                        <td id=\"T_cf35b74c_d2ad_11ec_8f6a_80ce62d62fd4row0_col1\" class=\"data row0 col1\" >209,437,892.86</td>\n",
       "                        <td id=\"T_cf35b74c_d2ad_11ec_8f6a_80ce62d62fd4row0_col2\" class=\"data row0 col2\" >591,705,545.77</td>\n",
       "            </tr>\n",
       "            <tr>\n",
       "                        <th id=\"T_cf35b74c_d2ad_11ec_8f6a_80ce62d62fd4level0_row1\" class=\"row_heading level0 row1\" >session_count</th>\n",
       "                        <td id=\"T_cf35b74c_d2ad_11ec_8f6a_80ce62d62fd4row1_col0\" class=\"data row1 col0\" >1.01</td>\n",
       "                        <td id=\"T_cf35b74c_d2ad_11ec_8f6a_80ce62d62fd4row1_col1\" class=\"data row1 col1\" >2.15</td>\n",
       "                        <td id=\"T_cf35b74c_d2ad_11ec_8f6a_80ce62d62fd4row1_col2\" class=\"data row1 col2\" >4.31</td>\n",
       "            </tr>\n",
       "            <tr>\n",
       "                        <th id=\"T_cf35b74c_d2ad_11ec_8f6a_80ce62d62fd4level0_row2\" class=\"row_heading level0 row2\" >other_total_x</th>\n",
       "                        <td id=\"T_cf35b74c_d2ad_11ec_8f6a_80ce62d62fd4row2_col0\" class=\"data row2 col0\" >429,171,205.01</td>\n",
       "                        <td id=\"T_cf35b74c_d2ad_11ec_8f6a_80ce62d62fd4row2_col1\" class=\"data row2 col1\" >931,024,007.88</td>\n",
       "                        <td id=\"T_cf35b74c_d2ad_11ec_8f6a_80ce62d62fd4row2_col2\" class=\"data row2 col2\" >1,934,404,180.90</td>\n",
       "            </tr>\n",
       "            <tr>\n",
       "                        <th id=\"T_cf35b74c_d2ad_11ec_8f6a_80ce62d62fd4level0_row3\" class=\"row_heading level0 row3\" >gaming_total</th>\n",
       "                        <td id=\"T_cf35b74c_d2ad_11ec_8f6a_80ce62d62fd4row3_col0\" class=\"data row3 col0\" >433,309,843.88</td>\n",
       "                        <td id=\"T_cf35b74c_d2ad_11ec_8f6a_80ce62d62fd4row3_col1\" class=\"data row3 col1\" >928,963,543.09</td>\n",
       "                        <td id=\"T_cf35b74c_d2ad_11ec_8f6a_80ce62d62fd4row3_col2\" class=\"data row3 col2\" >1,900,474,486.62</td>\n",
       "            </tr>\n",
       "            <tr>\n",
       "                        <th id=\"T_cf35b74c_d2ad_11ec_8f6a_80ce62d62fd4level0_row4\" class=\"row_heading level0 row4\" >netflix_total</th>\n",
       "                        <td id=\"T_cf35b74c_d2ad_11ec_8f6a_80ce62d62fd4row4_col0\" class=\"data row4 col0\" >22,818,879.53</td>\n",
       "                        <td id=\"T_cf35b74c_d2ad_11ec_8f6a_80ce62d62fd4row4_col1\" class=\"data row4 col1\" >48,978,389.11</td>\n",
       "                        <td id=\"T_cf35b74c_d2ad_11ec_8f6a_80ce62d62fd4row4_col2\" class=\"data row4 col2\" >98,473,749.66</td>\n",
       "            </tr>\n",
       "            <tr>\n",
       "                        <th id=\"T_cf35b74c_d2ad_11ec_8f6a_80ce62d62fd4level0_row5\" class=\"row_heading level0 row5\" >yt_total</th>\n",
       "                        <td id=\"T_cf35b74c_d2ad_11ec_8f6a_80ce62d62fd4row5_col0\" class=\"data row5 col0\" >22,864,983.65</td>\n",
       "                        <td id=\"T_cf35b74c_d2ad_11ec_8f6a_80ce62d62fd4row5_col1\" class=\"data row5 col1\" >48,778,896.22</td>\n",
       "                        <td id=\"T_cf35b74c_d2ad_11ec_8f6a_80ce62d62fd4row5_col2\" class=\"data row5 col2\" >99,259,978.17</td>\n",
       "            </tr>\n",
       "            <tr>\n",
       "                        <th id=\"T_cf35b74c_d2ad_11ec_8f6a_80ce62d62fd4level0_row6\" class=\"row_heading level0 row6\" >google_total</th>\n",
       "                        <td id=\"T_cf35b74c_d2ad_11ec_8f6a_80ce62d62fd4row6_col0\" class=\"data row6 col0\" >7,874,103.69</td>\n",
       "                        <td id=\"T_cf35b74c_d2ad_11ec_8f6a_80ce62d62fd4row6_col1\" class=\"data row6 col1\" >16,854,918.43</td>\n",
       "                        <td id=\"T_cf35b74c_d2ad_11ec_8f6a_80ce62d62fd4row6_col2\" class=\"data row6 col2\" >34,235,379.83</td>\n",
       "            </tr>\n",
       "            <tr>\n",
       "                        <th id=\"T_cf35b74c_d2ad_11ec_8f6a_80ce62d62fd4level0_row7\" class=\"row_heading level0 row7\" >mail_total</th>\n",
       "                        <td id=\"T_cf35b74c_d2ad_11ec_8f6a_80ce62d62fd4row7_col0\" class=\"data row7 col0\" >2,281,926.56</td>\n",
       "                        <td id=\"T_cf35b74c_d2ad_11ec_8f6a_80ce62d62fd4row7_col1\" class=\"data row7 col1\" >4,864,217.47</td>\n",
       "                        <td id=\"T_cf35b74c_d2ad_11ec_8f6a_80ce62d62fd4row7_col2\" class=\"data row7 col2\" >9,910,066.95</td>\n",
       "            </tr>\n",
       "            <tr>\n",
       "                        <th id=\"T_cf35b74c_d2ad_11ec_8f6a_80ce62d62fd4level0_row8\" class=\"row_heading level0 row8\" >other_total_y</th>\n",
       "                        <td id=\"T_cf35b74c_d2ad_11ec_8f6a_80ce62d62fd4row8_col0\" class=\"data row8 col0\" >429,171,205.01</td>\n",
       "                        <td id=\"T_cf35b74c_d2ad_11ec_8f6a_80ce62d62fd4row8_col1\" class=\"data row8 col1\" >931,024,007.88</td>\n",
       "                        <td id=\"T_cf35b74c_d2ad_11ec_8f6a_80ce62d62fd4row8_col2\" class=\"data row8 col2\" >1,934,404,180.90</td>\n",
       "            </tr>\n",
       "            <tr>\n",
       "                        <th id=\"T_cf35b74c_d2ad_11ec_8f6a_80ce62d62fd4level0_row9\" class=\"row_heading level0 row9\" >socials_total</th>\n",
       "                        <td id=\"T_cf35b74c_d2ad_11ec_8f6a_80ce62d62fd4row9_col0\" class=\"data row9 col0\" >1,841,445.98</td>\n",
       "                        <td id=\"T_cf35b74c_d2ad_11ec_8f6a_80ce62d62fd4row9_col1\" class=\"data row9 col1\" >3,961,320.52</td>\n",
       "                        <td id=\"T_cf35b74c_d2ad_11ec_8f6a_80ce62d62fd4row9_col2\" class=\"data row9 col2\" >7,965,267.10</td>\n",
       "            </tr>\n",
       "    </tbody></table>"
      ],
      "text/plain": [
       "<pandas.io.formats.style.Styler at 0x2cebc043f98>"
      ]
     },
     "execution_count": 119,
     "metadata": {},
     "output_type": "execute_result"
    }
   ],
   "source": [
    "average_measures.T.style.highlight_max(color = 'lightgreen', axis = 1).format(\"{:,.2f}\")"
   ]
  },
  {
   "cell_type": "code",
   "execution_count": 120,
   "metadata": {},
   "outputs": [
    {
     "data": {
      "text/html": [
       "<style  type=\"text/css\" >\n",
       "    #T_cf88f79e_d2ad_11ec_8cde_80ce62d62fd4row0_col0 {\n",
       "            background-color:  pink;\n",
       "        }    #T_cf88f79e_d2ad_11ec_8cde_80ce62d62fd4row1_col0 {\n",
       "            background-color:  pink;\n",
       "        }    #T_cf88f79e_d2ad_11ec_8cde_80ce62d62fd4row2_col0 {\n",
       "            background-color:  pink;\n",
       "        }    #T_cf88f79e_d2ad_11ec_8cde_80ce62d62fd4row3_col0 {\n",
       "            background-color:  pink;\n",
       "        }    #T_cf88f79e_d2ad_11ec_8cde_80ce62d62fd4row4_col0 {\n",
       "            background-color:  pink;\n",
       "        }    #T_cf88f79e_d2ad_11ec_8cde_80ce62d62fd4row5_col0 {\n",
       "            background-color:  pink;\n",
       "        }    #T_cf88f79e_d2ad_11ec_8cde_80ce62d62fd4row6_col0 {\n",
       "            background-color:  pink;\n",
       "        }    #T_cf88f79e_d2ad_11ec_8cde_80ce62d62fd4row7_col0 {\n",
       "            background-color:  pink;\n",
       "        }    #T_cf88f79e_d2ad_11ec_8cde_80ce62d62fd4row8_col0 {\n",
       "            background-color:  pink;\n",
       "        }    #T_cf88f79e_d2ad_11ec_8cde_80ce62d62fd4row9_col0 {\n",
       "            background-color:  pink;\n",
       "        }</style><table id=\"T_cf88f79e_d2ad_11ec_8cde_80ce62d62fd4\" ><thead>    <tr>        <th class=\"index_name level0\" >CLUSTERS</th>        <th class=\"col_heading level0 col0\" >0</th>        <th class=\"col_heading level0 col1\" >1</th>        <th class=\"col_heading level0 col2\" >2</th>    </tr></thead><tbody>\n",
       "                <tr>\n",
       "                        <th id=\"T_cf88f79e_d2ad_11ec_8cde_80ce62d62fd4level0_row0\" class=\"row_heading level0 row0\" >total_duration</th>\n",
       "                        <td id=\"T_cf88f79e_d2ad_11ec_8cde_80ce62d62fd4row0_col0\" class=\"data row0 col0\" >104,618,753.11</td>\n",
       "                        <td id=\"T_cf88f79e_d2ad_11ec_8cde_80ce62d62fd4row0_col1\" class=\"data row0 col1\" >209,437,892.86</td>\n",
       "                        <td id=\"T_cf88f79e_d2ad_11ec_8cde_80ce62d62fd4row0_col2\" class=\"data row0 col2\" >591,705,545.77</td>\n",
       "            </tr>\n",
       "            <tr>\n",
       "                        <th id=\"T_cf88f79e_d2ad_11ec_8cde_80ce62d62fd4level0_row1\" class=\"row_heading level0 row1\" >session_count</th>\n",
       "                        <td id=\"T_cf88f79e_d2ad_11ec_8cde_80ce62d62fd4row1_col0\" class=\"data row1 col0\" >1.01</td>\n",
       "                        <td id=\"T_cf88f79e_d2ad_11ec_8cde_80ce62d62fd4row1_col1\" class=\"data row1 col1\" >2.15</td>\n",
       "                        <td id=\"T_cf88f79e_d2ad_11ec_8cde_80ce62d62fd4row1_col2\" class=\"data row1 col2\" >4.31</td>\n",
       "            </tr>\n",
       "            <tr>\n",
       "                        <th id=\"T_cf88f79e_d2ad_11ec_8cde_80ce62d62fd4level0_row2\" class=\"row_heading level0 row2\" >other_total_x</th>\n",
       "                        <td id=\"T_cf88f79e_d2ad_11ec_8cde_80ce62d62fd4row2_col0\" class=\"data row2 col0\" >429,171,205.01</td>\n",
       "                        <td id=\"T_cf88f79e_d2ad_11ec_8cde_80ce62d62fd4row2_col1\" class=\"data row2 col1\" >931,024,007.88</td>\n",
       "                        <td id=\"T_cf88f79e_d2ad_11ec_8cde_80ce62d62fd4row2_col2\" class=\"data row2 col2\" >1,934,404,180.90</td>\n",
       "            </tr>\n",
       "            <tr>\n",
       "                        <th id=\"T_cf88f79e_d2ad_11ec_8cde_80ce62d62fd4level0_row3\" class=\"row_heading level0 row3\" >gaming_total</th>\n",
       "                        <td id=\"T_cf88f79e_d2ad_11ec_8cde_80ce62d62fd4row3_col0\" class=\"data row3 col0\" >433,309,843.88</td>\n",
       "                        <td id=\"T_cf88f79e_d2ad_11ec_8cde_80ce62d62fd4row3_col1\" class=\"data row3 col1\" >928,963,543.09</td>\n",
       "                        <td id=\"T_cf88f79e_d2ad_11ec_8cde_80ce62d62fd4row3_col2\" class=\"data row3 col2\" >1,900,474,486.62</td>\n",
       "            </tr>\n",
       "            <tr>\n",
       "                        <th id=\"T_cf88f79e_d2ad_11ec_8cde_80ce62d62fd4level0_row4\" class=\"row_heading level0 row4\" >netflix_total</th>\n",
       "                        <td id=\"T_cf88f79e_d2ad_11ec_8cde_80ce62d62fd4row4_col0\" class=\"data row4 col0\" >22,818,879.53</td>\n",
       "                        <td id=\"T_cf88f79e_d2ad_11ec_8cde_80ce62d62fd4row4_col1\" class=\"data row4 col1\" >48,978,389.11</td>\n",
       "                        <td id=\"T_cf88f79e_d2ad_11ec_8cde_80ce62d62fd4row4_col2\" class=\"data row4 col2\" >98,473,749.66</td>\n",
       "            </tr>\n",
       "            <tr>\n",
       "                        <th id=\"T_cf88f79e_d2ad_11ec_8cde_80ce62d62fd4level0_row5\" class=\"row_heading level0 row5\" >yt_total</th>\n",
       "                        <td id=\"T_cf88f79e_d2ad_11ec_8cde_80ce62d62fd4row5_col0\" class=\"data row5 col0\" >22,864,983.65</td>\n",
       "                        <td id=\"T_cf88f79e_d2ad_11ec_8cde_80ce62d62fd4row5_col1\" class=\"data row5 col1\" >48,778,896.22</td>\n",
       "                        <td id=\"T_cf88f79e_d2ad_11ec_8cde_80ce62d62fd4row5_col2\" class=\"data row5 col2\" >99,259,978.17</td>\n",
       "            </tr>\n",
       "            <tr>\n",
       "                        <th id=\"T_cf88f79e_d2ad_11ec_8cde_80ce62d62fd4level0_row6\" class=\"row_heading level0 row6\" >google_total</th>\n",
       "                        <td id=\"T_cf88f79e_d2ad_11ec_8cde_80ce62d62fd4row6_col0\" class=\"data row6 col0\" >7,874,103.69</td>\n",
       "                        <td id=\"T_cf88f79e_d2ad_11ec_8cde_80ce62d62fd4row6_col1\" class=\"data row6 col1\" >16,854,918.43</td>\n",
       "                        <td id=\"T_cf88f79e_d2ad_11ec_8cde_80ce62d62fd4row6_col2\" class=\"data row6 col2\" >34,235,379.83</td>\n",
       "            </tr>\n",
       "            <tr>\n",
       "                        <th id=\"T_cf88f79e_d2ad_11ec_8cde_80ce62d62fd4level0_row7\" class=\"row_heading level0 row7\" >mail_total</th>\n",
       "                        <td id=\"T_cf88f79e_d2ad_11ec_8cde_80ce62d62fd4row7_col0\" class=\"data row7 col0\" >2,281,926.56</td>\n",
       "                        <td id=\"T_cf88f79e_d2ad_11ec_8cde_80ce62d62fd4row7_col1\" class=\"data row7 col1\" >4,864,217.47</td>\n",
       "                        <td id=\"T_cf88f79e_d2ad_11ec_8cde_80ce62d62fd4row7_col2\" class=\"data row7 col2\" >9,910,066.95</td>\n",
       "            </tr>\n",
       "            <tr>\n",
       "                        <th id=\"T_cf88f79e_d2ad_11ec_8cde_80ce62d62fd4level0_row8\" class=\"row_heading level0 row8\" >other_total_y</th>\n",
       "                        <td id=\"T_cf88f79e_d2ad_11ec_8cde_80ce62d62fd4row8_col0\" class=\"data row8 col0\" >429,171,205.01</td>\n",
       "                        <td id=\"T_cf88f79e_d2ad_11ec_8cde_80ce62d62fd4row8_col1\" class=\"data row8 col1\" >931,024,007.88</td>\n",
       "                        <td id=\"T_cf88f79e_d2ad_11ec_8cde_80ce62d62fd4row8_col2\" class=\"data row8 col2\" >1,934,404,180.90</td>\n",
       "            </tr>\n",
       "            <tr>\n",
       "                        <th id=\"T_cf88f79e_d2ad_11ec_8cde_80ce62d62fd4level0_row9\" class=\"row_heading level0 row9\" >socials_total</th>\n",
       "                        <td id=\"T_cf88f79e_d2ad_11ec_8cde_80ce62d62fd4row9_col0\" class=\"data row9 col0\" >1,841,445.98</td>\n",
       "                        <td id=\"T_cf88f79e_d2ad_11ec_8cde_80ce62d62fd4row9_col1\" class=\"data row9 col1\" >3,961,320.52</td>\n",
       "                        <td id=\"T_cf88f79e_d2ad_11ec_8cde_80ce62d62fd4row9_col2\" class=\"data row9 col2\" >7,965,267.10</td>\n",
       "            </tr>\n",
       "    </tbody></table>"
      ],
      "text/plain": [
       "<pandas.io.formats.style.Styler at 0x2cecc8a3710>"
      ]
     },
     "execution_count": 120,
     "metadata": {},
     "output_type": "execute_result"
    }
   ],
   "source": [
    "average_measures.T.style.highlight_min(color = 'pink', axis = 1).format(\"{:,.2f}\")"
   ]
  },
  {
   "cell_type": "code",
   "execution_count": 102,
   "metadata": {},
   "outputs": [],
   "source": [
    "engagement2.to_csv('../data/engagement.csv', encoding='utf-8')"
   ]
  },
  {
   "cell_type": "code",
   "execution_count": null,
   "metadata": {},
   "outputs": [],
   "source": []
  }
 ],
 "metadata": {
  "kernelspec": {
   "display_name": "Python 3",
   "language": "python",
   "name": "python3"
  },
  "language_info": {
   "codemirror_mode": {
    "name": "ipython",
    "version": 3
   },
   "file_extension": ".py",
   "mimetype": "text/x-python",
   "name": "python",
   "nbconvert_exporter": "python",
   "pygments_lexer": "ipython3",
   "version": "3.7.3"
  }
 },
 "nbformat": 4,
 "nbformat_minor": 2
}
