{
 "cells": [
  {
   "cell_type": "markdown",
   "metadata": {},
   "source": [
    "Task 2 - User Engagement analysis\n",
    "\n",
    "As telecom brands are the data providers of all online activities, meeting user requirements, and creating an engaging user experience is a prerequisite for them. Building & improving the QoS (Quality of Service) to leverage the mobile platforms and to get more users for the business is good but the success of the business would be determined by the user engagement and activity of the customers on available apps. \n",
    "\n",
    "In telecommunication, tracking the user activities on the database sessions is a good starting point to appreciate the user engagement for the overall applications and per application as well. If we can determine the level of engagement of a random user for any application, then it could help the technical teams of the business to know where to concentrate network resources for different clusters of customers based on the engagement scores.\n",
    "\n",
    "In the current dataset you’re expected to track the user’s engagement using the following engagement metrics: \n",
    "sessions frequency \n",
    "\n",
    "the duration of the session \n",
    "\n",
    "the sessions total traffic (download and upload (bytes))\n",
    "\n",
    "Task 2.1 - Based on the above submit python script and slide :\n",
    "\n",
    "1.Aggregate the above metrics per customer id (MSISDN) and report the top 10 customers per engagement metric \n",
    "\n",
    "2.Normalize each engagement metric and run a k-means (k=3) to classify customers in three groups of engagement. \n",
    "\n",
    "3.Compute the minimum, maximum, average & total non- normalized metrics for each cluster. Interpret your results visually with accompanying text explaining your findings.\n",
    "\n",
    "4.Aggregate user total traffic per application and derive the top 10 most engaged users per application\n",
    "\n",
    "5.Plot the top 3 most used applications using appropriate charts. \n",
    "\n",
    "6.Using k-means clustering algorithm, group users in k engagement clusters based on the engagement metrics: \n",
    "What is the optimized value of k (use elbow method for this)?  \n",
    "Interpret your findings. \n",
    "\n"
   ]
  },
  {
   "cell_type": "code",
   "execution_count": 1,
   "metadata": {},
   "outputs": [],
   "source": [
    "import numpy as np\n",
    "import pandas as pd\n",
    "pd.set_option('display.float_format', lambda x: '%.0f' % x)\n",
    "pd.set_option('display.max_columns', None)"
   ]
  },
  {
   "cell_type": "code",
   "execution_count": 2,
   "metadata": {},
   "outputs": [],
   "source": [
    "df=pd.read_csv('../data/to_trasform.csv')"
   ]
  },
  {
   "cell_type": "code",
   "execution_count": 3,
   "metadata": {},
   "outputs": [
    {
     "data": {
      "text/html": [
       "<div>\n",
       "<style scoped>\n",
       "    .dataframe tbody tr th:only-of-type {\n",
       "        vertical-align: middle;\n",
       "    }\n",
       "\n",
       "    .dataframe tbody tr th {\n",
       "        vertical-align: top;\n",
       "    }\n",
       "\n",
       "    .dataframe thead th {\n",
       "        text-align: right;\n",
       "    }\n",
       "</style>\n",
       "<table border=\"1\" class=\"dataframe\">\n",
       "  <thead>\n",
       "    <tr style=\"text-align: right;\">\n",
       "      <th></th>\n",
       "      <th>Unnamed: 0</th>\n",
       "      <th>Bearer_Id</th>\n",
       "      <th>Dur. (ms)</th>\n",
       "      <th>IMSI</th>\n",
       "      <th>MSISDN</th>\n",
       "      <th>IMEI</th>\n",
       "      <th>last_location</th>\n",
       "      <th>avg_rtt_dl</th>\n",
       "      <th>avg_rtt_ul</th>\n",
       "      <th>throughput_avg_dl_kpbs</th>\n",
       "      <th>throughput_avg_ul_kpbs</th>\n",
       "      <th>retrans_packets_dl_b</th>\n",
       "      <th>retrans_packets_ul_b</th>\n",
       "      <th>tp_dl_below_50kbps_pc</th>\n",
       "      <th>tp_dl_50_250kbps_pc</th>\n",
       "      <th>tp_dl_250kbps_1mbps_pc</th>\n",
       "      <th>tp_dl_above_1mbps_pc</th>\n",
       "      <th>tp_ul_below_10kpbs_pc</th>\n",
       "      <th>tp_ul_10_50_kbps_pc</th>\n",
       "      <th>tp_ul_50_300_kbps_pc</th>\n",
       "      <th>tp_ul_above_300_kpbs_pc</th>\n",
       "      <th>activity_duration_dl</th>\n",
       "      <th>activity_duration_ul</th>\n",
       "      <th>Dur. (ms).1</th>\n",
       "      <th>phone_company</th>\n",
       "      <th>phone_name</th>\n",
       "      <th>t_vol_dl_above_6250B</th>\n",
       "      <th>t_vol_ul_above_1250B</th>\n",
       "      <th>socials_dl_b</th>\n",
       "      <th>socials_ul_b</th>\n",
       "      <th>google_dl_b</th>\n",
       "      <th>google_ul_b</th>\n",
       "      <th>email_dl_b</th>\n",
       "      <th>email_ul_b</th>\n",
       "      <th>youtube_dl_b</th>\n",
       "      <th>youtube_ul_b</th>\n",
       "      <th>netflix_dl_b</th>\n",
       "      <th>netflix_ul_b</th>\n",
       "      <th>gaming_dl_b</th>\n",
       "      <th>gaming_ul_b</th>\n",
       "      <th>other_dl_b</th>\n",
       "      <th>other_ul_b</th>\n",
       "      <th>Total_ul_b</th>\n",
       "      <th>Total_dl_b</th>\n",
       "      <th>total_ul_data</th>\n",
       "      <th>total_dl_data</th>\n",
       "      <th>socials_total_b</th>\n",
       "      <th>google_total_b</th>\n",
       "      <th>email_total_b</th>\n",
       "      <th>youtube_total_b</th>\n",
       "      <th>netflix_total_b</th>\n",
       "      <th>gaming_total_b</th>\n",
       "      <th>other_total_b</th>\n",
       "      <th>total_b</th>\n",
       "    </tr>\n",
       "  </thead>\n",
       "  <tbody>\n",
       "    <tr>\n",
       "      <td>0</td>\n",
       "      <td>0</td>\n",
       "      <td>13114483460844900352</td>\n",
       "      <td>1823652</td>\n",
       "      <td>208201448079117</td>\n",
       "      <td>33664962239</td>\n",
       "      <td>35521209507511</td>\n",
       "      <td>9.16456699548519E+015</td>\n",
       "      <td>42</td>\n",
       "      <td>5</td>\n",
       "      <td>23</td>\n",
       "      <td>44</td>\n",
       "      <td>20884183</td>\n",
       "      <td>766247</td>\n",
       "      <td>100</td>\n",
       "      <td>0</td>\n",
       "      <td>0</td>\n",
       "      <td>0</td>\n",
       "      <td>100</td>\n",
       "      <td>0</td>\n",
       "      <td>0</td>\n",
       "      <td>0</td>\n",
       "      <td>37624</td>\n",
       "      <td>38787</td>\n",
       "      <td>1823652892</td>\n",
       "      <td>Samsung</td>\n",
       "      <td>Samsung Galaxy A5 Sm-A520F</td>\n",
       "      <td>213</td>\n",
       "      <td>214</td>\n",
       "      <td>1545765</td>\n",
       "      <td>24420</td>\n",
       "      <td>1634479</td>\n",
       "      <td>1271433</td>\n",
       "      <td>3563542</td>\n",
       "      <td>137762</td>\n",
       "      <td>15854611</td>\n",
       "      <td>2501332</td>\n",
       "      <td>8198936</td>\n",
       "      <td>9656251</td>\n",
       "      <td>278082303</td>\n",
       "      <td>14344150</td>\n",
       "      <td>171744450</td>\n",
       "      <td>8814393</td>\n",
       "      <td>36749741</td>\n",
       "      <td>308879636</td>\n",
       "      <td>36749741</td>\n",
       "      <td>480624086</td>\n",
       "      <td>1570185</td>\n",
       "      <td>2905912</td>\n",
       "      <td>3701304</td>\n",
       "      <td>18355943</td>\n",
       "      <td>17855187</td>\n",
       "      <td>292426453</td>\n",
       "      <td>180558843</td>\n",
       "      <td>345629377</td>\n",
       "    </tr>\n",
       "    <tr>\n",
       "      <td>1</td>\n",
       "      <td>1</td>\n",
       "      <td>13114483482878900224</td>\n",
       "      <td>1365104</td>\n",
       "      <td>208201909211140</td>\n",
       "      <td>33681854413</td>\n",
       "      <td>35794009006359</td>\n",
       "      <td>L77566A</td>\n",
       "      <td>65</td>\n",
       "      <td>5</td>\n",
       "      <td>16</td>\n",
       "      <td>26</td>\n",
       "      <td>20884183</td>\n",
       "      <td>766247</td>\n",
       "      <td>100</td>\n",
       "      <td>0</td>\n",
       "      <td>0</td>\n",
       "      <td>0</td>\n",
       "      <td>100</td>\n",
       "      <td>0</td>\n",
       "      <td>0</td>\n",
       "      <td>0</td>\n",
       "      <td>168</td>\n",
       "      <td>3560</td>\n",
       "      <td>1365104371</td>\n",
       "      <td>Samsung</td>\n",
       "      <td>Samsung Galaxy J5 (Sm-J530)</td>\n",
       "      <td>971</td>\n",
       "      <td>1022</td>\n",
       "      <td>1926113</td>\n",
       "      <td>7165</td>\n",
       "      <td>3493924</td>\n",
       "      <td>920172</td>\n",
       "      <td>629046</td>\n",
       "      <td>308339</td>\n",
       "      <td>20247395</td>\n",
       "      <td>19111729</td>\n",
       "      <td>18338413</td>\n",
       "      <td>17227132</td>\n",
       "      <td>608750074</td>\n",
       "      <td>1170709</td>\n",
       "      <td>526904238</td>\n",
       "      <td>15055145</td>\n",
       "      <td>53800391</td>\n",
       "      <td>653384965</td>\n",
       "      <td>53800391</td>\n",
       "      <td>1180289203</td>\n",
       "      <td>1933278</td>\n",
       "      <td>4414096</td>\n",
       "      <td>937385</td>\n",
       "      <td>39359124</td>\n",
       "      <td>35565545</td>\n",
       "      <td>609920783</td>\n",
       "      <td>541959383</td>\n",
       "      <td>707185356</td>\n",
       "    </tr>\n",
       "  </tbody>\n",
       "</table>\n",
       "</div>"
      ],
      "text/plain": [
       "   Unnamed: 0            Bearer_Id  Dur. (ms)            IMSI      MSISDN  \\\n",
       "0           0 13114483460844900352    1823652 208201448079117 33664962239   \n",
       "1           1 13114483482878900224    1365104 208201909211140 33681854413   \n",
       "\n",
       "            IMEI          last_location  avg_rtt_dl  avg_rtt_ul  \\\n",
       "0 35521209507511  9.16456699548519E+015          42           5   \n",
       "1 35794009006359                L77566A          65           5   \n",
       "\n",
       "   throughput_avg_dl_kpbs  throughput_avg_ul_kpbs  retrans_packets_dl_b  \\\n",
       "0                      23                      44              20884183   \n",
       "1                      16                      26              20884183   \n",
       "\n",
       "   retrans_packets_ul_b  tp_dl_below_50kbps_pc  tp_dl_50_250kbps_pc  \\\n",
       "0                766247                    100                    0   \n",
       "1                766247                    100                    0   \n",
       "\n",
       "   tp_dl_250kbps_1mbps_pc    tp_dl_above_1mbps_pc  tp_ul_below_10kpbs_pc  \\\n",
       "0                        0                      0                    100   \n",
       "1                        0                      0                    100   \n",
       "\n",
       "   tp_ul_10_50_kbps_pc   tp_ul_50_300_kbps_pc      tp_ul_above_300_kpbs_pc  \\\n",
       "0                     0                       0                          0   \n",
       "1                     0                       0                          0   \n",
       "\n",
       "   activity_duration_dl  activity_duration_ul  Dur. (ms).1 phone_company  \\\n",
       "0                 37624                 38787   1823652892       Samsung   \n",
       "1                   168                  3560   1365104371       Samsung   \n",
       "\n",
       "                    phone_name  t_vol_dl_above_6250B   t_vol_ul_above_1250B  \\\n",
       "0   Samsung Galaxy A5 Sm-A520F                    213                   214   \n",
       "1  Samsung Galaxy J5 (Sm-J530)                    971                  1022   \n",
       "\n",
       "   socials_dl_b  socials_ul_b  google_dl_b  google_ul_b  email_dl_b  \\\n",
       "0       1545765         24420      1634479      1271433     3563542   \n",
       "1       1926113          7165      3493924       920172      629046   \n",
       "\n",
       "   email_ul_b  youtube_dl_b  youtube_ul_b  netflix_dl_b  netflix_ul_b  \\\n",
       "0      137762      15854611       2501332       8198936       9656251   \n",
       "1      308339      20247395      19111729      18338413      17227132   \n",
       "\n",
       "   gaming_dl_b  gaming_ul_b  other_dl_b  other_ul_b  Total_ul_b  Total_dl_b  \\\n",
       "0    278082303     14344150   171744450     8814393    36749741   308879636   \n",
       "1    608750074      1170709   526904238    15055145    53800391   653384965   \n",
       "\n",
       "   total_ul_data  total_dl_data  socials_total_b  google_total_b  \\\n",
       "0       36749741      480624086          1570185         2905912   \n",
       "1       53800391     1180289203          1933278         4414096   \n",
       "\n",
       "   email_total_b  youtube_total_b  netflix_total_b  gaming_total_b  \\\n",
       "0        3701304         18355943         17855187       292426453   \n",
       "1         937385         39359124         35565545       609920783   \n",
       "\n",
       "   other_total_b   total_b  \n",
       "0      180558843 345629377  \n",
       "1      541959383 707185356  "
      ]
     },
     "execution_count": 3,
     "metadata": {},
     "output_type": "execute_result"
    }
   ],
   "source": [
    "df.head(2)"
   ]
  },
  {
   "cell_type": "markdown",
   "metadata": {},
   "source": [
    "In the current dataset you’re expected to track the user’s engagement using the following engagement metrics: \n",
    "\n",
    "1.sessions frequency \n",
    "\n",
    "2.the duration of the session \n",
    "\n",
    "3.the sessions total traffic (download and upload (bytes))\n",
    "\n",
    "\n",
    "\n",
    "1.Aggregate the above metrics per customer id (MSISDN) and report the top 10 customers per engagement metric "
   ]
  },
  {
   "cell_type": "code",
   "execution_count": 4,
   "metadata": {},
   "outputs": [],
   "source": [
    "import sys\n",
    "sys.path.insert(0,'../scripts')\n",
    "from results_pickler import ResultPickler"
   ]
  },
  {
   "cell_type": "code",
   "execution_count": 5,
   "metadata": {},
   "outputs": [],
   "source": [
    "results = ResultPickler()"
   ]
  },
  {
   "cell_type": "code",
   "execution_count": 6,
   "metadata": {},
   "outputs": [],
   "source": [
    "session_f=df.groupby(['MSISDN'])[\"Dur. (ms).1\"].count().reset_index(name='session_count')"
   ]
  },
  {
   "cell_type": "code",
   "execution_count": 7,
   "metadata": {},
   "outputs": [],
   "source": [
    "session_frequency=session_f.sort_values(['session_count'], ascending=False).head(10)"
   ]
  },
  {
   "cell_type": "code",
   "execution_count": 8,
   "metadata": {},
   "outputs": [],
   "source": [
    "results.add_data('session_frequency',session_frequency)"
   ]
  },
  {
   "cell_type": "markdown",
   "metadata": {},
   "source": [
    "Aggregation by session duration"
   ]
  },
  {
   "cell_type": "code",
   "execution_count": 9,
   "metadata": {},
   "outputs": [],
   "source": [
    "session_d=df.groupby(['MSISDN'])[\"Dur. (ms).1\"].sum().reset_index(name='total_duration')"
   ]
  },
  {
   "cell_type": "code",
   "execution_count": 10,
   "metadata": {},
   "outputs": [],
   "source": [
    "session_duration=session_d.sort_values(['total_duration'], ascending=False).head(10)"
   ]
  },
  {
   "cell_type": "code",
   "execution_count": 11,
   "metadata": {},
   "outputs": [],
   "source": [
    "results.add_data('session_duration',session_duration)"
   ]
  },
  {
   "cell_type": "markdown",
   "metadata": {},
   "source": [
    "Total upload and download"
   ]
  },
  {
   "cell_type": "code",
   "execution_count": 12,
   "metadata": {},
   "outputs": [],
   "source": [
    "df['total_dl_ul']=df['total_dl_data'] + df['total_ul_data']"
   ]
  },
  {
   "cell_type": "code",
   "execution_count": 13,
   "metadata": {},
   "outputs": [],
   "source": [
    "total_s_b=df.groupby(['MSISDN'])[\"total_dl_ul\"].sum().reset_index(name='total_data')"
   ]
  },
  {
   "cell_type": "code",
   "execution_count": 14,
   "metadata": {},
   "outputs": [],
   "source": [
    "total_session_b=total_s_b.sort_values(['total_data'], ascending=False).head(10)"
   ]
  },
  {
   "cell_type": "code",
   "execution_count": 15,
   "metadata": {},
   "outputs": [],
   "source": [
    "results.add_data('total_session_b',total_session_b)"
   ]
  },
  {
   "cell_type": "markdown",
   "metadata": {},
   "source": [
    "# Task 2.1 "
   ]
  },
  {
   "cell_type": "markdown",
   "metadata": {},
   "source": [
    " \n",
    "Normalize each engagement metric and run a k-means (k=3) to classify customers in three groups of engagement. \n",
    "\n",
    "Compute the minimum, maximum, average & total non- normalized metrics for each cluster. Interpret your results visually with accompanying text explaining your findings.\n",
    "\n",
    ".\n"
   ]
  },
  {
   "cell_type": "code",
   "execution_count": 16,
   "metadata": {},
   "outputs": [],
   "source": [
    "data  = pd.merge(total_s_b, session_d, on='MSISDN', how='left')\n",
    "data  = pd.merge(data, session_f, on='MSISDN', how='left')"
   ]
  },
  {
   "cell_type": "code",
   "execution_count": 17,
   "metadata": {},
   "outputs": [
    {
     "data": {
      "text/html": [
       "<div>\n",
       "<style scoped>\n",
       "    .dataframe tbody tr th:only-of-type {\n",
       "        vertical-align: middle;\n",
       "    }\n",
       "\n",
       "    .dataframe tbody tr th {\n",
       "        vertical-align: top;\n",
       "    }\n",
       "\n",
       "    .dataframe thead th {\n",
       "        text-align: right;\n",
       "    }\n",
       "</style>\n",
       "<table border=\"1\" class=\"dataframe\">\n",
       "  <thead>\n",
       "    <tr style=\"text-align: right;\">\n",
       "      <th></th>\n",
       "      <th>MSISDN</th>\n",
       "      <th>total_data</th>\n",
       "      <th>total_duration</th>\n",
       "      <th>session_count</th>\n",
       "    </tr>\n",
       "  </thead>\n",
       "  <tbody>\n",
       "    <tr>\n",
       "      <td>0</td>\n",
       "      <td>33601001722</td>\n",
       "      <td>1255787564</td>\n",
       "      <td>116720140</td>\n",
       "      <td>1</td>\n",
       "    </tr>\n",
       "    <tr>\n",
       "      <td>1</td>\n",
       "      <td>33601001754</td>\n",
       "      <td>436417344</td>\n",
       "      <td>181230963</td>\n",
       "      <td>1</td>\n",
       "    </tr>\n",
       "    <tr>\n",
       "      <td>2</td>\n",
       "      <td>33601002511</td>\n",
       "      <td>1091052984</td>\n",
       "      <td>134969374</td>\n",
       "      <td>1</td>\n",
       "    </tr>\n",
       "    <tr>\n",
       "      <td>3</td>\n",
       "      <td>33601007832</td>\n",
       "      <td>447568699</td>\n",
       "      <td>49878024</td>\n",
       "      <td>1</td>\n",
       "    </tr>\n",
       "    <tr>\n",
       "      <td>4</td>\n",
       "      <td>33601008617</td>\n",
       "      <td>2235054657</td>\n",
       "      <td>37104453</td>\n",
       "      <td>2</td>\n",
       "    </tr>\n",
       "    <tr>\n",
       "      <td>5</td>\n",
       "      <td>33601010682</td>\n",
       "      <td>1095575829</td>\n",
       "      <td>253983077</td>\n",
       "      <td>2</td>\n",
       "    </tr>\n",
       "    <tr>\n",
       "      <td>6</td>\n",
       "      <td>33601011634</td>\n",
       "      <td>859918491</td>\n",
       "      <td>128360523</td>\n",
       "      <td>2</td>\n",
       "    </tr>\n",
       "    <tr>\n",
       "      <td>7</td>\n",
       "      <td>33601011959</td>\n",
       "      <td>510773383</td>\n",
       "      <td>86399977</td>\n",
       "      <td>1</td>\n",
       "    </tr>\n",
       "    <tr>\n",
       "      <td>8</td>\n",
       "      <td>33601014694</td>\n",
       "      <td>2016653584</td>\n",
       "      <td>495702147</td>\n",
       "      <td>2</td>\n",
       "    </tr>\n",
       "    <tr>\n",
       "      <td>9</td>\n",
       "      <td>33601020306</td>\n",
       "      <td>866204929</td>\n",
       "      <td>124854778</td>\n",
       "      <td>1</td>\n",
       "    </tr>\n",
       "  </tbody>\n",
       "</table>\n",
       "</div>"
      ],
      "text/plain": [
       "       MSISDN  total_data  total_duration  session_count\n",
       "0 33601001722  1255787564       116720140              1\n",
       "1 33601001754   436417344       181230963              1\n",
       "2 33601002511  1091052984       134969374              1\n",
       "3 33601007832   447568699        49878024              1\n",
       "4 33601008617  2235054657        37104453              2\n",
       "5 33601010682  1095575829       253983077              2\n",
       "6 33601011634   859918491       128360523              2\n",
       "7 33601011959   510773383        86399977              1\n",
       "8 33601014694  2016653584       495702147              2\n",
       "9 33601020306   866204929       124854778              1"
      ]
     },
     "execution_count": 17,
     "metadata": {},
     "output_type": "execute_result"
    }
   ],
   "source": [
    "data.head(10)"
   ]
  },
  {
   "cell_type": "markdown",
   "metadata": {},
   "source": [
    "# Normalization"
   ]
  },
  {
   "cell_type": "markdown",
   "metadata": {},
   "source": [
    "Normalization\n",
    "\n",
    "Scaling just changes the range of your data. Normalization is a more radical transformation. The point of normalization is to change your observations so that they can be described as a normal distribution.\n",
    "\n",
    "    Normal distribution: Also known as the \"bell curve\", this is a specific statistical distribution where a roughly equal observations fall above and below the mean, the mean and the median are the same, and there are more observations closer to the mean. The normal distribution is also known as the Gaussian distribution.\n",
    "\n",
    "In general, you'll normalize your data if you're going to be using a machine learning or statistics technique that assumes your data is normally distributed. Some examples of these include linear discriminant analysis (LDA) and Gaussian naive Bayes. (Pro tip: any method with \"Gaussian\" in the name probably assumes normality.)\n",
    "\n",
    "The method you will be using to normalize here is called the Normalizer method from sklearn. Let's take a quick peek at what normalizing some data looks like:"
   ]
  },
  {
   "cell_type": "markdown",
   "metadata": {},
   "source": [
    "# Normalize each engagement metric and run a k-means (k=3) to classify customers in three groups of engagement. "
   ]
  },
  {
   "cell_type": "code",
   "execution_count": 18,
   "metadata": {},
   "outputs": [
    {
     "name": "stderr",
     "output_type": "stream",
     "text": [
      "C:\\Users\\kachase\\Anaconda3\\lib\\site-packages\\sklearn\\utils\\validation.py:37: DeprecationWarning: distutils Version classes are deprecated. Use packaging.version instead.\n",
      "  LARGE_SPARSE_SUPPORTED = LooseVersion(scipy_version) >= '0.14.0'\n"
     ]
    }
   ],
   "source": [
    "from sklearn.preprocessing import StandardScaler, normalize\n",
    "from sklearn import decomposition\n",
    "from sklearn import metrics\n",
    "from sklearn.preprocessing import LabelEncoder\n",
    "from sklearn.cluster import KMeans \n",
    "import matplotlib.pyplot as plt"
   ]
  },
  {
   "cell_type": "code",
   "execution_count": 19,
   "metadata": {},
   "outputs": [],
   "source": [
    "from sklearn.preprocessing import Normalizer\n",
    "import seaborn as sns\n",
    "\n",
    "\n",
    "norm = Normalizer()\n",
    "    \n",
    "normalized_data = norm.fit_transform(data)\n",
    "\n",
    "\n"
   ]
  },
  {
   "cell_type": "code",
   "execution_count": 20,
   "metadata": {},
   "outputs": [
    {
     "data": {
      "text/plain": [
       "array([[9.99296320e-01, 3.73472167e-02, 3.47126575e-03, 2.97400753e-11],\n",
       "       [9.99901122e-01, 1.29869399e-02, 5.39308455e-03, 2.97580748e-11],\n",
       "       [9.99465184e-01, 3.24534803e-02, 4.01467754e-03, 2.97451001e-11],\n",
       "       ...,\n",
       "       [9.99999938e-01, 2.18891917e-04, 2.74438393e-04, 3.12791182e-13],\n",
       "       [1.00000000e+00, 2.19775015e-06, 7.50831375e-07, 2.96735872e-15],\n",
       "       [1.00000000e+00, 5.98725178e-07, 9.85774082e-07, 1.13327661e-15]])"
      ]
     },
     "execution_count": 20,
     "metadata": {},
     "output_type": "execute_result"
    }
   ],
   "source": [
    "normalized_data"
   ]
  },
  {
   "cell_type": "markdown",
   "metadata": {},
   "source": [
    "k-means"
   ]
  },
  {
   "cell_type": "code",
   "execution_count": 21,
   "metadata": {},
   "outputs": [
    {
     "data": {
      "text/plain": [
       "array([0, 0, 0, ..., 0, 0, 0])"
      ]
     },
     "execution_count": 21,
     "metadata": {},
     "output_type": "execute_result"
    }
   ],
   "source": [
    "kmeanModel = KMeans(n_clusters=3, random_state = 0)\n",
    "kmeanModel.fit_predict(normalized_data )\n"
   ]
  },
  {
   "cell_type": "code",
   "execution_count": 22,
   "metadata": {},
   "outputs": [],
   "source": [
    "model1_centroids=kmeanModel.cluster_centers_"
   ]
  },
  {
   "cell_type": "code",
   "execution_count": 23,
   "metadata": {},
   "outputs": [
    {
     "data": {
      "text/plain": [
       "array([[9.99615529e-01, 2.59326565e-02, 3.21799066e-03, 3.13791393e-11],\n",
       "       [9.92306726e-01, 1.17472729e-01, 1.56727598e-02, 1.18362870e-10],\n",
       "       [9.98285422e-01, 5.68149065e-02, 5.43864352e-03, 5.52081640e-11]])"
      ]
     },
     "execution_count": 23,
     "metadata": {},
     "output_type": "execute_result"
    }
   ],
   "source": [
    "model1_centroids"
   ]
  },
  {
   "cell_type": "code",
   "execution_count": 24,
   "metadata": {},
   "outputs": [
    {
     "data": {
      "text/plain": [
       "17.05467424862771"
      ]
     },
     "execution_count": 24,
     "metadata": {},
     "output_type": "execute_result"
    }
   ],
   "source": [
    "kmeanModel.inertia_"
   ]
  },
  {
   "cell_type": "code",
   "execution_count": 25,
   "metadata": {},
   "outputs": [
    {
     "data": {
      "text/plain": [
       "array([0, 0, 0, ..., 0, 0, 0])"
      ]
     },
     "execution_count": 25,
     "metadata": {},
     "output_type": "execute_result"
    }
   ],
   "source": [
    "kmeanModel.labels_"
   ]
  },
  {
   "cell_type": "code",
   "execution_count": 26,
   "metadata": {},
   "outputs": [],
   "source": [
    "features = data.copy()"
   ]
  },
  {
   "cell_type": "code",
   "execution_count": 27,
   "metadata": {},
   "outputs": [],
   "source": [
    "labels = kmeanModel.labels_\n",
    "varieties = features['MSISDN'].to_list()"
   ]
  },
  {
   "cell_type": "code",
   "execution_count": 28,
   "metadata": {},
   "outputs": [
    {
     "data": {
      "text/plain": [
       "array([[    0, 74464],\n",
       "       [    1,  4728],\n",
       "       [    2, 27279]], dtype=int64)"
      ]
     },
     "execution_count": 28,
     "metadata": {},
     "output_type": "execute_result"
    }
   ],
   "source": [
    "np.array(np.unique(labels, return_counts=True)).T"
   ]
  },
  {
   "cell_type": "code",
   "execution_count": 29,
   "metadata": {},
   "outputs": [],
   "source": [
    "data_cluster = pd.DataFrame({'CLUSTERS': labels, 'MSISDN': varieties})"
   ]
  },
  {
   "cell_type": "code",
   "execution_count": 30,
   "metadata": {},
   "outputs": [
    {
     "data": {
      "text/html": [
       "<div>\n",
       "<style scoped>\n",
       "    .dataframe tbody tr th:only-of-type {\n",
       "        vertical-align: middle;\n",
       "    }\n",
       "\n",
       "    .dataframe tbody tr th {\n",
       "        vertical-align: top;\n",
       "    }\n",
       "\n",
       "    .dataframe thead th {\n",
       "        text-align: right;\n",
       "    }\n",
       "</style>\n",
       "<table border=\"1\" class=\"dataframe\">\n",
       "  <thead>\n",
       "    <tr style=\"text-align: right;\">\n",
       "      <th></th>\n",
       "      <th>CLUSTERS</th>\n",
       "    </tr>\n",
       "  </thead>\n",
       "  <tbody>\n",
       "    <tr>\n",
       "      <td>0</td>\n",
       "      <td>74464</td>\n",
       "    </tr>\n",
       "    <tr>\n",
       "      <td>2</td>\n",
       "      <td>27279</td>\n",
       "    </tr>\n",
       "    <tr>\n",
       "      <td>1</td>\n",
       "      <td>4728</td>\n",
       "    </tr>\n",
       "  </tbody>\n",
       "</table>\n",
       "</div>"
      ],
      "text/plain": [
       "   CLUSTERS\n",
       "0     74464\n",
       "2     27279\n",
       "1      4728"
      ]
     },
     "execution_count": 30,
     "metadata": {},
     "output_type": "execute_result"
    }
   ],
   "source": [
    "data_cluster['CLUSTERS'].value_counts().to_frame()"
   ]
  },
  {
   "cell_type": "code",
   "execution_count": 31,
   "metadata": {},
   "outputs": [
    {
     "data": {
      "text/html": [
       "<div>\n",
       "<style scoped>\n",
       "    .dataframe tbody tr th:only-of-type {\n",
       "        vertical-align: middle;\n",
       "    }\n",
       "\n",
       "    .dataframe tbody tr th {\n",
       "        vertical-align: top;\n",
       "    }\n",
       "\n",
       "    .dataframe thead th {\n",
       "        text-align: right;\n",
       "    }\n",
       "</style>\n",
       "<table border=\"1\" class=\"dataframe\">\n",
       "  <thead>\n",
       "    <tr style=\"text-align: right;\">\n",
       "      <th></th>\n",
       "      <th>CLUSTERS</th>\n",
       "      <th>MSISDN</th>\n",
       "    </tr>\n",
       "  </thead>\n",
       "  <tbody>\n",
       "    <tr>\n",
       "      <td>0</td>\n",
       "      <td>0</td>\n",
       "      <td>33601001722</td>\n",
       "    </tr>\n",
       "    <tr>\n",
       "      <td>1</td>\n",
       "      <td>0</td>\n",
       "      <td>33601001754</td>\n",
       "    </tr>\n",
       "    <tr>\n",
       "      <td>2</td>\n",
       "      <td>0</td>\n",
       "      <td>33601002511</td>\n",
       "    </tr>\n",
       "    <tr>\n",
       "      <td>3</td>\n",
       "      <td>0</td>\n",
       "      <td>33601007832</td>\n",
       "    </tr>\n",
       "    <tr>\n",
       "      <td>4</td>\n",
       "      <td>2</td>\n",
       "      <td>33601008617</td>\n",
       "    </tr>\n",
       "  </tbody>\n",
       "</table>\n",
       "</div>"
      ],
      "text/plain": [
       "   CLUSTERS      MSISDN\n",
       "0         0 33601001722\n",
       "1         0 33601001754\n",
       "2         0 33601002511\n",
       "3         0 33601007832\n",
       "4         2 33601008617"
      ]
     },
     "execution_count": 31,
     "metadata": {},
     "output_type": "execute_result"
    }
   ],
   "source": [
    "data_cluster.head(5)"
   ]
  },
  {
   "cell_type": "code",
   "execution_count": 32,
   "metadata": {},
   "outputs": [
    {
     "data": {
      "text/html": [
       "<div>\n",
       "<style scoped>\n",
       "    .dataframe tbody tr th:only-of-type {\n",
       "        vertical-align: middle;\n",
       "    }\n",
       "\n",
       "    .dataframe tbody tr th {\n",
       "        vertical-align: top;\n",
       "    }\n",
       "\n",
       "    .dataframe thead th {\n",
       "        text-align: right;\n",
       "    }\n",
       "</style>\n",
       "<table border=\"1\" class=\"dataframe\">\n",
       "  <thead>\n",
       "    <tr style=\"text-align: right;\">\n",
       "      <th></th>\n",
       "      <th>MSISDN</th>\n",
       "      <th>total_data</th>\n",
       "      <th>total_duration</th>\n",
       "      <th>session_count</th>\n",
       "      <th>CLUSTERS</th>\n",
       "    </tr>\n",
       "  </thead>\n",
       "  <tbody>\n",
       "    <tr>\n",
       "      <td>0</td>\n",
       "      <td>33601001722</td>\n",
       "      <td>1255787564</td>\n",
       "      <td>116720140</td>\n",
       "      <td>1</td>\n",
       "      <td>0</td>\n",
       "    </tr>\n",
       "    <tr>\n",
       "      <td>1</td>\n",
       "      <td>33601001754</td>\n",
       "      <td>436417344</td>\n",
       "      <td>181230963</td>\n",
       "      <td>1</td>\n",
       "      <td>0</td>\n",
       "    </tr>\n",
       "    <tr>\n",
       "      <td>2</td>\n",
       "      <td>33601002511</td>\n",
       "      <td>1091052984</td>\n",
       "      <td>134969374</td>\n",
       "      <td>1</td>\n",
       "      <td>0</td>\n",
       "    </tr>\n",
       "    <tr>\n",
       "      <td>3</td>\n",
       "      <td>33601007832</td>\n",
       "      <td>447568699</td>\n",
       "      <td>49878024</td>\n",
       "      <td>1</td>\n",
       "      <td>0</td>\n",
       "    </tr>\n",
       "    <tr>\n",
       "      <td>4</td>\n",
       "      <td>33601008617</td>\n",
       "      <td>2235054657</td>\n",
       "      <td>37104453</td>\n",
       "      <td>2</td>\n",
       "      <td>2</td>\n",
       "    </tr>\n",
       "  </tbody>\n",
       "</table>\n",
       "</div>"
      ],
      "text/plain": [
       "       MSISDN  total_data  total_duration  session_count  CLUSTERS\n",
       "0 33601001722  1255787564       116720140              1         0\n",
       "1 33601001754   436417344       181230963              1         0\n",
       "2 33601002511  1091052984       134969374              1         0\n",
       "3 33601007832   447568699        49878024              1         0\n",
       "4 33601008617  2235054657        37104453              2         2"
      ]
     },
     "execution_count": 32,
     "metadata": {},
     "output_type": "execute_result"
    }
   ],
   "source": [
    "data2 = pd.merge(data,data_cluster, on='MSISDN')\n",
    "data2.head()"
   ]
  },
  {
   "cell_type": "markdown",
   "metadata": {},
   "source": [
    "# Compute the minimum, maximum, average & total non- normalized metrics for each cluster. Interpret your results visually with accompanying text explaining your findings."
   ]
  },
  {
   "cell_type": "code",
   "execution_count": 33,
   "metadata": {},
   "outputs": [],
   "source": [
    "data2_0 = data2[data2['CLUSTERS'] == 0]\n",
    "data2_1 = data2[data2['CLUSTERS'] == 1]\n",
    "data2_2 = data2[data2['CLUSTERS'] == 2]"
   ]
  },
  {
   "cell_type": "code",
   "execution_count": 34,
   "metadata": {},
   "outputs": [
    {
     "data": {
      "text/plain": [
       "(74464, 5)"
      ]
     },
     "execution_count": 34,
     "metadata": {},
     "output_type": "execute_result"
    }
   ],
   "source": [
    "data2_0.shape"
   ]
  },
  {
   "cell_type": "code",
   "execution_count": 35,
   "metadata": {},
   "outputs": [
    {
     "data": {
      "text/html": [
       "<div>\n",
       "<style scoped>\n",
       "    .dataframe tbody tr th:only-of-type {\n",
       "        vertical-align: middle;\n",
       "    }\n",
       "\n",
       "    .dataframe tbody tr th {\n",
       "        vertical-align: top;\n",
       "    }\n",
       "\n",
       "    .dataframe thead th {\n",
       "        text-align: right;\n",
       "    }\n",
       "</style>\n",
       "<table border=\"1\" class=\"dataframe\">\n",
       "  <thead>\n",
       "    <tr style=\"text-align: right;\">\n",
       "      <th></th>\n",
       "      <th>MSISDN</th>\n",
       "      <th>total_data</th>\n",
       "      <th>total_duration</th>\n",
       "      <th>session_count</th>\n",
       "      <th>CLUSTERS</th>\n",
       "    </tr>\n",
       "  </thead>\n",
       "  <tbody>\n",
       "    <tr>\n",
       "      <td>count</td>\n",
       "      <td>74464</td>\n",
       "      <td>74464</td>\n",
       "      <td>74464</td>\n",
       "      <td>74464</td>\n",
       "      <td>74464</td>\n",
       "    </tr>\n",
       "    <tr>\n",
       "      <td>mean</td>\n",
       "      <td>50091236646</td>\n",
       "      <td>873347106</td>\n",
       "      <td>108418414</td>\n",
       "      <td>1</td>\n",
       "      <td>0</td>\n",
       "    </tr>\n",
       "    <tr>\n",
       "      <td>std</td>\n",
       "      <td>3461281088331</td>\n",
       "      <td>301650254</td>\n",
       "      <td>80345049</td>\n",
       "      <td>0</td>\n",
       "      <td>0</td>\n",
       "    </tr>\n",
       "    <tr>\n",
       "      <td>min</td>\n",
       "      <td>33601001722</td>\n",
       "      <td>58362293</td>\n",
       "      <td>7142988</td>\n",
       "      <td>1</td>\n",
       "      <td>0</td>\n",
       "    </tr>\n",
       "    <tr>\n",
       "      <td>25%</td>\n",
       "      <td>33650788515</td>\n",
       "      <td>657241906</td>\n",
       "      <td>57179283</td>\n",
       "      <td>1</td>\n",
       "      <td>0</td>\n",
       "    </tr>\n",
       "    <tr>\n",
       "      <td>50%</td>\n",
       "      <td>33663668868</td>\n",
       "      <td>896656394</td>\n",
       "      <td>86583414</td>\n",
       "      <td>1</td>\n",
       "      <td>0</td>\n",
       "    </tr>\n",
       "    <tr>\n",
       "      <td>75%</td>\n",
       "      <td>33683645017</td>\n",
       "      <td>1111628602</td>\n",
       "      <td>143708415</td>\n",
       "      <td>1</td>\n",
       "      <td>0</td>\n",
       "    </tr>\n",
       "    <tr>\n",
       "      <td>max</td>\n",
       "      <td>882397108489451</td>\n",
       "      <td>1407548816</td>\n",
       "      <td>2083210006</td>\n",
       "      <td>4</td>\n",
       "      <td>0</td>\n",
       "    </tr>\n",
       "  </tbody>\n",
       "</table>\n",
       "</div>"
      ],
      "text/plain": [
       "               MSISDN  total_data  total_duration  session_count  CLUSTERS\n",
       "count           74464       74464           74464          74464     74464\n",
       "mean      50091236646   873347106       108418414              1         0\n",
       "std     3461281088331   301650254        80345049              0         0\n",
       "min       33601001722    58362293         7142988              1         0\n",
       "25%       33650788515   657241906        57179283              1         0\n",
       "50%       33663668868   896656394        86583414              1         0\n",
       "75%       33683645017  1111628602       143708415              1         0\n",
       "max   882397108489451  1407548816      2083210006              4         0"
      ]
     },
     "execution_count": 35,
     "metadata": {},
     "output_type": "execute_result"
    }
   ],
   "source": [
    "data2_0.describe()"
   ]
  },
  {
   "cell_type": "code",
   "execution_count": 36,
   "metadata": {},
   "outputs": [
    {
     "data": {
      "text/plain": [
       "(4728, 5)"
      ]
     },
     "execution_count": 36,
     "metadata": {},
     "output_type": "execute_result"
    }
   ],
   "source": [
    "data2_1.shape"
   ]
  },
  {
   "cell_type": "code",
   "execution_count": 37,
   "metadata": {},
   "outputs": [
    {
     "data": {
      "text/html": [
       "<div>\n",
       "<style scoped>\n",
       "    .dataframe tbody tr th:only-of-type {\n",
       "        vertical-align: middle;\n",
       "    }\n",
       "\n",
       "    .dataframe tbody tr th {\n",
       "        vertical-align: top;\n",
       "    }\n",
       "\n",
       "    .dataframe thead th {\n",
       "        text-align: right;\n",
       "    }\n",
       "</style>\n",
       "<table border=\"1\" class=\"dataframe\">\n",
       "  <thead>\n",
       "    <tr style=\"text-align: right;\">\n",
       "      <th></th>\n",
       "      <th>MSISDN</th>\n",
       "      <th>total_data</th>\n",
       "      <th>total_duration</th>\n",
       "      <th>session_count</th>\n",
       "      <th>CLUSTERS</th>\n",
       "    </tr>\n",
       "  </thead>\n",
       "  <tbody>\n",
       "    <tr>\n",
       "      <td>count</td>\n",
       "      <td>4728</td>\n",
       "      <td>4728</td>\n",
       "      <td>4728</td>\n",
       "      <td>4728</td>\n",
       "      <td>4728</td>\n",
       "    </tr>\n",
       "    <tr>\n",
       "      <td>mean</td>\n",
       "      <td>33677300944</td>\n",
       "      <td>3992605579</td>\n",
       "      <td>535322107</td>\n",
       "      <td>4</td>\n",
       "      <td>1</td>\n",
       "    </tr>\n",
       "    <tr>\n",
       "      <td>std</td>\n",
       "      <td>43504188</td>\n",
       "      <td>1089282447</td>\n",
       "      <td>629948803</td>\n",
       "      <td>1</td>\n",
       "      <td>0</td>\n",
       "    </tr>\n",
       "    <tr>\n",
       "      <td>min</td>\n",
       "      <td>33601034530</td>\n",
       "      <td>2608284800</td>\n",
       "      <td>33476692</td>\n",
       "      <td>2</td>\n",
       "      <td>1</td>\n",
       "    </tr>\n",
       "    <tr>\n",
       "      <td>25%</td>\n",
       "      <td>33658759616</td>\n",
       "      <td>3249926495</td>\n",
       "      <td>296320128</td>\n",
       "      <td>3</td>\n",
       "      <td>1</td>\n",
       "    </tr>\n",
       "    <tr>\n",
       "      <td>50%</td>\n",
       "      <td>33664184722</td>\n",
       "      <td>3686552172</td>\n",
       "      <td>387414358</td>\n",
       "      <td>4</td>\n",
       "      <td>1</td>\n",
       "    </tr>\n",
       "    <tr>\n",
       "      <td>75%</td>\n",
       "      <td>33684116055</td>\n",
       "      <td>4398808620</td>\n",
       "      <td>518331394</td>\n",
       "      <td>5</td>\n",
       "      <td>1</td>\n",
       "    </tr>\n",
       "    <tr>\n",
       "      <td>max</td>\n",
       "      <td>33789881186</td>\n",
       "      <td>16341524035</td>\n",
       "      <td>18553763486</td>\n",
       "      <td>18</td>\n",
       "      <td>1</td>\n",
       "    </tr>\n",
       "  </tbody>\n",
       "</table>\n",
       "</div>"
      ],
      "text/plain": [
       "           MSISDN  total_data  total_duration  session_count  CLUSTERS\n",
       "count        4728        4728            4728           4728      4728\n",
       "mean  33677300944  3992605579       535322107              4         1\n",
       "std      43504188  1089282447       629948803              1         0\n",
       "min   33601034530  2608284800        33476692              2         1\n",
       "25%   33658759616  3249926495       296320128              3         1\n",
       "50%   33664184722  3686552172       387414358              4         1\n",
       "75%   33684116055  4398808620       518331394              5         1\n",
       "max   33789881186 16341524035     18553763486             18         1"
      ]
     },
     "execution_count": 37,
     "metadata": {},
     "output_type": "execute_result"
    }
   ],
   "source": [
    "data2_1.describe()"
   ]
  },
  {
   "cell_type": "code",
   "execution_count": 38,
   "metadata": {},
   "outputs": [
    {
     "data": {
      "text/plain": [
       "(27279, 5)"
      ]
     },
     "execution_count": 38,
     "metadata": {},
     "output_type": "execute_result"
    }
   ],
   "source": [
    "data2_2.shape"
   ]
  },
  {
   "cell_type": "code",
   "execution_count": 39,
   "metadata": {},
   "outputs": [
    {
     "data": {
      "text/html": [
       "<div>\n",
       "<style scoped>\n",
       "    .dataframe tbody tr th:only-of-type {\n",
       "        vertical-align: middle;\n",
       "    }\n",
       "\n",
       "    .dataframe tbody tr th {\n",
       "        vertical-align: top;\n",
       "    }\n",
       "\n",
       "    .dataframe thead th {\n",
       "        text-align: right;\n",
       "    }\n",
       "</style>\n",
       "<table border=\"1\" class=\"dataframe\">\n",
       "  <thead>\n",
       "    <tr style=\"text-align: right;\">\n",
       "      <th></th>\n",
       "      <th>MSISDN</th>\n",
       "      <th>total_data</th>\n",
       "      <th>total_duration</th>\n",
       "      <th>session_count</th>\n",
       "      <th>CLUSTERS</th>\n",
       "    </tr>\n",
       "  </thead>\n",
       "  <tbody>\n",
       "    <tr>\n",
       "      <td>count</td>\n",
       "      <td>27279</td>\n",
       "      <td>27279</td>\n",
       "      <td>27279</td>\n",
       "      <td>27279</td>\n",
       "      <td>27279</td>\n",
       "    </tr>\n",
       "    <tr>\n",
       "      <td>mean</td>\n",
       "      <td>33674129753</td>\n",
       "      <td>1915778448</td>\n",
       "      <td>183343303</td>\n",
       "      <td>2</td>\n",
       "      <td>2</td>\n",
       "    </tr>\n",
       "    <tr>\n",
       "      <td>std</td>\n",
       "      <td>45338633</td>\n",
       "      <td>418152505</td>\n",
       "      <td>133949395</td>\n",
       "      <td>1</td>\n",
       "      <td>0</td>\n",
       "    </tr>\n",
       "    <tr>\n",
       "      <td>min</td>\n",
       "      <td>33601008617</td>\n",
       "      <td>1356439704</td>\n",
       "      <td>7342167</td>\n",
       "      <td>1</td>\n",
       "      <td>2</td>\n",
       "    </tr>\n",
       "    <tr>\n",
       "      <td>25%</td>\n",
       "      <td>33650875060</td>\n",
       "      <td>1548680042</td>\n",
       "      <td>86400009</td>\n",
       "      <td>1</td>\n",
       "      <td>2</td>\n",
       "    </tr>\n",
       "    <tr>\n",
       "      <td>50%</td>\n",
       "      <td>33663516947</td>\n",
       "      <td>1816921603</td>\n",
       "      <td>170093196</td>\n",
       "      <td>2</td>\n",
       "      <td>2</td>\n",
       "    </tr>\n",
       "    <tr>\n",
       "      <td>75%</td>\n",
       "      <td>33682870024</td>\n",
       "      <td>2216556568</td>\n",
       "      <td>246468769</td>\n",
       "      <td>2</td>\n",
       "      <td>2</td>\n",
       "    </tr>\n",
       "    <tr>\n",
       "      <td>max</td>\n",
       "      <td>33789980299</td>\n",
       "      <td>2994737796</td>\n",
       "      <td>1867677937</td>\n",
       "      <td>5</td>\n",
       "      <td>2</td>\n",
       "    </tr>\n",
       "  </tbody>\n",
       "</table>\n",
       "</div>"
      ],
      "text/plain": [
       "           MSISDN  total_data  total_duration  session_count  CLUSTERS\n",
       "count       27279       27279           27279          27279     27279\n",
       "mean  33674129753  1915778448       183343303              2         2\n",
       "std      45338633   418152505       133949395              1         0\n",
       "min   33601008617  1356439704         7342167              1         2\n",
       "25%   33650875060  1548680042        86400009              1         2\n",
       "50%   33663516947  1816921603       170093196              2         2\n",
       "75%   33682870024  2216556568       246468769              2         2\n",
       "max   33789980299  2994737796      1867677937              5         2"
      ]
     },
     "execution_count": 39,
     "metadata": {},
     "output_type": "execute_result"
    }
   ],
   "source": [
    "data2_2.describe()"
   ]
  },
  {
   "cell_type": "code",
   "execution_count": 41,
   "metadata": {},
   "outputs": [],
   "source": [
    "pd.options.display.float_format = '{:,.2f}'.format\n",
    "average_measures = data2.iloc[:,2:].groupby(['CLUSTERS']).mean()\n"
   ]
  },
  {
   "cell_type": "code",
   "execution_count": 42,
   "metadata": {},
   "outputs": [
    {
     "data": {
      "text/html": [
       "<style  type=\"text/css\" >\n",
       "    #T_98e9ee22_d3c7_11ec_b11e_80ce62d62fd4row0_col1 {\n",
       "            background-color:  lightgreen;\n",
       "        }    #T_98e9ee22_d3c7_11ec_b11e_80ce62d62fd4row1_col1 {\n",
       "            background-color:  lightgreen;\n",
       "        }</style><table id=\"T_98e9ee22_d3c7_11ec_b11e_80ce62d62fd4\" ><thead>    <tr>        <th class=\"index_name level0\" >CLUSTERS</th>        <th class=\"col_heading level0 col0\" >0</th>        <th class=\"col_heading level0 col1\" >1</th>        <th class=\"col_heading level0 col2\" >2</th>    </tr></thead><tbody>\n",
       "                <tr>\n",
       "                        <th id=\"T_98e9ee22_d3c7_11ec_b11e_80ce62d62fd4level0_row0\" class=\"row_heading level0 row0\" >total_duration</th>\n",
       "                        <td id=\"T_98e9ee22_d3c7_11ec_b11e_80ce62d62fd4row0_col0\" class=\"data row0 col0\" >108,418,414.31</td>\n",
       "                        <td id=\"T_98e9ee22_d3c7_11ec_b11e_80ce62d62fd4row0_col1\" class=\"data row0 col1\" >535,322,107.01</td>\n",
       "                        <td id=\"T_98e9ee22_d3c7_11ec_b11e_80ce62d62fd4row0_col2\" class=\"data row0 col2\" >183,343,303.32</td>\n",
       "            </tr>\n",
       "            <tr>\n",
       "                        <th id=\"T_98e9ee22_d3c7_11ec_b11e_80ce62d62fd4level0_row1\" class=\"row_heading level0 row1\" >session_count</th>\n",
       "                        <td id=\"T_98e9ee22_d3c7_11ec_b11e_80ce62d62fd4row1_col0\" class=\"data row1 col0\" >1.06</td>\n",
       "                        <td id=\"T_98e9ee22_d3c7_11ec_b11e_80ce62d62fd4row1_col1\" class=\"data row1 col1\" >4.02</td>\n",
       "                        <td id=\"T_98e9ee22_d3c7_11ec_b11e_80ce62d62fd4row1_col2\" class=\"data row1 col2\" >1.86</td>\n",
       "            </tr>\n",
       "    </tbody></table>"
      ],
      "text/plain": [
       "<pandas.io.formats.style.Styler at 0x19413504588>"
      ]
     },
     "execution_count": 42,
     "metadata": {},
     "output_type": "execute_result"
    }
   ],
   "source": [
    "average_measures.T.style.highlight_max(color = 'lightgreen', axis = 1).format(\"{:,.2f}\")"
   ]
  },
  {
   "cell_type": "code",
   "execution_count": 43,
   "metadata": {},
   "outputs": [
    {
     "data": {
      "text/html": [
       "<style  type=\"text/css\" >\n",
       "    #T_98ef689e_d3c7_11ec_b0df_80ce62d62fd4row0_col0 {\n",
       "            background-color:  pink;\n",
       "        }    #T_98ef689e_d3c7_11ec_b0df_80ce62d62fd4row1_col0 {\n",
       "            background-color:  pink;\n",
       "        }</style><table id=\"T_98ef689e_d3c7_11ec_b0df_80ce62d62fd4\" ><thead>    <tr>        <th class=\"index_name level0\" >CLUSTERS</th>        <th class=\"col_heading level0 col0\" >0</th>        <th class=\"col_heading level0 col1\" >1</th>        <th class=\"col_heading level0 col2\" >2</th>    </tr></thead><tbody>\n",
       "                <tr>\n",
       "                        <th id=\"T_98ef689e_d3c7_11ec_b0df_80ce62d62fd4level0_row0\" class=\"row_heading level0 row0\" >total_duration</th>\n",
       "                        <td id=\"T_98ef689e_d3c7_11ec_b0df_80ce62d62fd4row0_col0\" class=\"data row0 col0\" >108,418,414.31</td>\n",
       "                        <td id=\"T_98ef689e_d3c7_11ec_b0df_80ce62d62fd4row0_col1\" class=\"data row0 col1\" >535,322,107.01</td>\n",
       "                        <td id=\"T_98ef689e_d3c7_11ec_b0df_80ce62d62fd4row0_col2\" class=\"data row0 col2\" >183,343,303.32</td>\n",
       "            </tr>\n",
       "            <tr>\n",
       "                        <th id=\"T_98ef689e_d3c7_11ec_b0df_80ce62d62fd4level0_row1\" class=\"row_heading level0 row1\" >session_count</th>\n",
       "                        <td id=\"T_98ef689e_d3c7_11ec_b0df_80ce62d62fd4row1_col0\" class=\"data row1 col0\" >1.06</td>\n",
       "                        <td id=\"T_98ef689e_d3c7_11ec_b0df_80ce62d62fd4row1_col1\" class=\"data row1 col1\" >4.02</td>\n",
       "                        <td id=\"T_98ef689e_d3c7_11ec_b0df_80ce62d62fd4row1_col2\" class=\"data row1 col2\" >1.86</td>\n",
       "            </tr>\n",
       "    </tbody></table>"
      ],
      "text/plain": [
       "<pandas.io.formats.style.Styler at 0x1941cd51f28>"
      ]
     },
     "execution_count": 43,
     "metadata": {},
     "output_type": "execute_result"
    }
   ],
   "source": [
    "average_measures.T.style.highlight_min(color = 'pink', axis = 1).format(\"{:,.2f}\")"
   ]
  },
  {
   "cell_type": "markdown",
   "metadata": {},
   "source": [
    "# Aggregation based on social media"
   ]
  },
  {
   "cell_type": "code",
   "execution_count": null,
   "metadata": {},
   "outputs": [],
   "source": [
    "socials=df.groupby(['MSISDN'])[\"socials_total_b\"].sum().reset_index(name='socials_total')"
   ]
  },
  {
   "cell_type": "code",
   "execution_count": null,
   "metadata": {},
   "outputs": [],
   "source": [
    "social_media_traffic=socials.sort_values(['socials_total'], ascending=False).head(10)"
   ]
  },
  {
   "cell_type": "code",
   "execution_count": null,
   "metadata": {},
   "outputs": [],
   "source": [
    "results.add_data('social_media_traffic',social_media_traffic)"
   ]
  },
  {
   "cell_type": "markdown",
   "metadata": {},
   "source": [
    "# Aggregation based on google"
   ]
  },
  {
   "cell_type": "code",
   "execution_count": null,
   "metadata": {},
   "outputs": [],
   "source": [
    "google=df.groupby(['MSISDN'])[\"google_total_b\"].sum().reset_index(name='google_total')"
   ]
  },
  {
   "cell_type": "code",
   "execution_count": null,
   "metadata": {},
   "outputs": [],
   "source": [
    "google_traffic=google.sort_values(['google_total'], ascending=False).head(10)"
   ]
  },
  {
   "cell_type": "code",
   "execution_count": null,
   "metadata": {},
   "outputs": [],
   "source": [
    "results.add_data('google_traffic',google_traffic)"
   ]
  },
  {
   "cell_type": "markdown",
   "metadata": {},
   "source": [
    "# Aggregation based on email"
   ]
  },
  {
   "cell_type": "code",
   "execution_count": null,
   "metadata": {},
   "outputs": [],
   "source": [
    "email=df.groupby(['MSISDN'])[\"email_total_b\"].sum().reset_index(name='mail_total')"
   ]
  },
  {
   "cell_type": "code",
   "execution_count": null,
   "metadata": {},
   "outputs": [],
   "source": [
    "email_traffic=email.sort_values(['mail_total'], ascending=False).head(10)"
   ]
  },
  {
   "cell_type": "code",
   "execution_count": null,
   "metadata": {},
   "outputs": [],
   "source": [
    "results.add_data('email_traffic',email_traffic)"
   ]
  },
  {
   "cell_type": "markdown",
   "metadata": {},
   "source": [
    "# Aggregation based on YouTube"
   ]
  },
  {
   "cell_type": "code",
   "execution_count": null,
   "metadata": {},
   "outputs": [],
   "source": [
    "youtube=df.groupby(['MSISDN'])[\"youtube_total_b\"].sum().reset_index(name='yt_total')"
   ]
  },
  {
   "cell_type": "code",
   "execution_count": null,
   "metadata": {},
   "outputs": [],
   "source": [
    "youtube_traffic=youtube.sort_values(['yt_total'], ascending=False).head(10)"
   ]
  },
  {
   "cell_type": "code",
   "execution_count": null,
   "metadata": {},
   "outputs": [],
   "source": [
    "results.add_data('youtube_traffic',youtube_traffic)"
   ]
  },
  {
   "cell_type": "markdown",
   "metadata": {},
   "source": [
    "# Aggregation based on Netflix"
   ]
  },
  {
   "cell_type": "code",
   "execution_count": null,
   "metadata": {},
   "outputs": [],
   "source": [
    "netflix=df.groupby(['MSISDN'])[\"netflix_total_b\"].sum().reset_index(name='netflix_total')"
   ]
  },
  {
   "cell_type": "code",
   "execution_count": null,
   "metadata": {},
   "outputs": [],
   "source": [
    "netflix_traffic=netflix.sort_values(['netflix_total'], ascending=False).head(10)"
   ]
  },
  {
   "cell_type": "code",
   "execution_count": null,
   "metadata": {},
   "outputs": [],
   "source": [
    "results.add_data('netflix_traffic',netflix_traffic)"
   ]
  },
  {
   "cell_type": "markdown",
   "metadata": {},
   "source": [
    "# Aggregation based on Gaming"
   ]
  },
  {
   "cell_type": "code",
   "execution_count": null,
   "metadata": {},
   "outputs": [],
   "source": [
    "gaming=df.groupby(['MSISDN'])[\"gaming_total_b\"].sum().reset_index(name='gaming_total')"
   ]
  },
  {
   "cell_type": "code",
   "execution_count": null,
   "metadata": {},
   "outputs": [],
   "source": [
    "gaming_traffic=gaming.sort_values(['gaming_total'], ascending=False).head(10)"
   ]
  },
  {
   "cell_type": "code",
   "execution_count": null,
   "metadata": {},
   "outputs": [],
   "source": [
    "results.add_data('gaming_traffic',gaming_traffic)"
   ]
  },
  {
   "cell_type": "markdown",
   "metadata": {},
   "source": [
    "# Aggregation based on Other"
   ]
  },
  {
   "cell_type": "code",
   "execution_count": null,
   "metadata": {},
   "outputs": [],
   "source": [
    "other=df.groupby(['MSISDN'])[\"other_total_b\"].sum().reset_index(name='other_total')"
   ]
  },
  {
   "cell_type": "code",
   "execution_count": null,
   "metadata": {},
   "outputs": [],
   "source": [
    "other_traffic=other.sort_values(['other_total'], ascending=False).head(10)"
   ]
  },
  {
   "cell_type": "code",
   "execution_count": null,
   "metadata": {},
   "outputs": [],
   "source": [
    "results.add_data('other_traffic',other_traffic)"
   ]
  },
  {
   "cell_type": "markdown",
   "metadata": {},
   "source": [
    "# App perfomance"
   ]
  },
  {
   "cell_type": "code",
   "execution_count": null,
   "metadata": {},
   "outputs": [],
   "source": [
    "most_used_df = df.copy(deep=True)\n",
    "most_used_df = most_used_df.loc[:,[ 'socials_total_b','google_total_b','email_total_b','youtube_total_b','netflix_total_b','gaming_total_b','other_total_b']]"
   ]
  },
  {
   "cell_type": "code",
   "execution_count": null,
   "metadata": {},
   "outputs": [],
   "source": [
    "total_app_data_usage = pd.DataFrame(most_used_df.sum(), columns=['Total Data (Bytes)'])\n",
    "most_used_apps = total_app_data_usage.sort_values(by='Total Data (Bytes)',ascending=False).iloc[:5,:]\n",
    "\n",
    "#Saving the data\n",
    "results.add_data('most_used_apps',most_used_apps)\n",
    "#result\n",
    "most_used_apps"
   ]
  },
  {
   "cell_type": "markdown",
   "metadata": {},
   "source": [
    "Using k-means clustering algorithm, group users in k engagement clusters based on the engagement metrics: What is the optimized value of k (use elbow method for this)?\n",
    "Interpret your findings"
   ]
  },
  {
   "cell_type": "code",
   "execution_count": null,
   "metadata": {},
   "outputs": [],
   "source": [
    "data  = pd.merge(total_s_b, session_d, on='MSISDN', how='left')\n",
    "data  = pd.merge(data, session_f, on='MSISDN', how='left')"
   ]
  },
  {
   "cell_type": "code",
   "execution_count": null,
   "metadata": {},
   "outputs": [],
   "source": [
    "engagement=pd.merge(data, other, on='MSISDN', how='left')\n",
    "engagement=pd.merge(engagement, gaming, on='MSISDN', how='left')\n",
    "engagement=pd.merge(engagement, netflix, on='MSISDN', how='left')\n",
    "engagement=pd.merge(engagement, youtube, on='MSISDN', how='left')\n",
    "engagement=pd.merge(engagement, google, on='MSISDN', how='left')\n",
    "engagement=pd.merge(engagement, email, on='MSISDN', how='left')\n",
    "#engagement=pd.merge(engagement, other_traffic, on='MSISDN', how='left')\n",
    "engagement=pd.merge(engagement, socials, on='MSISDN', how='left')"
   ]
  },
  {
   "cell_type": "code",
   "execution_count": null,
   "metadata": {},
   "outputs": [],
   "source": [
    "engagement.head(2)"
   ]
  },
  {
   "cell_type": "code",
   "execution_count": null,
   "metadata": {},
   "outputs": [],
   "source": [
    "cat_features=['MSISDN']"
   ]
  },
  {
   "cell_type": "code",
   "execution_count": null,
   "metadata": {},
   "outputs": [],
   "source": [
    "numerical_features = ['total_data','total_duration','session_count','other_total','gaming_total','netflix_total','yt_total','google_total','mail_total','socials_total']"
   ]
  },
  {
   "cell_type": "code",
   "execution_count": null,
   "metadata": {},
   "outputs": [],
   "source": [
    "input_features = numerical_features + cat_features"
   ]
  },
  {
   "cell_type": "code",
   "execution_count": null,
   "metadata": {},
   "outputs": [],
   "source": [
    "features = engagement.copy()"
   ]
  },
  {
   "cell_type": "markdown",
   "metadata": {},
   "source": [
    "# Encoding categorical variables"
   ]
  },
  {
   "cell_type": "code",
   "execution_count": null,
   "metadata": {},
   "outputs": [],
   "source": [
    "#casting the columns into strings\n",
    "labelencoder = LabelEncoder()\n",
    "\n",
    "#features[cat_features] = features[cat_features].apply(LabelEncoder().fit_transform)\n",
    "features[cat_features] = features[cat_features].apply(lambda col: LabelEncoder().fit_transform(col.astype(str)), axis=0, result_type='expand')"
   ]
  },
  {
   "cell_type": "markdown",
   "metadata": {},
   "source": [
    "# Scaling Numerical Data"
   ]
  },
  {
   "cell_type": "code",
   "execution_count": null,
   "metadata": {},
   "outputs": [],
   "source": [
    "scaler = StandardScaler()\n",
    "x_scaled = scaler.fit_transform(features[input_features])\n",
    "#x_scaled"
   ]
  },
  {
   "cell_type": "code",
   "execution_count": null,
   "metadata": {},
   "outputs": [],
   "source": [
    "import scipy.stats as stats\n",
    "X_scaled = stats.zscore(x_scaled)\n",
    "#X_scaled"
   ]
  },
  {
   "cell_type": "markdown",
   "metadata": {},
   "source": [
    "# Elbow method to determine the clusters"
   ]
  },
  {
   "cell_type": "code",
   "execution_count": null,
   "metadata": {},
   "outputs": [],
   "source": [
    "X = X_scaled\n",
    "\n",
    "\n",
    "#sns.set(rc={\"figure.figsize\": (6, 8)})\n",
    "plt.figure(figsize=(10,6))\n",
    "cs = []\n",
    "for i in range(1, 10):\n",
    "    kmeans = KMeans(n_clusters = i, init = 'k-means++', max_iter = 300, n_init = 10, random_state = 0)\n",
    "    kmeans.fit(X)\n",
    "    cs.append(kmeans.inertia_)\n",
    "plt.plot(range(1, 10), cs, '-o')\n",
    "plt.title('The Elbow Method')\n",
    "plt.xlabel('Number of clusters')\n",
    "plt.ylabel('CS')\n",
    "plt.show()"
   ]
  },
  {
   "cell_type": "code",
   "execution_count": null,
   "metadata": {},
   "outputs": [],
   "source": [
    "from kneed import KneeLocator\n",
    "kl = KneeLocator(range(1, 10), cs, curve=\"convex\", direction=\"decreasing\")\n",
    "kl.elbow"
   ]
  },
  {
   "cell_type": "code",
   "execution_count": null,
   "metadata": {},
   "outputs": [],
   "source": [
    "engagement_model = KMeans(n_clusters=3, random_state = 0)\n",
    "engagement_model.fit_predict(x_scaled)\n",
    "#print(kmeans.cluster_centers_)"
   ]
  },
  {
   "cell_type": "code",
   "execution_count": null,
   "metadata": {},
   "outputs": [],
   "source": [
    "engagement_model.inertia_"
   ]
  },
  {
   "cell_type": "code",
   "execution_count": null,
   "metadata": {},
   "outputs": [],
   "source": [
    "engagement_model.labels_\n",
    "#print(kmeans.labels_)"
   ]
  },
  {
   "cell_type": "code",
   "execution_count": null,
   "metadata": {},
   "outputs": [],
   "source": [
    "engagement_centroids=engagement_model.cluster_centers_"
   ]
  },
  {
   "cell_type": "code",
   "execution_count": null,
   "metadata": {},
   "outputs": [],
   "source": [
    "print(engagement_centroids)"
   ]
  },
  {
   "cell_type": "code",
   "execution_count": null,
   "metadata": {},
   "outputs": [],
   "source": [
    "features = engagement.copy()"
   ]
  },
  {
   "cell_type": "code",
   "execution_count": null,
   "metadata": {},
   "outputs": [],
   "source": [
    "labels = engagement_model.labels_\n",
    "varieties = features['MSISDN'].to_list()"
   ]
  },
  {
   "cell_type": "code",
   "execution_count": null,
   "metadata": {},
   "outputs": [],
   "source": [
    "np.array(np.unique(labels, return_counts=True)).T"
   ]
  },
  {
   "cell_type": "code",
   "execution_count": null,
   "metadata": {},
   "outputs": [],
   "source": [
    "engagement_cluster = pd.DataFrame({'CLUSTERS': labels, 'MSISDN': varieties})"
   ]
  },
  {
   "cell_type": "code",
   "execution_count": null,
   "metadata": {},
   "outputs": [],
   "source": [
    "engagement_cluster['CLUSTERS'].value_counts().to_frame()"
   ]
  },
  {
   "cell_type": "code",
   "execution_count": null,
   "metadata": {},
   "outputs": [],
   "source": [
    "engagement_cluster.head()"
   ]
  },
  {
   "cell_type": "code",
   "execution_count": null,
   "metadata": {},
   "outputs": [],
   "source": [
    "engagement2 = pd.merge(engagement,engagement_cluster, on='MSISDN')\n",
    "engagement2.shape"
   ]
  },
  {
   "cell_type": "code",
   "execution_count": null,
   "metadata": {},
   "outputs": [],
   "source": [
    "\n",
    "engagement2.head(3)"
   ]
  },
  {
   "cell_type": "markdown",
   "metadata": {},
   "source": [
    "enga"
   ]
  },
  {
   "cell_type": "code",
   "execution_count": null,
   "metadata": {},
   "outputs": [],
   "source": [
    "engagement_cluster_0 = engagement2[engagement2['CLUSTERS'] == 0]\n",
    "engagement_cluster_1 = engagement2[engagement2['CLUSTERS'] == 1]\n",
    "engagement_cluster_2 = engagement2[engagement2['CLUSTERS'] == 2]"
   ]
  },
  {
   "cell_type": "code",
   "execution_count": null,
   "metadata": {},
   "outputs": [],
   "source": [
    "engagement_cluster_0.describe()"
   ]
  },
  {
   "cell_type": "code",
   "execution_count": null,
   "metadata": {},
   "outputs": [],
   "source": [
    "engagement_cluster_1.describe()"
   ]
  },
  {
   "cell_type": "code",
   "execution_count": null,
   "metadata": {},
   "outputs": [],
   "source": [
    "engagement_cluster_2.describe()"
   ]
  },
  {
   "cell_type": "code",
   "execution_count": null,
   "metadata": {},
   "outputs": [],
   "source": [
    "pd.options.display.float_format = '{:,.2f}'.format\n",
    "average_measures = engagement2.iloc[:,2:].groupby(['CLUSTERS']).mean()"
   ]
  },
  {
   "cell_type": "code",
   "execution_count": null,
   "metadata": {},
   "outputs": [],
   "source": [
    "average_measures.T.style.highlight_max(color = 'lightgreen', axis = 1).format(\"{:,.2f}\")"
   ]
  },
  {
   "cell_type": "code",
   "execution_count": null,
   "metadata": {},
   "outputs": [],
   "source": [
    "average_measures.T.style.highlight_min(color = 'pink', axis = 1).format(\"{:,.2f}\")"
   ]
  },
  {
   "cell_type": "code",
   "execution_count": null,
   "metadata": {},
   "outputs": [],
   "source": [
    "#saving our results to a pickle file\n",
    "results.save_data('../data/engagement_results.pickle')"
   ]
  },
  {
   "cell_type": "code",
   "execution_count": null,
   "metadata": {},
   "outputs": [],
   "source": [
    "normalized_data"
   ]
  },
  {
   "cell_type": "code",
   "execution_count": null,
   "metadata": {},
   "outputs": [],
   "source": [
    "engagement_normalized = pd.DataFrame(normalized_data, columns=['MSISDN','total_data','total_duration','session_count'])"
   ]
  },
  {
   "cell_type": "code",
   "execution_count": null,
   "metadata": {},
   "outputs": [],
   "source": [
    "engagement_normalized .head()"
   ]
  },
  {
   "cell_type": "code",
   "execution_count": null,
   "metadata": {},
   "outputs": [],
   "source": [
    "model1_centroids"
   ]
  },
  {
   "cell_type": "code",
   "execution_count": null,
   "metadata": {},
   "outputs": [],
   "source": [
    "centroids_df = pd.DataFrame(model1_centroids, columns=['MSISDN','total_data','total_duration','session_count'])\n"
   ]
  },
  {
   "cell_type": "code",
   "execution_count": null,
   "metadata": {},
   "outputs": [],
   "source": [
    "centroids_df.head(2)"
   ]
  },
  {
   "cell_type": "code",
   "execution_count": null,
   "metadata": {},
   "outputs": [],
   "source": [
    "centroids_df.to_csv('../data/engagement_centroid.csv')"
   ]
  },
  {
   "cell_type": "code",
   "execution_count": null,
   "metadata": {},
   "outputs": [],
   "source": [
    "engagement_normalized.to_csv('../data/engagement_cluster.csv')"
   ]
  },
  {
   "cell_type": "code",
   "execution_count": null,
   "metadata": {},
   "outputs": [],
   "source": []
  }
 ],
 "metadata": {
  "kernelspec": {
   "display_name": "Python 3",
   "language": "python",
   "name": "python3"
  },
  "language_info": {
   "codemirror_mode": {
    "name": "ipython",
    "version": 3
   },
   "file_extension": ".py",
   "mimetype": "text/x-python",
   "name": "python",
   "nbconvert_exporter": "python",
   "pygments_lexer": "ipython3",
   "version": "3.7.3"
  }
 },
 "nbformat": 4,
 "nbformat_minor": 2
}
