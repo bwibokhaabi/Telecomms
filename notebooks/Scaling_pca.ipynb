{
 "cells": [
  {
   "cell_type": "markdown",
   "metadata": {},
   "source": [
    "# Scaling and modellig"
   ]
  },
  {
   "cell_type": "markdown",
   "metadata": {},
   "source": [
    "Variable transformations – segment the users into top five decile classes based on the total duration for all sessions and compute the total data (DL+UL) per decile class. \n",
    "\n",
    "\n",
    "Correlation Analysis – compute a correlation matrix for the following variables and interpret your findings: Social Media data, Google data, Email data, Youtube data, Netflix data, Gaming data, Other data\n",
    "\n",
    "Dimensionality Reduction – perform a principal component analysis to reduce the dimensions of your data and provide a useful interpretation of the results (Provide your interpretation in four (4) bullet points-maximum).\n"
   ]
  },
  {
   "cell_type": "code",
   "execution_count": 1,
   "metadata": {},
   "outputs": [],
   "source": [
    "import numpy as np\n",
    "import pandas as pd\n",
    "pd.set_option('display.float_format', lambda x: '%.0f' % x)\n",
    "pd.set_option('display.max_columns', None)"
   ]
  },
  {
   "cell_type": "code",
   "execution_count": 2,
   "metadata": {},
   "outputs": [],
   "source": [
    "df=pd.read_csv('../data/to_trasform.csv')"
   ]
  },
  {
   "cell_type": "code",
   "execution_count": 3,
   "metadata": {},
   "outputs": [
    {
     "data": {
      "text/html": [
       "<div>\n",
       "<style scoped>\n",
       "    .dataframe tbody tr th:only-of-type {\n",
       "        vertical-align: middle;\n",
       "    }\n",
       "\n",
       "    .dataframe tbody tr th {\n",
       "        vertical-align: top;\n",
       "    }\n",
       "\n",
       "    .dataframe thead th {\n",
       "        text-align: right;\n",
       "    }\n",
       "</style>\n",
       "<table border=\"1\" class=\"dataframe\">\n",
       "  <thead>\n",
       "    <tr style=\"text-align: right;\">\n",
       "      <th></th>\n",
       "      <th>Unnamed: 0</th>\n",
       "      <th>Bearer_Id</th>\n",
       "      <th>Dur. (ms)</th>\n",
       "      <th>IMSI</th>\n",
       "      <th>MSISDN</th>\n",
       "      <th>IMEI</th>\n",
       "      <th>last_location</th>\n",
       "      <th>avg_rtt_dl</th>\n",
       "      <th>avg_rtt_ul</th>\n",
       "      <th>throughput_avg_dl_kpbs</th>\n",
       "      <th>throughput_avg_ul_kpbs</th>\n",
       "      <th>retrans_packets_dl_b</th>\n",
       "      <th>retrans_packets_ul_b</th>\n",
       "      <th>tp_dl_below_50kbps_pc</th>\n",
       "      <th>tp_dl_50_250kbps_pc</th>\n",
       "      <th>tp_dl_250kbps_1mbps_pc</th>\n",
       "      <th>tp_dl_above_1mbps_pc</th>\n",
       "      <th>tp_ul_below_10kpbs_pc</th>\n",
       "      <th>tp_ul_10_50_kbps_pc</th>\n",
       "      <th>tp_ul_50_300_kbps_pc</th>\n",
       "      <th>tp_ul_above_300_kpbs_pc</th>\n",
       "      <th>activity_duration_dl</th>\n",
       "      <th>activity_duration_ul</th>\n",
       "      <th>Dur. (ms).1</th>\n",
       "      <th>phone_company</th>\n",
       "      <th>phone_name</th>\n",
       "      <th>t_vol_dl_above_6250B</th>\n",
       "      <th>t_vol_ul_above_1250B</th>\n",
       "      <th>socials_dl_b</th>\n",
       "      <th>socials_ul_b</th>\n",
       "      <th>google_dl_b</th>\n",
       "      <th>google_ul_b</th>\n",
       "      <th>email_dl_b</th>\n",
       "      <th>email_ul_b</th>\n",
       "      <th>youtube_dl_b</th>\n",
       "      <th>youtube_ul_b</th>\n",
       "      <th>netflix_dl_b</th>\n",
       "      <th>netflix_ul_b</th>\n",
       "      <th>gaming_dl_b</th>\n",
       "      <th>gaming_ul_b</th>\n",
       "      <th>other_dl_b</th>\n",
       "      <th>other_ul_b</th>\n",
       "      <th>Total_ul_b</th>\n",
       "      <th>Total_dl_b</th>\n",
       "      <th>total_ul_data</th>\n",
       "      <th>total_dl_data</th>\n",
       "      <th>socials_total_b</th>\n",
       "      <th>google_total_b</th>\n",
       "      <th>email_total_b</th>\n",
       "      <th>youtube_total_b</th>\n",
       "      <th>netflix_total_b</th>\n",
       "      <th>gaming_total_b</th>\n",
       "      <th>other_total_b</th>\n",
       "      <th>total_b</th>\n",
       "    </tr>\n",
       "  </thead>\n",
       "  <tbody>\n",
       "    <tr>\n",
       "      <td>0</td>\n",
       "      <td>0</td>\n",
       "      <td>13114483460844900352</td>\n",
       "      <td>1823652</td>\n",
       "      <td>208201448079117</td>\n",
       "      <td>33664962239</td>\n",
       "      <td>35521209507511</td>\n",
       "      <td>9.16456699548519E+015</td>\n",
       "      <td>42</td>\n",
       "      <td>5</td>\n",
       "      <td>23</td>\n",
       "      <td>44</td>\n",
       "      <td>20884183</td>\n",
       "      <td>766247</td>\n",
       "      <td>100</td>\n",
       "      <td>0</td>\n",
       "      <td>0</td>\n",
       "      <td>0</td>\n",
       "      <td>100</td>\n",
       "      <td>0</td>\n",
       "      <td>0</td>\n",
       "      <td>0</td>\n",
       "      <td>37624</td>\n",
       "      <td>38787</td>\n",
       "      <td>1823652892</td>\n",
       "      <td>Samsung</td>\n",
       "      <td>Samsung Galaxy A5 Sm-A520F</td>\n",
       "      <td>213</td>\n",
       "      <td>214</td>\n",
       "      <td>1545765</td>\n",
       "      <td>24420</td>\n",
       "      <td>1634479</td>\n",
       "      <td>1271433</td>\n",
       "      <td>3563542</td>\n",
       "      <td>137762</td>\n",
       "      <td>15854611</td>\n",
       "      <td>2501332</td>\n",
       "      <td>8198936</td>\n",
       "      <td>9656251</td>\n",
       "      <td>278082303</td>\n",
       "      <td>14344150</td>\n",
       "      <td>171744450</td>\n",
       "      <td>8814393</td>\n",
       "      <td>36749741</td>\n",
       "      <td>308879636</td>\n",
       "      <td>36749741</td>\n",
       "      <td>480624086</td>\n",
       "      <td>1570185</td>\n",
       "      <td>2905912</td>\n",
       "      <td>3701304</td>\n",
       "      <td>18355943</td>\n",
       "      <td>17855187</td>\n",
       "      <td>292426453</td>\n",
       "      <td>180558843</td>\n",
       "      <td>345629377</td>\n",
       "    </tr>\n",
       "    <tr>\n",
       "      <td>1</td>\n",
       "      <td>1</td>\n",
       "      <td>13114483482878900224</td>\n",
       "      <td>1365104</td>\n",
       "      <td>208201909211140</td>\n",
       "      <td>33681854413</td>\n",
       "      <td>35794009006359</td>\n",
       "      <td>L77566A</td>\n",
       "      <td>65</td>\n",
       "      <td>5</td>\n",
       "      <td>16</td>\n",
       "      <td>26</td>\n",
       "      <td>20884183</td>\n",
       "      <td>766247</td>\n",
       "      <td>100</td>\n",
       "      <td>0</td>\n",
       "      <td>0</td>\n",
       "      <td>0</td>\n",
       "      <td>100</td>\n",
       "      <td>0</td>\n",
       "      <td>0</td>\n",
       "      <td>0</td>\n",
       "      <td>168</td>\n",
       "      <td>3560</td>\n",
       "      <td>1365104371</td>\n",
       "      <td>Samsung</td>\n",
       "      <td>Samsung Galaxy J5 (Sm-J530)</td>\n",
       "      <td>971</td>\n",
       "      <td>1022</td>\n",
       "      <td>1926113</td>\n",
       "      <td>7165</td>\n",
       "      <td>3493924</td>\n",
       "      <td>920172</td>\n",
       "      <td>629046</td>\n",
       "      <td>308339</td>\n",
       "      <td>20247395</td>\n",
       "      <td>19111729</td>\n",
       "      <td>18338413</td>\n",
       "      <td>17227132</td>\n",
       "      <td>608750074</td>\n",
       "      <td>1170709</td>\n",
       "      <td>526904238</td>\n",
       "      <td>15055145</td>\n",
       "      <td>53800391</td>\n",
       "      <td>653384965</td>\n",
       "      <td>53800391</td>\n",
       "      <td>1180289203</td>\n",
       "      <td>1933278</td>\n",
       "      <td>4414096</td>\n",
       "      <td>937385</td>\n",
       "      <td>39359124</td>\n",
       "      <td>35565545</td>\n",
       "      <td>609920783</td>\n",
       "      <td>541959383</td>\n",
       "      <td>707185356</td>\n",
       "    </tr>\n",
       "  </tbody>\n",
       "</table>\n",
       "</div>"
      ],
      "text/plain": [
       "   Unnamed: 0            Bearer_Id  Dur. (ms)            IMSI      MSISDN  \\\n",
       "0           0 13114483460844900352    1823652 208201448079117 33664962239   \n",
       "1           1 13114483482878900224    1365104 208201909211140 33681854413   \n",
       "\n",
       "            IMEI          last_location  avg_rtt_dl  avg_rtt_ul  \\\n",
       "0 35521209507511  9.16456699548519E+015          42           5   \n",
       "1 35794009006359                L77566A          65           5   \n",
       "\n",
       "   throughput_avg_dl_kpbs  throughput_avg_ul_kpbs  retrans_packets_dl_b  \\\n",
       "0                      23                      44              20884183   \n",
       "1                      16                      26              20884183   \n",
       "\n",
       "   retrans_packets_ul_b  tp_dl_below_50kbps_pc  tp_dl_50_250kbps_pc  \\\n",
       "0                766247                    100                    0   \n",
       "1                766247                    100                    0   \n",
       "\n",
       "   tp_dl_250kbps_1mbps_pc    tp_dl_above_1mbps_pc  tp_ul_below_10kpbs_pc  \\\n",
       "0                        0                      0                    100   \n",
       "1                        0                      0                    100   \n",
       "\n",
       "   tp_ul_10_50_kbps_pc   tp_ul_50_300_kbps_pc      tp_ul_above_300_kpbs_pc  \\\n",
       "0                     0                       0                          0   \n",
       "1                     0                       0                          0   \n",
       "\n",
       "   activity_duration_dl  activity_duration_ul  Dur. (ms).1 phone_company  \\\n",
       "0                 37624                 38787   1823652892       Samsung   \n",
       "1                   168                  3560   1365104371       Samsung   \n",
       "\n",
       "                    phone_name  t_vol_dl_above_6250B   t_vol_ul_above_1250B  \\\n",
       "0   Samsung Galaxy A5 Sm-A520F                    213                   214   \n",
       "1  Samsung Galaxy J5 (Sm-J530)                    971                  1022   \n",
       "\n",
       "   socials_dl_b  socials_ul_b  google_dl_b  google_ul_b  email_dl_b  \\\n",
       "0       1545765         24420      1634479      1271433     3563542   \n",
       "1       1926113          7165      3493924       920172      629046   \n",
       "\n",
       "   email_ul_b  youtube_dl_b  youtube_ul_b  netflix_dl_b  netflix_ul_b  \\\n",
       "0      137762      15854611       2501332       8198936       9656251   \n",
       "1      308339      20247395      19111729      18338413      17227132   \n",
       "\n",
       "   gaming_dl_b  gaming_ul_b  other_dl_b  other_ul_b  Total_ul_b  Total_dl_b  \\\n",
       "0    278082303     14344150   171744450     8814393    36749741   308879636   \n",
       "1    608750074      1170709   526904238    15055145    53800391   653384965   \n",
       "\n",
       "   total_ul_data  total_dl_data  socials_total_b  google_total_b  \\\n",
       "0       36749741      480624086          1570185         2905912   \n",
       "1       53800391     1180289203          1933278         4414096   \n",
       "\n",
       "   email_total_b  youtube_total_b  netflix_total_b  gaming_total_b  \\\n",
       "0        3701304         18355943         17855187       292426453   \n",
       "1         937385         39359124         35565545       609920783   \n",
       "\n",
       "   other_total_b   total_b  \n",
       "0      180558843 345629377  \n",
       "1      541959383 707185356  "
      ]
     },
     "execution_count": 3,
     "metadata": {},
     "output_type": "execute_result"
    }
   ],
   "source": [
    "df.head(2)"
   ]
  },
  {
   "cell_type": "code",
   "execution_count": 4,
   "metadata": {},
   "outputs": [],
   "source": [
    "df['total_dl_ul']=df['total_dl_data'] + df['total_ul_data']"
   ]
  },
  {
   "cell_type": "code",
   "execution_count": 5,
   "metadata": {},
   "outputs": [],
   "source": [
    "user_total_dl_ul=df.groupby(['MSISDN','total_dl_ul'])['Dur. (ms)'].sum().reset_index(name='sum')"
   ]
  },
  {
   "cell_type": "code",
   "execution_count": 6,
   "metadata": {},
   "outputs": [
    {
     "data": {
      "text/html": [
       "<div>\n",
       "<style scoped>\n",
       "    .dataframe tbody tr th:only-of-type {\n",
       "        vertical-align: middle;\n",
       "    }\n",
       "\n",
       "    .dataframe tbody tr th {\n",
       "        vertical-align: top;\n",
       "    }\n",
       "\n",
       "    .dataframe thead th {\n",
       "        text-align: right;\n",
       "    }\n",
       "</style>\n",
       "<table border=\"1\" class=\"dataframe\">\n",
       "  <thead>\n",
       "    <tr style=\"text-align: right;\">\n",
       "      <th></th>\n",
       "      <th>MSISDN</th>\n",
       "      <th>total_dl_ul</th>\n",
       "      <th>sum</th>\n",
       "    </tr>\n",
       "  </thead>\n",
       "  <tbody>\n",
       "    <tr>\n",
       "      <td>17437</td>\n",
       "      <td>33625779332</td>\n",
       "      <td>579631808</td>\n",
       "      <td>1859336</td>\n",
       "    </tr>\n",
       "    <tr>\n",
       "      <td>17448</td>\n",
       "      <td>33625779332</td>\n",
       "      <td>1256335771</td>\n",
       "      <td>1859327</td>\n",
       "    </tr>\n",
       "    <tr>\n",
       "      <td>80743</td>\n",
       "      <td>33664962239</td>\n",
       "      <td>517373827</td>\n",
       "      <td>1823652</td>\n",
       "    </tr>\n",
       "    <tr>\n",
       "      <td>17434</td>\n",
       "      <td>33625779332</td>\n",
       "      <td>473417631</td>\n",
       "      <td>1772931</td>\n",
       "    </tr>\n",
       "    <tr>\n",
       "      <td>17435</td>\n",
       "      <td>33625779332</td>\n",
       "      <td>512815190</td>\n",
       "      <td>1686493</td>\n",
       "    </tr>\n",
       "  </tbody>\n",
       "</table>\n",
       "</div>"
      ],
      "text/plain": [
       "           MSISDN  total_dl_ul     sum\n",
       "17437 33625779332    579631808 1859336\n",
       "17448 33625779332   1256335771 1859327\n",
       "80743 33664962239    517373827 1823652\n",
       "17434 33625779332    473417631 1772931\n",
       "17435 33625779332    512815190 1686493"
      ]
     },
     "execution_count": 6,
     "metadata": {},
     "output_type": "execute_result"
    }
   ],
   "source": [
    "user_total_dl_ul.sort_values(['sum'], ascending=False).head(5)"
   ]
  },
  {
   "cell_type": "code",
   "execution_count": 7,
   "metadata": {},
   "outputs": [],
   "source": [
    "\n",
    "user_total_dl_ul['Decile'] = pd.qcut(user_total_dl_ul['sum'], 5, labels=False)"
   ]
  },
  {
   "cell_type": "code",
   "execution_count": 8,
   "metadata": {},
   "outputs": [
    {
     "data": {
      "text/html": [
       "<div>\n",
       "<style scoped>\n",
       "    .dataframe tbody tr th:only-of-type {\n",
       "        vertical-align: middle;\n",
       "    }\n",
       "\n",
       "    .dataframe tbody tr th {\n",
       "        vertical-align: top;\n",
       "    }\n",
       "\n",
       "    .dataframe thead th {\n",
       "        text-align: right;\n",
       "    }\n",
       "</style>\n",
       "<table border=\"1\" class=\"dataframe\">\n",
       "  <thead>\n",
       "    <tr style=\"text-align: right;\">\n",
       "      <th></th>\n",
       "      <th>MSISDN</th>\n",
       "      <th>total_dl_ul</th>\n",
       "      <th>sum</th>\n",
       "      <th>Decile</th>\n",
       "    </tr>\n",
       "  </thead>\n",
       "  <tbody>\n",
       "    <tr>\n",
       "      <td>0</td>\n",
       "      <td>33601001722</td>\n",
       "      <td>1255787564</td>\n",
       "      <td>116720</td>\n",
       "      <td>3</td>\n",
       "    </tr>\n",
       "    <tr>\n",
       "      <td>1</td>\n",
       "      <td>33601001754</td>\n",
       "      <td>436417344</td>\n",
       "      <td>181230</td>\n",
       "      <td>4</td>\n",
       "    </tr>\n",
       "    <tr>\n",
       "      <td>2</td>\n",
       "      <td>33601002511</td>\n",
       "      <td>1091052984</td>\n",
       "      <td>134969</td>\n",
       "      <td>3</td>\n",
       "    </tr>\n",
       "    <tr>\n",
       "      <td>3</td>\n",
       "      <td>33601007832</td>\n",
       "      <td>447568699</td>\n",
       "      <td>49878</td>\n",
       "      <td>1</td>\n",
       "    </tr>\n",
       "    <tr>\n",
       "      <td>4</td>\n",
       "      <td>33601008617</td>\n",
       "      <td>944127818</td>\n",
       "      <td>18555</td>\n",
       "      <td>0</td>\n",
       "    </tr>\n",
       "  </tbody>\n",
       "</table>\n",
       "</div>"
      ],
      "text/plain": [
       "       MSISDN  total_dl_ul    sum  Decile\n",
       "0 33601001722   1255787564 116720       3\n",
       "1 33601001754    436417344 181230       4\n",
       "2 33601002511   1091052984 134969       3\n",
       "3 33601007832    447568699  49878       1\n",
       "4 33601008617    944127818  18555       0"
      ]
     },
     "execution_count": 8,
     "metadata": {},
     "output_type": "execute_result"
    }
   ],
   "source": [
    "user_total_dl_ul.head()"
   ]
  },
  {
   "cell_type": "markdown",
   "metadata": {},
   "source": [
    "compute the total data (DL+UL) per decile class."
   ]
  },
  {
   "cell_type": "code",
   "execution_count": 9,
   "metadata": {},
   "outputs": [],
   "source": [
    "decile_class=user_total_dl_ul.groupby(['Decile'])['total_dl_ul'].sum().reset_index(name='sum')"
   ]
  },
  {
   "cell_type": "code",
   "execution_count": 10,
   "metadata": {
    "scrolled": true
   },
   "outputs": [
    {
     "data": {
      "text/html": [
       "<div>\n",
       "<style scoped>\n",
       "    .dataframe tbody tr th:only-of-type {\n",
       "        vertical-align: middle;\n",
       "    }\n",
       "\n",
       "    .dataframe tbody tr th {\n",
       "        vertical-align: top;\n",
       "    }\n",
       "\n",
       "    .dataframe thead th {\n",
       "        text-align: right;\n",
       "    }\n",
       "</style>\n",
       "<table border=\"1\" class=\"dataframe\">\n",
       "  <thead>\n",
       "    <tr style=\"text-align: right;\">\n",
       "      <th></th>\n",
       "      <th>Decile</th>\n",
       "      <th>sum</th>\n",
       "    </tr>\n",
       "  </thead>\n",
       "  <tbody>\n",
       "    <tr>\n",
       "      <td>1</td>\n",
       "      <td>1</td>\n",
       "      <td>42904209602502</td>\n",
       "    </tr>\n",
       "    <tr>\n",
       "      <td>4</td>\n",
       "      <td>4</td>\n",
       "      <td>27256822745213</td>\n",
       "    </tr>\n",
       "    <tr>\n",
       "      <td>3</td>\n",
       "      <td>3</td>\n",
       "      <td>27201037766975</td>\n",
       "    </tr>\n",
       "    <tr>\n",
       "      <td>0</td>\n",
       "      <td>0</td>\n",
       "      <td>27147767244540</td>\n",
       "    </tr>\n",
       "    <tr>\n",
       "      <td>2</td>\n",
       "      <td>2</td>\n",
       "      <td>11660640974264</td>\n",
       "    </tr>\n",
       "  </tbody>\n",
       "</table>\n",
       "</div>"
      ],
      "text/plain": [
       "   Decile            sum\n",
       "1       1 42904209602502\n",
       "4       4 27256822745213\n",
       "3       3 27201037766975\n",
       "0       0 27147767244540\n",
       "2       2 11660640974264"
      ]
     },
     "execution_count": 10,
     "metadata": {},
     "output_type": "execute_result"
    }
   ],
   "source": [
    "decile_class.sort_values(['sum'], ascending=False).head(5)"
   ]
  },
  {
   "cell_type": "markdown",
   "metadata": {},
   "source": [
    "Correlation Analysis – compute a correlation matrix for the following variables and interpret your findings: Social Media data, Google data, Email data, Youtube data, Netflix data, Gaming data, Other data"
   ]
  },
  {
   "cell_type": "code",
   "execution_count": 11,
   "metadata": {},
   "outputs": [],
   "source": [
    "import matplotlib.pyplot as plt\n",
    "import seaborn as sns"
   ]
  },
  {
   "cell_type": "code",
   "execution_count": 12,
   "metadata": {},
   "outputs": [
    {
     "data": {
      "image/png": "[encoded data removed]",
      "text/plain": [
       "<Figure size 1080x504 with 2 Axes>"
      ]
     },
     "metadata": {
      "needs_background": "light"
     },
     "output_type": "display_data"
    }
   ],
   "source": [
    "all_col = ['socials_total_b', 'google_total_b','email_total_b', 'youtube_total_b', 'netflix_total_b', \n",
    "           'gaming_total_b', 'other_total_b', 'total_b', 'total_dl_ul']\n",
    "plt.figure(figsize=(15,7))\n",
    "sns.heatmap(df[all_col].corr(),\n",
    "            annot=True,\n",
    "            linewidths=0.5,vmin=-1,vmax=1,\n",
    "            center=0,\n",
    "            cbar=True,)\n",
    "plt.show()"
   ]
  },
  {
   "cell_type": "markdown",
   "metadata": {},
   "source": [
    "Dimensionality Reduction – perform a principal component analysis to reduce the dimensions of your data and provide a useful interpretation of the results (Provide your interpretation in four (4) bullet points-maximum)."
   ]
  },
  {
   "cell_type": "markdown",
   "metadata": {},
   "source": [
    "scaling"
   ]
  },
  {
   "cell_type": "code",
   "execution_count": 14,
   "metadata": {},
   "outputs": [],
   "source": [
    "numerical_features = ['Bearer_Id', 'Dur. (ms)', 'avg_rtt_dl', 'avg_rtt_ul', 'throughput_avg_dl_kpbs',\n",
    "       'throughput_avg_ul_kpbs', 'retrans_packets_dl_b',\n",
    "       'retrans_packets_ul_b', 'tp_dl_below_50kbps_pc', 'tp_dl_50_250kbps_pc',\n",
    "       'tp_dl_250kbps_1mbps_pc ', ' tp_dl_above_1mbps_pc',\n",
    "       'tp_ul_below_10kpbs_pc', 'tp_ul_10_50_kbps_pc ',\n",
    "       'tp_ul_50_300_kbps_pc  ', '  tp_ul_above_300_kpbs_pc',\n",
    "       'activity_duration_dl', 'activity_duration_ul', 'Dur. (ms).1', 't_vol_dl_above_6250B ',\n",
    "       't_vol_ul_above_1250B', 'socials_dl_b', 'socials_ul_b', 'google_dl_b',\n",
    "       'google_ul_b', 'email_dl_b', 'email_ul_b', 'youtube_dl_b',\n",
    "       'youtube_ul_b', 'netflix_dl_b', 'netflix_ul_b', 'gaming_dl_b',\n",
    "       'gaming_ul_b', 'other_dl_b', 'other_ul_b', 'Total_ul_b', 'Total_dl_b',\n",
    "       'total_ul_data', 'total_dl_data', 'socials_total_b', 'google_total_b',\n",
    "       'email_total_b', 'youtube_total_b', 'netflix_total_b', 'gaming_total_b',\n",
    "       'other_total_b', 'total_b', 'total_dl_ul']\n",
    "\n"
   ]
  },
  {
   "cell_type": "code",
   "execution_count": null,
   "metadata": {},
   "outputs": [],
   "source": [
    "cat_features=['IMEI','MSISDN','IMSI','phone_name','phone_company']"
   ]
  },
  {
   "cell_type": "code",
   "execution_count": null,
   "metadata": {},
   "outputs": [],
   "source": [
    "input_features = numerical_features + cat_features"
   ]
  },
  {
   "cell_type": "code",
   "execution_count": null,
   "metadata": {},
   "outputs": [],
   "source": [
    "features = df.copy()"
   ]
  },
  {
   "cell_type": "code",
   "execution_count": null,
   "metadata": {},
   "outputs": [],
   "source": [
    "from sklearn.preprocessing import StandardScaler, normalize\n",
    "from sklearn import decomposition\n",
    "from sklearn import metrics\n",
    "from sklearn.preprocessing import LabelEncoder\n",
    "from sklearn.cluster import KMeans \n",
    "import matplotlib.pyplot as plt"
   ]
  },
  {
   "cell_type": "markdown",
   "metadata": {},
   "source": [
    "# Encoding categorical variables"
   ]
  },
  {
   "cell_type": "code",
   "execution_count": null,
   "metadata": {},
   "outputs": [],
   "source": [
    "#casting the columns into strings\n",
    "labelencoder = LabelEncoder()\n",
    "\n",
    "#features[cat_features] = features[cat_features].apply(LabelEncoder().fit_transform)\n",
    "features[cat_features] = features[cat_features].apply(lambda col: LabelEncoder().fit_transform(col.astype(str)), axis=0, result_type='expand')"
   ]
  },
  {
   "cell_type": "markdown",
   "metadata": {},
   "source": [
    "# Scaling Numerical Data"
   ]
  },
  {
   "cell_type": "code",
   "execution_count": null,
   "metadata": {},
   "outputs": [],
   "source": [
    "scaler = StandardScaler()\n",
    "x_scaled = scaler.fit_transform(features[input_features])"
   ]
  },
  {
   "cell_type": "markdown",
   "metadata": {},
   "source": [
    "# PCA"
   ]
  },
  {
   "cell_type": "code",
   "execution_count": null,
   "metadata": {},
   "outputs": [],
   "source": [
    "float_formatter = lambda x: \"%.2f\" % x\n",
    "np.set_printoptions(formatter={'float_kind':float_formatter})"
   ]
  },
  {
   "cell_type": "code",
   "execution_count": null,
   "metadata": {},
   "outputs": [],
   "source": [
    "pca = decomposition.PCA()\n",
    "\n",
    "x_reduced = pca.fit_transform(x_scaled) \n",
    "pca.explained_variance_ "
   ]
  },
  {
   "cell_type": "code",
   "execution_count": null,
   "metadata": {},
   "outputs": [],
   "source": [
    "model = pca.fit(pd.DataFrame(x_reduced))\n",
    "n_pcs = model.components_.shape[0]\n",
    "most_important = [np.abs(model.components_[i]).argmax() for i in range(n_pcs)]\n",
    "initial_feature_names = list(features[input_features].columns)\n",
    "\n",
    "# get the names\n",
    "most_important_names = [initial_feature_names[most_important[i]] for i in range(n_pcs)]\n",
    "\n",
    "# LIST COMPREHENSION HERE AGAIN\n",
    "dic = {'PC{}'.format(i): most_important_names[i] for i in range(n_pcs)}\n",
    "\n",
    "# build the dataframe\n",
    "df_imp = pd.DataFrame(dic.items())\n",
    "#df_imp.columns = ['IMPORTANCE', 'FEATURES']\n",
    "# df_imp['IMPORTANCE'] = most_important\n",
    "#df_imp"
   ]
  },
  {
   "cell_type": "code",
   "execution_count": null,
   "metadata": {},
   "outputs": [],
   "source": [
    "#Plotting the Cumulative Summation of the Explained Variance\n",
    "plt.figure(figsize=(8,5))\n",
    "plt.plot(np.cumsum(pca.explained_variance_ratio_))\n",
    "plt.xlabel('Number of Components')\n",
    "plt.ylabel('Variance (%)')\n",
    "plt.title('Explained Variance')\n",
    "plt.show()"
   ]
  },
  {
   "cell_type": "code",
   "execution_count": null,
   "metadata": {},
   "outputs": [],
   "source": [
    "x_scaled.shape"
   ]
  },
  {
   "cell_type": "code",
   "execution_count": null,
   "metadata": {},
   "outputs": [],
   "source": [
    "import scipy.stats as stats\n",
    "X_scaled = stats.zscore(x_scaled)\n",
    "#X_scaled"
   ]
  },
  {
   "cell_type": "code",
   "execution_count": null,
   "metadata": {},
   "outputs": [],
   "source": [
    "pca = decomposition.PCA(n_components=34)\n",
    "x_reduced = pca.fit_transform(X_scaled)"
   ]
  },
  {
   "cell_type": "code",
   "execution_count": null,
   "metadata": {},
   "outputs": [],
   "source": [
    "x_reduced.shape"
   ]
  },
  {
   "cell_type": "code",
   "execution_count": null,
   "metadata": {},
   "outputs": [],
   "source": [
    "X_reduced = stats.zscore(x_reduced)"
   ]
  },
  {
   "cell_type": "code",
   "execution_count": null,
   "metadata": {},
   "outputs": [],
   "source": []
  }
 ],
 "metadata": {
  "kernelspec": {
   "display_name": "Python 3",
   "language": "python",
   "name": "python3"
  },
  "language_info": {
   "codemirror_mode": {
    "name": "ipython",
    "version": 3
   },
   "file_extension": ".py",
   "mimetype": "text/x-python",
   "name": "python",
   "nbconvert_exporter": "python",
   "pygments_lexer": "ipython3",
   "version": "3.7.3"
  }
 },
 "nbformat": 4,
 "nbformat_minor": 2
}
