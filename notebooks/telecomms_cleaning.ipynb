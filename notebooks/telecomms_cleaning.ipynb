{
 "cells": [
  {
   "cell_type": "markdown",
   "metadata": {},
   "source": [
    "##Situational Overview (Business Need)\n",
    "You are working for a wealthy investor that specialises in purchasing assets that are undervalued.  This investor’s due diligence on all purchases includes a detailed analysis of the data that underlies the business, to try to understand the fundamentals of the business and especially to identify opportunities to drive profitability by changing the focus of which products or services are being offered.\n",
    "\n",
    "The investor is interested in purchasing TellCo, an existing mobile service provider in the Republic of Pefkakia.  TellCo’s current owners have been willing to share their financial information but have never employed anyone to look at their data that is generated automatically by their systems.\n",
    "\n",
    "Your employer wants you to provide a report to analyse opportunities for growth and make a recommendation on whether TellCo is worth buying or selling.  You will do this by analysing a telecommunication dataset that contains useful information about the customers & their activities on the network. You will deliver insights you managed to extract to your employer through an easy to use web based dashboard and a written report. "
   ]
  },
  {
   "cell_type": "code",
   "execution_count": 1,
   "metadata": {},
   "outputs": [],
   "source": [
    "import numpy as np\n",
    "import pandas as pd\n"
   ]
  },
  {
   "cell_type": "code",
   "execution_count": 2,
   "metadata": {},
   "outputs": [],
   "source": [
    "summary=pd.read_excel('../data/Field Descriptions.xlsx')"
   ]
  },
  {
   "cell_type": "code",
   "execution_count": 3,
   "metadata": {},
   "outputs": [
    {
     "data": {
      "text/plain": [
       "(56, 2)"
      ]
     },
     "execution_count": 3,
     "metadata": {},
     "output_type": "execute_result"
    }
   ],
   "source": [
    "#This table conntains information o the columns in our dataset and what they mean\n",
    "summary.shape"
   ]
  },
  {
   "cell_type": "markdown",
   "metadata": {},
   "source": [
    "-There are 56 fields in our dataset.\n",
    "-CDR or Call Detail Record is the voice channel. \n",
    "-XDR is the data channel. For example, one difference is that CDRs encode 2 phone numbers and two antennas (in and out) for a call, while XDRs only contain one antenna (the one you're connected to and downloading information)... no \"out\" antenna or \"out\" phone number is nedded. Another difference is perhaps that you're not measured in how many minutes you burn, but how many KBs you down/upload."
   ]
  },
  {
   "cell_type": "code",
   "execution_count": 4,
   "metadata": {},
   "outputs": [],
   "source": [
    "pd.set_option('display.max_columns', None)"
   ]
  },
  {
   "cell_type": "code",
   "execution_count": 5,
   "metadata": {},
   "outputs": [
    {
     "data": {
      "text/html": [
       "<div>\n",
       "<style scoped>\n",
       "    .dataframe tbody tr th:only-of-type {\n",
       "        vertical-align: middle;\n",
       "    }\n",
       "\n",
       "    .dataframe tbody tr th {\n",
       "        vertical-align: top;\n",
       "    }\n",
       "\n",
       "    .dataframe thead th {\n",
       "        text-align: right;\n",
       "    }\n",
       "</style>\n",
       "<table border=\"1\" class=\"dataframe\">\n",
       "  <thead>\n",
       "    <tr style=\"text-align: right;\">\n",
       "      <th></th>\n",
       "      <th>Fields</th>\n",
       "      <th>Description</th>\n",
       "    </tr>\n",
       "  </thead>\n",
       "  <tbody>\n",
       "    <tr>\n",
       "      <td>0</td>\n",
       "      <td>bearer id</td>\n",
       "      <td>xDr session identifier</td>\n",
       "    </tr>\n",
       "    <tr>\n",
       "      <td>1</td>\n",
       "      <td>Dur. (ms)</td>\n",
       "      <td>Total Duration of the xDR (in ms)</td>\n",
       "    </tr>\n",
       "    <tr>\n",
       "      <td>2</td>\n",
       "      <td>Start</td>\n",
       "      <td>Start time of the xDR (first frame timestamp)</td>\n",
       "    </tr>\n",
       "    <tr>\n",
       "      <td>3</td>\n",
       "      <td>Start ms</td>\n",
       "      <td>Milliseconds offset of start time for the xDR ...</td>\n",
       "    </tr>\n",
       "    <tr>\n",
       "      <td>4</td>\n",
       "      <td>End</td>\n",
       "      <td>End time of the xDR (last frame timestamp)</td>\n",
       "    </tr>\n",
       "    <tr>\n",
       "      <td>5</td>\n",
       "      <td>End ms</td>\n",
       "      <td>Milliseconds offset of end time of the xDR (la...</td>\n",
       "    </tr>\n",
       "    <tr>\n",
       "      <td>6</td>\n",
       "      <td>Dur. (s)</td>\n",
       "      <td>Total Duration of the xDR (in s)</td>\n",
       "    </tr>\n",
       "    <tr>\n",
       "      <td>7</td>\n",
       "      <td>IMSI</td>\n",
       "      <td>International Mobile Subscriber Identity</td>\n",
       "    </tr>\n",
       "    <tr>\n",
       "      <td>8</td>\n",
       "      <td>MSISDN/Number</td>\n",
       "      <td>MS International PSTN/ISDN Number of mobile - ...</td>\n",
       "    </tr>\n",
       "    <tr>\n",
       "      <td>9</td>\n",
       "      <td>IMEI</td>\n",
       "      <td>International Mobile Equipment Identity</td>\n",
       "    </tr>\n",
       "    <tr>\n",
       "      <td>10</td>\n",
       "      <td>Last Location Name</td>\n",
       "      <td>User location call name (2G/3G/4G) at the end ...</td>\n",
       "    </tr>\n",
       "    <tr>\n",
       "      <td>11</td>\n",
       "      <td>Avg RTT DL (ms)</td>\n",
       "      <td>Average Round Trip Time measurement Downlink d...</td>\n",
       "    </tr>\n",
       "    <tr>\n",
       "      <td>12</td>\n",
       "      <td>Avg RTT UL (ms)</td>\n",
       "      <td>Average Round Trip Time measurement Uplink dir...</td>\n",
       "    </tr>\n",
       "    <tr>\n",
       "      <td>13</td>\n",
       "      <td>Avg Bearer TP DL (kbps)</td>\n",
       "      <td>Average Bearer Throughput for Downlink (kbps) ...</td>\n",
       "    </tr>\n",
       "    <tr>\n",
       "      <td>14</td>\n",
       "      <td>Avg Bearer TP UL (kbps)</td>\n",
       "      <td>Average Bearer Throughput for uplink (kbps) - ...</td>\n",
       "    </tr>\n",
       "    <tr>\n",
       "      <td>15</td>\n",
       "      <td>TCP DL Retrans. Vol (Bytes)</td>\n",
       "      <td>TCP volume of Downlink packets detected as ret...</td>\n",
       "    </tr>\n",
       "    <tr>\n",
       "      <td>16</td>\n",
       "      <td>TCP UL Retrans. Vol (Bytes)</td>\n",
       "      <td>TCP volume of Uplink packets detected as retra...</td>\n",
       "    </tr>\n",
       "    <tr>\n",
       "      <td>17</td>\n",
       "      <td>DL TP &lt; 50 Kbps (%)</td>\n",
       "      <td>Duration ratio when Bearer Downlink Throughput...</td>\n",
       "    </tr>\n",
       "    <tr>\n",
       "      <td>18</td>\n",
       "      <td>50 Kbps &lt; DL TP &lt; 250 Kbps (%)</td>\n",
       "      <td>Duration ratio when Bearer Downlink Throughput...</td>\n",
       "    </tr>\n",
       "    <tr>\n",
       "      <td>19</td>\n",
       "      <td>250 Kbps &lt; DL TP &lt; 1 Mbps (%)</td>\n",
       "      <td>Duration ratio when Bearer Downlink Throughput...</td>\n",
       "    </tr>\n",
       "    <tr>\n",
       "      <td>20</td>\n",
       "      <td>DL TP &gt; 1 Mbps (%)</td>\n",
       "      <td>Duration ratio when Bearer Downlink Throughput...</td>\n",
       "    </tr>\n",
       "    <tr>\n",
       "      <td>21</td>\n",
       "      <td>UL TP &lt; 10 Kbps (%)</td>\n",
       "      <td>Duration ratio when Bearer Uplink Throughput &lt; ….</td>\n",
       "    </tr>\n",
       "    <tr>\n",
       "      <td>22</td>\n",
       "      <td>10 Kbps &lt; UL TP &lt; 50 Kbps (%)</td>\n",
       "      <td>Duration ratio when Bearer Uplink Throughput r...</td>\n",
       "    </tr>\n",
       "    <tr>\n",
       "      <td>23</td>\n",
       "      <td>50 Kbps &lt; UL TP &lt; 300 Kbps (%)</td>\n",
       "      <td>Duration ratio when Bearer Uplink Throughput r...</td>\n",
       "    </tr>\n",
       "    <tr>\n",
       "      <td>24</td>\n",
       "      <td>UL TP &gt; 300 Kbps (%)</td>\n",
       "      <td>Duration ratio when Bearer Uplink Throughput &gt; ….</td>\n",
       "    </tr>\n",
       "    <tr>\n",
       "      <td>25</td>\n",
       "      <td>HTTP DL (Bytes)</td>\n",
       "      <td>HTTP data volume (in Bytes) received by the MS...</td>\n",
       "    </tr>\n",
       "    <tr>\n",
       "      <td>26</td>\n",
       "      <td>HTTP UL (Bytes)</td>\n",
       "      <td>HTTP data volume (in Bytes) sent by the MS dur...</td>\n",
       "    </tr>\n",
       "    <tr>\n",
       "      <td>27</td>\n",
       "      <td>Activity Duration DL (ms)</td>\n",
       "      <td>Activity Duration for downlink (ms) - excludin...</td>\n",
       "    </tr>\n",
       "    <tr>\n",
       "      <td>28</td>\n",
       "      <td>Activity Duration UL (ms)</td>\n",
       "      <td>Activity Duration for uplink (ms) - excluding ...</td>\n",
       "    </tr>\n",
       "    <tr>\n",
       "      <td>29</td>\n",
       "      <td>Dur. (ms).1</td>\n",
       "      <td>Total Duration of the xDR (in ms)</td>\n",
       "    </tr>\n",
       "    <tr>\n",
       "      <td>30</td>\n",
       "      <td>Handset Manufacturer</td>\n",
       "      <td>Handset manufacturer</td>\n",
       "    </tr>\n",
       "    <tr>\n",
       "      <td>31</td>\n",
       "      <td>Handset Type</td>\n",
       "      <td>Handset type of the mobile device</td>\n",
       "    </tr>\n",
       "    <tr>\n",
       "      <td>32</td>\n",
       "      <td>Nb of sec with 125000B &lt; Vol DL</td>\n",
       "      <td>Number of seconds with IP Volume DL &gt;</td>\n",
       "    </tr>\n",
       "    <tr>\n",
       "      <td>33</td>\n",
       "      <td>Nb of sec with 1250B &lt; Vol UL &lt; 6250B</td>\n",
       "      <td>Number of seconds with IP Volume UL between …</td>\n",
       "    </tr>\n",
       "    <tr>\n",
       "      <td>34</td>\n",
       "      <td>Nb of sec with 31250B &lt; Vol DL &lt; 125000B</td>\n",
       "      <td>Number of seconds with IP Volume DL between …</td>\n",
       "    </tr>\n",
       "    <tr>\n",
       "      <td>35</td>\n",
       "      <td>Nb of sec with 37500B &lt; Vol UL</td>\n",
       "      <td>Number of seconds with IP Volume UL &gt;</td>\n",
       "    </tr>\n",
       "    <tr>\n",
       "      <td>36</td>\n",
       "      <td>Nb of sec with 6250B &lt; Vol DL &lt; 31250B</td>\n",
       "      <td>Number of seconds with IP Volume DL between …</td>\n",
       "    </tr>\n",
       "    <tr>\n",
       "      <td>37</td>\n",
       "      <td>Nb of sec with 6250B &lt; Vol UL &lt; 37500B</td>\n",
       "      <td>Number of seconds with IP Volume UL between …</td>\n",
       "    </tr>\n",
       "    <tr>\n",
       "      <td>38</td>\n",
       "      <td>Nb of sec with Vol DL &lt; 6250B</td>\n",
       "      <td>Number of seconds with IP Volume DL &lt;</td>\n",
       "    </tr>\n",
       "    <tr>\n",
       "      <td>39</td>\n",
       "      <td>Nb of sec with Vol UL &lt; 1250B</td>\n",
       "      <td>Number of seconds with IP Volume UL &lt;</td>\n",
       "    </tr>\n",
       "    <tr>\n",
       "      <td>40</td>\n",
       "      <td>Social Media DL (Bytes)</td>\n",
       "      <td>Social Media data volume (in Bytes) received b...</td>\n",
       "    </tr>\n",
       "    <tr>\n",
       "      <td>41</td>\n",
       "      <td>Social Media UL (Bytes)</td>\n",
       "      <td>Social Media data volume (in Bytes) sent by th...</td>\n",
       "    </tr>\n",
       "    <tr>\n",
       "      <td>42</td>\n",
       "      <td>YouTube DL (Bytes)</td>\n",
       "      <td>YouTube data volume (in Bytes) received by the...</td>\n",
       "    </tr>\n",
       "    <tr>\n",
       "      <td>43</td>\n",
       "      <td>YouTube UL (Bytes)</td>\n",
       "      <td>YouTube data volume (in Bytes) sent by the MS ...</td>\n",
       "    </tr>\n",
       "    <tr>\n",
       "      <td>44</td>\n",
       "      <td>Netflix DL (Bytes)</td>\n",
       "      <td>Netflix data volume (in Bytes) received by the...</td>\n",
       "    </tr>\n",
       "    <tr>\n",
       "      <td>45</td>\n",
       "      <td>Netflix UL (Bytes)</td>\n",
       "      <td>Netflix data volume (in Bytes) sent by the MS ...</td>\n",
       "    </tr>\n",
       "    <tr>\n",
       "      <td>46</td>\n",
       "      <td>Google DL (Bytes)</td>\n",
       "      <td>Google data volume (in Bytes) Received by the ...</td>\n",
       "    </tr>\n",
       "    <tr>\n",
       "      <td>47</td>\n",
       "      <td>Google UL (Bytes)</td>\n",
       "      <td>Google data volume (in Bytes) sent by the MS d...</td>\n",
       "    </tr>\n",
       "    <tr>\n",
       "      <td>48</td>\n",
       "      <td>Email DL (Bytes)</td>\n",
       "      <td>Email data volume (in Bytes) Received by the M...</td>\n",
       "    </tr>\n",
       "    <tr>\n",
       "      <td>49</td>\n",
       "      <td>Email UL (Bytes)</td>\n",
       "      <td>Email data volume (in Bytes) sent by the MS du...</td>\n",
       "    </tr>\n",
       "    <tr>\n",
       "      <td>50</td>\n",
       "      <td>Gaming DL (Bytes)</td>\n",
       "      <td>Gaming data volume (in Bytes) Received by the ...</td>\n",
       "    </tr>\n",
       "    <tr>\n",
       "      <td>51</td>\n",
       "      <td>Gaming UL (Bytes)</td>\n",
       "      <td>Gaming data volume (in Bytes) sent by the MS d...</td>\n",
       "    </tr>\n",
       "    <tr>\n",
       "      <td>52</td>\n",
       "      <td>Other DL</td>\n",
       "      <td>Other data volume (in Bytes) received by the M...</td>\n",
       "    </tr>\n",
       "    <tr>\n",
       "      <td>53</td>\n",
       "      <td>Other UL</td>\n",
       "      <td>Other data volume (in Bytes) sent by the MS du...</td>\n",
       "    </tr>\n",
       "    <tr>\n",
       "      <td>54</td>\n",
       "      <td>Total DL (Bytes)</td>\n",
       "      <td>Data volume (in Bytes) received by the MS duri...</td>\n",
       "    </tr>\n",
       "    <tr>\n",
       "      <td>55</td>\n",
       "      <td>Total UL (Bytes)</td>\n",
       "      <td>Data volume (in Bytes) sent by the MS during t...</td>\n",
       "    </tr>\n",
       "  </tbody>\n",
       "</table>\n",
       "</div>"
      ],
      "text/plain": [
       "                                      Fields  \\\n",
       "0                                  bearer id   \n",
       "1                                  Dur. (ms)   \n",
       "2                                      Start   \n",
       "3                                   Start ms   \n",
       "4                                        End   \n",
       "5                                     End ms   \n",
       "6                                   Dur. (s)   \n",
       "7                                       IMSI   \n",
       "8                              MSISDN/Number   \n",
       "9                                       IMEI   \n",
       "10                        Last Location Name   \n",
       "11                           Avg RTT DL (ms)   \n",
       "12                           Avg RTT UL (ms)   \n",
       "13                   Avg Bearer TP DL (kbps)   \n",
       "14                   Avg Bearer TP UL (kbps)   \n",
       "15               TCP DL Retrans. Vol (Bytes)   \n",
       "16               TCP UL Retrans. Vol (Bytes)   \n",
       "17                       DL TP < 50 Kbps (%)   \n",
       "18            50 Kbps < DL TP < 250 Kbps (%)   \n",
       "19             250 Kbps < DL TP < 1 Mbps (%)   \n",
       "20                        DL TP > 1 Mbps (%)   \n",
       "21                       UL TP < 10 Kbps (%)   \n",
       "22             10 Kbps < UL TP < 50 Kbps (%)   \n",
       "23            50 Kbps < UL TP < 300 Kbps (%)   \n",
       "24                      UL TP > 300 Kbps (%)   \n",
       "25                           HTTP DL (Bytes)   \n",
       "26                           HTTP UL (Bytes)   \n",
       "27                 Activity Duration DL (ms)   \n",
       "28                 Activity Duration UL (ms)   \n",
       "29                               Dur. (ms).1   \n",
       "30                      Handset Manufacturer   \n",
       "31                              Handset Type   \n",
       "32           Nb of sec with 125000B < Vol DL   \n",
       "33     Nb of sec with 1250B < Vol UL < 6250B   \n",
       "34  Nb of sec with 31250B < Vol DL < 125000B   \n",
       "35            Nb of sec with 37500B < Vol UL   \n",
       "36    Nb of sec with 6250B < Vol DL < 31250B   \n",
       "37    Nb of sec with 6250B < Vol UL < 37500B   \n",
       "38             Nb of sec with Vol DL < 6250B   \n",
       "39             Nb of sec with Vol UL < 1250B   \n",
       "40                   Social Media DL (Bytes)   \n",
       "41                   Social Media UL (Bytes)   \n",
       "42                        YouTube DL (Bytes)   \n",
       "43                        YouTube UL (Bytes)   \n",
       "44                        Netflix DL (Bytes)   \n",
       "45                        Netflix UL (Bytes)   \n",
       "46                         Google DL (Bytes)   \n",
       "47                         Google UL (Bytes)   \n",
       "48                          Email DL (Bytes)   \n",
       "49                          Email UL (Bytes)   \n",
       "50                         Gaming DL (Bytes)   \n",
       "51                         Gaming UL (Bytes)   \n",
       "52                                  Other DL   \n",
       "53                                  Other UL   \n",
       "54                          Total DL (Bytes)   \n",
       "55                          Total UL (Bytes)   \n",
       "\n",
       "                                          Description  \n",
       "0                              xDr session identifier  \n",
       "1                   Total Duration of the xDR (in ms)  \n",
       "2       Start time of the xDR (first frame timestamp)  \n",
       "3   Milliseconds offset of start time for the xDR ...  \n",
       "4          End time of the xDR (last frame timestamp)  \n",
       "5   Milliseconds offset of end time of the xDR (la...  \n",
       "6                    Total Duration of the xDR (in s)  \n",
       "7            International Mobile Subscriber Identity  \n",
       "8   MS International PSTN/ISDN Number of mobile - ...  \n",
       "9             International Mobile Equipment Identity  \n",
       "10  User location call name (2G/3G/4G) at the end ...  \n",
       "11  Average Round Trip Time measurement Downlink d...  \n",
       "12  Average Round Trip Time measurement Uplink dir...  \n",
       "13  Average Bearer Throughput for Downlink (kbps) ...  \n",
       "14  Average Bearer Throughput for uplink (kbps) - ...  \n",
       "15  TCP volume of Downlink packets detected as ret...  \n",
       "16  TCP volume of Uplink packets detected as retra...  \n",
       "17  Duration ratio when Bearer Downlink Throughput...  \n",
       "18  Duration ratio when Bearer Downlink Throughput...  \n",
       "19  Duration ratio when Bearer Downlink Throughput...  \n",
       "20  Duration ratio when Bearer Downlink Throughput...  \n",
       "21  Duration ratio when Bearer Uplink Throughput < ….  \n",
       "22  Duration ratio when Bearer Uplink Throughput r...  \n",
       "23  Duration ratio when Bearer Uplink Throughput r...  \n",
       "24  Duration ratio when Bearer Uplink Throughput > ….  \n",
       "25  HTTP data volume (in Bytes) received by the MS...  \n",
       "26  HTTP data volume (in Bytes) sent by the MS dur...  \n",
       "27  Activity Duration for downlink (ms) - excludin...  \n",
       "28  Activity Duration for uplink (ms) - excluding ...  \n",
       "29                  Total Duration of the xDR (in ms)  \n",
       "30                              Handset manufacturer   \n",
       "31                  Handset type of the mobile device  \n",
       "32              Number of seconds with IP Volume DL >  \n",
       "33      Number of seconds with IP Volume UL between …  \n",
       "34      Number of seconds with IP Volume DL between …  \n",
       "35              Number of seconds with IP Volume UL >  \n",
       "36      Number of seconds with IP Volume DL between …  \n",
       "37      Number of seconds with IP Volume UL between …  \n",
       "38              Number of seconds with IP Volume DL <  \n",
       "39              Number of seconds with IP Volume UL <  \n",
       "40  Social Media data volume (in Bytes) received b...  \n",
       "41  Social Media data volume (in Bytes) sent by th...  \n",
       "42  YouTube data volume (in Bytes) received by the...  \n",
       "43  YouTube data volume (in Bytes) sent by the MS ...  \n",
       "44  Netflix data volume (in Bytes) received by the...  \n",
       "45  Netflix data volume (in Bytes) sent by the MS ...  \n",
       "46  Google data volume (in Bytes) Received by the ...  \n",
       "47  Google data volume (in Bytes) sent by the MS d...  \n",
       "48  Email data volume (in Bytes) Received by the M...  \n",
       "49  Email data volume (in Bytes) sent by the MS du...  \n",
       "50  Gaming data volume (in Bytes) Received by the ...  \n",
       "51  Gaming data volume (in Bytes) sent by the MS d...  \n",
       "52  Other data volume (in Bytes) received by the M...  \n",
       "53  Other data volume (in Bytes) sent by the MS du...  \n",
       "54  Data volume (in Bytes) received by the MS duri...  \n",
       "55  Data volume (in Bytes) sent by the MS during t...  "
      ]
     },
     "execution_count": 5,
     "metadata": {},
     "output_type": "execute_result"
    }
   ],
   "source": [
    "\n",
    "summary"
   ]
  },
  {
   "cell_type": "code",
   "execution_count": 6,
   "metadata": {},
   "outputs": [],
   "source": [
    "df=pd.read_csv('../data/Week1_challenge_data_source(CSV).csv',na_values=['?', None])\n"
   ]
  },
  {
   "cell_type": "code",
   "execution_count": 7,
   "metadata": {},
   "outputs": [],
   "source": [
    "\n",
    "import pandas as pd\n",
    "pd.set_option('display.float_format', lambda x: '%.3f' % x)"
   ]
  },
  {
   "cell_type": "code",
   "execution_count": 8,
   "metadata": {},
   "outputs": [
    {
     "data": {
      "text/plain": [
       "(150001, 55)"
      ]
     },
     "execution_count": 8,
     "metadata": {},
     "output_type": "execute_result"
    }
   ],
   "source": [
    "df.shape"
   ]
  },
  {
   "cell_type": "markdown",
   "metadata": {},
   "source": [
    "There are 150,001 rows ad 55 columns"
   ]
  },
  {
   "cell_type": "code",
   "execution_count": null,
   "metadata": {},
   "outputs": [],
   "source": [
    "df.info()"
   ]
  },
  {
   "cell_type": "code",
   "execution_count": null,
   "metadata": {},
   "outputs": [],
   "source": [
    "df.describe(include=[np.number])"
   ]
  },
  {
   "cell_type": "code",
   "execution_count": null,
   "metadata": {},
   "outputs": [],
   "source": [
    "df.describe(include=[np.object])"
   ]
  },
  {
   "cell_type": "markdown",
   "metadata": {},
   "source": [
    "# Renaming Column Names "
   ]
  },
  {
   "cell_type": "code",
   "execution_count": null,
   "metadata": {},
   "outputs": [],
   "source": [
    " #def renaming_columns( df:pd.DataFrame)->pd.DataFrame:\n",
    "       \n",
    "df.rename(columns = {'Bearer Id':'Bearer_Id'}, inplace = True)\n",
    "df.rename(columns = {'Handset Manufacturer':'phone_company'}, inplace = True)\n",
    "df.rename(columns = {'Handset Type':'phone_name'}, inplace = True)\n",
    "df.rename(columns = {'MSISDN/Number':'MSISDN'}, inplace = True)\n",
    "        \n",
    "df.rename(columns = {'Last Location Name':'last_location'}, inplace = True)\n",
    "              \n",
    "df.rename(columns = {'Avg RTT UL (ms)':'avg_rtt_ul'}, inplace = True)\n",
    "df.rename(columns = {'Avg RTT DL (ms)':'avg_rtt_dl'}, inplace = True)\n",
    "        \n",
    "df.rename(columns = {'Avg Bearer TP DL (kbps)':'throughput_avg_dl_kpbs'}, inplace = True)\n",
    "df.rename(columns = {'Avg Bearer TP UL (kbps)':'throughput_avg_ul_kpbs'}, inplace = True)\n",
    "        \n",
    "df.rename(columns = {'TCP DL Retrans. Vol (Bytes)':'retrans_packets_dl_b'}, inplace = True)\n",
    "df.rename(columns = {'TCP UL Retrans. Vol (Bytes)':'retrans_packets_ul_b'}, inplace = True)\n",
    "        \n",
    "df.rename(columns = {'DL TP < 50 Kbps (%)':'tp_dl_below_50kbps_pc'}, inplace = True)\n",
    "df.rename(columns = {'50 Kbps < DL TP < 250 Kbps (%)':'tp_dl_50_250kbps_pc'}, inplace = True)\n",
    "df.rename(columns = {'250 Kbps < DL TP < 1 Mbps (%)':'tp_dl_250kbps_1mbps_pc '}, inplace = True)\n",
    "df.rename(columns = {'DL TP > 1 Mbps (%)':' tp_dl_above_1mbps_pc'}, inplace = True)        \n",
    "        \n",
    "df.rename(columns = {'UL TP < 10 Kbps (%)':'tp_ul_below_10kpbs_pc'}, inplace = True)\n",
    "df.rename(columns = {'10 Kbps < UL TP < 50 Kbps (%)':'tp_ul_10_50_kbps_pc '}, inplace = True)\n",
    "df.rename(columns = {'50 Kbps < UL TP < 300 Kbps (%)':'tp_ul_50_300_kbps_pc  '}, inplace = True)\n",
    "df.rename(columns = {'UL TP > 300 Kbps (%)':'  tp_ul_above_300_kpbs_pc'}, inplace = True)\n",
    "\n",
    "\n",
    "        \n",
    "df.rename(columns = {'HTTP DL (Bytes)':'http_dl_b'}, inplace = True)\n",
    "df.rename(columns = {'HTTP UL (Bytes)':'http_ul_b'}, inplace = True)\n",
    "        \n",
    "df.rename(columns = {'Activity Duration DL (ms)':'activity_duration_dl'}, inplace = True)\n",
    "df.rename(columns = {'Activity Duration UL (ms)':'activity_duration_ul'}, inplace = True)\n",
    "df.rename(columns = {'Activity Duration UL (ms)':'activity_duration_ul'}, inplace = True)\n",
    "        \n",
    "df.rename(columns = {'Nb of sec with 125000B < Vol DL':'t_vol_dl_above_125000B '}, inplace = True)\n",
    "df.rename(columns = {'Nb of sec with 1250B < Vol UL < 6250B':'t_vol_ul_1250B_6250B  '}, inplace = True)\n",
    "        \n",
    "df.rename(columns = {'Nb of sec with 31250B < Vol DL < 125000B':'t_vol_dl_31250B_125000B'}, inplace = True)\n",
    "df.rename(columns = {'Nb of sec with 37500B < Vol UL':'t_vol_ul_above_37500B'}, inplace = True)\n",
    "        \n",
    "df.rename(columns = {'Nb of sec with 6250B < Vol DL < 31250B':' t_vol_dl_6250B_31250B'}, inplace = True)\n",
    "df.rename(columns = {'Nb of sec with 6250B < Vol UL < 37500B':'t_vol_ul_6250_37500B'}, inplace = True)\n",
    "        \n",
    "df.rename(columns = {'Nb of sec with Vol DL < 6250B':'t_vol_dl_above_6250B '}, inplace = True)\n",
    "df.rename(columns = {'Nb of sec with Vol UL < 1250B':'t_vol_ul_above_1250B'}, inplace = True)\n",
    "                                  \n",
    "        \n",
    "df.rename(columns = {'Social Media UL (Bytes)':'socials_ul_b'}, inplace = True)\n",
    "df.rename(columns = {'Social Media DL (Bytes)':'socials_dl_b'}, inplace = True)\n",
    "        \n",
    "df.rename(columns = {'Google UL (Bytes)':'google_ul_b'}, inplace = True)\n",
    "df.rename(columns = {'Google DL (Bytes)':'google_dl_b'}, inplace = True)\n",
    "        \n",
    "df.rename(columns = {'Email UL (Bytes)':'email_ul_b'}, inplace = True)\n",
    "df.rename(columns = {'Email DL (Bytes)':'email_dl_b'}, inplace = True)\n",
    "        \n",
    "df.rename(columns = {'Youtube UL (Bytes)':'youtube_ul_b'}, inplace = True)\n",
    "df.rename(columns = {'Youtube DL (Bytes)':'youtube_dl_b'}, inplace = True)\n",
    "        \n",
    "df.rename(columns = {'Netflix UL (Bytes)':'netflix_ul_b'}, inplace = True)\n",
    "df.rename(columns = {'Netflix DL (Bytes)':'netflix_dl_b'}, inplace = True)\n",
    "        \n",
    "df.rename(columns = {'Gaming UL (Bytes)':'gaming_ul_b'}, inplace = True)\n",
    "df.rename(columns = {'Gaming DL (Bytes)':'gaming_dl_b'}, inplace = True)\n",
    "        \n",
    "df.rename(columns = {'Other UL (Bytes)':'other_ul_b'}, inplace = True)\n",
    "df.rename(columns = {'Other DL (Bytes)':'other_dl_b'}, inplace = True)\n",
    "        \n",
    "        \n",
    "df.rename(columns = {'Total UL (Bytes)':'Total_ul_b'}, inplace = True)\n",
    "df.rename(columns = {'Total DL (Bytes)':'Total_dl_b'}, inplace = True)\n",
    "        \n",
    "        \n",
    "\n",
    "        "
   ]
  },
  {
   "cell_type": "code",
   "execution_count": null,
   "metadata": {},
   "outputs": [],
   "source": [
    "df.columns"
   ]
  },
  {
   "cell_type": "code",
   "execution_count": null,
   "metadata": {},
   "outputs": [],
   "source": [
    "#To save on memory resources we convert the object data types into category"
   ]
  },
  {
   "cell_type": "code",
   "execution_count": null,
   "metadata": {},
   "outputs": [],
   "source": [
    "\n",
    "        \n",
    "df[\"phone_company\"] = df[\"phone_company\"].astype(\"category\")\n",
    "df[\"phone_name\"] = df[\"phone_name\"].astype(\"category\")\n",
    "df[\"last_location\"] = df[\"last_location\"].astype(\"category\")\n",
    "df[\"Bearer_Id\"] = df[\"Bearer_Id\"].astype(\"category\")\n",
    "df[\"IMSI\"] = df[\"IMSI\"].astype(\"category\")\n",
    "df[\"MSISDN\"] = df[\"MSISDN\"].astype(\"category\")\n",
    "df[\"IMEI\"] = df[\"IMEI\"].astype(\"category\")\n",
    "       \n",
    "        \n",
    "        \n",
    "      "
   ]
  },
  {
   "cell_type": "markdown",
   "metadata": {},
   "source": [
    "-There are 13,4709 unique bearers in the dataset\n",
    "-170 handset manufacturers with Apple being the most common\n",
    "-What more information can we get from the location name information?"
   ]
  },
  {
   "cell_type": "code",
   "execution_count": null,
   "metadata": {},
   "outputs": [],
   "source": [
    "df.info()"
   ]
  },
  {
   "cell_type": "markdown",
   "metadata": {},
   "source": [
    "# Dropping columns"
   ]
  },
  {
   "cell_type": "code",
   "execution_count": null,
   "metadata": {},
   "outputs": [],
   "source": [
    "# column_names = df.columns.to_list()\n",
    "num_missing = df.isnull().sum()\n",
    "shape = df.shape\n",
    "num_rows = df.shape[0]\n",
    "# num_cells = np.product(df.shape)\n",
    "\n",
    "data = {\n",
    "    # 'column_names': column_names, \n",
    "    'num_missing': num_missing, \n",
    "    'percent_missing (%)': [round(x,2) for x in num_missing/num_rows*100]\n",
    "}\n",
    "\n",
    "stats = pd.DataFrame(data)"
   ]
  },
  {
   "cell_type": "code",
   "execution_count": null,
   "metadata": {},
   "outputs": [],
   "source": [
    "stats[stats['num_missing'] != 0]"
   ]
  },
  {
   "cell_type": "code",
   "execution_count": null,
   "metadata": {},
   "outputs": [],
   "source": [
    "#large_missing = ['weight', 'payer_code', 'medical_specialty', 'max_glu_serum', 'A1Cresult']\n",
    "large_missing = stats[stats['percent_missing (%)'] > 65].index.to_list()\n",
    "print(large_missing)"
   ]
  },
  {
   "cell_type": "code",
   "execution_count": null,
   "metadata": {},
   "outputs": [],
   "source": [
    "#let us drop the columns we will ot need\n",
    "df = df.drop(large_missing, axis=1)"
   ]
  },
  {
   "cell_type": "code",
   "execution_count": null,
   "metadata": {},
   "outputs": [],
   "source": [
    "\n",
    "\n",
    "df=df.drop(columns=['Start', 'Start ms', 'End', 'End ms','http_dl_b', 'http_ul_b', 't_vol_ul_1250B_6250B  ', 't_vol_dl_31250B_125000B',  ' t_vol_dl_6250B_31250B',])\n"
   ]
  },
  {
   "cell_type": "markdown",
   "metadata": {},
   "source": [
    "# #missing values"
   ]
  },
  {
   "cell_type": "code",
   "execution_count": null,
   "metadata": {},
   "outputs": [],
   "source": [
    "# get the number of missing data points per column\n",
    "missing_values_count = df.isnull().sum()\n",
    "\n",
    "# look at the # of missing points in the first ten columns\n",
    "missing_values_count"
   ]
  },
  {
   "cell_type": "code",
   "execution_count": null,
   "metadata": {},
   "outputs": [],
   "source": [
    "# how many total missing values do we have?\n",
    "total_cells = np.product(df.shape)\n",
    "total_missing = missing_values_count.sum()\n",
    "\n",
    "# percent of data that is missing\n",
    "(total_missing/total_cells) * 100"
   ]
  },
  {
   "cell_type": "code",
   "execution_count": null,
   "metadata": {},
   "outputs": [],
   "source": [
    "#Letus drop the last row with missing values"
   ]
  },
  {
   "cell_type": "code",
   "execution_count": null,
   "metadata": {},
   "outputs": [],
   "source": [
    "df = df.dropna(axis=0, subset=['Total_dl_b'])"
   ]
  },
  {
   "cell_type": "code",
   "execution_count": null,
   "metadata": {},
   "outputs": [],
   "source": [
    "df = df.dropna(axis=0, subset=['MSISDN'])"
   ]
  },
  {
   "cell_type": "code",
   "execution_count": null,
   "metadata": {},
   "outputs": [],
   "source": [
    "df = df.dropna(axis=0, subset=['Bearer_Id'])"
   ]
  },
  {
   "cell_type": "code",
   "execution_count": null,
   "metadata": {},
   "outputs": [],
   "source": [
    "df.shape"
   ]
  },
  {
   "cell_type": "code",
   "execution_count": null,
   "metadata": {},
   "outputs": [],
   "source": [
    "# get the number of missing data points per column\n",
    "missing_values_count = df.isnull().sum()\n",
    "\n",
    "# look at the # of missing points in the first ten columns\n",
    "missing_values_count"
   ]
  },
  {
   "cell_type": "code",
   "execution_count": null,
   "metadata": {},
   "outputs": [],
   "source": [
    "df.describe().T"
   ]
  },
  {
   "cell_type": "code",
   "execution_count": null,
   "metadata": {},
   "outputs": [],
   "source": [
    "df.loc[np.isnan(df[\"avg_rtt_dl\"]), 'avg_rtt_dl'] = 108.225\n",
    "df.loc[np.isnan(df[\"avg_rtt_ul\"]), 'avg_rtt_ul'] = 17.637\n",
    "df.loc[np.isnan(df[\"retrans_packets_dl_b\"]), 'retrans_packets_dl_b'] = 20884183.275\n",
    "df.loc[np.isnan(df[\"retrans_packets_ul_b\"]), 'retrans_packets_ul_b'] = 766247.496"
   ]
  },
  {
   "cell_type": "code",
   "execution_count": null,
   "metadata": {},
   "outputs": [],
   "source": [
    "#df.loc[np.isnan(df[\"t_vol_dl_above_6250B\"]), 't_vol_dl_above_6250B'] = 202\n",
    "df.loc[np.isnan(df[\"t_vol_ul_above_1250B\"]), 't_vol_ul_above_1250B'] = 4029.250\n",
    "df.loc[np.isnan(df[\"tp_ul_below_10kpbs_pc\"]), 'tp_ul_below_10kpbs_pc'] = 98.533         \n"
   ]
  },
  {
   "cell_type": "code",
   "execution_count": null,
   "metadata": {},
   "outputs": [],
   "source": [
    "# get the number of missing data points per column\n",
    "missing_values_count = df.isnull().sum()\n",
    "\n",
    "# look at the # of missing points in the first ten columns\n",
    "missing_values_count"
   ]
  },
  {
   "cell_type": "markdown",
   "metadata": {},
   "source": [
    "Let us explore the dataset to see how to cater to missing values"
   ]
  },
  {
   "cell_type": "markdown",
   "metadata": {},
   "source": [
    "-IMEI is a 15 digit number assigned to every cellular device for each of its SIM slots;\n",
    "-IMSI is a 15 digit number assigned to the SIM of a mobile subscriber;\n",
    "-MSISDN is the full mobile number including the country code and any prefixes."
   ]
  },
  {
   "cell_type": "markdown",
   "metadata": {},
   "source": [
    "Dropping all nans is not a good idea.?We therefore have to perform imputation for missing value treatment"
   ]
  },
  {
   "cell_type": "code",
   "execution_count": null,
   "metadata": {},
   "outputs": [],
   "source": [
    "data=df.fillna(method=\"ffill\")"
   ]
  },
  {
   "cell_type": "code",
   "execution_count": null,
   "metadata": {},
   "outputs": [],
   "source": [
    "# get the number of missing data points per column\n",
    "missing_values_count = data.isnull().sum()\n",
    "\n",
    "# look at the # of missing points in the first ten columns\n",
    "missing_values_count"
   ]
  },
  {
   "cell_type": "markdown",
   "metadata": {},
   "source": [
    "-ffill() is equivalent to fillna(method='ffill') and bfill() is equivalent to fillna(method='bfill')\n",
    "-pad / ffill -Fill values forward.This method would fill the missing values with first non-missing value that occurs before it:\n",
    "-bfill / backfill -Fill values backward.This method would fill the missing values with first non-missing value that occurs after it:"
   ]
  },
  {
   "cell_type": "code",
   "execution_count": null,
   "metadata": {},
   "outputs": [],
   "source": [
    "# remove all columns with at least one missing value\n",
    "cleaned_data = data.dropna(axis=0)\n",
    "cleaned_data.shape"
   ]
  },
  {
   "cell_type": "code",
   "execution_count": null,
   "metadata": {},
   "outputs": [],
   "source": [
    "cleaned_data.reset_index(inplace = True)"
   ]
  },
  {
   "cell_type": "markdown",
   "metadata": {},
   "source": [
    "We drop around 11 rows.Let us convert the dataset to a csv file"
   ]
  },
  {
   "cell_type": "code",
   "execution_count": null,
   "metadata": {},
   "outputs": [],
   "source": [
    "cleaned_data.to_csv('../data/clean_data.csv', encoding='utf-8')"
   ]
  },
  {
   "cell_type": "code",
   "execution_count": null,
   "metadata": {},
   "outputs": [],
   "source": []
  }
 ],
 "metadata": {
  "kernelspec": {
   "display_name": "Python 3",
   "language": "python",
   "name": "python3"
  },
  "language_info": {
   "codemirror_mode": {
    "name": "ipython",
    "version": 3
   },
   "file_extension": ".py",
   "mimetype": "text/x-python",
   "name": "python",
   "nbconvert_exporter": "python",
   "pygments_lexer": "ipython3",
   "version": "3.7.3"
  }
 },
 "nbformat": 4,
 "nbformat_minor": 2
}
