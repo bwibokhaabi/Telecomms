{
 "cells": [
  {
   "cell_type": "markdown",
   "metadata": {},
   "source": [
    "##Situational Overview (Business Need) You are working for a wealthy investor that specialises in purchasing assets that are undervalued. This investor’s due diligence on all purchases includes a detailed analysis of the data that underlies the business, to try to understand the fundamentals of the business and especially to identify opportunities to drive profitability by changing the focus of which products or services are being offered.\n",
    "\n",
    "The investor is interested in purchasing TellCo, an existing mobile service provider in the Republic of Pefkakia. TellCo’s current owners have been willing to share their financial information but have never employed anyone to look at their data that is generated automatically by their systems.\n",
    "\n",
    "Your employer wants you to provide a report to analyse opportunities for growth and make a recommendation on whether TellCo is worth buying or selling. You will do this by analysing a telecommunication dataset that contains useful information about the customers & their activities on the network. You will deliver insights you managed to extract to your employer through an easy to use web based dashboard and a written report."
   ]
  },
  {
   "cell_type": "code",
   "execution_count": 77,
   "metadata": {},
   "outputs": [],
   "source": [
    "import numpy as np\n",
    "import pandas as pd\n",
    "#pd.set_option('display.float_format', lambda x: '%.1f' % x)\n",
    "pd.set_option('display.max_columns', None)"
   ]
  },
  {
   "cell_type": "code",
   "execution_count": 78,
   "metadata": {},
   "outputs": [],
   "source": [
    "df=pd.read_csv('../data/clean_data.csv')"
   ]
  },
  {
   "cell_type": "code",
   "execution_count": 79,
   "metadata": {},
   "outputs": [
    {
     "data": {
      "text/html": [
       "<div>\n",
       "<style scoped>\n",
       "    .dataframe tbody tr th:only-of-type {\n",
       "        vertical-align: middle;\n",
       "    }\n",
       "\n",
       "    .dataframe tbody tr th {\n",
       "        vertical-align: top;\n",
       "    }\n",
       "\n",
       "    .dataframe thead th {\n",
       "        text-align: right;\n",
       "    }\n",
       "</style>\n",
       "<table border=\"1\" class=\"dataframe\">\n",
       "  <thead>\n",
       "    <tr style=\"text-align: right;\">\n",
       "      <th></th>\n",
       "      <th>Unnamed: 0</th>\n",
       "      <th>index</th>\n",
       "      <th>Bearer_Id</th>\n",
       "      <th>Dur. (ms)</th>\n",
       "      <th>IMSI</th>\n",
       "      <th>MSISDN</th>\n",
       "      <th>IMEI</th>\n",
       "      <th>last_location</th>\n",
       "      <th>avg_rtt_dl</th>\n",
       "      <th>avg_rtt_ul</th>\n",
       "      <th>throughput_avg_dl_kpbs</th>\n",
       "      <th>throughput_avg_ul_kpbs</th>\n",
       "      <th>retrans_packets_dl_b</th>\n",
       "      <th>retrans_packets_ul_b</th>\n",
       "      <th>tp_dl_below_50kbps_pc</th>\n",
       "      <th>tp_dl_50_250kbps_pc</th>\n",
       "      <th>tp_dl_250kbps_1mbps_pc</th>\n",
       "      <th>tp_dl_above_1mbps_pc</th>\n",
       "      <th>tp_ul_below_10kpbs_pc</th>\n",
       "      <th>tp_ul_10_50_kbps_pc</th>\n",
       "      <th>tp_ul_50_300_kbps_pc</th>\n",
       "      <th>tp_ul_above_300_kpbs_pc</th>\n",
       "      <th>activity_duration_dl</th>\n",
       "      <th>activity_duration_ul</th>\n",
       "      <th>Dur. (ms).1</th>\n",
       "      <th>phone_company</th>\n",
       "      <th>phone_name</th>\n",
       "      <th>t_vol_dl_above_6250B</th>\n",
       "      <th>t_vol_ul_above_1250B</th>\n",
       "      <th>socials_dl_b</th>\n",
       "      <th>socials_ul_b</th>\n",
       "      <th>google_dl_b</th>\n",
       "      <th>google_ul_b</th>\n",
       "      <th>email_dl_b</th>\n",
       "      <th>email_ul_b</th>\n",
       "      <th>youtube_dl_b</th>\n",
       "      <th>youtube_ul_b</th>\n",
       "      <th>netflix_dl_b</th>\n",
       "      <th>netflix_ul_b</th>\n",
       "      <th>gaming_dl_b</th>\n",
       "      <th>gaming_ul_b</th>\n",
       "      <th>other_dl_b</th>\n",
       "      <th>other_ul_b</th>\n",
       "      <th>Total_ul_b</th>\n",
       "      <th>Total_dl_b</th>\n",
       "    </tr>\n",
       "  </thead>\n",
       "  <tbody>\n",
       "    <tr>\n",
       "      <td>0</td>\n",
       "      <td>0</td>\n",
       "      <td>0</td>\n",
       "      <td>13114483460844900352.0</td>\n",
       "      <td>1823652.0</td>\n",
       "      <td>208201448079117.0</td>\n",
       "      <td>33664962239.0</td>\n",
       "      <td>35521209507511.0</td>\n",
       "      <td>9.16456699548519E+015</td>\n",
       "      <td>42.0</td>\n",
       "      <td>5.0</td>\n",
       "      <td>23.0</td>\n",
       "      <td>44.0</td>\n",
       "      <td>20884183.3</td>\n",
       "      <td>766247.5</td>\n",
       "      <td>100.0</td>\n",
       "      <td>0.0</td>\n",
       "      <td>0.0</td>\n",
       "      <td>0.0</td>\n",
       "      <td>100.0</td>\n",
       "      <td>0.0</td>\n",
       "      <td>0.0</td>\n",
       "      <td>0.0</td>\n",
       "      <td>37624.0</td>\n",
       "      <td>38787.0</td>\n",
       "      <td>1823652892.0</td>\n",
       "      <td>Samsung</td>\n",
       "      <td>Samsung Galaxy A5 Sm-A520F</td>\n",
       "      <td>213.0</td>\n",
       "      <td>214.0</td>\n",
       "      <td>1545765.0</td>\n",
       "      <td>24420.0</td>\n",
       "      <td>1634479.0</td>\n",
       "      <td>1271433.0</td>\n",
       "      <td>3563542.0</td>\n",
       "      <td>137762.0</td>\n",
       "      <td>15854611.0</td>\n",
       "      <td>2501332.0</td>\n",
       "      <td>8198936.0</td>\n",
       "      <td>9656251.0</td>\n",
       "      <td>278082303.0</td>\n",
       "      <td>14344150.0</td>\n",
       "      <td>171744450.0</td>\n",
       "      <td>8814393.0</td>\n",
       "      <td>36749741.0</td>\n",
       "      <td>308879636.0</td>\n",
       "    </tr>\n",
       "    <tr>\n",
       "      <td>1</td>\n",
       "      <td>1</td>\n",
       "      <td>1</td>\n",
       "      <td>13114483482878900224.0</td>\n",
       "      <td>1365104.0</td>\n",
       "      <td>208201909211140.0</td>\n",
       "      <td>33681854413.0</td>\n",
       "      <td>35794009006359.0</td>\n",
       "      <td>L77566A</td>\n",
       "      <td>65.0</td>\n",
       "      <td>5.0</td>\n",
       "      <td>16.0</td>\n",
       "      <td>26.0</td>\n",
       "      <td>20884183.3</td>\n",
       "      <td>766247.5</td>\n",
       "      <td>100.0</td>\n",
       "      <td>0.0</td>\n",
       "      <td>0.0</td>\n",
       "      <td>0.0</td>\n",
       "      <td>100.0</td>\n",
       "      <td>0.0</td>\n",
       "      <td>0.0</td>\n",
       "      <td>0.0</td>\n",
       "      <td>168.0</td>\n",
       "      <td>3560.0</td>\n",
       "      <td>1365104371.0</td>\n",
       "      <td>Samsung</td>\n",
       "      <td>Samsung Galaxy J5 (Sm-J530)</td>\n",
       "      <td>971.0</td>\n",
       "      <td>1022.0</td>\n",
       "      <td>1926113.0</td>\n",
       "      <td>7165.0</td>\n",
       "      <td>3493924.0</td>\n",
       "      <td>920172.0</td>\n",
       "      <td>629046.0</td>\n",
       "      <td>308339.0</td>\n",
       "      <td>20247395.0</td>\n",
       "      <td>19111729.0</td>\n",
       "      <td>18338413.0</td>\n",
       "      <td>17227132.0</td>\n",
       "      <td>608750074.0</td>\n",
       "      <td>1170709.0</td>\n",
       "      <td>526904238.0</td>\n",
       "      <td>15055145.0</td>\n",
       "      <td>53800391.0</td>\n",
       "      <td>653384965.0</td>\n",
       "    </tr>\n",
       "    <tr>\n",
       "      <td>2</td>\n",
       "      <td>2</td>\n",
       "      <td>2</td>\n",
       "      <td>13114483484080500736.0</td>\n",
       "      <td>1361762.0</td>\n",
       "      <td>208200314458056.0</td>\n",
       "      <td>33760627129.0</td>\n",
       "      <td>35281510359387.0</td>\n",
       "      <td>D42335A</td>\n",
       "      <td>108.2</td>\n",
       "      <td>17.6</td>\n",
       "      <td>6.0</td>\n",
       "      <td>9.0</td>\n",
       "      <td>20884183.3</td>\n",
       "      <td>766247.5</td>\n",
       "      <td>100.0</td>\n",
       "      <td>0.0</td>\n",
       "      <td>0.0</td>\n",
       "      <td>0.0</td>\n",
       "      <td>100.0</td>\n",
       "      <td>0.0</td>\n",
       "      <td>0.0</td>\n",
       "      <td>0.0</td>\n",
       "      <td>0.0</td>\n",
       "      <td>0.0</td>\n",
       "      <td>1361762651.0</td>\n",
       "      <td>Samsung</td>\n",
       "      <td>Samsung Galaxy A8 (2018)</td>\n",
       "      <td>751.0</td>\n",
       "      <td>695.0</td>\n",
       "      <td>1684053.0</td>\n",
       "      <td>42224.0</td>\n",
       "      <td>8535055.0</td>\n",
       "      <td>1694064.0</td>\n",
       "      <td>2690151.0</td>\n",
       "      <td>672973.0</td>\n",
       "      <td>19725661.0</td>\n",
       "      <td>14699576.0</td>\n",
       "      <td>17587794.0</td>\n",
       "      <td>6163408.0</td>\n",
       "      <td>229584621.0</td>\n",
       "      <td>395630.0</td>\n",
       "      <td>410692588.0</td>\n",
       "      <td>4215763.0</td>\n",
       "      <td>27883638.0</td>\n",
       "      <td>279807335.0</td>\n",
       "    </tr>\n",
       "    <tr>\n",
       "      <td>3</td>\n",
       "      <td>3</td>\n",
       "      <td>3</td>\n",
       "      <td>13114483485442799616.0</td>\n",
       "      <td>1321509.0</td>\n",
       "      <td>208201402342131.0</td>\n",
       "      <td>33750343200.0</td>\n",
       "      <td>35356610164913.0</td>\n",
       "      <td>T21824A</td>\n",
       "      <td>108.2</td>\n",
       "      <td>17.6</td>\n",
       "      <td>44.0</td>\n",
       "      <td>44.0</td>\n",
       "      <td>20884183.3</td>\n",
       "      <td>766247.5</td>\n",
       "      <td>100.0</td>\n",
       "      <td>0.0</td>\n",
       "      <td>0.0</td>\n",
       "      <td>0.0</td>\n",
       "      <td>100.0</td>\n",
       "      <td>0.0</td>\n",
       "      <td>0.0</td>\n",
       "      <td>0.0</td>\n",
       "      <td>3330.0</td>\n",
       "      <td>37882.0</td>\n",
       "      <td>1321509685.0</td>\n",
       "      <td>undefined</td>\n",
       "      <td>undefined</td>\n",
       "      <td>17.0</td>\n",
       "      <td>207.0</td>\n",
       "      <td>644121.0</td>\n",
       "      <td>13372.0</td>\n",
       "      <td>9023734.0</td>\n",
       "      <td>2788027.0</td>\n",
       "      <td>1439754.0</td>\n",
       "      <td>631229.0</td>\n",
       "      <td>21388122.0</td>\n",
       "      <td>15146643.0</td>\n",
       "      <td>13994646.0</td>\n",
       "      <td>1097942.0</td>\n",
       "      <td>799538153.0</td>\n",
       "      <td>10849722.0</td>\n",
       "      <td>749039933.0</td>\n",
       "      <td>12797283.0</td>\n",
       "      <td>43324218.0</td>\n",
       "      <td>846028530.0</td>\n",
       "    </tr>\n",
       "    <tr>\n",
       "      <td>4</td>\n",
       "      <td>4</td>\n",
       "      <td>4</td>\n",
       "      <td>13114483499480700928.0</td>\n",
       "      <td>1089009.0</td>\n",
       "      <td>208201401415120.0</td>\n",
       "      <td>33699795932.0</td>\n",
       "      <td>35407009745539.0</td>\n",
       "      <td>D88865A</td>\n",
       "      <td>108.2</td>\n",
       "      <td>17.6</td>\n",
       "      <td>6.0</td>\n",
       "      <td>9.0</td>\n",
       "      <td>20884183.3</td>\n",
       "      <td>766247.5</td>\n",
       "      <td>100.0</td>\n",
       "      <td>0.0</td>\n",
       "      <td>0.0</td>\n",
       "      <td>0.0</td>\n",
       "      <td>100.0</td>\n",
       "      <td>0.0</td>\n",
       "      <td>0.0</td>\n",
       "      <td>0.0</td>\n",
       "      <td>0.0</td>\n",
       "      <td>0.0</td>\n",
       "      <td>1089009389.0</td>\n",
       "      <td>Samsung</td>\n",
       "      <td>Samsung Sm-G390F</td>\n",
       "      <td>607.0</td>\n",
       "      <td>604.0</td>\n",
       "      <td>862600.0</td>\n",
       "      <td>50188.0</td>\n",
       "      <td>6248284.0</td>\n",
       "      <td>1500559.0</td>\n",
       "      <td>1936496.0</td>\n",
       "      <td>173853.0</td>\n",
       "      <td>15259380.0</td>\n",
       "      <td>18962873.0</td>\n",
       "      <td>17124581.0</td>\n",
       "      <td>415218.0</td>\n",
       "      <td>527707248.0</td>\n",
       "      <td>3529801.0</td>\n",
       "      <td>550709500.0</td>\n",
       "      <td>13910322.0</td>\n",
       "      <td>38542814.0</td>\n",
       "      <td>569138589.0</td>\n",
       "    </tr>\n",
       "  </tbody>\n",
       "</table>\n",
       "</div>"
      ],
      "text/plain": [
       "   Unnamed: 0  index              Bearer_Id  Dur. (ms)              IMSI  \\\n",
       "0           0      0 13114483460844900352.0  1823652.0 208201448079117.0   \n",
       "1           1      1 13114483482878900224.0  1365104.0 208201909211140.0   \n",
       "2           2      2 13114483484080500736.0  1361762.0 208200314458056.0   \n",
       "3           3      3 13114483485442799616.0  1321509.0 208201402342131.0   \n",
       "4           4      4 13114483499480700928.0  1089009.0 208201401415120.0   \n",
       "\n",
       "         MSISDN             IMEI          last_location  avg_rtt_dl  \\\n",
       "0 33664962239.0 35521209507511.0  9.16456699548519E+015        42.0   \n",
       "1 33681854413.0 35794009006359.0                L77566A        65.0   \n",
       "2 33760627129.0 35281510359387.0                D42335A       108.2   \n",
       "3 33750343200.0 35356610164913.0                T21824A       108.2   \n",
       "4 33699795932.0 35407009745539.0                D88865A       108.2   \n",
       "\n",
       "   avg_rtt_ul  throughput_avg_dl_kpbs  throughput_avg_ul_kpbs  \\\n",
       "0         5.0                    23.0                    44.0   \n",
       "1         5.0                    16.0                    26.0   \n",
       "2        17.6                     6.0                     9.0   \n",
       "3        17.6                    44.0                    44.0   \n",
       "4        17.6                     6.0                     9.0   \n",
       "\n",
       "   retrans_packets_dl_b  retrans_packets_ul_b  tp_dl_below_50kbps_pc  \\\n",
       "0            20884183.3              766247.5                  100.0   \n",
       "1            20884183.3              766247.5                  100.0   \n",
       "2            20884183.3              766247.5                  100.0   \n",
       "3            20884183.3              766247.5                  100.0   \n",
       "4            20884183.3              766247.5                  100.0   \n",
       "\n",
       "   tp_dl_50_250kbps_pc  tp_dl_250kbps_1mbps_pc    tp_dl_above_1mbps_pc  \\\n",
       "0                  0.0                      0.0                    0.0   \n",
       "1                  0.0                      0.0                    0.0   \n",
       "2                  0.0                      0.0                    0.0   \n",
       "3                  0.0                      0.0                    0.0   \n",
       "4                  0.0                      0.0                    0.0   \n",
       "\n",
       "   tp_ul_below_10kpbs_pc  tp_ul_10_50_kbps_pc   tp_ul_50_300_kbps_pc    \\\n",
       "0                  100.0                   0.0                     0.0   \n",
       "1                  100.0                   0.0                     0.0   \n",
       "2                  100.0                   0.0                     0.0   \n",
       "3                  100.0                   0.0                     0.0   \n",
       "4                  100.0                   0.0                     0.0   \n",
       "\n",
       "     tp_ul_above_300_kpbs_pc  activity_duration_dl  activity_duration_ul  \\\n",
       "0                        0.0               37624.0               38787.0   \n",
       "1                        0.0                 168.0                3560.0   \n",
       "2                        0.0                   0.0                   0.0   \n",
       "3                        0.0                3330.0               37882.0   \n",
       "4                        0.0                   0.0                   0.0   \n",
       "\n",
       "   Dur. (ms).1 phone_company                   phone_name  \\\n",
       "0 1823652892.0       Samsung   Samsung Galaxy A5 Sm-A520F   \n",
       "1 1365104371.0       Samsung  Samsung Galaxy J5 (Sm-J530)   \n",
       "2 1361762651.0       Samsung     Samsung Galaxy A8 (2018)   \n",
       "3 1321509685.0     undefined                    undefined   \n",
       "4 1089009389.0       Samsung             Samsung Sm-G390F   \n",
       "\n",
       "   t_vol_dl_above_6250B   t_vol_ul_above_1250B  socials_dl_b  socials_ul_b  \\\n",
       "0                  213.0                 214.0     1545765.0       24420.0   \n",
       "1                  971.0                1022.0     1926113.0        7165.0   \n",
       "2                  751.0                 695.0     1684053.0       42224.0   \n",
       "3                   17.0                 207.0      644121.0       13372.0   \n",
       "4                  607.0                 604.0      862600.0       50188.0   \n",
       "\n",
       "   google_dl_b  google_ul_b  email_dl_b  email_ul_b  youtube_dl_b  \\\n",
       "0    1634479.0    1271433.0   3563542.0    137762.0    15854611.0   \n",
       "1    3493924.0     920172.0    629046.0    308339.0    20247395.0   \n",
       "2    8535055.0    1694064.0   2690151.0    672973.0    19725661.0   \n",
       "3    9023734.0    2788027.0   1439754.0    631229.0    21388122.0   \n",
       "4    6248284.0    1500559.0   1936496.0    173853.0    15259380.0   \n",
       "\n",
       "   youtube_ul_b  netflix_dl_b  netflix_ul_b  gaming_dl_b  gaming_ul_b  \\\n",
       "0     2501332.0     8198936.0     9656251.0  278082303.0   14344150.0   \n",
       "1    19111729.0    18338413.0    17227132.0  608750074.0    1170709.0   \n",
       "2    14699576.0    17587794.0     6163408.0  229584621.0     395630.0   \n",
       "3    15146643.0    13994646.0     1097942.0  799538153.0   10849722.0   \n",
       "4    18962873.0    17124581.0      415218.0  527707248.0    3529801.0   \n",
       "\n",
       "   other_dl_b  other_ul_b  Total_ul_b  Total_dl_b  \n",
       "0 171744450.0   8814393.0  36749741.0 308879636.0  \n",
       "1 526904238.0  15055145.0  53800391.0 653384965.0  \n",
       "2 410692588.0   4215763.0  27883638.0 279807335.0  \n",
       "3 749039933.0  12797283.0  43324218.0 846028530.0  \n",
       "4 550709500.0  13910322.0  38542814.0 569138589.0  "
      ]
     },
     "execution_count": 79,
     "metadata": {},
     "output_type": "execute_result"
    }
   ],
   "source": [
    "df.head()"
   ]
  },
  {
   "cell_type": "code",
   "execution_count": 81,
   "metadata": {},
   "outputs": [],
   "source": [
    "df=df.drop(columns=['index','Unnamed: 0'])"
   ]
  },
  {
   "cell_type": "code",
   "execution_count": 82,
   "metadata": {},
   "outputs": [
    {
     "name": "stdout",
     "output_type": "stream",
     "text": [
      "There are 148506 rows and 43 columns in the data.\n"
     ]
    }
   ],
   "source": [
    "rows = df.shape[0]\n",
    "cols = df.shape[1]\n",
    "print('There are {} rows and {} columns in the data.'.format(rows, cols))"
   ]
  },
  {
   "cell_type": "code",
   "execution_count": 83,
   "metadata": {},
   "outputs": [
    {
     "name": "stdout",
     "output_type": "stream",
     "text": [
      "<class 'pandas.core.frame.DataFrame'>\n",
      "RangeIndex: 148506 entries, 0 to 148505\n",
      "Data columns (total 43 columns):\n",
      "Bearer_Id                    148506 non-null float64\n",
      "Dur. (ms)                    148506 non-null float64\n",
      "IMSI                         148506 non-null float64\n",
      "MSISDN                       148506 non-null float64\n",
      "IMEI                         148506 non-null float64\n",
      "last_location                148506 non-null object\n",
      "avg_rtt_dl                   148506 non-null float64\n",
      "avg_rtt_ul                   148506 non-null float64\n",
      "throughput_avg_dl_kpbs       148506 non-null float64\n",
      "throughput_avg_ul_kpbs       148506 non-null float64\n",
      "retrans_packets_dl_b         148506 non-null float64\n",
      "retrans_packets_ul_b         148506 non-null float64\n",
      "tp_dl_below_50kbps_pc        148506 non-null float64\n",
      "tp_dl_50_250kbps_pc          148506 non-null float64\n",
      "tp_dl_250kbps_1mbps_pc       148506 non-null float64\n",
      " tp_dl_above_1mbps_pc        148506 non-null float64\n",
      "tp_ul_below_10kpbs_pc        148506 non-null float64\n",
      "tp_ul_10_50_kbps_pc          148506 non-null float64\n",
      "tp_ul_50_300_kbps_pc         148506 non-null float64\n",
      "  tp_ul_above_300_kpbs_pc    148506 non-null float64\n",
      "activity_duration_dl         148506 non-null float64\n",
      "activity_duration_ul         148506 non-null float64\n",
      "Dur. (ms).1                  148506 non-null float64\n",
      "phone_company                148506 non-null object\n",
      "phone_name                   148506 non-null object\n",
      "t_vol_dl_above_6250B         148506 non-null float64\n",
      "t_vol_ul_above_1250B         148506 non-null float64\n",
      "socials_dl_b                 148506 non-null float64\n",
      "socials_ul_b                 148506 non-null float64\n",
      "google_dl_b                  148506 non-null float64\n",
      "google_ul_b                  148506 non-null float64\n",
      "email_dl_b                   148506 non-null float64\n",
      "email_ul_b                   148506 non-null float64\n",
      "youtube_dl_b                 148506 non-null float64\n",
      "youtube_ul_b                 148506 non-null float64\n",
      "netflix_dl_b                 148506 non-null float64\n",
      "netflix_ul_b                 148506 non-null float64\n",
      "gaming_dl_b                  148506 non-null float64\n",
      "gaming_ul_b                  148506 non-null float64\n",
      "other_dl_b                   148506 non-null float64\n",
      "other_ul_b                   148506 non-null float64\n",
      "Total_ul_b                   148506 non-null float64\n",
      "Total_dl_b                   148506 non-null float64\n",
      "dtypes: float64(40), object(3)\n",
      "memory usage: 48.7+ MB\n"
     ]
    }
   ],
   "source": [
    "df.info()"
   ]
  },
  {
   "cell_type": "code",
   "execution_count": 84,
   "metadata": {},
   "outputs": [
    {
     "data": {
      "text/html": [
       "<div>\n",
       "<style scoped>\n",
       "    .dataframe tbody tr th:only-of-type {\n",
       "        vertical-align: middle;\n",
       "    }\n",
       "\n",
       "    .dataframe tbody tr th {\n",
       "        vertical-align: top;\n",
       "    }\n",
       "\n",
       "    .dataframe thead th {\n",
       "        text-align: right;\n",
       "    }\n",
       "</style>\n",
       "<table border=\"1\" class=\"dataframe\">\n",
       "  <thead>\n",
       "    <tr style=\"text-align: right;\">\n",
       "      <th></th>\n",
       "      <th>count</th>\n",
       "      <th>mean</th>\n",
       "      <th>std</th>\n",
       "      <th>min</th>\n",
       "      <th>25%</th>\n",
       "      <th>50%</th>\n",
       "      <th>75%</th>\n",
       "      <th>max</th>\n",
       "    </tr>\n",
       "  </thead>\n",
       "  <tbody>\n",
       "    <tr>\n",
       "      <td>Bearer_Id</td>\n",
       "      <td>148506.0</td>\n",
       "      <td>10146757650164756480.0</td>\n",
       "      <td>2893261633271228928.0</td>\n",
       "      <td>6917537518543529984.0</td>\n",
       "      <td>7349883247462785024.0</td>\n",
       "      <td>7349883264172940288.0</td>\n",
       "      <td>13042425978973900800.0</td>\n",
       "      <td>13186541167134199808.0</td>\n",
       "    </tr>\n",
       "    <tr>\n",
       "      <td>Dur. (ms)</td>\n",
       "      <td>148506.0</td>\n",
       "      <td>105084.1</td>\n",
       "      <td>81072.7</td>\n",
       "      <td>7142.0</td>\n",
       "      <td>58248.8</td>\n",
       "      <td>86399.0</td>\n",
       "      <td>132932.8</td>\n",
       "      <td>1859336.0</td>\n",
       "    </tr>\n",
       "    <tr>\n",
       "      <td>IMSI</td>\n",
       "      <td>148506.0</td>\n",
       "      <td>208201599922260.4</td>\n",
       "      <td>15243472825.7</td>\n",
       "      <td>204047108489451.0</td>\n",
       "      <td>208201401264008.0</td>\n",
       "      <td>208201546332650.5</td>\n",
       "      <td>208201771619073.2</td>\n",
       "      <td>208252167239575.0</td>\n",
       "    </tr>\n",
       "    <tr>\n",
       "      <td>MSISDN</td>\n",
       "      <td>148506.0</td>\n",
       "      <td>41906541782.2</td>\n",
       "      <td>2450975846357.3</td>\n",
       "      <td>33601001722.0</td>\n",
       "      <td>33651311444.2</td>\n",
       "      <td>33663708556.0</td>\n",
       "      <td>33683515176.8</td>\n",
       "      <td>882397108489451.0</td>\n",
       "    </tr>\n",
       "    <tr>\n",
       "      <td>IMEI</td>\n",
       "      <td>148506.0</td>\n",
       "      <td>48500684616792.0</td>\n",
       "      <td>22432166298203.5</td>\n",
       "      <td>440015202000.0</td>\n",
       "      <td>35460708962514.0</td>\n",
       "      <td>35722309017450.0</td>\n",
       "      <td>86119704824101.0</td>\n",
       "      <td>99001201327774.0</td>\n",
       "    </tr>\n",
       "    <tr>\n",
       "      <td>avg_rtt_dl</td>\n",
       "      <td>148506.0</td>\n",
       "      <td>106.6</td>\n",
       "      <td>529.6</td>\n",
       "      <td>0.0</td>\n",
       "      <td>35.0</td>\n",
       "      <td>54.0</td>\n",
       "      <td>108.2</td>\n",
       "      <td>96923.0</td>\n",
       "    </tr>\n",
       "    <tr>\n",
       "      <td>avg_rtt_ul</td>\n",
       "      <td>148506.0</td>\n",
       "      <td>17.6</td>\n",
       "      <td>76.5</td>\n",
       "      <td>0.0</td>\n",
       "      <td>3.0</td>\n",
       "      <td>7.0</td>\n",
       "      <td>17.6</td>\n",
       "      <td>7120.0</td>\n",
       "    </tr>\n",
       "    <tr>\n",
       "      <td>throughput_avg_dl_kpbs</td>\n",
       "      <td>148506.0</td>\n",
       "      <td>13287.5</td>\n",
       "      <td>23993.5</td>\n",
       "      <td>0.0</td>\n",
       "      <td>43.0</td>\n",
       "      <td>63.0</td>\n",
       "      <td>19699.5</td>\n",
       "      <td>378160.0</td>\n",
       "    </tr>\n",
       "    <tr>\n",
       "      <td>throughput_avg_ul_kpbs</td>\n",
       "      <td>148506.0</td>\n",
       "      <td>1770.6</td>\n",
       "      <td>4630.3</td>\n",
       "      <td>0.0</td>\n",
       "      <td>47.0</td>\n",
       "      <td>62.0</td>\n",
       "      <td>1116.0</td>\n",
       "      <td>58613.0</td>\n",
       "    </tr>\n",
       "    <tr>\n",
       "      <td>retrans_packets_dl_b</td>\n",
       "      <td>148506.0</td>\n",
       "      <td>20934339.6</td>\n",
       "      <td>117153505.2</td>\n",
       "      <td>2.0</td>\n",
       "      <td>1410988.2</td>\n",
       "      <td>20884183.3</td>\n",
       "      <td>20884183.3</td>\n",
       "      <td>4294425570.0</td>\n",
       "    </tr>\n",
       "    <tr>\n",
       "      <td>retrans_packets_ul_b</td>\n",
       "      <td>148506.0</td>\n",
       "      <td>767942.0</td>\n",
       "      <td>15854896.2</td>\n",
       "      <td>1.0</td>\n",
       "      <td>65824.0</td>\n",
       "      <td>766247.5</td>\n",
       "      <td>766247.5</td>\n",
       "      <td>2908226006.0</td>\n",
       "    </tr>\n",
       "    <tr>\n",
       "      <td>tp_dl_below_50kbps_pc</td>\n",
       "      <td>148506.0</td>\n",
       "      <td>92.9</td>\n",
       "      <td>13.0</td>\n",
       "      <td>0.0</td>\n",
       "      <td>91.0</td>\n",
       "      <td>100.0</td>\n",
       "      <td>100.0</td>\n",
       "      <td>100.0</td>\n",
       "    </tr>\n",
       "    <tr>\n",
       "      <td>tp_dl_50_250kbps_pc</td>\n",
       "      <td>148506.0</td>\n",
       "      <td>3.1</td>\n",
       "      <td>6.2</td>\n",
       "      <td>0.0</td>\n",
       "      <td>0.0</td>\n",
       "      <td>0.0</td>\n",
       "      <td>4.0</td>\n",
       "      <td>93.0</td>\n",
       "    </tr>\n",
       "    <tr>\n",
       "      <td>tp_dl_250kbps_1mbps_pc</td>\n",
       "      <td>148506.0</td>\n",
       "      <td>1.7</td>\n",
       "      <td>4.2</td>\n",
       "      <td>0.0</td>\n",
       "      <td>0.0</td>\n",
       "      <td>0.0</td>\n",
       "      <td>1.0</td>\n",
       "      <td>100.0</td>\n",
       "    </tr>\n",
       "    <tr>\n",
       "      <td>tp_dl_above_1mbps_pc</td>\n",
       "      <td>148506.0</td>\n",
       "      <td>1.6</td>\n",
       "      <td>4.8</td>\n",
       "      <td>0.0</td>\n",
       "      <td>0.0</td>\n",
       "      <td>0.0</td>\n",
       "      <td>0.0</td>\n",
       "      <td>94.0</td>\n",
       "    </tr>\n",
       "    <tr>\n",
       "      <td>tp_ul_below_10kpbs_pc</td>\n",
       "      <td>148506.0</td>\n",
       "      <td>98.5</td>\n",
       "      <td>4.6</td>\n",
       "      <td>0.0</td>\n",
       "      <td>99.0</td>\n",
       "      <td>100.0</td>\n",
       "      <td>100.0</td>\n",
       "      <td>100.0</td>\n",
       "    </tr>\n",
       "    <tr>\n",
       "      <td>tp_ul_10_50_kbps_pc</td>\n",
       "      <td>148506.0</td>\n",
       "      <td>0.8</td>\n",
       "      <td>3.2</td>\n",
       "      <td>0.0</td>\n",
       "      <td>0.0</td>\n",
       "      <td>0.0</td>\n",
       "      <td>0.0</td>\n",
       "      <td>98.0</td>\n",
       "    </tr>\n",
       "    <tr>\n",
       "      <td>tp_ul_50_300_kbps_pc</td>\n",
       "      <td>148506.0</td>\n",
       "      <td>0.1</td>\n",
       "      <td>1.6</td>\n",
       "      <td>0.0</td>\n",
       "      <td>0.0</td>\n",
       "      <td>0.0</td>\n",
       "      <td>0.0</td>\n",
       "      <td>100.0</td>\n",
       "    </tr>\n",
       "    <tr>\n",
       "      <td>tp_ul_above_300_kpbs_pc</td>\n",
       "      <td>148506.0</td>\n",
       "      <td>0.1</td>\n",
       "      <td>1.3</td>\n",
       "      <td>0.0</td>\n",
       "      <td>0.0</td>\n",
       "      <td>0.0</td>\n",
       "      <td>0.0</td>\n",
       "      <td>96.0</td>\n",
       "    </tr>\n",
       "    <tr>\n",
       "      <td>activity_duration_dl</td>\n",
       "      <td>148506.0</td>\n",
       "      <td>1837842.2</td>\n",
       "      <td>5717904.1</td>\n",
       "      <td>0.0</td>\n",
       "      <td>14848.0</td>\n",
       "      <td>39018.5</td>\n",
       "      <td>676304.2</td>\n",
       "      <td>136536461.0</td>\n",
       "    </tr>\n",
       "    <tr>\n",
       "      <td>activity_duration_ul</td>\n",
       "      <td>148506.0</td>\n",
       "      <td>1414772.8</td>\n",
       "      <td>4661843.9</td>\n",
       "      <td>0.0</td>\n",
       "      <td>21499.0</td>\n",
       "      <td>46481.0</td>\n",
       "      <td>594780.0</td>\n",
       "      <td>144911293.0</td>\n",
       "    </tr>\n",
       "    <tr>\n",
       "      <td>Dur. (ms).1</td>\n",
       "      <td>148506.0</td>\n",
       "      <td>105084600.6</td>\n",
       "      <td>81072729.7</td>\n",
       "      <td>7142988.0</td>\n",
       "      <td>58249644.5</td>\n",
       "      <td>86399986.0</td>\n",
       "      <td>132933303.5</td>\n",
       "      <td>1859336442.0</td>\n",
       "    </tr>\n",
       "    <tr>\n",
       "      <td>t_vol_dl_above_6250B</td>\n",
       "      <td>148506.0</td>\n",
       "      <td>3727.4</td>\n",
       "      <td>9194.5</td>\n",
       "      <td>1.0</td>\n",
       "      <td>87.0</td>\n",
       "      <td>201.0</td>\n",
       "      <td>2641.0</td>\n",
       "      <td>604061.0</td>\n",
       "    </tr>\n",
       "    <tr>\n",
       "      <td>t_vol_ul_above_1250B</td>\n",
       "      <td>148506.0</td>\n",
       "      <td>4034.7</td>\n",
       "      <td>10166.7</td>\n",
       "      <td>1.0</td>\n",
       "      <td>106.0</td>\n",
       "      <td>218.0</td>\n",
       "      <td>2547.8</td>\n",
       "      <td>604122.0</td>\n",
       "    </tr>\n",
       "    <tr>\n",
       "      <td>socials_dl_b</td>\n",
       "      <td>148506.0</td>\n",
       "      <td>1795144.1</td>\n",
       "      <td>1035470.1</td>\n",
       "      <td>12.0</td>\n",
       "      <td>899044.5</td>\n",
       "      <td>1793860.5</td>\n",
       "      <td>2694777.2</td>\n",
       "      <td>3586064.0</td>\n",
       "    </tr>\n",
       "    <tr>\n",
       "      <td>socials_ul_b</td>\n",
       "      <td>148506.0</td>\n",
       "      <td>32922.1</td>\n",
       "      <td>19009.0</td>\n",
       "      <td>0.0</td>\n",
       "      <td>16431.0</td>\n",
       "      <td>32917.0</td>\n",
       "      <td>49330.0</td>\n",
       "      <td>65870.0</td>\n",
       "    </tr>\n",
       "    <tr>\n",
       "      <td>google_dl_b</td>\n",
       "      <td>148506.0</td>\n",
       "      <td>5751770.3</td>\n",
       "      <td>3308755.0</td>\n",
       "      <td>207.0</td>\n",
       "      <td>2883392.8</td>\n",
       "      <td>5767399.0</td>\n",
       "      <td>8624195.2</td>\n",
       "      <td>11462832.0</td>\n",
       "    </tr>\n",
       "    <tr>\n",
       "      <td>google_ul_b</td>\n",
       "      <td>148506.0</td>\n",
       "      <td>2056292.6</td>\n",
       "      <td>1189939.1</td>\n",
       "      <td>3.0</td>\n",
       "      <td>1023967.0</td>\n",
       "      <td>2054221.5</td>\n",
       "      <td>3088293.5</td>\n",
       "      <td>4121357.0</td>\n",
       "    </tr>\n",
       "    <tr>\n",
       "      <td>email_dl_b</td>\n",
       "      <td>148506.0</td>\n",
       "      <td>1791784.7</td>\n",
       "      <td>1035955.7</td>\n",
       "      <td>14.0</td>\n",
       "      <td>892620.8</td>\n",
       "      <td>1793641.5</td>\n",
       "      <td>2689879.8</td>\n",
       "      <td>3586146.0</td>\n",
       "    </tr>\n",
       "    <tr>\n",
       "      <td>email_ul_b</td>\n",
       "      <td>148506.0</td>\n",
       "      <td>467403.5</td>\n",
       "      <td>269981.9</td>\n",
       "      <td>2.0</td>\n",
       "      <td>233445.0</td>\n",
       "      <td>466419.0</td>\n",
       "      <td>700481.8</td>\n",
       "      <td>936418.0</td>\n",
       "    </tr>\n",
       "    <tr>\n",
       "      <td>youtube_dl_b</td>\n",
       "      <td>148506.0</td>\n",
       "      <td>11633868.4</td>\n",
       "      <td>6711236.4</td>\n",
       "      <td>53.0</td>\n",
       "      <td>5833290.2</td>\n",
       "      <td>11615961.5</td>\n",
       "      <td>17446392.2</td>\n",
       "      <td>23259098.0</td>\n",
       "    </tr>\n",
       "    <tr>\n",
       "      <td>youtube_ul_b</td>\n",
       "      <td>148506.0</td>\n",
       "      <td>11008567.7</td>\n",
       "      <td>6345625.2</td>\n",
       "      <td>105.0</td>\n",
       "      <td>5515832.0</td>\n",
       "      <td>11012318.0</td>\n",
       "      <td>16514556.2</td>\n",
       "      <td>22011962.0</td>\n",
       "    </tr>\n",
       "    <tr>\n",
       "      <td>netflix_dl_b</td>\n",
       "      <td>148506.0</td>\n",
       "      <td>11627241.7</td>\n",
       "      <td>6724993.7</td>\n",
       "      <td>42.0</td>\n",
       "      <td>5778898.5</td>\n",
       "      <td>11642380.0</td>\n",
       "      <td>17470916.5</td>\n",
       "      <td>23259189.0</td>\n",
       "    </tr>\n",
       "    <tr>\n",
       "      <td>netflix_ul_b</td>\n",
       "      <td>148506.0</td>\n",
       "      <td>11001902.3</td>\n",
       "      <td>6357929.8</td>\n",
       "      <td>35.0</td>\n",
       "      <td>5476773.8</td>\n",
       "      <td>10999370.5</td>\n",
       "      <td>16502847.8</td>\n",
       "      <td>22011955.0</td>\n",
       "    </tr>\n",
       "    <tr>\n",
       "      <td>gaming_dl_b</td>\n",
       "      <td>148506.0</td>\n",
       "      <td>422064222.7</td>\n",
       "      <td>244004290.3</td>\n",
       "      <td>2516.0</td>\n",
       "      <td>210476489.0</td>\n",
       "      <td>423466906.5</td>\n",
       "      <td>633274979.0</td>\n",
       "      <td>843441889.0</td>\n",
       "    </tr>\n",
       "    <tr>\n",
       "      <td>gaming_ul_b</td>\n",
       "      <td>148506.0</td>\n",
       "      <td>8289599.6</td>\n",
       "      <td>4781966.9</td>\n",
       "      <td>59.0</td>\n",
       "      <td>4130680.0</td>\n",
       "      <td>8291649.5</td>\n",
       "      <td>12432259.8</td>\n",
       "      <td>16558794.0</td>\n",
       "    </tr>\n",
       "    <tr>\n",
       "      <td>other_dl_b</td>\n",
       "      <td>148506.0</td>\n",
       "      <td>421152465.4</td>\n",
       "      <td>243163937.4</td>\n",
       "      <td>3290.0</td>\n",
       "      <td>210304184.5</td>\n",
       "      <td>421861759.0</td>\n",
       "      <td>631633770.0</td>\n",
       "      <td>843442489.0</td>\n",
       "    </tr>\n",
       "    <tr>\n",
       "      <td>other_ul_b</td>\n",
       "      <td>148506.0</td>\n",
       "      <td>8262685.0</td>\n",
       "      <td>4768806.1</td>\n",
       "      <td>148.0</td>\n",
       "      <td>4144178.8</td>\n",
       "      <td>8266016.0</td>\n",
       "      <td>12380494.0</td>\n",
       "      <td>16558816.0</td>\n",
       "    </tr>\n",
       "    <tr>\n",
       "      <td>Total_ul_b</td>\n",
       "      <td>148506.0</td>\n",
       "      <td>41119372.8</td>\n",
       "      <td>11278441.2</td>\n",
       "      <td>2866892.0</td>\n",
       "      <td>33218278.0</td>\n",
       "      <td>41141959.5</td>\n",
       "      <td>49032524.0</td>\n",
       "      <td>78331311.0</td>\n",
       "    </tr>\n",
       "    <tr>\n",
       "      <td>Total_dl_b</td>\n",
       "      <td>148506.0</td>\n",
       "      <td>454664032.0</td>\n",
       "      <td>244179073.2</td>\n",
       "      <td>7114041.0</td>\n",
       "      <td>243126304.2</td>\n",
       "      <td>455940800.5</td>\n",
       "      <td>665754159.2</td>\n",
       "      <td>902969616.0</td>\n",
       "    </tr>\n",
       "  </tbody>\n",
       "</table>\n",
       "</div>"
      ],
      "text/plain": [
       "                             count                   mean  \\\n",
       "Bearer_Id                 148506.0 10146757650164756480.0   \n",
       "Dur. (ms)                 148506.0               105084.1   \n",
       "IMSI                      148506.0      208201599922260.4   \n",
       "MSISDN                    148506.0          41906541782.2   \n",
       "IMEI                      148506.0       48500684616792.0   \n",
       "avg_rtt_dl                148506.0                  106.6   \n",
       "avg_rtt_ul                148506.0                   17.6   \n",
       "throughput_avg_dl_kpbs    148506.0                13287.5   \n",
       "throughput_avg_ul_kpbs    148506.0                 1770.6   \n",
       "retrans_packets_dl_b      148506.0             20934339.6   \n",
       "retrans_packets_ul_b      148506.0               767942.0   \n",
       "tp_dl_below_50kbps_pc     148506.0                   92.9   \n",
       "tp_dl_50_250kbps_pc       148506.0                    3.1   \n",
       "tp_dl_250kbps_1mbps_pc    148506.0                    1.7   \n",
       " tp_dl_above_1mbps_pc     148506.0                    1.6   \n",
       "tp_ul_below_10kpbs_pc     148506.0                   98.5   \n",
       "tp_ul_10_50_kbps_pc       148506.0                    0.8   \n",
       "tp_ul_50_300_kbps_pc      148506.0                    0.1   \n",
       "  tp_ul_above_300_kpbs_pc 148506.0                    0.1   \n",
       "activity_duration_dl      148506.0              1837842.2   \n",
       "activity_duration_ul      148506.0              1414772.8   \n",
       "Dur. (ms).1               148506.0            105084600.6   \n",
       "t_vol_dl_above_6250B      148506.0                 3727.4   \n",
       "t_vol_ul_above_1250B      148506.0                 4034.7   \n",
       "socials_dl_b              148506.0              1795144.1   \n",
       "socials_ul_b              148506.0                32922.1   \n",
       "google_dl_b               148506.0              5751770.3   \n",
       "google_ul_b               148506.0              2056292.6   \n",
       "email_dl_b                148506.0              1791784.7   \n",
       "email_ul_b                148506.0               467403.5   \n",
       "youtube_dl_b              148506.0             11633868.4   \n",
       "youtube_ul_b              148506.0             11008567.7   \n",
       "netflix_dl_b              148506.0             11627241.7   \n",
       "netflix_ul_b              148506.0             11001902.3   \n",
       "gaming_dl_b               148506.0            422064222.7   \n",
       "gaming_ul_b               148506.0              8289599.6   \n",
       "other_dl_b                148506.0            421152465.4   \n",
       "other_ul_b                148506.0              8262685.0   \n",
       "Total_ul_b                148506.0             41119372.8   \n",
       "Total_dl_b                148506.0            454664032.0   \n",
       "\n",
       "                                            std                   min  \\\n",
       "Bearer_Id                 2893261633271228928.0 6917537518543529984.0   \n",
       "Dur. (ms)                               81072.7                7142.0   \n",
       "IMSI                              15243472825.7     204047108489451.0   \n",
       "MSISDN                          2450975846357.3         33601001722.0   \n",
       "IMEI                           22432166298203.5        440015202000.0   \n",
       "avg_rtt_dl                                529.6                   0.0   \n",
       "avg_rtt_ul                                 76.5                   0.0   \n",
       "throughput_avg_dl_kpbs                  23993.5                   0.0   \n",
       "throughput_avg_ul_kpbs                   4630.3                   0.0   \n",
       "retrans_packets_dl_b                117153505.2                   2.0   \n",
       "retrans_packets_ul_b                 15854896.2                   1.0   \n",
       "tp_dl_below_50kbps_pc                      13.0                   0.0   \n",
       "tp_dl_50_250kbps_pc                         6.2                   0.0   \n",
       "tp_dl_250kbps_1mbps_pc                      4.2                   0.0   \n",
       " tp_dl_above_1mbps_pc                       4.8                   0.0   \n",
       "tp_ul_below_10kpbs_pc                       4.6                   0.0   \n",
       "tp_ul_10_50_kbps_pc                         3.2                   0.0   \n",
       "tp_ul_50_300_kbps_pc                        1.6                   0.0   \n",
       "  tp_ul_above_300_kpbs_pc                   1.3                   0.0   \n",
       "activity_duration_dl                  5717904.1                   0.0   \n",
       "activity_duration_ul                  4661843.9                   0.0   \n",
       "Dur. (ms).1                          81072729.7             7142988.0   \n",
       "t_vol_dl_above_6250B                     9194.5                   1.0   \n",
       "t_vol_ul_above_1250B                    10166.7                   1.0   \n",
       "socials_dl_b                          1035470.1                  12.0   \n",
       "socials_ul_b                            19009.0                   0.0   \n",
       "google_dl_b                           3308755.0                 207.0   \n",
       "google_ul_b                           1189939.1                   3.0   \n",
       "email_dl_b                            1035955.7                  14.0   \n",
       "email_ul_b                             269981.9                   2.0   \n",
       "youtube_dl_b                          6711236.4                  53.0   \n",
       "youtube_ul_b                          6345625.2                 105.0   \n",
       "netflix_dl_b                          6724993.7                  42.0   \n",
       "netflix_ul_b                          6357929.8                  35.0   \n",
       "gaming_dl_b                         244004290.3                2516.0   \n",
       "gaming_ul_b                           4781966.9                  59.0   \n",
       "other_dl_b                          243163937.4                3290.0   \n",
       "other_ul_b                            4768806.1                 148.0   \n",
       "Total_ul_b                           11278441.2             2866892.0   \n",
       "Total_dl_b                          244179073.2             7114041.0   \n",
       "\n",
       "                                            25%                   50%  \\\n",
       "Bearer_Id                 7349883247462785024.0 7349883264172940288.0   \n",
       "Dur. (ms)                               58248.8               86399.0   \n",
       "IMSI                          208201401264008.0     208201546332650.5   \n",
       "MSISDN                            33651311444.2         33663708556.0   \n",
       "IMEI                           35460708962514.0      35722309017450.0   \n",
       "avg_rtt_dl                                 35.0                  54.0   \n",
       "avg_rtt_ul                                  3.0                   7.0   \n",
       "throughput_avg_dl_kpbs                     43.0                  63.0   \n",
       "throughput_avg_ul_kpbs                     47.0                  62.0   \n",
       "retrans_packets_dl_b                  1410988.2            20884183.3   \n",
       "retrans_packets_ul_b                    65824.0              766247.5   \n",
       "tp_dl_below_50kbps_pc                      91.0                 100.0   \n",
       "tp_dl_50_250kbps_pc                         0.0                   0.0   \n",
       "tp_dl_250kbps_1mbps_pc                      0.0                   0.0   \n",
       " tp_dl_above_1mbps_pc                       0.0                   0.0   \n",
       "tp_ul_below_10kpbs_pc                      99.0                 100.0   \n",
       "tp_ul_10_50_kbps_pc                         0.0                   0.0   \n",
       "tp_ul_50_300_kbps_pc                        0.0                   0.0   \n",
       "  tp_ul_above_300_kpbs_pc                   0.0                   0.0   \n",
       "activity_duration_dl                    14848.0               39018.5   \n",
       "activity_duration_ul                    21499.0               46481.0   \n",
       "Dur. (ms).1                          58249644.5            86399986.0   \n",
       "t_vol_dl_above_6250B                       87.0                 201.0   \n",
       "t_vol_ul_above_1250B                      106.0                 218.0   \n",
       "socials_dl_b                           899044.5             1793860.5   \n",
       "socials_ul_b                            16431.0               32917.0   \n",
       "google_dl_b                           2883392.8             5767399.0   \n",
       "google_ul_b                           1023967.0             2054221.5   \n",
       "email_dl_b                             892620.8             1793641.5   \n",
       "email_ul_b                             233445.0              466419.0   \n",
       "youtube_dl_b                          5833290.2            11615961.5   \n",
       "youtube_ul_b                          5515832.0            11012318.0   \n",
       "netflix_dl_b                          5778898.5            11642380.0   \n",
       "netflix_ul_b                          5476773.8            10999370.5   \n",
       "gaming_dl_b                         210476489.0           423466906.5   \n",
       "gaming_ul_b                           4130680.0             8291649.5   \n",
       "other_dl_b                          210304184.5           421861759.0   \n",
       "other_ul_b                            4144178.8             8266016.0   \n",
       "Total_ul_b                           33218278.0            41141959.5   \n",
       "Total_dl_b                          243126304.2           455940800.5   \n",
       "\n",
       "                                             75%                    max  \n",
       "Bearer_Id                 13042425978973900800.0 13186541167134199808.0  \n",
       "Dur. (ms)                               132932.8              1859336.0  \n",
       "IMSI                           208201771619073.2      208252167239575.0  \n",
       "MSISDN                             33683515176.8      882397108489451.0  \n",
       "IMEI                            86119704824101.0       99001201327774.0  \n",
       "avg_rtt_dl                                 108.2                96923.0  \n",
       "avg_rtt_ul                                  17.6                 7120.0  \n",
       "throughput_avg_dl_kpbs                   19699.5               378160.0  \n",
       "throughput_avg_ul_kpbs                    1116.0                58613.0  \n",
       "retrans_packets_dl_b                  20884183.3           4294425570.0  \n",
       "retrans_packets_ul_b                    766247.5           2908226006.0  \n",
       "tp_dl_below_50kbps_pc                      100.0                  100.0  \n",
       "tp_dl_50_250kbps_pc                          4.0                   93.0  \n",
       "tp_dl_250kbps_1mbps_pc                       1.0                  100.0  \n",
       " tp_dl_above_1mbps_pc                        0.0                   94.0  \n",
       "tp_ul_below_10kpbs_pc                      100.0                  100.0  \n",
       "tp_ul_10_50_kbps_pc                          0.0                   98.0  \n",
       "tp_ul_50_300_kbps_pc                         0.0                  100.0  \n",
       "  tp_ul_above_300_kpbs_pc                    0.0                   96.0  \n",
       "activity_duration_dl                    676304.2            136536461.0  \n",
       "activity_duration_ul                    594780.0            144911293.0  \n",
       "Dur. (ms).1                          132933303.5           1859336442.0  \n",
       "t_vol_dl_above_6250B                      2641.0               604061.0  \n",
       "t_vol_ul_above_1250B                      2547.8               604122.0  \n",
       "socials_dl_b                           2694777.2              3586064.0  \n",
       "socials_ul_b                             49330.0                65870.0  \n",
       "google_dl_b                            8624195.2             11462832.0  \n",
       "google_ul_b                            3088293.5              4121357.0  \n",
       "email_dl_b                             2689879.8              3586146.0  \n",
       "email_ul_b                              700481.8               936418.0  \n",
       "youtube_dl_b                          17446392.2             23259098.0  \n",
       "youtube_ul_b                          16514556.2             22011962.0  \n",
       "netflix_dl_b                          17470916.5             23259189.0  \n",
       "netflix_ul_b                          16502847.8             22011955.0  \n",
       "gaming_dl_b                          633274979.0            843441889.0  \n",
       "gaming_ul_b                           12432259.8             16558794.0  \n",
       "other_dl_b                           631633770.0            843442489.0  \n",
       "other_ul_b                            12380494.0             16558816.0  \n",
       "Total_ul_b                            49032524.0             78331311.0  \n",
       "Total_dl_b                           665754159.2            902969616.0  "
      ]
     },
     "execution_count": 84,
     "metadata": {},
     "output_type": "execute_result"
    }
   ],
   "source": [
    "df.describe(include=[np.number]).T"
   ]
  },
  {
   "cell_type": "code",
   "execution_count": 85,
   "metadata": {},
   "outputs": [
    {
     "data": {
      "text/html": [
       "<div>\n",
       "<style scoped>\n",
       "    .dataframe tbody tr th:only-of-type {\n",
       "        vertical-align: middle;\n",
       "    }\n",
       "\n",
       "    .dataframe tbody tr th {\n",
       "        vertical-align: top;\n",
       "    }\n",
       "\n",
       "    .dataframe thead th {\n",
       "        text-align: right;\n",
       "    }\n",
       "</style>\n",
       "<table border=\"1\" class=\"dataframe\">\n",
       "  <thead>\n",
       "    <tr style=\"text-align: right;\">\n",
       "      <th></th>\n",
       "      <th>count</th>\n",
       "      <th>unique</th>\n",
       "      <th>top</th>\n",
       "      <th>freq</th>\n",
       "    </tr>\n",
       "  </thead>\n",
       "  <tbody>\n",
       "    <tr>\n",
       "      <td>last_location</td>\n",
       "      <td>148506</td>\n",
       "      <td>45379</td>\n",
       "      <td>D41377B</td>\n",
       "      <td>80</td>\n",
       "    </tr>\n",
       "    <tr>\n",
       "      <td>phone_company</td>\n",
       "      <td>148506</td>\n",
       "      <td>170</td>\n",
       "      <td>Apple</td>\n",
       "      <td>59339</td>\n",
       "    </tr>\n",
       "    <tr>\n",
       "      <td>phone_name</td>\n",
       "      <td>148506</td>\n",
       "      <td>1391</td>\n",
       "      <td>Huawei B528S-23A</td>\n",
       "      <td>19727</td>\n",
       "    </tr>\n",
       "  </tbody>\n",
       "</table>\n",
       "</div>"
      ],
      "text/plain": [
       "                count unique               top   freq\n",
       "last_location  148506  45379           D41377B     80\n",
       "phone_company  148506    170             Apple  59339\n",
       "phone_name     148506   1391  Huawei B528S-23A  19727"
      ]
     },
     "execution_count": 85,
     "metadata": {},
     "output_type": "execute_result"
    }
   ],
   "source": [
    "df.describe(include=[np.object]).T"
   ]
  },
  {
   "cell_type": "markdown",
   "metadata": {},
   "source": [
    "# task one"
   ]
  },
  {
   "cell_type": "markdown",
   "metadata": {},
   "source": [
    "## 1.Start by identifying the top 10 handsets used by the customers."
   ]
  },
  {
   "cell_type": "code",
   "execution_count": 86,
   "metadata": {},
   "outputs": [],
   "source": [
    "top_10_phones=df['phone_name'].value_counts().head(10)#look at the undefined fiels again"
   ]
  },
  {
   "cell_type": "code",
   "execution_count": 87,
   "metadata": {},
   "outputs": [
    {
     "data": {
      "text/plain": [
       "Huawei B528S-23A                19727\n",
       "Apple iPhone 6S (A1688)          9395\n",
       "Apple iPhone 6 (A1586)           8993\n",
       "undefined                        8904\n",
       "Apple iPhone 7 (A1778)           6279\n",
       "Apple iPhone Se (A1723)          5165\n",
       "Apple iPhone 8 (A1905)           4977\n",
       "Apple iPhone Xr (A2105)          4556\n",
       "Samsung Galaxy S8 (Sm-G950F)     4464\n",
       "Apple iPhone X (A1901)           3806\n",
       "Name: phone_name, dtype: int64"
      ]
     },
     "execution_count": 87,
     "metadata": {},
     "output_type": "execute_result"
    }
   ],
   "source": [
    "top_10_phones"
   ]
  },
  {
   "cell_type": "markdown",
   "metadata": {},
   "source": [
    "## 2.Start by identifying the top 3 handset manufacturers"
   ]
  },
  {
   "cell_type": "code",
   "execution_count": 88,
   "metadata": {},
   "outputs": [],
   "source": [
    "top_3_companies=df['phone_company'].value_counts().head(3)#look at the undefined fiels again"
   ]
  },
  {
   "cell_type": "code",
   "execution_count": 89,
   "metadata": {},
   "outputs": [
    {
     "data": {
      "text/plain": [
       "Apple      59339\n",
       "Samsung    40429\n",
       "Huawei     34296\n",
       "Name: phone_company, dtype: int64"
      ]
     },
     "execution_count": 89,
     "metadata": {},
     "output_type": "execute_result"
    }
   ],
   "source": [
    "top_3_companies"
   ]
  },
  {
   "cell_type": "markdown",
   "metadata": {},
   "source": [
    "## 3.Identify the top 5 handsets per top 3 handset manufacturer"
   ]
  },
  {
   "cell_type": "code",
   "execution_count": 90,
   "metadata": {},
   "outputs": [],
   "source": [
    "phones=df.groupby(['phone_company','phone_name'])[\"phone_name\"].count().reset_index(name='count')"
   ]
  },
  {
   "cell_type": "code",
   "execution_count": 91,
   "metadata": {},
   "outputs": [
    {
     "data": {
      "text/html": [
       "<div>\n",
       "<style scoped>\n",
       "    .dataframe tbody tr th:only-of-type {\n",
       "        vertical-align: middle;\n",
       "    }\n",
       "\n",
       "    .dataframe tbody tr th {\n",
       "        vertical-align: top;\n",
       "    }\n",
       "\n",
       "    .dataframe thead th {\n",
       "        text-align: right;\n",
       "    }\n",
       "</style>\n",
       "<table border=\"1\" class=\"dataframe\">\n",
       "  <thead>\n",
       "    <tr style=\"text-align: right;\">\n",
       "      <th></th>\n",
       "      <th>phone_company</th>\n",
       "      <th>phone_name</th>\n",
       "      <th>count</th>\n",
       "    </tr>\n",
       "  </thead>\n",
       "  <tbody>\n",
       "    <tr>\n",
       "      <td>315</td>\n",
       "      <td>Huawei</td>\n",
       "      <td>Huawei B528S-23A</td>\n",
       "      <td>19727</td>\n",
       "    </tr>\n",
       "    <tr>\n",
       "      <td>60</td>\n",
       "      <td>Apple</td>\n",
       "      <td>Apple iPhone 6S (A1688)</td>\n",
       "      <td>9395</td>\n",
       "    </tr>\n",
       "    <tr>\n",
       "      <td>56</td>\n",
       "      <td>Apple</td>\n",
       "      <td>Apple iPhone 6 (A1586)</td>\n",
       "      <td>8993</td>\n",
       "    </tr>\n",
       "    <tr>\n",
       "      <td>1390</td>\n",
       "      <td>undefined</td>\n",
       "      <td>undefined</td>\n",
       "      <td>8904</td>\n",
       "    </tr>\n",
       "    <tr>\n",
       "      <td>66</td>\n",
       "      <td>Apple</td>\n",
       "      <td>Apple iPhone 7 (A1778)</td>\n",
       "      <td>6279</td>\n",
       "    </tr>\n",
       "    <tr>\n",
       "      <td>80</td>\n",
       "      <td>Apple</td>\n",
       "      <td>Apple iPhone Se (A1723)</td>\n",
       "      <td>5165</td>\n",
       "    </tr>\n",
       "    <tr>\n",
       "      <td>73</td>\n",
       "      <td>Apple</td>\n",
       "      <td>Apple iPhone 8 (A1905)</td>\n",
       "      <td>4977</td>\n",
       "    </tr>\n",
       "    <tr>\n",
       "      <td>85</td>\n",
       "      <td>Apple</td>\n",
       "      <td>Apple iPhone Xr (A2105)</td>\n",
       "      <td>4556</td>\n",
       "    </tr>\n",
       "    <tr>\n",
       "      <td>953</td>\n",
       "      <td>Samsung</td>\n",
       "      <td>Samsung Galaxy S8 (Sm-G950F)</td>\n",
       "      <td>4464</td>\n",
       "    </tr>\n",
       "    <tr>\n",
       "      <td>82</td>\n",
       "      <td>Apple</td>\n",
       "      <td>Apple iPhone X (A1901)</td>\n",
       "      <td>3806</td>\n",
       "    </tr>\n",
       "    <tr>\n",
       "      <td>836</td>\n",
       "      <td>Samsung</td>\n",
       "      <td>Samsung Galaxy A5 Sm-A520F</td>\n",
       "      <td>3700</td>\n",
       "    </tr>\n",
       "    <tr>\n",
       "      <td>886</td>\n",
       "      <td>Samsung</td>\n",
       "      <td>Samsung Galaxy J5 (Sm-J530)</td>\n",
       "      <td>3675</td>\n",
       "    </tr>\n",
       "    <tr>\n",
       "      <td>878</td>\n",
       "      <td>Samsung</td>\n",
       "      <td>Samsung Galaxy J3 (Sm-J330)</td>\n",
       "      <td>3456</td>\n",
       "    </tr>\n",
       "    <tr>\n",
       "      <td>951</td>\n",
       "      <td>Samsung</td>\n",
       "      <td>Samsung Galaxy S7 (Sm-G930X)</td>\n",
       "      <td>3171</td>\n",
       "    </tr>\n",
       "    <tr>\n",
       "      <td>76</td>\n",
       "      <td>Apple</td>\n",
       "      <td>Apple iPhone 8 Plus (A1897)</td>\n",
       "      <td>3013</td>\n",
       "    </tr>\n",
       "    <tr>\n",
       "      <td>848</td>\n",
       "      <td>Samsung</td>\n",
       "      <td>Samsung Galaxy A8 (2018)</td>\n",
       "      <td>2571</td>\n",
       "    </tr>\n",
       "    <tr>\n",
       "      <td>63</td>\n",
       "      <td>Apple</td>\n",
       "      <td>Apple iPhone 6S Plus (A1687)</td>\n",
       "      <td>2176</td>\n",
       "    </tr>\n",
       "    <tr>\n",
       "      <td>336</td>\n",
       "      <td>Huawei</td>\n",
       "      <td>Huawei E5180</td>\n",
       "      <td>2074</td>\n",
       "    </tr>\n",
       "    <tr>\n",
       "      <td>413</td>\n",
       "      <td>Huawei</td>\n",
       "      <td>Huawei P20 Lite Huawei Nova 3E</td>\n",
       "      <td>2012</td>\n",
       "    </tr>\n",
       "    <tr>\n",
       "      <td>952</td>\n",
       "      <td>Samsung</td>\n",
       "      <td>Samsung Galaxy S7 Edge (Sm-G935X)</td>\n",
       "      <td>1939</td>\n",
       "    </tr>\n",
       "  </tbody>\n",
       "</table>\n",
       "</div>"
      ],
      "text/plain": [
       "     phone_company                         phone_name  count\n",
       "315         Huawei                   Huawei B528S-23A  19727\n",
       "60           Apple            Apple iPhone 6S (A1688)   9395\n",
       "56           Apple             Apple iPhone 6 (A1586)   8993\n",
       "1390     undefined                          undefined   8904\n",
       "66           Apple             Apple iPhone 7 (A1778)   6279\n",
       "80           Apple            Apple iPhone Se (A1723)   5165\n",
       "73           Apple             Apple iPhone 8 (A1905)   4977\n",
       "85           Apple            Apple iPhone Xr (A2105)   4556\n",
       "953        Samsung       Samsung Galaxy S8 (Sm-G950F)   4464\n",
       "82           Apple             Apple iPhone X (A1901)   3806\n",
       "836        Samsung         Samsung Galaxy A5 Sm-A520F   3700\n",
       "886        Samsung        Samsung Galaxy J5 (Sm-J530)   3675\n",
       "878        Samsung        Samsung Galaxy J3 (Sm-J330)   3456\n",
       "951        Samsung       Samsung Galaxy S7 (Sm-G930X)   3171\n",
       "76           Apple        Apple iPhone 8 Plus (A1897)   3013\n",
       "848        Samsung           Samsung Galaxy A8 (2018)   2571\n",
       "63           Apple       Apple iPhone 6S Plus (A1687)   2176\n",
       "336         Huawei                       Huawei E5180   2074\n",
       "413         Huawei     Huawei P20 Lite Huawei Nova 3E   2012\n",
       "952        Samsung  Samsung Galaxy S7 Edge (Sm-G935X)   1939"
      ]
     },
     "execution_count": 91,
     "metadata": {},
     "output_type": "execute_result"
    }
   ],
   "source": [
    "phones.sort_values(['count'], ascending=False).head(20)"
   ]
  },
  {
   "cell_type": "code",
   "execution_count": 92,
   "metadata": {},
   "outputs": [],
   "source": [
    "import matplotlib.pyplot as plt\n",
    "import seaborn as sns"
   ]
  },
  {
   "cell_type": "code",
   "execution_count": 93,
   "metadata": {},
   "outputs": [],
   "source": [
    "#barplot function for categorical data\n",
    "def categ_barplot(categ,x,y):\n",
    "    #set size of plot\n",
    "    if len(x) >= 10:\n",
    "        plt.figure(figsize=(15,8))\n",
    "    else:\n",
    "        plt.figure(figsize=(12,8))\n",
    "    \n",
    "    #plot bar chart y against x\n",
    "    sns.barplot(x=x, y=y, palette = 'bright')\n",
    "    \n",
    "    #prettify the chart\n",
    "    if len(x) >=10: \n",
    "        plt.xticks(rotation=90, fontsize = 14)\n",
    "    else:\n",
    "        plt.xticks(fontsize = 14)\n",
    "        \n",
    "    plt.yticks(fontsize = 14)\n",
    "    plt.xlabel(categ, fontsize = 16)\n",
    "    plt.ylabel('count', fontsize = 16)\n",
    "    plt.title('Value counts for ' + categ + ' in descending order', fontsize = 18)\n",
    "    plt.show()"
   ]
  },
  {
   "cell_type": "code",
   "execution_count": 94,
   "metadata": {},
   "outputs": [
    {
     "data": {
      "image/png": "[encoded data removed]",
      "text/plain": [
       "<Figure size 1080x576 with 1 Axes>"
      ]
     },
     "metadata": {
      "needs_background": "light"
     },
     "output_type": "display_data"
    },
    {
     "data": {
      "text/html": [
       "<div>\n",
       "<style scoped>\n",
       "    .dataframe tbody tr th:only-of-type {\n",
       "        vertical-align: middle;\n",
       "    }\n",
       "\n",
       "    .dataframe tbody tr th {\n",
       "        vertical-align: top;\n",
       "    }\n",
       "\n",
       "    .dataframe thead th {\n",
       "        text-align: right;\n",
       "    }\n",
       "</style>\n",
       "<table border=\"1\" class=\"dataframe\">\n",
       "  <thead>\n",
       "    <tr style=\"text-align: right;\">\n",
       "      <th></th>\n",
       "      <th>count</th>\n",
       "    </tr>\n",
       "  </thead>\n",
       "  <tbody>\n",
       "    <tr>\n",
       "      <td>Huawei B528S-23A</td>\n",
       "      <td>19727</td>\n",
       "    </tr>\n",
       "    <tr>\n",
       "      <td>Apple iPhone 6S (A1688)</td>\n",
       "      <td>9395</td>\n",
       "    </tr>\n",
       "    <tr>\n",
       "      <td>Apple iPhone 6 (A1586)</td>\n",
       "      <td>8993</td>\n",
       "    </tr>\n",
       "    <tr>\n",
       "      <td>undefined</td>\n",
       "      <td>8904</td>\n",
       "    </tr>\n",
       "    <tr>\n",
       "      <td>Apple iPhone 7 (A1778)</td>\n",
       "      <td>6279</td>\n",
       "    </tr>\n",
       "    <tr>\n",
       "      <td>Apple iPhone Se (A1723)</td>\n",
       "      <td>5165</td>\n",
       "    </tr>\n",
       "    <tr>\n",
       "      <td>Apple iPhone 8 (A1905)</td>\n",
       "      <td>4977</td>\n",
       "    </tr>\n",
       "    <tr>\n",
       "      <td>Apple iPhone Xr (A2105)</td>\n",
       "      <td>4556</td>\n",
       "    </tr>\n",
       "    <tr>\n",
       "      <td>Samsung Galaxy S8 (Sm-G950F)</td>\n",
       "      <td>4464</td>\n",
       "    </tr>\n",
       "    <tr>\n",
       "      <td>Apple iPhone X (A1901)</td>\n",
       "      <td>3806</td>\n",
       "    </tr>\n",
       "  </tbody>\n",
       "</table>\n",
       "</div>"
      ],
      "text/plain": [
       "                              count\n",
       "Huawei B528S-23A              19727\n",
       "Apple iPhone 6S (A1688)        9395\n",
       "Apple iPhone 6 (A1586)         8993\n",
       "undefined                      8904\n",
       "Apple iPhone 7 (A1778)         6279\n",
       "Apple iPhone Se (A1723)        5165\n",
       "Apple iPhone 8 (A1905)         4977\n",
       "Apple iPhone Xr (A2105)        4556\n",
       "Samsung Galaxy S8 (Sm-G950F)   4464\n",
       "Apple iPhone X (A1901)         3806"
      ]
     },
     "metadata": {},
     "output_type": "display_data"
    },
    {
     "name": "stdout",
     "output_type": "stream",
     "text": [
      "------------------------------------------------------------------------------------------------------------------------\n"
     ]
    },
    {
     "data": {
      "image/png": "[encoded data removed]",
      "text/plain": [
       "<Figure size 1080x576 with 1 Axes>"
      ]
     },
     "metadata": {
      "needs_background": "light"
     },
     "output_type": "display_data"
    },
    {
     "data": {
      "text/html": [
       "<div>\n",
       "<style scoped>\n",
       "    .dataframe tbody tr th:only-of-type {\n",
       "        vertical-align: middle;\n",
       "    }\n",
       "\n",
       "    .dataframe tbody tr th {\n",
       "        vertical-align: top;\n",
       "    }\n",
       "\n",
       "    .dataframe thead th {\n",
       "        text-align: right;\n",
       "    }\n",
       "</style>\n",
       "<table border=\"1\" class=\"dataframe\">\n",
       "  <thead>\n",
       "    <tr style=\"text-align: right;\">\n",
       "      <th></th>\n",
       "      <th>count</th>\n",
       "    </tr>\n",
       "  </thead>\n",
       "  <tbody>\n",
       "    <tr>\n",
       "      <td>Apple</td>\n",
       "      <td>59339</td>\n",
       "    </tr>\n",
       "    <tr>\n",
       "      <td>Samsung</td>\n",
       "      <td>40429</td>\n",
       "    </tr>\n",
       "    <tr>\n",
       "      <td>Huawei</td>\n",
       "      <td>34296</td>\n",
       "    </tr>\n",
       "    <tr>\n",
       "      <td>undefined</td>\n",
       "      <td>8904</td>\n",
       "    </tr>\n",
       "    <tr>\n",
       "      <td>Sony Mobile Communications Ab</td>\n",
       "      <td>967</td>\n",
       "    </tr>\n",
       "    <tr>\n",
       "      <td>Wiko Global Sasu</td>\n",
       "      <td>743</td>\n",
       "    </tr>\n",
       "    <tr>\n",
       "      <td>Xiaomi Communications Co Ltd</td>\n",
       "      <td>389</td>\n",
       "    </tr>\n",
       "    <tr>\n",
       "      <td>Oneplus Technology (Shenzhen) Co Ltd</td>\n",
       "      <td>335</td>\n",
       "    </tr>\n",
       "    <tr>\n",
       "      <td>Asustek</td>\n",
       "      <td>278</td>\n",
       "    </tr>\n",
       "    <tr>\n",
       "      <td>Lenovo</td>\n",
       "      <td>245</td>\n",
       "    </tr>\n",
       "  </tbody>\n",
       "</table>\n",
       "</div>"
      ],
      "text/plain": [
       "                                      count\n",
       "Apple                                 59339\n",
       "Samsung                               40429\n",
       "Huawei                                34296\n",
       "undefined                              8904\n",
       "Sony Mobile Communications Ab           967\n",
       "Wiko Global Sasu                        743\n",
       "Xiaomi Communications Co Ltd            389\n",
       "Oneplus Technology (Shenzhen) Co Ltd    335\n",
       "Asustek                                 278\n",
       "Lenovo                                  245"
      ]
     },
     "metadata": {},
     "output_type": "display_data"
    },
    {
     "name": "stdout",
     "output_type": "stream",
     "text": [
      "------------------------------------------------------------------------------------------------------------------------\n"
     ]
    }
   ],
   "source": [
    "categ_count = ['phone_name','phone_company']\n",
    "\n",
    "\n",
    "\n",
    "#plot bar graphs for all categorical variable distributions\n",
    "for categ in categ_count:\n",
    "    #plot only up to Top 10\n",
    "    df_top10 = df[categ].value_counts()[:10]\n",
    "    x = df_top10.index.values.tolist()\n",
    "    y = df_top10.values.tolist()\n",
    "    categ_barplot(categ,x,y)\n",
    "    \n",
    "    #prettify and display table values as well\n",
    "    df_top10 = pd.DataFrame(df_top10)\n",
    "    df_top10.columns = ['count']\n",
    "    display(df_top10)\n",
    "    print('-'*120)"
   ]
  },
  {
   "cell_type": "markdown",
   "metadata": {},
   "source": [
    "# Make a short interpretation and recommendation to marketing teams"
   ]
  },
  {
   "cell_type": "markdown",
   "metadata": {},
   "source": [
    "-Apple,Samsung and Huawei are the leading phone manufacturers\n",
    "-It is important for apple to target the following iphone users:\n",
    "\n",
    "Apple iPhone 6S (A1688)          9413\n",
    "Apple iPhone 6 (A1586)           9012\n",
    "Apple iPhone 7 (A1778)           6304\n",
    "Apple iPhone Se (A1723)          5176\n",
    "Apple iPhone 8 (A1905)           4985\n",
    "Apple iPhone Xr (A2105)          4562\n",
    "Apple iPhone X \n",
    "Apple iPhone 8 Plus (A1897)           3014\n",
    "Apple iPhone 6S Plus (A1687)          2177\n",
    "-Most of our users use Iphones.It is important to find strategie sto retain the customer.Find activations to get more users on the newer brands since iphones 6,7 are perfoming better.\n",
    "\n",
    "-Huawei should target the following more:\n",
    "Huawei B528S-23A                    19727\n",
    "Huawei E5180                          2074\n",
    "Huawei P20 Lite Huawei Nova 3E        2018\n",
    "-Their best seller is huawei B528S-23A\n",
    "-Samsung should target the folowing more:\n",
    "Samsung Galaxy S8 (Sm-G950F)     4480\n",
    "Samsung Galaxy A5 Sm-A520F            3707\n",
    "Samsung Galaxy J5 (Sm-J530)           3681\n",
    "Samsung Galaxy J3 (Sm-J330)           3464\n",
    "Samsung Galaxy S7 (Sm-G930X)          3176\n",
    "Samsung Galaxy A8 (2018)              2575\n",
    "Samsung Galaxy S7 Edge (Sm-G935X)     194\n",
    "Their best seller is a samsung galaxy S8"
   ]
  },
  {
   "cell_type": "markdown",
   "metadata": {},
   "source": [
    "In telecommunication, CDR or Call Detail Record is the voice channel and XDR is the data channel equivalent. So here, consider xDR as data sessions Detail Record. In xDR, user behavior can be tracked through the following applications:  Social Media, Google, Email, Youtube, Netflix, Gaming, Other . \n",
    "\n"
   ]
  },
  {
   "cell_type": "markdown",
   "metadata": {},
   "source": [
    "# Task 1.1"
   ]
  },
  {
   "cell_type": "markdown",
   "metadata": {},
   "source": [
    "- Your employer wants to have an overview of the users’ behavior on those applications.   \n",
    "Aggregate per user the following information in the column  \n",
    "number of xDR sessions\n",
    "Session duration\n",
    "the total download (DL) and upload (UL) data\n",
    "the total data volume (in Bytes) during this session for each application\n"
   ]
  },
  {
   "cell_type": "code",
   "execution_count": 95,
   "metadata": {},
   "outputs": [
    {
     "data": {
      "text/plain": [
       "Index(['Bearer_Id', 'Dur. (ms)', 'IMSI', 'MSISDN', 'IMEI', 'last_location',\n",
       "       'avg_rtt_dl', 'avg_rtt_ul', 'throughput_avg_dl_kpbs',\n",
       "       'throughput_avg_ul_kpbs', 'retrans_packets_dl_b',\n",
       "       'retrans_packets_ul_b', 'tp_dl_below_50kbps_pc', 'tp_dl_50_250kbps_pc',\n",
       "       'tp_dl_250kbps_1mbps_pc ', ' tp_dl_above_1mbps_pc',\n",
       "       'tp_ul_below_10kpbs_pc', 'tp_ul_10_50_kbps_pc ',\n",
       "       'tp_ul_50_300_kbps_pc  ', '  tp_ul_above_300_kpbs_pc',\n",
       "       'activity_duration_dl', 'activity_duration_ul', 'Dur. (ms).1',\n",
       "       'phone_company', 'phone_name', 't_vol_dl_above_6250B ',\n",
       "       't_vol_ul_above_1250B', 'socials_dl_b', 'socials_ul_b', 'google_dl_b',\n",
       "       'google_ul_b', 'email_dl_b', 'email_ul_b', 'youtube_dl_b',\n",
       "       'youtube_ul_b', 'netflix_dl_b', 'netflix_ul_b', 'gaming_dl_b',\n",
       "       'gaming_ul_b', 'other_dl_b', 'other_ul_b', 'Total_ul_b', 'Total_dl_b'],\n",
       "      dtype='object')"
      ]
     },
     "execution_count": 95,
     "metadata": {},
     "output_type": "execute_result"
    }
   ],
   "source": [
    "df.columns"
   ]
  },
  {
   "cell_type": "code",
   "execution_count": 96,
   "metadata": {},
   "outputs": [
    {
     "data": {
      "text/plain": [
       "134255"
      ]
     },
     "execution_count": 96,
     "metadata": {},
     "output_type": "execute_result"
    }
   ],
   "source": [
    "df.Bearer_Id.nunique()"
   ]
  },
  {
   "cell_type": "code",
   "execution_count": 97,
   "metadata": {},
   "outputs": [
    {
     "data": {
      "text/plain": [
       "106470"
      ]
     },
     "execution_count": 97,
     "metadata": {},
     "output_type": "execute_result"
    }
   ],
   "source": [
    "df.IMSI.nunique()"
   ]
  },
  {
   "cell_type": "code",
   "execution_count": 98,
   "metadata": {},
   "outputs": [
    {
     "data": {
      "text/plain": [
       "106477"
      ]
     },
     "execution_count": 98,
     "metadata": {},
     "output_type": "execute_result"
    }
   ],
   "source": [
    "df.IMEI.nunique()"
   ]
  },
  {
   "cell_type": "markdown",
   "metadata": {},
   "source": [
    "# Aggregate per user the following information in the column  \n",
    "1.number of xDR sessions\n"
   ]
  },
  {
   "cell_type": "code",
   "execution_count": 99,
   "metadata": {},
   "outputs": [],
   "source": [
    "user_sessions=df.groupby(['Bearer_Id'])[\"Dur. (ms)\"].count().reset_index(name='count')"
   ]
  },
  {
   "cell_type": "code",
   "execution_count": 100,
   "metadata": {},
   "outputs": [
    {
     "data": {
      "text/html": [
       "<div>\n",
       "<style scoped>\n",
       "    .dataframe tbody tr th:only-of-type {\n",
       "        vertical-align: middle;\n",
       "    }\n",
       "\n",
       "    .dataframe tbody tr th {\n",
       "        vertical-align: top;\n",
       "    }\n",
       "\n",
       "    .dataframe thead th {\n",
       "        text-align: right;\n",
       "    }\n",
       "</style>\n",
       "<table border=\"1\" class=\"dataframe\">\n",
       "  <thead>\n",
       "    <tr style=\"text-align: right;\">\n",
       "      <th></th>\n",
       "      <th>Bearer_Id</th>\n",
       "      <th>count</th>\n",
       "    </tr>\n",
       "  </thead>\n",
       "  <tbody>\n",
       "    <tr>\n",
       "      <td>102934</td>\n",
       "      <td>13042425979269199872.0</td>\n",
       "      <td>16</td>\n",
       "    </tr>\n",
       "    <tr>\n",
       "      <td>87692</td>\n",
       "      <td>13042425965944199168.0</td>\n",
       "      <td>10</td>\n",
       "    </tr>\n",
       "    <tr>\n",
       "      <td>93469</td>\n",
       "      <td>13042425972278300672.0</td>\n",
       "      <td>9</td>\n",
       "    </tr>\n",
       "    <tr>\n",
       "      <td>101144</td>\n",
       "      <td>13042425978774599680.0</td>\n",
       "      <td>9</td>\n",
       "    </tr>\n",
       "    <tr>\n",
       "      <td>96862</td>\n",
       "      <td>13042425974582800384.0</td>\n",
       "      <td>9</td>\n",
       "    </tr>\n",
       "  </tbody>\n",
       "</table>\n",
       "</div>"
      ],
      "text/plain": [
       "                    Bearer_Id  count\n",
       "102934 13042425979269199872.0     16\n",
       "87692  13042425965944199168.0     10\n",
       "93469  13042425972278300672.0      9\n",
       "101144 13042425978774599680.0      9\n",
       "96862  13042425974582800384.0      9"
      ]
     },
     "execution_count": 100,
     "metadata": {},
     "output_type": "execute_result"
    }
   ],
   "source": [
    "user_sessions.sort_values(['count'], ascending=False).head(5)"
   ]
  },
  {
   "cell_type": "code",
   "execution_count": 101,
   "metadata": {},
   "outputs": [
    {
     "data": {
      "text/html": [
       "<div>\n",
       "<style scoped>\n",
       "    .dataframe tbody tr th:only-of-type {\n",
       "        vertical-align: middle;\n",
       "    }\n",
       "\n",
       "    .dataframe tbody tr th {\n",
       "        vertical-align: top;\n",
       "    }\n",
       "\n",
       "    .dataframe thead th {\n",
       "        text-align: right;\n",
       "    }\n",
       "</style>\n",
       "<table border=\"1\" class=\"dataframe\">\n",
       "  <thead>\n",
       "    <tr style=\"text-align: right;\">\n",
       "      <th></th>\n",
       "      <th>Bearer_Id</th>\n",
       "      <th>count</th>\n",
       "    </tr>\n",
       "  </thead>\n",
       "  <tbody>\n",
       "    <tr>\n",
       "      <td>count</td>\n",
       "      <td>134255.0</td>\n",
       "      <td>134255.0</td>\n",
       "    </tr>\n",
       "    <tr>\n",
       "      <td>mean</td>\n",
       "      <td>9921810357157257216.0</td>\n",
       "      <td>1.1</td>\n",
       "    </tr>\n",
       "    <tr>\n",
       "      <td>std</td>\n",
       "      <td>2882565139840540160.0</td>\n",
       "      <td>0.4</td>\n",
       "    </tr>\n",
       "    <tr>\n",
       "      <td>min</td>\n",
       "      <td>6917537518543529984.0</td>\n",
       "      <td>1.0</td>\n",
       "    </tr>\n",
       "    <tr>\n",
       "      <td>25%</td>\n",
       "      <td>7277825670110499840.0</td>\n",
       "      <td>1.0</td>\n",
       "    </tr>\n",
       "    <tr>\n",
       "      <td>50%</td>\n",
       "      <td>7349883261535240192.0</td>\n",
       "      <td>1.0</td>\n",
       "    </tr>\n",
       "    <tr>\n",
       "      <td>75%</td>\n",
       "      <td>13042425978691749888.0</td>\n",
       "      <td>1.0</td>\n",
       "    </tr>\n",
       "    <tr>\n",
       "      <td>max</td>\n",
       "      <td>13186541167134199808.0</td>\n",
       "      <td>16.0</td>\n",
       "    </tr>\n",
       "  </tbody>\n",
       "</table>\n",
       "</div>"
      ],
      "text/plain": [
       "                   Bearer_Id    count\n",
       "count               134255.0 134255.0\n",
       "mean   9921810357157257216.0      1.1\n",
       "std    2882565139840540160.0      0.4\n",
       "min    6917537518543529984.0      1.0\n",
       "25%    7277825670110499840.0      1.0\n",
       "50%    7349883261535240192.0      1.0\n",
       "75%   13042425978691749888.0      1.0\n",
       "max   13186541167134199808.0     16.0"
      ]
     },
     "execution_count": 101,
     "metadata": {},
     "output_type": "execute_result"
    }
   ],
   "source": [
    "user_sessions.describe()"
   ]
  },
  {
   "cell_type": "markdown",
   "metadata": {},
   "source": [
    "## Aggregate per user the following information in the column  \n",
    "\n",
    "2.Session duration\n"
   ]
  },
  {
   "cell_type": "code",
   "execution_count": 102,
   "metadata": {},
   "outputs": [],
   "source": [
    "user_sessions_duration=df.groupby(['IMEI'])[\"Dur. (ms)\"].sum().reset_index(name='sum')"
   ]
  },
  {
   "cell_type": "code",
   "execution_count": 103,
   "metadata": {},
   "outputs": [
    {
     "data": {
      "text/html": [
       "<div>\n",
       "<style scoped>\n",
       "    .dataframe tbody tr th:only-of-type {\n",
       "        vertical-align: middle;\n",
       "    }\n",
       "\n",
       "    .dataframe tbody tr th {\n",
       "        vertical-align: top;\n",
       "    }\n",
       "\n",
       "    .dataframe thead th {\n",
       "        text-align: right;\n",
       "    }\n",
       "</style>\n",
       "<table border=\"1\" class=\"dataframe\">\n",
       "  <thead>\n",
       "    <tr style=\"text-align: right;\">\n",
       "      <th></th>\n",
       "      <th>IMEI</th>\n",
       "      <th>sum</th>\n",
       "    </tr>\n",
       "  </thead>\n",
       "  <tbody>\n",
       "    <tr>\n",
       "      <td>7554</td>\n",
       "      <td>35281410321760.0</td>\n",
       "      <td>18553754.0</td>\n",
       "    </tr>\n",
       "    <tr>\n",
       "      <td>60249</td>\n",
       "      <td>35746309624511.0</td>\n",
       "      <td>9966898.0</td>\n",
       "    </tr>\n",
       "    <tr>\n",
       "      <td>23489</td>\n",
       "      <td>35405309346774.0</td>\n",
       "      <td>9279434.0</td>\n",
       "    </tr>\n",
       "    <tr>\n",
       "      <td>2640</td>\n",
       "      <td>35182310355840.0</td>\n",
       "      <td>8791927.0</td>\n",
       "    </tr>\n",
       "    <tr>\n",
       "      <td>46166</td>\n",
       "      <td>35643708181534.0</td>\n",
       "      <td>8744914.0</td>\n",
       "    </tr>\n",
       "  </tbody>\n",
       "</table>\n",
       "</div>"
      ],
      "text/plain": [
       "                  IMEI        sum\n",
       "7554  35281410321760.0 18553754.0\n",
       "60249 35746309624511.0  9966898.0\n",
       "23489 35405309346774.0  9279434.0\n",
       "2640  35182310355840.0  8791927.0\n",
       "46166 35643708181534.0  8744914.0"
      ]
     },
     "execution_count": 103,
     "metadata": {},
     "output_type": "execute_result"
    }
   ],
   "source": [
    "user_sessions_duration.sort_values(['sum'], ascending=False).head(5)"
   ]
  },
  {
   "cell_type": "code",
   "execution_count": 104,
   "metadata": {},
   "outputs": [
    {
     "data": {
      "text/html": [
       "<div>\n",
       "<style scoped>\n",
       "    .dataframe tbody tr th:only-of-type {\n",
       "        vertical-align: middle;\n",
       "    }\n",
       "\n",
       "    .dataframe tbody tr th {\n",
       "        vertical-align: top;\n",
       "    }\n",
       "\n",
       "    .dataframe thead th {\n",
       "        text-align: right;\n",
       "    }\n",
       "</style>\n",
       "<table border=\"1\" class=\"dataframe\">\n",
       "  <thead>\n",
       "    <tr style=\"text-align: right;\">\n",
       "      <th></th>\n",
       "      <th>count</th>\n",
       "      <th>mean</th>\n",
       "      <th>std</th>\n",
       "      <th>min</th>\n",
       "      <th>25%</th>\n",
       "      <th>50%</th>\n",
       "      <th>75%</th>\n",
       "      <th>max</th>\n",
       "    </tr>\n",
       "  </thead>\n",
       "  <tbody>\n",
       "    <tr>\n",
       "      <td>IMEI</td>\n",
       "      <td>106477.0</td>\n",
       "      <td>47210789277165.1</td>\n",
       "      <td>21771377484117.5</td>\n",
       "      <td>440015202000.0</td>\n",
       "      <td>35438406162787.0</td>\n",
       "      <td>35698306137833.0</td>\n",
       "      <td>35949408211072.0</td>\n",
       "      <td>99001201327774.0</td>\n",
       "    </tr>\n",
       "    <tr>\n",
       "      <td>sum</td>\n",
       "      <td>106477.0</td>\n",
       "      <td>146563.2</td>\n",
       "      <td>186550.2</td>\n",
       "      <td>7142.0</td>\n",
       "      <td>72398.0</td>\n",
       "      <td>103131.0</td>\n",
       "      <td>172799.0</td>\n",
       "      <td>18553754.0</td>\n",
       "    </tr>\n",
       "  </tbody>\n",
       "</table>\n",
       "</div>"
      ],
      "text/plain": [
       "        count             mean              std            min  \\\n",
       "IMEI 106477.0 47210789277165.1 21771377484117.5 440015202000.0   \n",
       "sum  106477.0         146563.2         186550.2         7142.0   \n",
       "\n",
       "                  25%              50%              75%              max  \n",
       "IMEI 35438406162787.0 35698306137833.0 35949408211072.0 99001201327774.0  \n",
       "sum           72398.0         103131.0         172799.0       18553754.0  "
      ]
     },
     "execution_count": 104,
     "metadata": {},
     "output_type": "execute_result"
    }
   ],
   "source": [
    "user_sessions_duration.describe().T"
   ]
  },
  {
   "cell_type": "markdown",
   "metadata": {},
   "source": [
    "#   3.The total upload (UL) data\n"
   ]
  },
  {
   "cell_type": "code",
   "execution_count": 105,
   "metadata": {},
   "outputs": [],
   "source": [
    "df['total_ul_data']=df['socials_ul_b']+df['email_ul_b']+df['google_ul_b']+df['netflix_ul_b']+df['youtube_ul_b']+df['other_ul_b']+df['gaming_ul_b']\n"
   ]
  },
  {
   "cell_type": "code",
   "execution_count": 106,
   "metadata": {},
   "outputs": [],
   "source": [
    "user_total_ul=df.groupby(['IMEI'])['total_ul_data'].sum().reset_index(name='sum')"
   ]
  },
  {
   "cell_type": "code",
   "execution_count": 107,
   "metadata": {},
   "outputs": [
    {
     "data": {
      "text/html": [
       "<div>\n",
       "<style scoped>\n",
       "    .dataframe tbody tr th:only-of-type {\n",
       "        vertical-align: middle;\n",
       "    }\n",
       "\n",
       "    .dataframe tbody tr th {\n",
       "        vertical-align: top;\n",
       "    }\n",
       "\n",
       "    .dataframe thead th {\n",
       "        text-align: right;\n",
       "    }\n",
       "</style>\n",
       "<table border=\"1\" class=\"dataframe\">\n",
       "  <thead>\n",
       "    <tr style=\"text-align: right;\">\n",
       "      <th></th>\n",
       "      <th>IMEI</th>\n",
       "      <th>sum</th>\n",
       "    </tr>\n",
       "  </thead>\n",
       "  <tbody>\n",
       "    <tr>\n",
       "      <td>7554</td>\n",
       "      <td>35281410321760.0</td>\n",
       "      <td>729577380.0</td>\n",
       "    </tr>\n",
       "    <tr>\n",
       "      <td>23489</td>\n",
       "      <td>35405309346774.0</td>\n",
       "      <td>703478581.0</td>\n",
       "    </tr>\n",
       "    <tr>\n",
       "      <td>60249</td>\n",
       "      <td>35746309624511.0</td>\n",
       "      <td>689483001.0</td>\n",
       "    </tr>\n",
       "    <tr>\n",
       "      <td>2640</td>\n",
       "      <td>35182310355840.0</td>\n",
       "      <td>669650721.0</td>\n",
       "    </tr>\n",
       "    <tr>\n",
       "      <td>105517</td>\n",
       "      <td>86948003612677.0</td>\n",
       "      <td>624260321.0</td>\n",
       "    </tr>\n",
       "  </tbody>\n",
       "</table>\n",
       "</div>"
      ],
      "text/plain": [
       "                   IMEI         sum\n",
       "7554   35281410321760.0 729577380.0\n",
       "23489  35405309346774.0 703478581.0\n",
       "60249  35746309624511.0 689483001.0\n",
       "2640   35182310355840.0 669650721.0\n",
       "105517 86948003612677.0 624260321.0"
      ]
     },
     "execution_count": 107,
     "metadata": {},
     "output_type": "execute_result"
    }
   ],
   "source": [
    "user_total_ul.sort_values(['sum'], ascending=False).head(5)"
   ]
  },
  {
   "cell_type": "code",
   "execution_count": 108,
   "metadata": {},
   "outputs": [
    {
     "data": {
      "text/html": [
       "<div>\n",
       "<style scoped>\n",
       "    .dataframe tbody tr th:only-of-type {\n",
       "        vertical-align: middle;\n",
       "    }\n",
       "\n",
       "    .dataframe tbody tr th {\n",
       "        vertical-align: top;\n",
       "    }\n",
       "\n",
       "    .dataframe thead th {\n",
       "        text-align: right;\n",
       "    }\n",
       "</style>\n",
       "<table border=\"1\" class=\"dataframe\">\n",
       "  <thead>\n",
       "    <tr style=\"text-align: right;\">\n",
       "      <th></th>\n",
       "      <th>count</th>\n",
       "      <th>mean</th>\n",
       "      <th>std</th>\n",
       "      <th>min</th>\n",
       "      <th>25%</th>\n",
       "      <th>50%</th>\n",
       "      <th>75%</th>\n",
       "      <th>max</th>\n",
       "    </tr>\n",
       "  </thead>\n",
       "  <tbody>\n",
       "    <tr>\n",
       "      <td>IMEI</td>\n",
       "      <td>106477.0</td>\n",
       "      <td>47210789277165.1</td>\n",
       "      <td>21771377484117.5</td>\n",
       "      <td>440015202000.0</td>\n",
       "      <td>35438406162787.0</td>\n",
       "      <td>35698306137833.0</td>\n",
       "      <td>35949408211072.0</td>\n",
       "      <td>99001201327774.0</td>\n",
       "    </tr>\n",
       "    <tr>\n",
       "      <td>sum</td>\n",
       "      <td>106477.0</td>\n",
       "      <td>57350165.5</td>\n",
       "      <td>35694256.1</td>\n",
       "      <td>2866892.0</td>\n",
       "      <td>36401175.0</td>\n",
       "      <td>46812175.0</td>\n",
       "      <td>65851428.0</td>\n",
       "      <td>729577380.0</td>\n",
       "    </tr>\n",
       "  </tbody>\n",
       "</table>\n",
       "</div>"
      ],
      "text/plain": [
       "        count             mean              std            min  \\\n",
       "IMEI 106477.0 47210789277165.1 21771377484117.5 440015202000.0   \n",
       "sum  106477.0       57350165.5       35694256.1      2866892.0   \n",
       "\n",
       "                  25%              50%              75%              max  \n",
       "IMEI 35438406162787.0 35698306137833.0 35949408211072.0 99001201327774.0  \n",
       "sum        36401175.0       46812175.0       65851428.0      729577380.0  "
      ]
     },
     "execution_count": 108,
     "metadata": {},
     "output_type": "execute_result"
    }
   ],
   "source": [
    "user_total_ul.describe().T"
   ]
  },
  {
   "cell_type": "markdown",
   "metadata": {},
   "source": [
    "#   3.The total download (DL) data\n"
   ]
  },
  {
   "cell_type": "code",
   "execution_count": 109,
   "metadata": {},
   "outputs": [],
   "source": [
    "df['total_dl_data']=df['socials_dl_b']+df['email_dl_b']+df['google_dl_b']+df['netflix_dl_b']+df['youtube_dl_b']+df['other_dl_b']+df['gaming_dl_b']\n"
   ]
  },
  {
   "cell_type": "code",
   "execution_count": 110,
   "metadata": {},
   "outputs": [],
   "source": [
    "user_total_dl=df.groupby(['IMEI'])['total_dl_data'].sum().reset_index(name='sum')"
   ]
  },
  {
   "cell_type": "code",
   "execution_count": 111,
   "metadata": {},
   "outputs": [
    {
     "data": {
      "text/html": [
       "<div>\n",
       "<style scoped>\n",
       "    .dataframe tbody tr th:only-of-type {\n",
       "        vertical-align: middle;\n",
       "    }\n",
       "\n",
       "    .dataframe tbody tr th {\n",
       "        vertical-align: top;\n",
       "    }\n",
       "\n",
       "    .dataframe thead th {\n",
       "        text-align: right;\n",
       "    }\n",
       "</style>\n",
       "<table border=\"1\" class=\"dataframe\">\n",
       "  <thead>\n",
       "    <tr style=\"text-align: right;\">\n",
       "      <th></th>\n",
       "      <th>IMEI</th>\n",
       "      <th>sum</th>\n",
       "    </tr>\n",
       "  </thead>\n",
       "  <tbody>\n",
       "    <tr>\n",
       "      <td>60249</td>\n",
       "      <td>35746309624511.0</td>\n",
       "      <td>15652041034.0</td>\n",
       "    </tr>\n",
       "    <tr>\n",
       "      <td>2640</td>\n",
       "      <td>35182310355840.0</td>\n",
       "      <td>15326993371.0</td>\n",
       "    </tr>\n",
       "    <tr>\n",
       "      <td>101712</td>\n",
       "      <td>86724003047878.0</td>\n",
       "      <td>13974615530.0</td>\n",
       "    </tr>\n",
       "    <tr>\n",
       "      <td>7554</td>\n",
       "      <td>35281410321760.0</td>\n",
       "      <td>13971695950.0</td>\n",
       "    </tr>\n",
       "    <tr>\n",
       "      <td>105517</td>\n",
       "      <td>86948003612677.0</td>\n",
       "      <td>13264153039.0</td>\n",
       "    </tr>\n",
       "  </tbody>\n",
       "</table>\n",
       "</div>"
      ],
      "text/plain": [
       "                   IMEI           sum\n",
       "60249  35746309624511.0 15652041034.0\n",
       "2640   35182310355840.0 15326993371.0\n",
       "101712 86724003047878.0 13974615530.0\n",
       "7554   35281410321760.0 13971695950.0\n",
       "105517 86948003612677.0 13264153039.0"
      ]
     },
     "execution_count": 111,
     "metadata": {},
     "output_type": "execute_result"
    }
   ],
   "source": [
    "user_total_dl.sort_values(['sum'], ascending=False).head(5)"
   ]
  },
  {
   "cell_type": "code",
   "execution_count": 112,
   "metadata": {},
   "outputs": [
    {
     "data": {
      "text/html": [
       "<div>\n",
       "<style scoped>\n",
       "    .dataframe tbody tr th:only-of-type {\n",
       "        vertical-align: middle;\n",
       "    }\n",
       "\n",
       "    .dataframe tbody tr th {\n",
       "        vertical-align: top;\n",
       "    }\n",
       "\n",
       "    .dataframe thead th {\n",
       "        text-align: right;\n",
       "    }\n",
       "</style>\n",
       "<table border=\"1\" class=\"dataframe\">\n",
       "  <thead>\n",
       "    <tr style=\"text-align: right;\">\n",
       "      <th></th>\n",
       "      <th>count</th>\n",
       "      <th>mean</th>\n",
       "      <th>std</th>\n",
       "      <th>min</th>\n",
       "      <th>25%</th>\n",
       "      <th>50%</th>\n",
       "      <th>75%</th>\n",
       "      <th>max</th>\n",
       "    </tr>\n",
       "  </thead>\n",
       "  <tbody>\n",
       "    <tr>\n",
       "      <td>IMEI</td>\n",
       "      <td>106477.0</td>\n",
       "      <td>47210789277165.1</td>\n",
       "      <td>21771377484117.5</td>\n",
       "      <td>440015202000.0</td>\n",
       "      <td>35438406162787.0</td>\n",
       "      <td>35698306137833.0</td>\n",
       "      <td>35949408211072.0</td>\n",
       "      <td>99001201327774.0</td>\n",
       "    </tr>\n",
       "    <tr>\n",
       "      <td>sum</td>\n",
       "      <td>106477.0</td>\n",
       "      <td>1221522063.5</td>\n",
       "      <td>811912838.3</td>\n",
       "      <td>27297842.0</td>\n",
       "      <td>729533071.0</td>\n",
       "      <td>1033100957.0</td>\n",
       "      <td>1456458257.0</td>\n",
       "      <td>15652041034.0</td>\n",
       "    </tr>\n",
       "  </tbody>\n",
       "</table>\n",
       "</div>"
      ],
      "text/plain": [
       "        count             mean              std            min  \\\n",
       "IMEI 106477.0 47210789277165.1 21771377484117.5 440015202000.0   \n",
       "sum  106477.0     1221522063.5      811912838.3     27297842.0   \n",
       "\n",
       "                  25%              50%              75%              max  \n",
       "IMEI 35438406162787.0 35698306137833.0 35949408211072.0 99001201327774.0  \n",
       "sum       729533071.0     1033100957.0     1456458257.0    15652041034.0  "
      ]
     },
     "execution_count": 112,
     "metadata": {},
     "output_type": "execute_result"
    }
   ],
   "source": [
    "user_total_dl.describe().T"
   ]
  },
  {
   "cell_type": "markdown",
   "metadata": {},
   "source": [
    "#   3.The total download (DL)  data\n"
   ]
  },
  {
   "cell_type": "code",
   "execution_count": 113,
   "metadata": {},
   "outputs": [],
   "source": [
    "user_total_dl=df.groupby(['IMEI'])['Total_dl_b'].sum().reset_index(name='sum')"
   ]
  },
  {
   "cell_type": "code",
   "execution_count": 114,
   "metadata": {},
   "outputs": [
    {
     "data": {
      "text/html": [
       "<div>\n",
       "<style scoped>\n",
       "    .dataframe tbody tr th:only-of-type {\n",
       "        vertical-align: middle;\n",
       "    }\n",
       "\n",
       "    .dataframe tbody tr th {\n",
       "        vertical-align: top;\n",
       "    }\n",
       "\n",
       "    .dataframe thead th {\n",
       "        text-align: right;\n",
       "    }\n",
       "</style>\n",
       "<table border=\"1\" class=\"dataframe\">\n",
       "  <thead>\n",
       "    <tr style=\"text-align: right;\">\n",
       "      <th></th>\n",
       "      <th>IMEI</th>\n",
       "      <th>sum</th>\n",
       "    </tr>\n",
       "  </thead>\n",
       "  <tbody>\n",
       "    <tr>\n",
       "      <td>60249</td>\n",
       "      <td>35746309624511.0</td>\n",
       "      <td>8156743493.0</td>\n",
       "    </tr>\n",
       "    <tr>\n",
       "      <td>23489</td>\n",
       "      <td>35405309346774.0</td>\n",
       "      <td>7811295382.0</td>\n",
       "    </tr>\n",
       "    <tr>\n",
       "      <td>7554</td>\n",
       "      <td>35281410321760.0</td>\n",
       "      <td>7770043342.0</td>\n",
       "    </tr>\n",
       "    <tr>\n",
       "      <td>101712</td>\n",
       "      <td>86724003047878.0</td>\n",
       "      <td>7309541816.0</td>\n",
       "    </tr>\n",
       "    <tr>\n",
       "      <td>2640</td>\n",
       "      <td>35182310355840.0</td>\n",
       "      <td>7301516540.0</td>\n",
       "    </tr>\n",
       "  </tbody>\n",
       "</table>\n",
       "</div>"
      ],
      "text/plain": [
       "                   IMEI          sum\n",
       "60249  35746309624511.0 8156743493.0\n",
       "23489  35405309346774.0 7811295382.0\n",
       "7554   35281410321760.0 7770043342.0\n",
       "101712 86724003047878.0 7309541816.0\n",
       "2640   35182310355840.0 7301516540.0"
      ]
     },
     "execution_count": 114,
     "metadata": {},
     "output_type": "execute_result"
    }
   ],
   "source": [
    "user_total_dl.sort_values(['sum'], ascending=False).head(5)"
   ]
  },
  {
   "cell_type": "code",
   "execution_count": 115,
   "metadata": {},
   "outputs": [
    {
     "data": {
      "text/html": [
       "<div>\n",
       "<style scoped>\n",
       "    .dataframe tbody tr th:only-of-type {\n",
       "        vertical-align: middle;\n",
       "    }\n",
       "\n",
       "    .dataframe tbody tr th {\n",
       "        vertical-align: top;\n",
       "    }\n",
       "\n",
       "    .dataframe thead th {\n",
       "        text-align: right;\n",
       "    }\n",
       "</style>\n",
       "<table border=\"1\" class=\"dataframe\">\n",
       "  <thead>\n",
       "    <tr style=\"text-align: right;\">\n",
       "      <th></th>\n",
       "      <th>count</th>\n",
       "      <th>mean</th>\n",
       "      <th>std</th>\n",
       "      <th>min</th>\n",
       "      <th>25%</th>\n",
       "      <th>50%</th>\n",
       "      <th>75%</th>\n",
       "      <th>max</th>\n",
       "    </tr>\n",
       "  </thead>\n",
       "  <tbody>\n",
       "    <tr>\n",
       "      <td>IMEI</td>\n",
       "      <td>106477.0</td>\n",
       "      <td>47210789277165.1</td>\n",
       "      <td>21771377484117.5</td>\n",
       "      <td>440015202000.0</td>\n",
       "      <td>35438406162787.0</td>\n",
       "      <td>35698306137833.0</td>\n",
       "      <td>35949408211072.0</td>\n",
       "      <td>99001201327774.0</td>\n",
       "    </tr>\n",
       "    <tr>\n",
       "      <td>sum</td>\n",
       "      <td>106477.0</td>\n",
       "      <td>634130720.6</td>\n",
       "      <td>464968238.8</td>\n",
       "      <td>8827082.0</td>\n",
       "      <td>314979486.0</td>\n",
       "      <td>570720326.0</td>\n",
       "      <td>807770945.0</td>\n",
       "      <td>8156743493.0</td>\n",
       "    </tr>\n",
       "  </tbody>\n",
       "</table>\n",
       "</div>"
      ],
      "text/plain": [
       "        count             mean              std            min  \\\n",
       "IMEI 106477.0 47210789277165.1 21771377484117.5 440015202000.0   \n",
       "sum  106477.0      634130720.6      464968238.8      8827082.0   \n",
       "\n",
       "                  25%              50%              75%              max  \n",
       "IMEI 35438406162787.0 35698306137833.0 35949408211072.0 99001201327774.0  \n",
       "sum       314979486.0      570720326.0      807770945.0     8156743493.0  "
      ]
     },
     "execution_count": 115,
     "metadata": {},
     "output_type": "execute_result"
    }
   ],
   "source": [
    "user_total_dl.describe().T"
   ]
  },
  {
   "cell_type": "markdown",
   "metadata": {},
   "source": [
    "# 4.The total data volume (in Bytes) during this session for each application"
   ]
  },
  {
   "cell_type": "code",
   "execution_count": 116,
   "metadata": {},
   "outputs": [],
   "source": [
    "df['socials_total_b']=df['socials_dl_b']+ df['socials_ul_b']\n",
    "\n",
    "\n",
    "df['google_total_b']=df['google_dl_b']+ df['google_ul_b']\n",
    "df['email_total_b']=df['email_dl_b']+ df['email_ul_b']\n",
    "df['youtube_total_b']=df['youtube_dl_b']+ df['youtube_ul_b']\n",
    "df['netflix_total_b']=df['netflix_dl_b']+ df['netflix_ul_b']\n",
    "df['gaming_total_b']=df['gaming_dl_b']+ df['gaming_ul_b']\n",
    "df['other_total_b']=df['other_dl_b']+ df['other_ul_b']\n",
    "df['total_b']=df['Total_dl_b']+ df['Total_ul_b']\n",
    "\n"
   ]
  },
  {
   "cell_type": "markdown",
   "metadata": {},
   "source": [
    "# social media"
   ]
  },
  {
   "cell_type": "code",
   "execution_count": 117,
   "metadata": {},
   "outputs": [],
   "source": [
    "user_total_vol_socials =df.groupby(['IMEI'])['socials_total_b'].sum().reset_index(name='sum')"
   ]
  },
  {
   "cell_type": "code",
   "execution_count": 118,
   "metadata": {},
   "outputs": [
    {
     "data": {
      "text/html": [
       "<div>\n",
       "<style scoped>\n",
       "    .dataframe tbody tr th:only-of-type {\n",
       "        vertical-align: middle;\n",
       "    }\n",
       "\n",
       "    .dataframe tbody tr th {\n",
       "        vertical-align: top;\n",
       "    }\n",
       "\n",
       "    .dataframe thead th {\n",
       "        text-align: right;\n",
       "    }\n",
       "</style>\n",
       "<table border=\"1\" class=\"dataframe\">\n",
       "  <thead>\n",
       "    <tr style=\"text-align: right;\">\n",
       "      <th></th>\n",
       "      <th>IMEI</th>\n",
       "      <th>sum</th>\n",
       "    </tr>\n",
       "  </thead>\n",
       "  <tbody>\n",
       "    <tr>\n",
       "      <td>2640</td>\n",
       "      <td>35182310355840.0</td>\n",
       "      <td>43374779.0</td>\n",
       "    </tr>\n",
       "    <tr>\n",
       "      <td>23489</td>\n",
       "      <td>35405309346774.0</td>\n",
       "      <td>39783189.0</td>\n",
       "    </tr>\n",
       "    <tr>\n",
       "      <td>105517</td>\n",
       "      <td>86948003612677.0</td>\n",
       "      <td>35412358.0</td>\n",
       "    </tr>\n",
       "    <tr>\n",
       "      <td>60249</td>\n",
       "      <td>35746309624511.0</td>\n",
       "      <td>28294544.0</td>\n",
       "    </tr>\n",
       "    <tr>\n",
       "      <td>7554</td>\n",
       "      <td>35281410321760.0</td>\n",
       "      <td>27135500.0</td>\n",
       "    </tr>\n",
       "  </tbody>\n",
       "</table>\n",
       "</div>"
      ],
      "text/plain": [
       "                   IMEI        sum\n",
       "2640   35182310355840.0 43374779.0\n",
       "23489  35405309346774.0 39783189.0\n",
       "105517 86948003612677.0 35412358.0\n",
       "60249  35746309624511.0 28294544.0\n",
       "7554   35281410321760.0 27135500.0"
      ]
     },
     "execution_count": 118,
     "metadata": {},
     "output_type": "execute_result"
    }
   ],
   "source": [
    "user_total_vol_socials.sort_values(['sum'], ascending=False).head(5)"
   ]
  },
  {
   "cell_type": "code",
   "execution_count": 119,
   "metadata": {},
   "outputs": [
    {
     "data": {
      "text/html": [
       "<div>\n",
       "<style scoped>\n",
       "    .dataframe tbody tr th:only-of-type {\n",
       "        vertical-align: middle;\n",
       "    }\n",
       "\n",
       "    .dataframe tbody tr th {\n",
       "        vertical-align: top;\n",
       "    }\n",
       "\n",
       "    .dataframe thead th {\n",
       "        text-align: right;\n",
       "    }\n",
       "</style>\n",
       "<table border=\"1\" class=\"dataframe\">\n",
       "  <thead>\n",
       "    <tr style=\"text-align: right;\">\n",
       "      <th></th>\n",
       "      <th>IMEI</th>\n",
       "      <th>sum</th>\n",
       "    </tr>\n",
       "  </thead>\n",
       "  <tbody>\n",
       "    <tr>\n",
       "      <td>count</td>\n",
       "      <td>106477.0</td>\n",
       "      <td>106477.0</td>\n",
       "    </tr>\n",
       "    <tr>\n",
       "      <td>mean</td>\n",
       "      <td>47210789277165.1</td>\n",
       "      <td>2549647.3</td>\n",
       "    </tr>\n",
       "    <tr>\n",
       "      <td>std</td>\n",
       "      <td>21771377484117.5</td>\n",
       "      <td>1909613.7</td>\n",
       "    </tr>\n",
       "    <tr>\n",
       "      <td>min</td>\n",
       "      <td>440015202000.0</td>\n",
       "      <td>1563.0</td>\n",
       "    </tr>\n",
       "    <tr>\n",
       "      <td>25%</td>\n",
       "      <td>35438406162787.0</td>\n",
       "      <td>1211884.0</td>\n",
       "    </tr>\n",
       "    <tr>\n",
       "      <td>50%</td>\n",
       "      <td>35698306137833.0</td>\n",
       "      <td>2305045.0</td>\n",
       "    </tr>\n",
       "    <tr>\n",
       "      <td>75%</td>\n",
       "      <td>35949408211072.0</td>\n",
       "      <td>3308847.0</td>\n",
       "    </tr>\n",
       "    <tr>\n",
       "      <td>max</td>\n",
       "      <td>99001201327774.0</td>\n",
       "      <td>43374779.0</td>\n",
       "    </tr>\n",
       "  </tbody>\n",
       "</table>\n",
       "</div>"
      ],
      "text/plain": [
       "                  IMEI        sum\n",
       "count         106477.0   106477.0\n",
       "mean  47210789277165.1  2549647.3\n",
       "std   21771377484117.5  1909613.7\n",
       "min     440015202000.0     1563.0\n",
       "25%   35438406162787.0  1211884.0\n",
       "50%   35698306137833.0  2305045.0\n",
       "75%   35949408211072.0  3308847.0\n",
       "max   99001201327774.0 43374779.0"
      ]
     },
     "execution_count": 119,
     "metadata": {},
     "output_type": "execute_result"
    }
   ],
   "source": [
    "user_total_vol_socials.describe()"
   ]
  },
  {
   "cell_type": "markdown",
   "metadata": {},
   "source": [
    "# Google"
   ]
  },
  {
   "cell_type": "code",
   "execution_count": 120,
   "metadata": {},
   "outputs": [],
   "source": [
    "user_total_vol_google =df.groupby(['IMEI'])['google_total_b'].sum().reset_index(name='sum')"
   ]
  },
  {
   "cell_type": "code",
   "execution_count": 121,
   "metadata": {},
   "outputs": [
    {
     "data": {
      "text/html": [
       "<div>\n",
       "<style scoped>\n",
       "    .dataframe tbody tr th:only-of-type {\n",
       "        vertical-align: middle;\n",
       "    }\n",
       "\n",
       "    .dataframe tbody tr th {\n",
       "        vertical-align: top;\n",
       "    }\n",
       "\n",
       "    .dataframe thead th {\n",
       "        text-align: right;\n",
       "    }\n",
       "</style>\n",
       "<table border=\"1\" class=\"dataframe\">\n",
       "  <thead>\n",
       "    <tr style=\"text-align: right;\">\n",
       "      <th></th>\n",
       "      <th>IMEI</th>\n",
       "      <th>sum</th>\n",
       "    </tr>\n",
       "  </thead>\n",
       "  <tbody>\n",
       "    <tr>\n",
       "      <td>2640</td>\n",
       "      <td>35182310355840.0</td>\n",
       "      <td>152191852.0</td>\n",
       "    </tr>\n",
       "    <tr>\n",
       "      <td>7554</td>\n",
       "      <td>35281410321760.0</td>\n",
       "      <td>142307915.0</td>\n",
       "    </tr>\n",
       "    <tr>\n",
       "      <td>60249</td>\n",
       "      <td>35746309624511.0</td>\n",
       "      <td>127973787.0</td>\n",
       "    </tr>\n",
       "    <tr>\n",
       "      <td>23489</td>\n",
       "      <td>35405309346774.0</td>\n",
       "      <td>123223099.0</td>\n",
       "    </tr>\n",
       "    <tr>\n",
       "      <td>105517</td>\n",
       "      <td>86948003612677.0</td>\n",
       "      <td>116516345.0</td>\n",
       "    </tr>\n",
       "  </tbody>\n",
       "</table>\n",
       "</div>"
      ],
      "text/plain": [
       "                   IMEI         sum\n",
       "2640   35182310355840.0 152191852.0\n",
       "7554   35281410321760.0 142307915.0\n",
       "60249  35746309624511.0 127973787.0\n",
       "23489  35405309346774.0 123223099.0\n",
       "105517 86948003612677.0 116516345.0"
      ]
     },
     "execution_count": 121,
     "metadata": {},
     "output_type": "execute_result"
    }
   ],
   "source": [
    "user_total_vol_google.sort_values(['sum'], ascending=False).head(5)"
   ]
  },
  {
   "cell_type": "code",
   "execution_count": 122,
   "metadata": {},
   "outputs": [
    {
     "data": {
      "text/html": [
       "<div>\n",
       "<style scoped>\n",
       "    .dataframe tbody tr th:only-of-type {\n",
       "        vertical-align: middle;\n",
       "    }\n",
       "\n",
       "    .dataframe tbody tr th {\n",
       "        vertical-align: top;\n",
       "    }\n",
       "\n",
       "    .dataframe thead th {\n",
       "        text-align: right;\n",
       "    }\n",
       "</style>\n",
       "<table border=\"1\" class=\"dataframe\">\n",
       "  <thead>\n",
       "    <tr style=\"text-align: right;\">\n",
       "      <th></th>\n",
       "      <th>IMEI</th>\n",
       "      <th>sum</th>\n",
       "    </tr>\n",
       "  </thead>\n",
       "  <tbody>\n",
       "    <tr>\n",
       "      <td>count</td>\n",
       "      <td>106477.0</td>\n",
       "      <td>106477.0</td>\n",
       "    </tr>\n",
       "    <tr>\n",
       "      <td>mean</td>\n",
       "      <td>47210789277165.1</td>\n",
       "      <td>10890090.7</td>\n",
       "    </tr>\n",
       "    <tr>\n",
       "      <td>std</td>\n",
       "      <td>21771377484117.5</td>\n",
       "      <td>7552047.9</td>\n",
       "    </tr>\n",
       "    <tr>\n",
       "      <td>min</td>\n",
       "      <td>440015202000.0</td>\n",
       "      <td>40330.0</td>\n",
       "    </tr>\n",
       "    <tr>\n",
       "      <td>25%</td>\n",
       "      <td>35438406162787.0</td>\n",
       "      <td>5945084.0</td>\n",
       "    </tr>\n",
       "    <tr>\n",
       "      <td>50%</td>\n",
       "      <td>35698306137833.0</td>\n",
       "      <td>9592034.0</td>\n",
       "    </tr>\n",
       "    <tr>\n",
       "      <td>75%</td>\n",
       "      <td>35949408211072.0</td>\n",
       "      <td>13222965.0</td>\n",
       "    </tr>\n",
       "    <tr>\n",
       "      <td>max</td>\n",
       "      <td>99001201327774.0</td>\n",
       "      <td>152191852.0</td>\n",
       "    </tr>\n",
       "  </tbody>\n",
       "</table>\n",
       "</div>"
      ],
      "text/plain": [
       "                  IMEI         sum\n",
       "count         106477.0    106477.0\n",
       "mean  47210789277165.1  10890090.7\n",
       "std   21771377484117.5   7552047.9\n",
       "min     440015202000.0     40330.0\n",
       "25%   35438406162787.0   5945084.0\n",
       "50%   35698306137833.0   9592034.0\n",
       "75%   35949408211072.0  13222965.0\n",
       "max   99001201327774.0 152191852.0"
      ]
     },
     "execution_count": 122,
     "metadata": {},
     "output_type": "execute_result"
    }
   ],
   "source": [
    "user_total_vol_google.describe()"
   ]
  },
  {
   "cell_type": "markdown",
   "metadata": {},
   "source": [
    "# Emails"
   ]
  },
  {
   "cell_type": "code",
   "execution_count": 123,
   "metadata": {},
   "outputs": [],
   "source": [
    "user_total_vol_email =df.groupby(['IMEI'])['email_total_b'].sum().reset_index(name='sum')"
   ]
  },
  {
   "cell_type": "code",
   "execution_count": 124,
   "metadata": {},
   "outputs": [
    {
     "data": {
      "text/html": [
       "<div>\n",
       "<style scoped>\n",
       "    .dataframe tbody tr th:only-of-type {\n",
       "        vertical-align: middle;\n",
       "    }\n",
       "\n",
       "    .dataframe tbody tr th {\n",
       "        vertical-align: top;\n",
       "    }\n",
       "\n",
       "    .dataframe thead th {\n",
       "        text-align: right;\n",
       "    }\n",
       "</style>\n",
       "<table border=\"1\" class=\"dataframe\">\n",
       "  <thead>\n",
       "    <tr style=\"text-align: right;\">\n",
       "      <th></th>\n",
       "      <th>IMEI</th>\n",
       "      <th>sum</th>\n",
       "    </tr>\n",
       "  </thead>\n",
       "  <tbody>\n",
       "    <tr>\n",
       "      <td>2640</td>\n",
       "      <td>35182310355840.0</td>\n",
       "      <td>42418782.0</td>\n",
       "    </tr>\n",
       "    <tr>\n",
       "      <td>60249</td>\n",
       "      <td>35746309624511.0</td>\n",
       "      <td>40788634.0</td>\n",
       "    </tr>\n",
       "    <tr>\n",
       "      <td>7554</td>\n",
       "      <td>35281410321760.0</td>\n",
       "      <td>40633966.0</td>\n",
       "    </tr>\n",
       "    <tr>\n",
       "      <td>1822</td>\n",
       "      <td>35171510435028.0</td>\n",
       "      <td>36310123.0</td>\n",
       "    </tr>\n",
       "    <tr>\n",
       "      <td>105517</td>\n",
       "      <td>86948003612677.0</td>\n",
       "      <td>35999792.0</td>\n",
       "    </tr>\n",
       "  </tbody>\n",
       "</table>\n",
       "</div>"
      ],
      "text/plain": [
       "                   IMEI        sum\n",
       "2640   35182310355840.0 42418782.0\n",
       "60249  35746309624511.0 40788634.0\n",
       "7554   35281410321760.0 40633966.0\n",
       "1822   35171510435028.0 36310123.0\n",
       "105517 86948003612677.0 35999792.0"
      ]
     },
     "execution_count": 124,
     "metadata": {},
     "output_type": "execute_result"
    }
   ],
   "source": [
    "user_total_vol_email.sort_values(['sum'], ascending=False).head(5)"
   ]
  },
  {
   "cell_type": "code",
   "execution_count": 125,
   "metadata": {},
   "outputs": [
    {
     "data": {
      "text/html": [
       "<div>\n",
       "<style scoped>\n",
       "    .dataframe tbody tr th:only-of-type {\n",
       "        vertical-align: middle;\n",
       "    }\n",
       "\n",
       "    .dataframe tbody tr th {\n",
       "        vertical-align: top;\n",
       "    }\n",
       "\n",
       "    .dataframe thead th {\n",
       "        text-align: right;\n",
       "    }\n",
       "</style>\n",
       "<table border=\"1\" class=\"dataframe\">\n",
       "  <thead>\n",
       "    <tr style=\"text-align: right;\">\n",
       "      <th></th>\n",
       "      <th>IMEI</th>\n",
       "      <th>sum</th>\n",
       "    </tr>\n",
       "  </thead>\n",
       "  <tbody>\n",
       "    <tr>\n",
       "      <td>count</td>\n",
       "      <td>106477.0</td>\n",
       "      <td>106477.0</td>\n",
       "    </tr>\n",
       "    <tr>\n",
       "      <td>mean</td>\n",
       "      <td>47210789277165.1</td>\n",
       "      <td>3150943.4</td>\n",
       "    </tr>\n",
       "    <tr>\n",
       "      <td>std</td>\n",
       "      <td>21771377484117.5</td>\n",
       "      <td>2224419.5</td>\n",
       "    </tr>\n",
       "    <tr>\n",
       "      <td>min</td>\n",
       "      <td>440015202000.0</td>\n",
       "      <td>18176.0</td>\n",
       "    </tr>\n",
       "    <tr>\n",
       "      <td>25%</td>\n",
       "      <td>35438406162787.0</td>\n",
       "      <td>1675396.0</td>\n",
       "    </tr>\n",
       "    <tr>\n",
       "      <td>50%</td>\n",
       "      <td>35698306137833.0</td>\n",
       "      <td>2800977.0</td>\n",
       "    </tr>\n",
       "    <tr>\n",
       "      <td>75%</td>\n",
       "      <td>35949408211072.0</td>\n",
       "      <td>3848659.0</td>\n",
       "    </tr>\n",
       "    <tr>\n",
       "      <td>max</td>\n",
       "      <td>99001201327774.0</td>\n",
       "      <td>42418782.0</td>\n",
       "    </tr>\n",
       "  </tbody>\n",
       "</table>\n",
       "</div>"
      ],
      "text/plain": [
       "                  IMEI        sum\n",
       "count         106477.0   106477.0\n",
       "mean  47210789277165.1  3150943.4\n",
       "std   21771377484117.5  2224419.5\n",
       "min     440015202000.0    18176.0\n",
       "25%   35438406162787.0  1675396.0\n",
       "50%   35698306137833.0  2800977.0\n",
       "75%   35949408211072.0  3848659.0\n",
       "max   99001201327774.0 42418782.0"
      ]
     },
     "execution_count": 125,
     "metadata": {},
     "output_type": "execute_result"
    }
   ],
   "source": [
    "user_total_vol_email.describe()"
   ]
  },
  {
   "cell_type": "markdown",
   "metadata": {},
   "source": [
    "# Youtube"
   ]
  },
  {
   "cell_type": "code",
   "execution_count": 126,
   "metadata": {},
   "outputs": [],
   "source": [
    "user_total_vol_youtube =df.groupby(['IMEI'])['youtube_total_b'].sum().reset_index(name='sum')"
   ]
  },
  {
   "cell_type": "code",
   "execution_count": 127,
   "metadata": {},
   "outputs": [
    {
     "data": {
      "text/html": [
       "<div>\n",
       "<style scoped>\n",
       "    .dataframe tbody tr th:only-of-type {\n",
       "        vertical-align: middle;\n",
       "    }\n",
       "\n",
       "    .dataframe tbody tr th {\n",
       "        vertical-align: top;\n",
       "    }\n",
       "\n",
       "    .dataframe thead th {\n",
       "        text-align: right;\n",
       "    }\n",
       "</style>\n",
       "<table border=\"1\" class=\"dataframe\">\n",
       "  <thead>\n",
       "    <tr style=\"text-align: right;\">\n",
       "      <th></th>\n",
       "      <th>IMEI</th>\n",
       "      <th>sum</th>\n",
       "    </tr>\n",
       "  </thead>\n",
       "  <tbody>\n",
       "    <tr>\n",
       "      <td>7554</td>\n",
       "      <td>35281410321760.0</td>\n",
       "      <td>452958769.0</td>\n",
       "    </tr>\n",
       "    <tr>\n",
       "      <td>23489</td>\n",
       "      <td>35405309346774.0</td>\n",
       "      <td>396289198.0</td>\n",
       "    </tr>\n",
       "    <tr>\n",
       "      <td>60249</td>\n",
       "      <td>35746309624511.0</td>\n",
       "      <td>394370218.0</td>\n",
       "    </tr>\n",
       "    <tr>\n",
       "      <td>2640</td>\n",
       "      <td>35182310355840.0</td>\n",
       "      <td>374483047.0</td>\n",
       "    </tr>\n",
       "    <tr>\n",
       "      <td>101712</td>\n",
       "      <td>86724003047878.0</td>\n",
       "      <td>317410572.0</td>\n",
       "    </tr>\n",
       "  </tbody>\n",
       "</table>\n",
       "</div>"
      ],
      "text/plain": [
       "                   IMEI         sum\n",
       "7554   35281410321760.0 452958769.0\n",
       "23489  35405309346774.0 396289198.0\n",
       "60249  35746309624511.0 394370218.0\n",
       "2640   35182310355840.0 374483047.0\n",
       "101712 86724003047878.0 317410572.0"
      ]
     },
     "execution_count": 127,
     "metadata": {},
     "output_type": "execute_result"
    }
   ],
   "source": [
    "user_total_vol_youtube.sort_values(['sum'], ascending=False).head(5)"
   ]
  },
  {
   "cell_type": "code",
   "execution_count": 128,
   "metadata": {},
   "outputs": [
    {
     "data": {
      "text/html": [
       "<div>\n",
       "<style scoped>\n",
       "    .dataframe tbody tr th:only-of-type {\n",
       "        vertical-align: middle;\n",
       "    }\n",
       "\n",
       "    .dataframe tbody tr th {\n",
       "        vertical-align: top;\n",
       "    }\n",
       "\n",
       "    .dataframe thead th {\n",
       "        text-align: right;\n",
       "    }\n",
       "</style>\n",
       "<table border=\"1\" class=\"dataframe\">\n",
       "  <thead>\n",
       "    <tr style=\"text-align: right;\">\n",
       "      <th></th>\n",
       "      <th>count</th>\n",
       "      <th>mean</th>\n",
       "      <th>std</th>\n",
       "      <th>min</th>\n",
       "      <th>25%</th>\n",
       "      <th>50%</th>\n",
       "      <th>75%</th>\n",
       "      <th>max</th>\n",
       "    </tr>\n",
       "  </thead>\n",
       "  <tbody>\n",
       "    <tr>\n",
       "      <td>IMEI</td>\n",
       "      <td>106477.0</td>\n",
       "      <td>47210789277165.1</td>\n",
       "      <td>21771377484117.5</td>\n",
       "      <td>440015202000.0</td>\n",
       "      <td>35438406162787.0</td>\n",
       "      <td>35698306137833.0</td>\n",
       "      <td>35949408211072.0</td>\n",
       "      <td>99001201327774.0</td>\n",
       "    </tr>\n",
       "    <tr>\n",
       "      <td>sum</td>\n",
       "      <td>106477.0</td>\n",
       "      <td>31579943.3</td>\n",
       "      <td>21314543.0</td>\n",
       "      <td>78903.0</td>\n",
       "      <td>18633947.0</td>\n",
       "      <td>26814282.0</td>\n",
       "      <td>37954043.0</td>\n",
       "      <td>452958769.0</td>\n",
       "    </tr>\n",
       "  </tbody>\n",
       "</table>\n",
       "</div>"
      ],
      "text/plain": [
       "        count             mean              std            min  \\\n",
       "IMEI 106477.0 47210789277165.1 21771377484117.5 440015202000.0   \n",
       "sum  106477.0       31579943.3       21314543.0        78903.0   \n",
       "\n",
       "                  25%              50%              75%              max  \n",
       "IMEI 35438406162787.0 35698306137833.0 35949408211072.0 99001201327774.0  \n",
       "sum        18633947.0       26814282.0       37954043.0      452958769.0  "
      ]
     },
     "execution_count": 128,
     "metadata": {},
     "output_type": "execute_result"
    }
   ],
   "source": [
    "user_total_vol_youtube.describe().T"
   ]
  },
  {
   "cell_type": "markdown",
   "metadata": {},
   "source": [
    "# Netflix"
   ]
  },
  {
   "cell_type": "code",
   "execution_count": 129,
   "metadata": {},
   "outputs": [],
   "source": [
    "user_total_vol_netflix =df.groupby(['IMEI'])['netflix_total_b'].sum().reset_index(name='sum')"
   ]
  },
  {
   "cell_type": "code",
   "execution_count": 130,
   "metadata": {},
   "outputs": [
    {
     "data": {
      "text/html": [
       "<div>\n",
       "<style scoped>\n",
       "    .dataframe tbody tr th:only-of-type {\n",
       "        vertical-align: middle;\n",
       "    }\n",
       "\n",
       "    .dataframe tbody tr th {\n",
       "        vertical-align: top;\n",
       "    }\n",
       "\n",
       "    .dataframe thead th {\n",
       "        text-align: right;\n",
       "    }\n",
       "</style>\n",
       "<table border=\"1\" class=\"dataframe\">\n",
       "  <thead>\n",
       "    <tr style=\"text-align: right;\">\n",
       "      <th></th>\n",
       "      <th>IMEI</th>\n",
       "      <th>sum</th>\n",
       "    </tr>\n",
       "  </thead>\n",
       "  <tbody>\n",
       "    <tr>\n",
       "      <td>105517</td>\n",
       "      <td>86948003612677.0</td>\n",
       "      <td>399519079.0</td>\n",
       "    </tr>\n",
       "    <tr>\n",
       "      <td>60249</td>\n",
       "      <td>35746309624511.0</td>\n",
       "      <td>361401046.0</td>\n",
       "    </tr>\n",
       "    <tr>\n",
       "      <td>7554</td>\n",
       "      <td>35281410321760.0</td>\n",
       "      <td>356980607.0</td>\n",
       "    </tr>\n",
       "    <tr>\n",
       "      <td>23489</td>\n",
       "      <td>35405309346774.0</td>\n",
       "      <td>334643269.0</td>\n",
       "    </tr>\n",
       "    <tr>\n",
       "      <td>2640</td>\n",
       "      <td>35182310355840.0</td>\n",
       "      <td>328725740.0</td>\n",
       "    </tr>\n",
       "  </tbody>\n",
       "</table>\n",
       "</div>"
      ],
      "text/plain": [
       "                   IMEI         sum\n",
       "105517 86948003612677.0 399519079.0\n",
       "60249  35746309624511.0 361401046.0\n",
       "7554   35281410321760.0 356980607.0\n",
       "23489  35405309346774.0 334643269.0\n",
       "2640   35182310355840.0 328725740.0"
      ]
     },
     "execution_count": 130,
     "metadata": {},
     "output_type": "execute_result"
    }
   ],
   "source": [
    "user_total_vol_netflix.sort_values(['sum'], ascending=False).head(5)"
   ]
  },
  {
   "cell_type": "code",
   "execution_count": 131,
   "metadata": {},
   "outputs": [
    {
     "data": {
      "text/html": [
       "<div>\n",
       "<style scoped>\n",
       "    .dataframe tbody tr th:only-of-type {\n",
       "        vertical-align: middle;\n",
       "    }\n",
       "\n",
       "    .dataframe tbody tr th {\n",
       "        vertical-align: top;\n",
       "    }\n",
       "\n",
       "    .dataframe thead th {\n",
       "        text-align: right;\n",
       "    }\n",
       "</style>\n",
       "<table border=\"1\" class=\"dataframe\">\n",
       "  <thead>\n",
       "    <tr style=\"text-align: right;\">\n",
       "      <th></th>\n",
       "      <th>count</th>\n",
       "      <th>mean</th>\n",
       "      <th>std</th>\n",
       "      <th>min</th>\n",
       "      <th>25%</th>\n",
       "      <th>50%</th>\n",
       "      <th>75%</th>\n",
       "      <th>max</th>\n",
       "    </tr>\n",
       "  </thead>\n",
       "  <tbody>\n",
       "    <tr>\n",
       "      <td>IMEI</td>\n",
       "      <td>106477.0</td>\n",
       "      <td>47210789277165.1</td>\n",
       "      <td>21771377484117.5</td>\n",
       "      <td>440015202000.0</td>\n",
       "      <td>35438406162787.0</td>\n",
       "      <td>35698306137833.0</td>\n",
       "      <td>35949408211072.0</td>\n",
       "      <td>99001201327774.0</td>\n",
       "    </tr>\n",
       "    <tr>\n",
       "      <td>sum</td>\n",
       "      <td>106477.0</td>\n",
       "      <td>31561404.5</td>\n",
       "      <td>21308083.6</td>\n",
       "      <td>184569.0</td>\n",
       "      <td>18569425.0</td>\n",
       "      <td>26730722.0</td>\n",
       "      <td>38000237.0</td>\n",
       "      <td>399519079.0</td>\n",
       "    </tr>\n",
       "  </tbody>\n",
       "</table>\n",
       "</div>"
      ],
      "text/plain": [
       "        count             mean              std            min  \\\n",
       "IMEI 106477.0 47210789277165.1 21771377484117.5 440015202000.0   \n",
       "sum  106477.0       31561404.5       21308083.6       184569.0   \n",
       "\n",
       "                  25%              50%              75%              max  \n",
       "IMEI 35438406162787.0 35698306137833.0 35949408211072.0 99001201327774.0  \n",
       "sum        18569425.0       26730722.0       38000237.0      399519079.0  "
      ]
     },
     "execution_count": 131,
     "metadata": {},
     "output_type": "execute_result"
    }
   ],
   "source": [
    "user_total_vol_netflix.describe().T"
   ]
  },
  {
   "cell_type": "markdown",
   "metadata": {},
   "source": [
    "# Gaming"
   ]
  },
  {
   "cell_type": "code",
   "execution_count": 132,
   "metadata": {},
   "outputs": [],
   "source": [
    "user_total_vol_gaming =df.groupby(['IMEI'])['gaming_total_b'].sum().reset_index(name='sum')"
   ]
  },
  {
   "cell_type": "code",
   "execution_count": 133,
   "metadata": {},
   "outputs": [
    {
     "data": {
      "text/html": [
       "<div>\n",
       "<style scoped>\n",
       "    .dataframe tbody tr th:only-of-type {\n",
       "        vertical-align: middle;\n",
       "    }\n",
       "\n",
       "    .dataframe tbody tr th {\n",
       "        vertical-align: top;\n",
       "    }\n",
       "\n",
       "    .dataframe thead th {\n",
       "        text-align: right;\n",
       "    }\n",
       "</style>\n",
       "<table border=\"1\" class=\"dataframe\">\n",
       "  <thead>\n",
       "    <tr style=\"text-align: right;\">\n",
       "      <th></th>\n",
       "      <th>IMEI</th>\n",
       "      <th>sum</th>\n",
       "    </tr>\n",
       "  </thead>\n",
       "  <tbody>\n",
       "    <tr>\n",
       "      <td>60249</td>\n",
       "      <td>35746309624511.0</td>\n",
       "      <td>7749432234.0</td>\n",
       "    </tr>\n",
       "    <tr>\n",
       "      <td>23489</td>\n",
       "      <td>35405309346774.0</td>\n",
       "      <td>7461045228.0</td>\n",
       "    </tr>\n",
       "    <tr>\n",
       "      <td>7554</td>\n",
       "      <td>35281410321760.0</td>\n",
       "      <td>7326673487.0</td>\n",
       "    </tr>\n",
       "    <tr>\n",
       "      <td>101712</td>\n",
       "      <td>86724003047878.0</td>\n",
       "      <td>6970567597.0</td>\n",
       "    </tr>\n",
       "    <tr>\n",
       "      <td>2640</td>\n",
       "      <td>35182310355840.0</td>\n",
       "      <td>6887572116.0</td>\n",
       "    </tr>\n",
       "  </tbody>\n",
       "</table>\n",
       "</div>"
      ],
      "text/plain": [
       "                   IMEI          sum\n",
       "60249  35746309624511.0 7749432234.0\n",
       "23489  35405309346774.0 7461045228.0\n",
       "7554   35281410321760.0 7326673487.0\n",
       "101712 86724003047878.0 6970567597.0\n",
       "2640   35182310355840.0 6887572116.0"
      ]
     },
     "execution_count": 133,
     "metadata": {},
     "output_type": "execute_result"
    }
   ],
   "source": [
    "user_total_vol_gaming.sort_values(['sum'], ascending=False).head(5)"
   ]
  },
  {
   "cell_type": "code",
   "execution_count": 134,
   "metadata": {},
   "outputs": [
    {
     "data": {
      "text/html": [
       "<div>\n",
       "<style scoped>\n",
       "    .dataframe tbody tr th:only-of-type {\n",
       "        vertical-align: middle;\n",
       "    }\n",
       "\n",
       "    .dataframe tbody tr th {\n",
       "        vertical-align: top;\n",
       "    }\n",
       "\n",
       "    .dataframe thead th {\n",
       "        text-align: right;\n",
       "    }\n",
       "</style>\n",
       "<table border=\"1\" class=\"dataframe\">\n",
       "  <thead>\n",
       "    <tr style=\"text-align: right;\">\n",
       "      <th></th>\n",
       "      <th>count</th>\n",
       "      <th>mean</th>\n",
       "      <th>std</th>\n",
       "      <th>min</th>\n",
       "      <th>25%</th>\n",
       "      <th>50%</th>\n",
       "      <th>75%</th>\n",
       "      <th>max</th>\n",
       "    </tr>\n",
       "  </thead>\n",
       "  <tbody>\n",
       "    <tr>\n",
       "      <td>IMEI</td>\n",
       "      <td>106477.0</td>\n",
       "      <td>47210789277165.1</td>\n",
       "      <td>21771377484117.5</td>\n",
       "      <td>440015202000.0</td>\n",
       "      <td>35438406162787.0</td>\n",
       "      <td>35698306137833.0</td>\n",
       "      <td>35949408211072.0</td>\n",
       "      <td>99001201327774.0</td>\n",
       "    </tr>\n",
       "    <tr>\n",
       "      <td>sum</td>\n",
       "      <td>106477.0</td>\n",
       "      <td>600224693.9</td>\n",
       "      <td>449545354.8</td>\n",
       "      <td>306358.0</td>\n",
       "      <td>288219463.0</td>\n",
       "      <td>542665979.0</td>\n",
       "      <td>777688252.0</td>\n",
       "      <td>7749432234.0</td>\n",
       "    </tr>\n",
       "  </tbody>\n",
       "</table>\n",
       "</div>"
      ],
      "text/plain": [
       "        count             mean              std            min  \\\n",
       "IMEI 106477.0 47210789277165.1 21771377484117.5 440015202000.0   \n",
       "sum  106477.0      600224693.9      449545354.8       306358.0   \n",
       "\n",
       "                  25%              50%              75%              max  \n",
       "IMEI 35438406162787.0 35698306137833.0 35949408211072.0 99001201327774.0  \n",
       "sum       288219463.0      542665979.0      777688252.0     7749432234.0  "
      ]
     },
     "execution_count": 134,
     "metadata": {},
     "output_type": "execute_result"
    }
   ],
   "source": [
    "user_total_vol_gaming.describe().T"
   ]
  },
  {
   "cell_type": "markdown",
   "metadata": {},
   "source": [
    "# Other"
   ]
  },
  {
   "cell_type": "code",
   "execution_count": 135,
   "metadata": {},
   "outputs": [],
   "source": [
    "user_total_vol_other =df.groupby(['IMEI'])['other_total_b'].sum().reset_index(name='sum')"
   ]
  },
  {
   "cell_type": "code",
   "execution_count": 136,
   "metadata": {},
   "outputs": [
    {
     "data": {
      "text/html": [
       "<div>\n",
       "<style scoped>\n",
       "    .dataframe tbody tr th:only-of-type {\n",
       "        vertical-align: middle;\n",
       "    }\n",
       "\n",
       "    .dataframe tbody tr th {\n",
       "        vertical-align: top;\n",
       "    }\n",
       "\n",
       "    .dataframe thead th {\n",
       "        text-align: right;\n",
       "    }\n",
       "</style>\n",
       "<table border=\"1\" class=\"dataframe\">\n",
       "  <thead>\n",
       "    <tr style=\"text-align: right;\">\n",
       "      <th></th>\n",
       "      <th>IMEI</th>\n",
       "      <th>sum</th>\n",
       "    </tr>\n",
       "  </thead>\n",
       "  <tbody>\n",
       "    <tr>\n",
       "      <td>2640</td>\n",
       "      <td>35182310355840.0</td>\n",
       "      <td>8167877776.0</td>\n",
       "    </tr>\n",
       "    <tr>\n",
       "      <td>60249</td>\n",
       "      <td>35746309624511.0</td>\n",
       "      <td>7639263572.0</td>\n",
       "    </tr>\n",
       "    <tr>\n",
       "      <td>101712</td>\n",
       "      <td>86724003047878.0</td>\n",
       "      <td>6798515150.0</td>\n",
       "    </tr>\n",
       "    <tr>\n",
       "      <td>7554</td>\n",
       "      <td>35281410321760.0</td>\n",
       "      <td>6354583086.0</td>\n",
       "    </tr>\n",
       "    <tr>\n",
       "      <td>60976</td>\n",
       "      <td>35763109653251.0</td>\n",
       "      <td>6326670874.0</td>\n",
       "    </tr>\n",
       "  </tbody>\n",
       "</table>\n",
       "</div>"
      ],
      "text/plain": [
       "                   IMEI          sum\n",
       "2640   35182310355840.0 8167877776.0\n",
       "60249  35746309624511.0 7639263572.0\n",
       "101712 86724003047878.0 6798515150.0\n",
       "7554   35281410321760.0 6354583086.0\n",
       "60976  35763109653251.0 6326670874.0"
      ]
     },
     "execution_count": 136,
     "metadata": {},
     "output_type": "execute_result"
    }
   ],
   "source": [
    "user_total_vol_other.sort_values(['sum'], ascending=False).head(5)"
   ]
  },
  {
   "cell_type": "code",
   "execution_count": 137,
   "metadata": {},
   "outputs": [
    {
     "data": {
      "text/html": [
       "<div>\n",
       "<style scoped>\n",
       "    .dataframe tbody tr th:only-of-type {\n",
       "        vertical-align: middle;\n",
       "    }\n",
       "\n",
       "    .dataframe tbody tr th {\n",
       "        vertical-align: top;\n",
       "    }\n",
       "\n",
       "    .dataframe thead th {\n",
       "        text-align: right;\n",
       "    }\n",
       "</style>\n",
       "<table border=\"1\" class=\"dataframe\">\n",
       "  <thead>\n",
       "    <tr style=\"text-align: right;\">\n",
       "      <th></th>\n",
       "      <th>count</th>\n",
       "      <th>mean</th>\n",
       "      <th>std</th>\n",
       "      <th>min</th>\n",
       "      <th>25%</th>\n",
       "      <th>50%</th>\n",
       "      <th>75%</th>\n",
       "      <th>max</th>\n",
       "    </tr>\n",
       "  </thead>\n",
       "  <tbody>\n",
       "    <tr>\n",
       "      <td>IMEI</td>\n",
       "      <td>106477.0</td>\n",
       "      <td>47210789277165.1</td>\n",
       "      <td>21771377484117.5</td>\n",
       "      <td>440015202000.0</td>\n",
       "      <td>35438406162787.0</td>\n",
       "      <td>35698306137833.0</td>\n",
       "      <td>35949408211072.0</td>\n",
       "      <td>99001201327774.0</td>\n",
       "    </tr>\n",
       "    <tr>\n",
       "      <td>sum</td>\n",
       "      <td>106477.0</td>\n",
       "      <td>598915505.9</td>\n",
       "      <td>449248965.0</td>\n",
       "      <td>149045.0</td>\n",
       "      <td>285859015.0</td>\n",
       "      <td>540103883.0</td>\n",
       "      <td>775631588.0</td>\n",
       "      <td>8167877776.0</td>\n",
       "    </tr>\n",
       "  </tbody>\n",
       "</table>\n",
       "</div>"
      ],
      "text/plain": [
       "        count             mean              std            min  \\\n",
       "IMEI 106477.0 47210789277165.1 21771377484117.5 440015202000.0   \n",
       "sum  106477.0      598915505.9      449248965.0       149045.0   \n",
       "\n",
       "                  25%              50%              75%              max  \n",
       "IMEI 35438406162787.0 35698306137833.0 35949408211072.0 99001201327774.0  \n",
       "sum       285859015.0      540103883.0      775631588.0     8167877776.0  "
      ]
     },
     "execution_count": 137,
     "metadata": {},
     "output_type": "execute_result"
    }
   ],
   "source": [
    "user_total_vol_other.describe().T"
   ]
  },
  {
   "cell_type": "markdown",
   "metadata": {},
   "source": [
    "# Sum total of each app column"
   ]
  },
  {
   "cell_type": "code",
   "execution_count": 138,
   "metadata": {},
   "outputs": [
    {
     "name": "stdout",
     "output_type": "stream",
     "text": [
      "Total bytes for social media are :\n",
      "271478798103.0\n",
      "------------------------------------------------------------\n",
      "Total bytes for google are :\n",
      "1159544186717.0\n",
      "------------------------------------------------------------\n",
      "Total bytes for email are :\n",
      "335503000148.0\n",
      "------------------------------------------------------------\n",
      "Total bytes for youtube are :\n",
      "3362537620065.0\n",
      "------------------------------------------------------------\n",
      "Total bytes for netflix are :\n",
      "3360563670772.0\n",
      "------------------------------------------------------------\n",
      "Total bytes for gaming are :\n",
      "63910124731666.0\n",
      "------------------------------------------------------------\n",
      "Total bytes for other are :\n",
      "63770726326023.0\n",
      "------------------------------------------------------------\n",
      "The running totals for all app downloads are :\n",
      "130064004756909.0\n",
      "------------------------------------------------------------\n",
      " The running totals for all app uploads are :\n",
      "6106473576585.0\n"
     ]
    }
   ],
   "source": [
    "total_socials = df['socials_total_b'].sum()\n",
    "print ('Total bytes for social media are :')\n",
    "print(total_socials)\n",
    "print('-'*60)\n",
    "\n",
    "total_google = df['google_total_b'].sum()\n",
    "print ('Total bytes for google are :')\n",
    "print(total_google)\n",
    "print('-'*60)\n",
    "\n",
    "total_email = df['email_total_b'].sum()\n",
    "print ('Total bytes for email are :')\n",
    "print(total_email)\n",
    "print('-'*60)\n",
    "\n",
    "total_youtube = df['youtube_total_b'].sum()\n",
    "print ('Total bytes for youtube are :')\n",
    "print(total_youtube)\n",
    "print('-'*60)\n",
    "\n",
    "total_netflix = df['netflix_total_b'].sum()\n",
    "print ('Total bytes for netflix are :')\n",
    "print(total_netflix)\n",
    "print('-'*60)\n",
    "\n",
    "total_gaming = df['gaming_total_b'].sum()\n",
    "print ('Total bytes for gaming are :')\n",
    "print(total_gaming)\n",
    "print('-'*60)\n",
    "\n",
    "total_other = df['other_total_b'].sum()\n",
    "print ('Total bytes for other are :')\n",
    "print(total_other)\n",
    "print('-'*60)\n",
    "\n",
    "sum_of_totals_dl = df['total_dl_data'].sum()\n",
    "print ('The running totals for all app downloads are :')\n",
    "print(sum_of_totals_dl)\n",
    "print('-'*60)\n",
    "\n",
    "sum_of_totals_ul = df['total_ul_data'].sum()\n",
    "print (' The running totals for all app uploads are :')\n",
    "print(sum_of_totals_ul)"
   ]
  },
  {
   "cell_type": "markdown",
   "metadata": {},
   "source": [
    "Task 1.2 - Conduct an exploratory data analysis on those data & communicate useful insights."
   ]
  },
  {
   "cell_type": "code",
   "execution_count": 139,
   "metadata": {},
   "outputs": [],
   "source": [
    "#histogram and boxplot function for numerical data\n",
    "def numer_viz(df, numer):  \n",
    "    sns.histplot(data=df,x=numer, color = 'b')\n",
    "    plt.title('Distribution of ' + numer)\n",
    "    plt.show()\n",
    "    sns.boxplot(data=df,x=numer, color = 'c')\n",
    "    plt.show()\n",
    "    print('-'*120)"
   ]
  },
  {
   "cell_type": "code",
   "execution_count": 63,
   "metadata": {},
   "outputs": [],
   "source": [
    "#! pip install --upgrade seaborn --user\n",
    "#! pip install --upgrade matplotlib --user\n",
    "#! pip install --upgrade scipy --user"
   ]
  },
  {
   "cell_type": "code",
   "execution_count": 64,
   "metadata": {},
   "outputs": [],
   "source": [
    "#pip install -U seaborn"
   ]
  },
  {
   "cell_type": "code",
   "execution_count": 65,
   "metadata": {},
   "outputs": [
    {
     "data": {
      "image/png": "[encoded data removed]",
      "text/plain": [
       "<Figure size 432x288 with 1 Axes>"
      ]
     },
     "metadata": {
      "needs_background": "light"
     },
     "output_type": "display_data"
    },
    {
     "data": {
      "image/png": "[encoded data removed]",
      "text/plain": [
       "<Figure size 432x288 with 1 Axes>"
      ]
     },
     "metadata": {
      "needs_background": "light"
     },
     "output_type": "display_data"
    },
    {
     "name": "stdout",
     "output_type": "stream",
     "text": [
      "------------------------------------------------------------------------------------------------------------------------\n"
     ]
    },
    {
     "data": {
      "image/png": "[encoded data removed]",
      "text/plain": [
       "<Figure size 432x288 with 1 Axes>"
      ]
     },
     "metadata": {
      "needs_background": "light"
     },
     "output_type": "display_data"
    },
    {
     "data": {
      "image/png": "[encoded data removed]",
      "text/plain": [
       "<Figure size 432x288 with 1 Axes>"
      ]
     },
     "metadata": {
      "needs_background": "light"
     },
     "output_type": "display_data"
    },
    {
     "name": "stdout",
     "output_type": "stream",
     "text": [
      "------------------------------------------------------------------------------------------------------------------------\n"
     ]
    },
    {
     "data": {
      "image/png": "[encoded data removed]",
      "text/plain": [
       "<Figure size 432x288 with 1 Axes>"
      ]
     },
     "metadata": {
      "needs_background": "light"
     },
     "output_type": "display_data"
    },
    {
     "data": {
      "image/png": "[encoded data removed]",
      "text/plain": [
       "<Figure size 432x288 with 1 Axes>"
      ]
     },
     "metadata": {
      "needs_background": "light"
     },
     "output_type": "display_data"
    },
    {
     "name": "stdout",
     "output_type": "stream",
     "text": [
      "------------------------------------------------------------------------------------------------------------------------\n"
     ]
    },
    {
     "data": {
      "image/png": "[encoded data removed]",
      "text/plain": [
       "<Figure size 432x288 with 1 Axes>"
      ]
     },
     "metadata": {
      "needs_background": "light"
     },
     "output_type": "display_data"
    },
    {
     "data": {
      "image/png": "[encoded data removed]",
      "text/plain": [
       "<Figure size 432x288 with 1 Axes>"
      ]
     },
     "metadata": {
      "needs_background": "light"
     },
     "output_type": "display_data"
    },
    {
     "name": "stdout",
     "output_type": "stream",
     "text": [
      "------------------------------------------------------------------------------------------------------------------------\n"
     ]
    },
    {
     "data": {
      "image/png": "[encoded data removed]",
      "text/plain": [
       "<Figure size 432x288 with 1 Axes>"
      ]
     },
     "metadata": {
      "needs_background": "light"
     },
     "output_type": "display_data"
    },
    {
     "data": {
      "image/png": "[encoded data removed]",
      "text/plain": [
       "<Figure size 432x288 with 1 Axes>"
      ]
     },
     "metadata": {
      "needs_background": "light"
     },
     "output_type": "display_data"
    },
    {
     "name": "stdout",
     "output_type": "stream",
     "text": [
      "------------------------------------------------------------------------------------------------------------------------\n"
     ]
    },
    {
     "data": {
      "image/png": "[encoded data removed]",
      "text/plain": [
       "<Figure size 432x288 with 1 Axes>"
      ]
     },
     "metadata": {
      "needs_background": "light"
     },
     "output_type": "display_data"
    },
    {
     "data": {
      "image/png": "[encoded data removed]",
      "text/plain": [
       "<Figure size 432x288 with 1 Axes>"
      ]
     },
     "metadata": {
      "needs_background": "light"
     },
     "output_type": "display_data"
    },
    {
     "name": "stdout",
     "output_type": "stream",
     "text": [
      "------------------------------------------------------------------------------------------------------------------------\n"
     ]
    },
    {
     "data": {
      "image/png": "[encoded data removed]",
      "text/plain": [
       "<Figure size 432x288 with 1 Axes>"
      ]
     },
     "metadata": {
      "needs_background": "light"
     },
     "output_type": "display_data"
    },
    {
     "data": {
      "image/png": "[encoded data removed]",
      "text/plain": [
       "<Figure size 432x288 with 1 Axes>"
      ]
     },
     "metadata": {
      "needs_background": "light"
     },
     "output_type": "display_data"
    },
    {
     "name": "stdout",
     "output_type": "stream",
     "text": [
      "------------------------------------------------------------------------------------------------------------------------\n"
     ]
    },
    {
     "data": {
      "image/png": "[encoded data removed]",
      "text/plain": [
       "<Figure size 432x288 with 1 Axes>"
      ]
     },
     "metadata": {
      "needs_background": "light"
     },
     "output_type": "display_data"
    },
    {
     "data": {
      "image/png": "[encoded data removed]",
      "text/plain": [
       "<Figure size 432x288 with 1 Axes>"
      ]
     },
     "metadata": {
      "needs_background": "light"
     },
     "output_type": "display_data"
    },
    {
     "name": "stdout",
     "output_type": "stream",
     "text": [
      "------------------------------------------------------------------------------------------------------------------------\n"
     ]
    },
    {
     "data": {
      "image/png": "[encoded data removed]",
      "text/plain": [
       "<Figure size 432x288 with 1 Axes>"
      ]
     },
     "metadata": {
      "needs_background": "light"
     },
     "output_type": "display_data"
    },
    {
     "data": {
      "image/png": "[encoded data removed]",
      "text/plain": [
       "<Figure size 432x288 with 1 Axes>"
      ]
     },
     "metadata": {
      "needs_background": "light"
     },
     "output_type": "display_data"
    },
    {
     "name": "stdout",
     "output_type": "stream",
     "text": [
      "------------------------------------------------------------------------------------------------------------------------\n"
     ]
    }
   ],
   "source": [
    "numer_list = ['netflix_total_b','total_dl_data','socials_dl_b','email_dl_b','google_dl_b','netflix_dl_b','youtube_dl_b','other_dl_b','gaming_dl_b']\n",
    "\n",
    "#visualize distributions for numerical variables\n",
    "for numer in numer_list:\n",
    "    numer_viz(df, numer)\n"
   ]
  },
  {
   "cell_type": "code",
   "execution_count": 66,
   "metadata": {},
   "outputs": [
    {
     "data": {
      "image/png": "[encoded data removed]",
      "text/plain": [
       "<Figure size 432x288 with 1 Axes>"
      ]
     },
     "metadata": {
      "needs_background": "light"
     },
     "output_type": "display_data"
    },
    {
     "data": {
      "image/png": "[encoded data removed]",
      "text/plain": [
       "<Figure size 432x288 with 1 Axes>"
      ]
     },
     "metadata": {
      "needs_background": "light"
     },
     "output_type": "display_data"
    },
    {
     "name": "stdout",
     "output_type": "stream",
     "text": [
      "------------------------------------------------------------------------------------------------------------------------\n"
     ]
    },
    {
     "data": {
      "image/png": "[encoded data removed]",
      "text/plain": [
       "<Figure size 432x288 with 1 Axes>"
      ]
     },
     "metadata": {
      "needs_background": "light"
     },
     "output_type": "display_data"
    },
    {
     "data": {
      "image/png": "[encoded data removed]",
      "text/plain": [
       "<Figure size 432x288 with 1 Axes>"
      ]
     },
     "metadata": {
      "needs_background": "light"
     },
     "output_type": "display_data"
    },
    {
     "name": "stdout",
     "output_type": "stream",
     "text": [
      "------------------------------------------------------------------------------------------------------------------------\n"
     ]
    },
    {
     "data": {
      "image/png": "[encoded data removed]",
      "text/plain": [
       "<Figure size 432x288 with 1 Axes>"
      ]
     },
     "metadata": {
      "needs_background": "light"
     },
     "output_type": "display_data"
    },
    {
     "data": {
      "image/png": "[encoded data removed]",
      "text/plain": [
       "<Figure size 432x288 with 1 Axes>"
      ]
     },
     "metadata": {
      "needs_background": "light"
     },
     "output_type": "display_data"
    },
    {
     "name": "stdout",
     "output_type": "stream",
     "text": [
      "------------------------------------------------------------------------------------------------------------------------\n"
     ]
    },
    {
     "data": {
      "image/png": "[encoded data removed]",
      "text/plain": [
       "<Figure size 432x288 with 1 Axes>"
      ]
     },
     "metadata": {
      "needs_background": "light"
     },
     "output_type": "display_data"
    },
    {
     "data": {
      "image/png": "[encoded data removed]",
      "text/plain": [
       "<Figure size 432x288 with 1 Axes>"
      ]
     },
     "metadata": {
      "needs_background": "light"
     },
     "output_type": "display_data"
    },
    {
     "name": "stdout",
     "output_type": "stream",
     "text": [
      "------------------------------------------------------------------------------------------------------------------------\n"
     ]
    },
    {
     "data": {
      "image/png": "[encoded data removed]",
      "text/plain": [
       "<Figure size 432x288 with 1 Axes>"
      ]
     },
     "metadata": {
      "needs_background": "light"
     },
     "output_type": "display_data"
    },
    {
     "data": {
      "image/png": "[encoded data removed]",
      "text/plain": [
       "<Figure size 432x288 with 1 Axes>"
      ]
     },
     "metadata": {
      "needs_background": "light"
     },
     "output_type": "display_data"
    },
    {
     "name": "stdout",
     "output_type": "stream",
     "text": [
      "------------------------------------------------------------------------------------------------------------------------\n"
     ]
    },
    {
     "data": {
      "image/png": "[encoded data removed]",
      "text/plain": [
       "<Figure size 432x288 with 1 Axes>"
      ]
     },
     "metadata": {
      "needs_background": "light"
     },
     "output_type": "display_data"
    },
    {
     "data": {
      "image/png": "[encoded data removed]",
      "text/plain": [
       "<Figure size 432x288 with 1 Axes>"
      ]
     },
     "metadata": {
      "needs_background": "light"
     },
     "output_type": "display_data"
    },
    {
     "name": "stdout",
     "output_type": "stream",
     "text": [
      "------------------------------------------------------------------------------------------------------------------------\n"
     ]
    },
    {
     "data": {
      "image/png": "[encoded data removed]",
      "text/plain": [
       "<Figure size 432x288 with 1 Axes>"
      ]
     },
     "metadata": {
      "needs_background": "light"
     },
     "output_type": "display_data"
    },
    {
     "data": {
      "image/png": "[encoded data removed]",
      "text/plain": [
       "<Figure size 432x288 with 1 Axes>"
      ]
     },
     "metadata": {
      "needs_background": "light"
     },
     "output_type": "display_data"
    },
    {
     "name": "stdout",
     "output_type": "stream",
     "text": [
      "------------------------------------------------------------------------------------------------------------------------\n"
     ]
    },
    {
     "data": {
      "image/png": "[encoded data removed]",
      "text/plain": [
       "<Figure size 432x288 with 1 Axes>"
      ]
     },
     "metadata": {
      "needs_background": "light"
     },
     "output_type": "display_data"
    },
    {
     "data": {
      "image/png": "[encoded data removed]",
      "text/plain": [
       "<Figure size 432x288 with 1 Axes>"
      ]
     },
     "metadata": {
      "needs_background": "light"
     },
     "output_type": "display_data"
    },
    {
     "name": "stdout",
     "output_type": "stream",
     "text": [
      "------------------------------------------------------------------------------------------------------------------------\n"
     ]
    }
   ],
   "source": [
    "numer_list = ['total_ul_data','socials_ul_b','email_ul_b','google_ul_b','netflix_ul_b','youtube_ul_b','other_ul_b','gaming_ul_b']\n",
    "\n",
    "#visualize distributions for numerical variables\n",
    "for numer in numer_list:\n",
    "    numer_viz(df, numer)\n"
   ]
  },
  {
   "cell_type": "code",
   "execution_count": 67,
   "metadata": {},
   "outputs": [
    {
     "data": {
      "image/png": "[encoded data removed]",
      "text/plain": [
       "<Figure size 432x288 with 1 Axes>"
      ]
     },
     "metadata": {
      "needs_background": "light"
     },
     "output_type": "display_data"
    },
    {
     "data": {
      "image/png": "[encoded data removed]",
      "text/plain": [
       "<Figure size 432x288 with 1 Axes>"
      ]
     },
     "metadata": {
      "needs_background": "light"
     },
     "output_type": "display_data"
    },
    {
     "name": "stdout",
     "output_type": "stream",
     "text": [
      "------------------------------------------------------------------------------------------------------------------------\n"
     ]
    },
    {
     "data": {
      "image/png": "[encoded data removed]",
      "text/plain": [
       "<Figure size 432x288 with 1 Axes>"
      ]
     },
     "metadata": {
      "needs_background": "light"
     },
     "output_type": "display_data"
    },
    {
     "data": {
      "image/png": "[encoded data removed]",
      "text/plain": [
       "<Figure size 432x288 with 1 Axes>"
      ]
     },
     "metadata": {
      "needs_background": "light"
     },
     "output_type": "display_data"
    },
    {
     "name": "stdout",
     "output_type": "stream",
     "text": [
      "------------------------------------------------------------------------------------------------------------------------\n"
     ]
    },
    {
     "data": {
      "image/png": "[encoded data removed]",
      "text/plain": [
       "<Figure size 432x288 with 1 Axes>"
      ]
     },
     "metadata": {
      "needs_background": "light"
     },
     "output_type": "display_data"
    },
    {
     "data": {
      "image/png": "[encoded data removed]",
      "text/plain": [
       "<Figure size 432x288 with 1 Axes>"
      ]
     },
     "metadata": {
      "needs_background": "light"
     },
     "output_type": "display_data"
    },
    {
     "name": "stdout",
     "output_type": "stream",
     "text": [
      "------------------------------------------------------------------------------------------------------------------------\n"
     ]
    },
    {
     "data": {
      "image/png": "[encoded data removed]",
      "text/plain": [
       "<Figure size 432x288 with 1 Axes>"
      ]
     },
     "metadata": {
      "needs_background": "light"
     },
     "output_type": "display_data"
    },
    {
     "data": {
      "image/png": "[encoded data removed]",
      "text/plain": [
       "<Figure size 432x288 with 1 Axes>"
      ]
     },
     "metadata": {
      "needs_background": "light"
     },
     "output_type": "display_data"
    },
    {
     "name": "stdout",
     "output_type": "stream",
     "text": [
      "------------------------------------------------------------------------------------------------------------------------\n"
     ]
    },
    {
     "data": {
      "image/png": "[encoded data removed]",
      "text/plain": [
       "<Figure size 432x288 with 1 Axes>"
      ]
     },
     "metadata": {
      "needs_background": "light"
     },
     "output_type": "display_data"
    },
    {
     "data": {
      "image/png": "[encoded data removed]",
      "text/plain": [
       "<Figure size 432x288 with 1 Axes>"
      ]
     },
     "metadata": {
      "needs_background": "light"
     },
     "output_type": "display_data"
    },
    {
     "name": "stdout",
     "output_type": "stream",
     "text": [
      "------------------------------------------------------------------------------------------------------------------------\n"
     ]
    },
    {
     "data": {
      "image/png": "[encoded data removed]",
      "text/plain": [
       "<Figure size 432x288 with 1 Axes>"
      ]
     },
     "metadata": {
      "needs_background": "light"
     },
     "output_type": "display_data"
    },
    {
     "data": {
      "image/png": "[encoded data removed]",
      "text/plain": [
       "<Figure size 432x288 with 1 Axes>"
      ]
     },
     "metadata": {
      "needs_background": "light"
     },
     "output_type": "display_data"
    },
    {
     "name": "stdout",
     "output_type": "stream",
     "text": [
      "------------------------------------------------------------------------------------------------------------------------\n"
     ]
    },
    {
     "data": {
      "image/png": "[encoded data removed]",
      "text/plain": [
       "<Figure size 432x288 with 1 Axes>"
      ]
     },
     "metadata": {
      "needs_background": "light"
     },
     "output_type": "display_data"
    },
    {
     "data": {
      "image/png": "[encoded data removed]",
      "text/plain": [
       "<Figure size 432x288 with 1 Axes>"
      ]
     },
     "metadata": {
      "needs_background": "light"
     },
     "output_type": "display_data"
    },
    {
     "name": "stdout",
     "output_type": "stream",
     "text": [
      "------------------------------------------------------------------------------------------------------------------------\n"
     ]
    },
    {
     "data": {
      "image/png": "[encoded data removed]",
      "text/plain": [
       "<Figure size 432x288 with 1 Axes>"
      ]
     },
     "metadata": {
      "needs_background": "light"
     },
     "output_type": "display_data"
    },
    {
     "data": {
      "image/png": "[encoded data removed]",
      "text/plain": [
       "<Figure size 432x288 with 1 Axes>"
      ]
     },
     "metadata": {
      "needs_background": "light"
     },
     "output_type": "display_data"
    },
    {
     "name": "stdout",
     "output_type": "stream",
     "text": [
      "------------------------------------------------------------------------------------------------------------------------\n"
     ]
    }
   ],
   "source": [
    "numer_list = ['total_ul_data','socials_ul_b','email_ul_b','google_ul_b','netflix_ul_b','youtube_ul_b','other_ul_b','gaming_ul_b']\n",
    "\n",
    "#visualize distributions for numerical variables\n",
    "for numer in numer_list:\n",
    "    numer_viz(df, numer)"
   ]
  },
  {
   "cell_type": "code",
   "execution_count": 68,
   "metadata": {},
   "outputs": [
    {
     "data": {
      "text/plain": [
       "0        568809782.0\n",
       "1        848798988.0\n",
       "2        625189407.0\n",
       "3        331143097.0\n",
       "4        101047021.0\n",
       "             ...    \n",
       "148919   872761860.0\n",
       "148920   631804110.0\n",
       "148921   705783925.0\n",
       "148922   627698629.0\n",
       "148923   401522016.0\n",
       "Name: total_b, Length: 148924, dtype: float64"
      ]
     },
     "execution_count": 68,
     "metadata": {},
     "output_type": "execute_result"
    }
   ],
   "source": [
    "df['socials_total_b']\n",
    "df['google_total_b']\n",
    "df['email_total_b']\n",
    "df['youtube_total_b']\n",
    "df['netflix_total_b']\n",
    "df['gaming_total_b']\n",
    "df['other_total_b']\n",
    "df['total_b']"
   ]
  },
  {
   "cell_type": "code",
   "execution_count": 69,
   "metadata": {},
   "outputs": [
    {
     "data": {
      "image/png": "[encoded data removed]",
      "text/plain": [
       "<Figure size 720x504 with 1 Axes>"
      ]
     },
     "metadata": {},
     "output_type": "display_data"
    }
   ],
   "source": [
    "\n",
    " \n",
    "data = [total_socials ,total_google ,total_email ,total_youtube ,total_netflix ,total_gaming ,total_other ,sum_of_totals_dl \n",
    "\n",
    ",sum_of_totals_ul]\n",
    " \n",
    "# Creating plot\n",
    "fig = plt.figure(figsize =(10, 7))\n",
    "plt.pie(data, labels = data)\n",
    " \n",
    "# show plot\n",
    "plt.show()"
   ]
  },
  {
   "cell_type": "code",
   "execution_count": null,
   "metadata": {},
   "outputs": [],
   "source": []
  }
 ],
 "metadata": {
  "kernelspec": {
   "display_name": "Python 3",
   "language": "python",
   "name": "python3"
  },
  "language_info": {
   "codemirror_mode": {
    "name": "ipython",
    "version": 3
   },
   "file_extension": ".py",
   "mimetype": "text/x-python",
   "name": "python",
   "nbconvert_exporter": "python",
   "pygments_lexer": "ipython3",
   "version": "3.7.3"
  }
 },
 "nbformat": 4,
 "nbformat_minor": 2
}
